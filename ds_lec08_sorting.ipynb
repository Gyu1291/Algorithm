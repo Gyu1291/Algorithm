{
 "cells": [
  {
   "cell_type": "markdown",
   "metadata": {},
   "source": [
    "> ### EEE2020: Data Structures & Algorithms\n",
    "\n",
    "# Lecture 8: Sorting"
   ]
  },
  {
   "cell_type": "code",
   "execution_count": null,
   "metadata": {},
   "outputs": [],
   "source": [
    "%matplotlib inline\n",
    "import matplotlib.pyplot as plt\n",
    "import seaborn as sbn\n",
    "import timeit\n",
    "import random"
   ]
  },
  {
   "cell_type": "code",
   "execution_count": null,
   "metadata": {},
   "outputs": [],
   "source": [
    "sbn.set()"
   ]
  },
  {
   "cell_type": "markdown",
   "metadata": {},
   "source": [
    "## 1. Bubble Sort "
   ]
  },
  {
   "cell_type": "code",
   "execution_count": null,
   "metadata": {},
   "outputs": [],
   "source": [
    "def bubble_sort(a_list):\n",
    "    for pass_num in range(len(a_list) - 1, 0, -1):\n",
    "        for i in range(pass_num):\n",
    "            if a_list[i] > a_list[i + 1]:\n",
    "                temp = a_list[i]\n",
    "                a_list[i] = a_list[i + 1]\n",
    "                a_list[i + 1] = temp"
   ]
  },
  {
   "cell_type": "code",
   "execution_count": null,
   "metadata": {},
   "outputs": [],
   "source": [
    "a_list = [54, 26, 93, 17, 77, 31, 44, 55, 20]"
   ]
  },
  {
   "cell_type": "code",
   "execution_count": null,
   "metadata": {},
   "outputs": [],
   "source": [
    "bubble_sort(a_list)"
   ]
  },
  {
   "cell_type": "code",
   "execution_count": null,
   "metadata": {},
   "outputs": [],
   "source": [
    "print(a_list)"
   ]
  },
  {
   "cell_type": "markdown",
   "metadata": {},
   "source": [
    "## 1.1 Visualization "
   ]
  },
  {
   "cell_type": "code",
   "execution_count": null,
   "metadata": {},
   "outputs": [],
   "source": [
    "a_lst = list(range(1000))\n",
    "random.shuffle(a_lst)"
   ]
  },
  {
   "cell_type": "code",
   "execution_count": null,
   "metadata": {},
   "outputs": [],
   "source": [
    "plt.plot(a_lst, 'ro')\n",
    "plt.xlabel('List index BEFORE shuffling', fontsize=16)\n",
    "plt.ylabel('List index AFTER shuffling', fontsize=16)\n",
    "plt.show()"
   ]
  },
  {
   "cell_type": "code",
   "execution_count": null,
   "metadata": {},
   "outputs": [],
   "source": [
    "bubble_sort(a_lst)"
   ]
  },
  {
   "cell_type": "code",
   "execution_count": null,
   "metadata": {},
   "outputs": [],
   "source": [
    "plt.plot(a_lst, 'ro')\n",
    "plt.xlabel('List index BEFORE shuffling', fontsize=16)\n",
    "plt.ylabel('List index AFTER shuffling', fontsize=16)\n",
    "plt.show()"
   ]
  },
  {
   "cell_type": "code",
   "execution_count": null,
   "metadata": {},
   "outputs": [],
   "source": [
    "bubble_sort_times = []\n",
    "for size in range(100, 3000, 100):\n",
    "    a_lst = list(range(size))\n",
    "    bubble_sort_times.append(timeit.timeit(stmt='bubble_sort(a_lst)',\n",
    "                               setup='random.shuffle(a_lst)',\n",
    "                               globals=globals(),\n",
    "                               number=1))"
   ]
  },
  {
   "cell_type": "code",
   "execution_count": null,
   "metadata": {},
   "outputs": [],
   "source": [
    "plt.plot(list(range(100, 3000, 100)), bubble_sort_times, 'ro')\n",
    "plt.xlabel('Size of input (n)', fontsize=16)\n",
    "plt.ylabel('Time', fontsize=16)\n",
    "plt.title('Bubble Sort Algorithm', fontsize = 20)\n",
    "plt.show()"
   ]
  },
  {
   "cell_type": "markdown",
   "metadata": {},
   "source": [
    "## 2. Selection Sort "
   ]
  },
  {
   "cell_type": "code",
   "execution_count": null,
   "metadata": {},
   "outputs": [],
   "source": [
    "def selection_sort(a_list):\n",
    "    for fill_slot in range(len(a_list) - 1, 0, -1):\n",
    "        pos_of_max = 0\n",
    "        for location in range(1, fill_slot + 1):\n",
    "            if a_list[location] > a_list[pos_of_max]:\n",
    "                pos_of_max = location\n",
    "                \n",
    "        temp = a_list[fill_slot]\n",
    "        a_list[fill_slot] = a_list[pos_of_max]\n",
    "        a_list[pos_of_max] = temp"
   ]
  },
  {
   "cell_type": "code",
   "execution_count": null,
   "metadata": {},
   "outputs": [],
   "source": [
    "a_list = [54, 26, 93, 17, 77, 31, 44, 55, 20]"
   ]
  },
  {
   "cell_type": "code",
   "execution_count": null,
   "metadata": {},
   "outputs": [],
   "source": [
    "selection_sort(a_list)"
   ]
  },
  {
   "cell_type": "code",
   "execution_count": null,
   "metadata": {},
   "outputs": [],
   "source": [
    "print(a_list)"
   ]
  },
  {
   "cell_type": "markdown",
   "metadata": {},
   "source": [
    "## 2.1 Visualization"
   ]
  },
  {
   "cell_type": "code",
   "execution_count": null,
   "metadata": {},
   "outputs": [],
   "source": [
    "a_lst = list(range(1000))\n",
    "random.shuffle(a_lst)"
   ]
  },
  {
   "cell_type": "code",
   "execution_count": null,
   "metadata": {},
   "outputs": [],
   "source": [
    "plt.plot(a_lst, 'gs')\n",
    "plt.xlabel('List index BEFORE shuffling', fontsize=16)\n",
    "plt.ylabel('List index AFTER shuffling', fontsize=16)\n",
    "plt.show()"
   ]
  },
  {
   "cell_type": "code",
   "execution_count": null,
   "metadata": {},
   "outputs": [],
   "source": [
    "selection_sort(a_lst)"
   ]
  },
  {
   "cell_type": "code",
   "execution_count": null,
   "metadata": {},
   "outputs": [],
   "source": [
    "plt.plot(a_lst, 'gs')\n",
    "plt.xlabel('List index BEFORE shuffling', fontsize=16)\n",
    "plt.ylabel('List index AFTER shuffling', fontsize=16)\n",
    "plt.show()"
   ]
  },
  {
   "cell_type": "code",
   "execution_count": null,
   "metadata": {},
   "outputs": [],
   "source": [
    "selection_sort_times = []\n",
    "for size in range(100, 3000, 100):\n",
    "    a_lst = list(range(size))\n",
    "    selection_sort_times.append(timeit.timeit(stmt='selection_sort(a_lst)',\n",
    "                               setup='random.shuffle(a_lst)',\n",
    "                               globals=globals(),\n",
    "                               number=1))"
   ]
  },
  {
   "cell_type": "code",
   "execution_count": null,
   "metadata": {},
   "outputs": [],
   "source": [
    "plt.plot(list(range(100, 3000, 100)), selection_sort_times, 'gs')\n",
    "plt.xlabel('Size of input (n)', fontsize=16)\n",
    "plt.ylabel('Time', fontsize=16)\n",
    "plt.title('Selection Sort Algorithm', fontsize = 20)\n",
    "plt.show()"
   ]
  },
  {
   "cell_type": "markdown",
   "metadata": {},
   "source": [
    "## 3. Insertion Sort "
   ]
  },
  {
   "cell_type": "code",
   "execution_count": null,
   "metadata": {},
   "outputs": [],
   "source": [
    "def insertion_sort(a_list):\n",
    "    for index in range(1, len(a_list)):\n",
    "        current_value = a_list[index]\n",
    "        position = index\n",
    "        \n",
    "        while position > 0 and a_list[position - 1] > current_value:\n",
    "            a_list[position] = a_list[position - 1]\n",
    "            position = position - 1\n",
    "        \n",
    "        a_list[position] = current_value"
   ]
  },
  {
   "cell_type": "code",
   "execution_count": null,
   "metadata": {},
   "outputs": [],
   "source": [
    "a_list = [54, 26, 93, 17, 77, 31, 44, 55, 20]"
   ]
  },
  {
   "cell_type": "code",
   "execution_count": null,
   "metadata": {},
   "outputs": [],
   "source": [
    "insertion_sort(a_list)"
   ]
  },
  {
   "cell_type": "code",
   "execution_count": null,
   "metadata": {},
   "outputs": [],
   "source": [
    "print(a_list)"
   ]
  },
  {
   "cell_type": "markdown",
   "metadata": {},
   "source": [
    "## 3.1 Visualization "
   ]
  },
  {
   "cell_type": "code",
   "execution_count": null,
   "metadata": {},
   "outputs": [],
   "source": [
    "insertion_sort_times = []\n",
    "for size in range(100, 3000, 100):\n",
    "    a_lst = list(range(size))\n",
    "    insertion_sort_times.append(timeit.timeit(stmt='insertion_sort(a_lst)',\n",
    "                               setup='random.shuffle(a_lst)',\n",
    "                               globals=globals(),\n",
    "                               number=1))"
   ]
  },
  {
   "cell_type": "code",
   "execution_count": null,
   "metadata": {},
   "outputs": [],
   "source": [
    "plt.plot(list(range(100, 3000, 100)), insertion_sort_times, 'b^')\n",
    "plt.xlabel('Size of input (n)', fontsize=16)\n",
    "plt.ylabel('Time', fontsize=16)\n",
    "plt.title('Insertion Sort Algorithm', fontsize = 20)\n",
    "plt.show()"
   ]
  },
  {
   "cell_type": "markdown",
   "metadata": {},
   "source": [
    "## 4. Shell Sort"
   ]
  },
  {
   "cell_type": "code",
   "execution_count": null,
   "metadata": {},
   "outputs": [],
   "source": [
    "def shell_sort(a_list): \n",
    "    sublist_count = len(a_list) // 2 \n",
    "    while sublist_count > 0:\n",
    "        for start_position in range(sublist_count): \n",
    "            gap_insertion_sort(a_list, start_position, sublist_count)\n",
    "    \n",
    "        #print(\"After increments of size\", sublist_count, \"The list is\", a_list)\n",
    "        sublist_count = sublist_count // 2\n",
    "    \n",
    "def gap_insertion_sort(a_list, start, gap):\n",
    "    for i in range(start + gap, len(a_list), gap):\n",
    "        current_value = a_list[i]\n",
    "        position = i\n",
    "        \n",
    "        while position >= gap and a_list[position - gap] > current_value:\n",
    "            a_list[position] = a_list[position - gap]\n",
    "            position = position - gap\n",
    "        \n",
    "        a_list[position] = current_value        "
   ]
  },
  {
   "cell_type": "code",
   "execution_count": null,
   "metadata": {},
   "outputs": [],
   "source": [
    "a_list = [54, 26, 93, 17, 77, 31, 44, 55, 20]"
   ]
  },
  {
   "cell_type": "code",
   "execution_count": null,
   "metadata": {},
   "outputs": [],
   "source": [
    "shell_sort(a_list)"
   ]
  },
  {
   "cell_type": "code",
   "execution_count": null,
   "metadata": {},
   "outputs": [],
   "source": [
    "print(a_list)"
   ]
  },
  {
   "cell_type": "markdown",
   "metadata": {},
   "source": [
    "## 4.1 Visualization "
   ]
  },
  {
   "cell_type": "code",
   "execution_count": null,
   "metadata": {},
   "outputs": [],
   "source": [
    "shell_sort_times = []\n",
    "for size in range(100, 3000, 100):\n",
    "    a_lst = list(range(size))\n",
    "    shell_sort_times.append(timeit.timeit(stmt='shell_sort(a_lst)',\n",
    "                               setup='random.shuffle(a_lst)',\n",
    "                               globals=globals(),\n",
    "                               number=1))"
   ]
  },
  {
   "cell_type": "code",
   "execution_count": null,
   "metadata": {},
   "outputs": [],
   "source": [
    "plt.plot(list(range(100, 3000, 100)), shell_sort_times, 'yd')\n",
    "plt.xlabel('Size of input (n)', fontsize=16)\n",
    "plt.ylabel('Time', fontsize=16)\n",
    "plt.title('Shell Sort Algorithm', fontsize = 20)\n",
    "plt.show()"
   ]
  },
  {
   "cell_type": "markdown",
   "metadata": {},
   "source": [
    "## 5. Merge Sort"
   ]
  },
  {
   "cell_type": "code",
   "execution_count": null,
   "metadata": {},
   "outputs": [],
   "source": [
    "def merge_sort(a_list): \n",
    "    #print(\"Splitting \", a_list) \n",
    "    if len(a_list) > 1:\n",
    "        mid = len(a_list) // 2\n",
    "        left_half = a_list[:mid]\n",
    "        right_half = a_list[mid:]\n",
    "        \n",
    "        merge_sort(left_half)\n",
    "        merge_sort(right_half)\n",
    "        \n",
    "        i=0 \n",
    "        j=0 \n",
    "        k=0\n",
    "        \n",
    "        while i < len(left_half) and j < len(right_half): \n",
    "            if left_half[i] < right_half[j]:\n",
    "                a_list[k] = left_half[i]\n",
    "                i=i+1 \n",
    "            else:\n",
    "                a_list[k] = right_half[j]\n",
    "                j=j+1 \n",
    "            k=k+1\n",
    "                \n",
    "        while i < len(left_half): \n",
    "            a_list[k] = left_half[i] \n",
    "            i=i+1\n",
    "            k=k+1\n",
    "            \n",
    "        while j < len(right_half): \n",
    "            a_list[k] = right_half[j] \n",
    "            j=j+1\n",
    "            k=k+1\n",
    "            \n",
    "    #print(\"Merging \", a_list)"
   ]
  },
  {
   "cell_type": "code",
   "execution_count": null,
   "metadata": {},
   "outputs": [],
   "source": [
    "a_list = [54, 26, 93, 17, 77, 31, 44, 55, 20]"
   ]
  },
  {
   "cell_type": "code",
   "execution_count": null,
   "metadata": {},
   "outputs": [],
   "source": [
    "merge_sort(a_list)"
   ]
  },
  {
   "cell_type": "code",
   "execution_count": null,
   "metadata": {},
   "outputs": [],
   "source": [
    "print(a_list)"
   ]
  },
  {
   "cell_type": "markdown",
   "metadata": {},
   "source": [
    "## 5.1 Visualization"
   ]
  },
  {
   "cell_type": "code",
   "execution_count": null,
   "metadata": {},
   "outputs": [],
   "source": [
    "merge_sort_times = []\n",
    "for size in range(100, 3000, 100):\n",
    "    a_lst = list(range(size))\n",
    "    merge_sort_times.append(timeit.timeit(stmt='merge_sort(a_lst)',\n",
    "                               setup='random.shuffle(a_lst)',\n",
    "                               globals=globals(),\n",
    "                               number=1))"
   ]
  },
  {
   "cell_type": "code",
   "execution_count": null,
   "metadata": {},
   "outputs": [],
   "source": [
    "plt.plot(list(range(100, 3000, 100)), merge_sort_times, 'kp')\n",
    "plt.xlabel('Size of input (n)', fontsize=16)\n",
    "plt.ylabel('Time', fontsize=16)\n",
    "plt.title('Merge Sort Algorithm', fontsize = 20)\n",
    "plt.show()"
   ]
  },
  {
   "cell_type": "markdown",
   "metadata": {},
   "source": [
    "## 6. Quick Sort"
   ]
  },
  {
   "cell_type": "code",
   "execution_count": null,
   "metadata": {},
   "outputs": [],
   "source": [
    "def quick_sort(a_list): \n",
    "    quick_sort_helper(a_list, 0, len(a_list) - 1)\n",
    "    \n",
    "def quick_sort_helper(a_list, first, last): \n",
    "    if first < last:\n",
    "        \n",
    "        split_point = partition(a_list, first, last)\n",
    "        \n",
    "        quick_sort_helper(a_list, first, split_point - 1)\n",
    "        quick_sort_helper(a_list, split_point + 1, last)\n",
    "        \n",
    "def partition(a_list, first, last): \n",
    "    pivot_value = a_list[first] \n",
    "    left_mark = first + 1 \n",
    "    right_mark = last\n",
    "    done = False\n",
    "    \n",
    "    while not done:\n",
    "        while left_mark <= right_mark and a_list[left_mark] <= pivot_value:\n",
    "            left_mark = left_mark + 1\n",
    "            \n",
    "        while a_list[right_mark] >= pivot_value and right_mark >= left_mark:\n",
    "            right_mark = right_mark - 1\n",
    "            \n",
    "        if right_mark < left_mark: \n",
    "            done = True\n",
    "        else:\n",
    "            temp = a_list[left_mark] \n",
    "            a_list[left_mark] = a_list[right_mark] \n",
    "            a_list[right_mark] = temp\n",
    "            \n",
    "    temp = a_list[first]\n",
    "    a_list[first] = a_list[right_mark]\n",
    "    a_list[right_mark] = temp\n",
    "    \n",
    "    return right_mark"
   ]
  },
  {
   "cell_type": "code",
   "execution_count": null,
   "metadata": {},
   "outputs": [],
   "source": [
    "a_list = [54, 26, 93, 17, 77, 31, 44, 55, 20]"
   ]
  },
  {
   "cell_type": "code",
   "execution_count": null,
   "metadata": {},
   "outputs": [],
   "source": [
    "quick_sort(a_list)"
   ]
  },
  {
   "cell_type": "code",
   "execution_count": null,
   "metadata": {},
   "outputs": [],
   "source": [
    "print(a_list)"
   ]
  },
  {
   "cell_type": "markdown",
   "metadata": {},
   "source": [
    "## 6.1 Visualization"
   ]
  },
  {
   "cell_type": "code",
   "execution_count": null,
   "metadata": {},
   "outputs": [],
   "source": [
    "quick_sort_times = []\n",
    "for size in range(100, 3000, 100):\n",
    "    a_lst = list(range(size))\n",
    "    quick_sort_times.append(timeit.timeit(stmt='quick_sort(a_lst)',\n",
    "                               setup='random.shuffle(a_lst)',\n",
    "                               globals=globals(),\n",
    "                               number=1))"
   ]
  },
  {
   "cell_type": "code",
   "execution_count": null,
   "metadata": {},
   "outputs": [],
   "source": [
    "plt.plot(list(range(100, 3000, 100)), quick_sort_times, 'c*')\n",
    "plt.xlabel('Size of input (n)', fontsize=16)\n",
    "plt.ylabel('Time', fontsize=16)\n",
    "plt.title('Quick Sort Algorithm', fontsize = 20)\n",
    "plt.show()"
   ]
  },
  {
   "cell_type": "markdown",
   "metadata": {},
   "source": [
    "## Comparision "
   ]
  },
  {
   "cell_type": "code",
   "execution_count": null,
   "metadata": {},
   "outputs": [],
   "source": [
    "plt.plot(list(range(100, 3000, 100)), bubble_sort_times, 'ro')\n",
    "plt.plot(list(range(100, 3000, 100)), selection_sort_times, 'gs')\n",
    "plt.plot(list(range(100, 3000, 100)), insertion_sort_times, 'b^')\n",
    "plt.plot(list(range(100, 3000, 100)), shell_sort_times, 'yd')\n",
    "plt.plot(list(range(100, 3000, 100)), merge_sort_times, 'kp')\n",
    "plt.plot(list(range(100, 3000, 100)), quick_sort_times, 'c*')\n",
    "plt.xlabel('Size of input (n)', fontsize=16)\n",
    "plt.ylabel('Time', fontsize=16)\n",
    "plt.title('Comparison of Sort Algorithms', fontsize = 20)\n",
    "plt.legend(['Bubble Sort $\\mathcal{O}(n^2)$', 'Selection Sort $\\mathcal{O}(n^2)$', 'Insertion Sort $\\mathcal{O}(n^2)$', \n",
    "            'Shell Sort $\\mathcal{O}(n^2) \\sim \\mathcal{O}(n)$', 'Merge Sort$\\mathcal{O}(n\\log n)$', 'Quick Sort $\\mathcal{O}(n \\log n)$'], \n",
    "            loc='best', fontsize=10);\n",
    "plt.show()"
   ]
  },
  {
   "cell_type": "code",
   "execution_count": null,
   "metadata": {},
   "outputs": [],
   "source": []
  },
  {
   "cell_type": "code",
   "execution_count": null,
   "metadata": {},
   "outputs": [],
   "source": []
  }
 ],
 "metadata": {
  "anaconda-cloud": {},
  "kernelspec": {
   "display_name": "Python 3",
   "language": "python",
   "name": "python3"
  },
  "language_info": {
   "codemirror_mode": {
    "name": "ipython",
    "version": 3
   },
   "file_extension": ".py",
   "mimetype": "text/x-python",
   "name": "python",
   "nbconvert_exporter": "python",
   "pygments_lexer": "ipython3",
   "version": "3.8.5"
  }
 },
 "nbformat": 4,
 "nbformat_minor": 1
}
