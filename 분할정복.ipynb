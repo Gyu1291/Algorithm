{
 "cells": [
  {
   "cell_type": "code",
   "execution_count": 6,
   "metadata": {},
   "outputs": [
    {
     "name": "stdout",
     "output_type": "stream",
     "text": [
      "8\n",
      "1 1 0 0 0 0 1 1\n",
      "1 1 0 0 0 0 1 1\n",
      "0 0 0 0 1 1 0 0\n",
      "0 0 0 0 1 1 0 0\n",
      "1 0 0 0 1 1 1 1\n",
      "0 1 0 0 1 1 1 1\n",
      "0 0 1 1 1 1 1 1\n",
      "0 0 1 1 1 1 1 1\n",
      "1\n",
      "0\n"
     ]
    }
   ],
   "source": [
    "N=int(input())\n",
    "paper=[list(map(int,input().split())) for _ in range(N)]\n",
    "\n",
    "white=0\n",
    "blue=0\n",
    "\n",
    "def divide(x, y, N):\n",
    "    global white\n",
    "    global blue\n",
    "\n",
    "    t=paper[x][y]\n",
    "    for i in range(x,x+N):\n",
    "        for j in range(y,y+N):\n",
    "            if t!=paper[x][y]:\n",
    "                divide(x,y,N//2)\n",
    "                divide(x+N//2,y,N//2)\n",
    "                divide(x,y+N//2,N//2)\n",
    "                divide(x+N//2,y+N//2,N//2)\n",
    "                return\n",
    "            \n",
    "    if t==1:\n",
    "        blue+=1\n",
    "    else:\n",
    "        white+=1\n",
    "        \n",
    "divide(0,0,8)\n",
    "print(blue)\n",
    "print(white)"
   ]
  },
  {
   "cell_type": "code",
   "execution_count": null,
   "metadata": {},
   "outputs": [],
   "source": []
  }
 ],
 "metadata": {
  "kernelspec": {
   "display_name": "Python 3",
   "language": "python",
   "name": "python3"
  },
  "language_info": {
   "codemirror_mode": {
    "name": "ipython",
    "version": 3
   },
   "file_extension": ".py",
   "mimetype": "text/x-python",
   "name": "python",
   "nbconvert_exporter": "python",
   "pygments_lexer": "ipython3",
   "version": "3.7.1"
  }
 },
 "nbformat": 4,
 "nbformat_minor": 2
}
