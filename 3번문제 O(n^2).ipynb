{
 "cells": [
  {
   "cell_type": "code",
   "execution_count": 1,
   "id": "united-audio",
   "metadata": {},
   "outputs": [],
   "source": [
    "def solve_p4(num_coffee, labs, staff, robot):\n",
    "    n=num_coffee\n",
    "    labs.sort()\n",
    "    dp=[0]*n\n",
    "    num_robot=0\n",
    "    \n",
    "    for i in range(n):\n",
    "        current=labs[:i+1]\n",
    "        r_current=[]\n",
    "        for l in range(i+1):\n",
    "            r_current.append(current[-l-1])\n",
    "      \n",
    "        if i==0:\n",
    "            dp[i]=min(current[0]*staff,robot)\n",
    "        else:\n",
    "            result=[]\n",
    "            a=[]\n",
    "            for j in range(i+1):\n",
    "                if j==0:\n",
    "                    a.append(0)\n",
    "                elif j==1:\n",
    "                    a.append(r_current[j-1]-r_current[j])\n",
    "                else:\n",
    "                    a.append(a[j-1]+r_current[j//2]-r_current[j])\n",
    "            for k in range(i+1):\n",
    "\n",
    "                if k==0:\n",
    "                    result.append(robot+a[-1]*staff)\n",
    "                else:\n",
    "                    result.append(dp[k-1]+robot+a[-1-k]*staff)\n",
    "            result.append(sum(current)*staff)\n",
    "            dp[i]=min(result)\n",
    "                             \n",
    "            \n",
    "            \n",
    "    return dp[-1]"
   ]
  },
  {
   "cell_type": "code",
   "execution_count": 2,
   "id": "another-immigration",
   "metadata": {},
   "outputs": [
    {
     "data": {
      "text/plain": [
       "1050"
      ]
     },
     "execution_count": 2,
     "metadata": {},
     "output_type": "execute_result"
    }
   ],
   "source": [
    "solve_p4(7,[10,10,10,10,25,25,40],10,500)"
   ]
  },
  {
   "cell_type": "code",
   "execution_count": 3,
   "id": "equal-transcript",
   "metadata": {},
   "outputs": [
    {
     "data": {
      "text/plain": [
       "1000"
      ]
     },
     "execution_count": 3,
     "metadata": {},
     "output_type": "execute_result"
    }
   ],
   "source": [
    "solve_p4(5,[10,25,25,40,50],10,500)"
   ]
  },
  {
   "cell_type": "code",
   "execution_count": null,
   "id": "caring-darkness",
   "metadata": {},
   "outputs": [],
   "source": []
  }
 ],
 "metadata": {
  "kernelspec": {
   "display_name": "Python 3",
   "language": "python",
   "name": "python3"
  },
  "language_info": {
   "codemirror_mode": {
    "name": "ipython",
    "version": 3
   },
   "file_extension": ".py",
   "mimetype": "text/x-python",
   "name": "python",
   "nbconvert_exporter": "python",
   "pygments_lexer": "ipython3",
   "version": "3.7.9"
  }
 },
 "nbformat": 4,
 "nbformat_minor": 5
}
