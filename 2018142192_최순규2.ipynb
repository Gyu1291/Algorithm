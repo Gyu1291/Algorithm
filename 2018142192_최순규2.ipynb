{
 "cells": [
  {
   "cell_type": "markdown",
   "metadata": {},
   "source": [
    "> ### EEE2020: Data Structures & Algorithms\n",
    "\n",
    "# Assignment \\#  II: Basic Data Structure"
   ]
  },
  {
   "cell_type": "markdown",
   "metadata": {},
   "source": [
    "<div style=\"text-align: right\"> **Due date: April 9, 2021.** </div> \n",
    "<div style=\"text-align: right\"> **Please upload your file @ LearnUs by 7 PM.** </div> \n",
    "<br>\n",
    "<div style=\"text-align: right\"> Daesung Jeon(전대성): <a href=\"mailto:ds.jeon@yonsei.ac.kr\">ds.jeon@yonsei.ac.kr</a> \n",
    "<div style=\"text-align: right\"> Hyekang Park(박혜강): <a href=\"mailto:hyekang.park@yonsei.ac.kr\">hyekang.park@yonsei.ac.kr</a> </div>\n",
    "</div>"
   ]
  },
  {
   "cell_type": "markdown",
   "metadata": {},
   "source": [
    "-------------------------------"
   ]
  },
  {
   "cell_type": "markdown",
   "metadata": {},
   "source": [
    "\n",
    "### *Assignment Instructions:*\n",
    "1. Write a program implementing a particular algorithm to solve a given problem.\n",
    "2. You can use both Korean and Engligh for your report.\n",
    "3. **Analyze the algorithm theoretically and empirically, and write discussion.** \n",
    "4. **Report your results.**  \n",
    "    - You must do assignments and labs yourself. \n",
    "    - <span style=\"color:red\">**Do not copy any part of your friends’ code.**</span>\n",
    "    - Otherwise, you will get a F grade."
   ]
  },
  {
   "cell_type": "markdown",
   "metadata": {},
   "source": [
    "-----------------"
   ]
  },
  {
   "cell_type": "markdown",
   "metadata": {},
   "source": [
    "<h2><span style=\"color:blue\">[Insert your ID HERE] [Insert your name HERE]</span> </h2>"
   ]
  },
  {
   "cell_type": "code",
   "execution_count": 1,
   "metadata": {},
   "outputs": [
    {
     "name": "stdout",
     "output_type": "stream",
     "text": [
      "This code is written at 2021-04-09 17:45:36.712317\n"
     ]
    }
   ],
   "source": [
    "import datetime\n",
    "\n",
    "print(\"This code is written at \" + str(datetime.datetime.now()))"
   ]
  },
  {
   "cell_type": "markdown",
   "metadata": {},
   "source": [
    "## PROBLEM I - Stack & Queue (15 POINTS)"
   ]
  },
  {
   "cell_type": "markdown",
   "metadata": {},
   "source": [
    "1. 미리 구현된 Stack 2개를 이용하여 Queue를 구현하시오.\n",
    "2. 미리 구현된 Queue 2개를 이용하여 Stack을 구현하시오.\n",
    "\n",
    "\n",
    "### Conditions\n",
    "1. 주어진 자료 구조 이외의 것(e.g. list)을 사용하지 않는다.\n",
    "2. ```Queue_new``` 와 ```Queue```은 같은 수와 이름의 method를 갖는다.\n",
    "3. ```Stack_new``` 와 ```Stack```은 같은 수와 이름의 method를 갖는다.\n",
    "4. ```Queue_new``` 와 ```Queue```의 ```self.dequeue()```는 ```self.is_empty() == True```인 경우 error가 발생한다.\n",
    "5. ```Stack_new``` 와 ```Stack```의 ```self.pop()```는 ```self.is_empty() == True```인 경우 error가 발생한다.\n",
    "\n",
    "\n",
    "### HINT\n",
    "1. 스택은 LIFO 구조를 가짐. 그러므로, data를 **온전히** push하고 pop하는 과정을 **2번** 거치면 원래의 순서로 출력 가능.\n",
    "2. 큐는 FIFO 구조를 가짐. 그러므로, 거꾸로 출력하기 위해서는 **처음부터** 거꾸로 넣어야함. ```a, b = b, a```(swap)을 이용.\n",
    "    > **For example**,  \n",
    "    > push(1) : [1] [0] -> [0] [1]  \n",
    "    > push(2) : [2] [1] -> [1 2] [0] -> [0] [1 2]  \n",
    "    > push(3) : [3] [1 2] -> [1 2 3] [0] -> [0] [1 2 3]  \n",
    "    > pop()  : [0] [1 2]\n",
    "    \n",
    "\n",
    "### NOTE\n",
    "- 외부 라이브러리는 사용하지 않는다(사용 시 해당 문항 0점).\n",
    "- ```###CODE HERE###``` 이외의 코드를 수정하지 않는다.\n",
    "- ```###CODE HERE###``` 중 설명이 필요한 부분에 주석을 단다. \n",
    "- Discussion에 알고리즘이 어떻게 동작하는지 설명한다."
   ]
  },
  {
   "cell_type": "code",
   "execution_count": 2,
   "metadata": {},
   "outputs": [],
   "source": [
    "class Queue:\n",
    "    def __init__(self):\n",
    "        self.items = []\n",
    "\n",
    "    def is_empty(self):\n",
    "        return self.items == []\n",
    "\n",
    "    def enqueue(self, item):\n",
    "        self.items.insert(0, item)\n",
    "\n",
    "    def dequeue(self):\n",
    "        assert not self.is_empty()\n",
    "        return self.items.pop()\n",
    "\n",
    "    def size(self):\n",
    "        return len(self.items)\n",
    "\n",
    "\n",
    "class Stack:\n",
    "    def __init__(self):\n",
    "        self.items = []\n",
    "\n",
    "    def is_empty(self):\n",
    "        return self.items == []\n",
    "\n",
    "    def push(self, item):\n",
    "        self.items.append(item)\n",
    "\n",
    "    def pop(self):\n",
    "        assert not self.is_empty()\n",
    "        return self.items.pop()\n",
    "\n",
    "    def size(self):\n",
    "        return len(self.items)"
   ]
  },
  {
   "cell_type": "code",
   "execution_count": 3,
   "metadata": {},
   "outputs": [],
   "source": [
    "class Queue_new:\n",
    "    def __init__(self):\n",
    "        self.stack1 = Stack()\n",
    "        self.stack2 = Stack()\n",
    "    \n",
    "    def is_empty(self): #enqueue, dequeue를 할 때 stack 1만을 이용할 것이므로 stack1.is_empty()를 반환해준다.\n",
    "        return self.stack1.is_empty()\n",
    "    \n",
    "    def enqueue(self, item): #stack1에 item을 넣어준다. stack과 queue의 모양은 다르지 않으므로 그냥 push를 사용해주었다.\n",
    "        self.stack1.push(item)\n",
    "\n",
    "    def dequeue(self):\n",
    "        assert not self.is_empty()\n",
    "        while not self.stack1.is_empty():\n",
    "            self.stack2.push(self.stack1.pop())\n",
    "        num = self.stack2.pop() #Queue_new의 dequeue를 실행하면 self.stack2.pop()한 값을 return해주어야 하는데 아직 실행할 코드가 남아있다\n",
    "        while not self.stack2.is_empty(): \n",
    "            self.stack1.push(self.stack2.pop())\n",
    "        return num #num=self.stack2.pop()이라는 num을 만들어 코드 실행 마지막에 이 값을 return해주었다.  \n",
    "    \n",
    "        #stack과 queue의 가장 큰 차이는 출력이 LIFO이냐 FIFO이냐의 차이이다. 기존에 stack1에 넣어놨던 값들을 stack2로 모두 옮기고\n",
    "        #item하나를 출력한다. 이후 stack2에 있던 값들을 다시 stack1으로 옮기면 원래대로 돌아오게 된다.\n",
    "        \n",
    "    def size(self):\n",
    "        return self.stack1.size() #Stack만을 이용해 queue를 구현해야 하므로 len대신 size를 사용했다.\n",
    "    \n",
    "\n",
    "class Stack_new:\n",
    "    def __init__(self):\n",
    "        self.queue1 = Queue()\n",
    "        self.queue2 = Queue()\n",
    "\n",
    "    def is_empty(self):\n",
    "        return self.queue2.is_empty() #items를 항상 queue2에 저장할 것이므로 queue2가 비어있나만 확인한다.\n",
    "\n",
    "    def push(self, item):\n",
    "        self.queue1.enqueue(item) #일단 비어있는 queue1에 item을 넣는다.\n",
    "        while not self.queue2.is_empty():\n",
    "            self.queue1.enqueue(self.queue2.dequeue())\n",
    "            #queue2에 있는 item을 모두 queue1으로 옮기면 item이 queue의 맨 앞에 오게되어 stack같은 입력이 가능하다\n",
    "        while not self.queue1.is_empty(): #queue1이 빌 때까지\n",
    "            self.queue2.enqueue(self.queue1.dequeue()) #queue1에 있는 item을 모두 queue2로 옮기면 queue2는 기존queue1과 동일하고\n",
    "            #queue1은 다시 비어있는 상태로 유지된다.\n",
    "\n",
    "    def pop(self):\n",
    "        assert not self.is_empty() #비어있을 때는 pop() 을 쓸 수 없다.\n",
    "        return self.queue2.dequeue() #item을 넣을 때 거꾸로 넣어주었으므로 그냥 출력해주면 거꾸로 나온다.\n",
    "\n",
    "    def size(self):\n",
    "        return self.queue2.size() #모든 item은 queue2에 저장될 것이므로 queue2의 사이즈만 보면 된다."
   ]
  },
  {
   "cell_type": "markdown",
   "metadata": {},
   "source": [
    "### Demo code"
   ]
  },
  {
   "cell_type": "code",
   "execution_count": 4,
   "metadata": {},
   "outputs": [],
   "source": [
    "s = Stack()\n",
    "s_new = Stack_new()\n",
    "q = Queue()\n",
    "q_new = Queue_new()"
   ]
  },
  {
   "cell_type": "code",
   "execution_count": 5,
   "metadata": {},
   "outputs": [
    {
     "name": "stdout",
     "output_type": "stream",
     "text": [
      "s => 9 | s_new => 9\n",
      "size of s : 9 | size of s_new : 9\n",
      "----------------------------------------\n",
      "s => 8 | s_new => 8\n",
      "size of s : 8 | size of s_new : 8\n",
      "----------------------------------------\n",
      "s => 7 | s_new => 7\n",
      "size of s : 7 | size of s_new : 7\n",
      "----------------------------------------\n",
      "s => 6 | s_new => 6\n",
      "size of s : 6 | size of s_new : 6\n",
      "----------------------------------------\n",
      "s => 5 | s_new => 5\n",
      "size of s : 5 | size of s_new : 5\n",
      "----------------------------------------\n",
      "s => 4 | s_new => 4\n",
      "size of s : 4 | size of s_new : 4\n",
      "----------------------------------------\n",
      "s => 3 | s_new => 3\n",
      "size of s : 3 | size of s_new : 3\n",
      "----------------------------------------\n",
      "s => 2 | s_new => 2\n",
      "size of s : 2 | size of s_new : 2\n",
      "----------------------------------------\n",
      "s => 1 | s_new => 1\n",
      "size of s : 1 | size of s_new : 1\n",
      "----------------------------------------\n",
      "s => 0 | s_new => 0\n",
      "size of s : 0 | size of s_new : 0\n",
      "----------------------------------------\n"
     ]
    }
   ],
   "source": [
    "for i in range(10):\n",
    "    s.push(i)\n",
    "    s_new.push(i)\n",
    "\n",
    "for _ in range(10):\n",
    "    print(f\"s => {s.pop()} | s_new => {s_new.pop()}\")\n",
    "    print(f\"size of s : {s.size()} | size of s_new : {s_new.size()}\")\n",
    "    print(f\"-\" * 40)"
   ]
  },
  {
   "cell_type": "code",
   "execution_count": 6,
   "metadata": {},
   "outputs": [
    {
     "ename": "AssertionError",
     "evalue": "",
     "output_type": "error",
     "traceback": [
      "\u001b[1;31m---------------------------------------------------------------------------\u001b[0m",
      "\u001b[1;31mAssertionError\u001b[0m                            Traceback (most recent call last)",
      "\u001b[1;32m<ipython-input-6-1d0ce6db9c65>\u001b[0m in \u001b[0;36m<module>\u001b[1;34m\u001b[0m\n\u001b[0;32m      1\u001b[0m \u001b[1;31m# error\u001b[0m\u001b[1;33m\u001b[0m\u001b[1;33m\u001b[0m\u001b[1;33m\u001b[0m\u001b[0m\n\u001b[1;32m----> 2\u001b[1;33m \u001b[0ms\u001b[0m\u001b[1;33m.\u001b[0m\u001b[0mpop\u001b[0m\u001b[1;33m(\u001b[0m\u001b[1;33m)\u001b[0m\u001b[1;33m\u001b[0m\u001b[1;33m\u001b[0m\u001b[0m\n\u001b[0m",
      "\u001b[1;32m<ipython-input-2-95bb6fcaac8c>\u001b[0m in \u001b[0;36mpop\u001b[1;34m(self)\u001b[0m\n\u001b[0;32m     28\u001b[0m \u001b[1;33m\u001b[0m\u001b[0m\n\u001b[0;32m     29\u001b[0m     \u001b[1;32mdef\u001b[0m \u001b[0mpop\u001b[0m\u001b[1;33m(\u001b[0m\u001b[0mself\u001b[0m\u001b[1;33m)\u001b[0m\u001b[1;33m:\u001b[0m\u001b[1;33m\u001b[0m\u001b[1;33m\u001b[0m\u001b[0m\n\u001b[1;32m---> 30\u001b[1;33m         \u001b[1;32massert\u001b[0m \u001b[1;32mnot\u001b[0m \u001b[0mself\u001b[0m\u001b[1;33m.\u001b[0m\u001b[0mis_empty\u001b[0m\u001b[1;33m(\u001b[0m\u001b[1;33m)\u001b[0m\u001b[1;33m\u001b[0m\u001b[1;33m\u001b[0m\u001b[0m\n\u001b[0m\u001b[0;32m     31\u001b[0m         \u001b[1;32mreturn\u001b[0m \u001b[0mself\u001b[0m\u001b[1;33m.\u001b[0m\u001b[0mitems\u001b[0m\u001b[1;33m.\u001b[0m\u001b[0mpop\u001b[0m\u001b[1;33m(\u001b[0m\u001b[1;33m)\u001b[0m\u001b[1;33m\u001b[0m\u001b[1;33m\u001b[0m\u001b[0m\n\u001b[0;32m     32\u001b[0m \u001b[1;33m\u001b[0m\u001b[0m\n",
      "\u001b[1;31mAssertionError\u001b[0m: "
     ]
    }
   ],
   "source": [
    "# error\n",
    "s.pop()"
   ]
  },
  {
   "cell_type": "code",
   "execution_count": 7,
   "metadata": {},
   "outputs": [
    {
     "ename": "AssertionError",
     "evalue": "",
     "output_type": "error",
     "traceback": [
      "\u001b[1;31m---------------------------------------------------------------------------\u001b[0m",
      "\u001b[1;31mAssertionError\u001b[0m                            Traceback (most recent call last)",
      "\u001b[1;32m<ipython-input-7-e77c936b71a8>\u001b[0m in \u001b[0;36m<module>\u001b[1;34m\u001b[0m\n\u001b[0;32m      1\u001b[0m \u001b[1;31m# error\u001b[0m\u001b[1;33m\u001b[0m\u001b[1;33m\u001b[0m\u001b[1;33m\u001b[0m\u001b[0m\n\u001b[1;32m----> 2\u001b[1;33m \u001b[0ms_new\u001b[0m\u001b[1;33m.\u001b[0m\u001b[0mpop\u001b[0m\u001b[1;33m(\u001b[0m\u001b[1;33m)\u001b[0m\u001b[1;33m\u001b[0m\u001b[1;33m\u001b[0m\u001b[0m\n\u001b[0m",
      "\u001b[1;32m<ipython-input-3-aeace5ee87ac>\u001b[0m in \u001b[0;36mpop\u001b[1;34m(self)\u001b[0m\n\u001b[0;32m     44\u001b[0m \u001b[1;33m\u001b[0m\u001b[0m\n\u001b[0;32m     45\u001b[0m     \u001b[1;32mdef\u001b[0m \u001b[0mpop\u001b[0m\u001b[1;33m(\u001b[0m\u001b[0mself\u001b[0m\u001b[1;33m)\u001b[0m\u001b[1;33m:\u001b[0m\u001b[1;33m\u001b[0m\u001b[1;33m\u001b[0m\u001b[0m\n\u001b[1;32m---> 46\u001b[1;33m         \u001b[1;32massert\u001b[0m \u001b[1;32mnot\u001b[0m \u001b[0mself\u001b[0m\u001b[1;33m.\u001b[0m\u001b[0mis_empty\u001b[0m\u001b[1;33m(\u001b[0m\u001b[1;33m)\u001b[0m \u001b[1;31m#비어있을 때는 pop() 을 쓸 수 없다.\u001b[0m\u001b[1;33m\u001b[0m\u001b[1;33m\u001b[0m\u001b[0m\n\u001b[0m\u001b[0;32m     47\u001b[0m         \u001b[1;32mreturn\u001b[0m \u001b[0mself\u001b[0m\u001b[1;33m.\u001b[0m\u001b[0mqueue2\u001b[0m\u001b[1;33m.\u001b[0m\u001b[0mdequeue\u001b[0m\u001b[1;33m(\u001b[0m\u001b[1;33m)\u001b[0m \u001b[1;31m#item을 넣을 때 거꾸로 넣어주었으므로 그냥 출력해주면 거꾸로 나온다.\u001b[0m\u001b[1;33m\u001b[0m\u001b[1;33m\u001b[0m\u001b[0m\n\u001b[0;32m     48\u001b[0m \u001b[1;33m\u001b[0m\u001b[0m\n",
      "\u001b[1;31mAssertionError\u001b[0m: "
     ]
    }
   ],
   "source": [
    "# error\n",
    "s_new.pop()"
   ]
  },
  {
   "cell_type": "code",
   "execution_count": 8,
   "metadata": {},
   "outputs": [
    {
     "name": "stdout",
     "output_type": "stream",
     "text": [
      "s is empty? [True] | s_new is empty? [True]\n"
     ]
    }
   ],
   "source": [
    "print(f\"s is empty? [{s.is_empty()}] | s_new is empty? [{s_new.is_empty()}]\")"
   ]
  },
  {
   "cell_type": "code",
   "execution_count": 9,
   "metadata": {},
   "outputs": [
    {
     "name": "stdout",
     "output_type": "stream",
     "text": [
      "q=> 0 | q_new => 0\n",
      "size of q : 9 | size of q_new : 9\n",
      "----------------------------------------\n",
      "q=> 1 | q_new => 1\n",
      "size of q : 8 | size of q_new : 8\n",
      "----------------------------------------\n",
      "q=> 2 | q_new => 2\n",
      "size of q : 7 | size of q_new : 7\n",
      "----------------------------------------\n",
      "q=> 3 | q_new => 3\n",
      "size of q : 6 | size of q_new : 6\n",
      "----------------------------------------\n",
      "q=> 4 | q_new => 4\n",
      "size of q : 5 | size of q_new : 5\n",
      "----------------------------------------\n",
      "q=> 5 | q_new => 5\n",
      "size of q : 4 | size of q_new : 4\n",
      "----------------------------------------\n",
      "q=> 6 | q_new => 6\n",
      "size of q : 3 | size of q_new : 3\n",
      "----------------------------------------\n",
      "q=> 7 | q_new => 7\n",
      "size of q : 2 | size of q_new : 2\n",
      "----------------------------------------\n",
      "q=> 8 | q_new => 8\n",
      "size of q : 1 | size of q_new : 1\n",
      "----------------------------------------\n",
      "q=> 9 | q_new => 9\n",
      "size of q : 0 | size of q_new : 0\n",
      "----------------------------------------\n"
     ]
    }
   ],
   "source": [
    "for i in range(10):\n",
    "    q.enqueue(i)\n",
    "    q_new.enqueue(i)\n",
    "\n",
    "for _ in range(10):\n",
    "    print(f\"q=> {q.dequeue()} | q_new => {q_new.dequeue()}\")\n",
    "    print(f\"size of q : {q.size()} | size of q_new : {q_new.size()}\")\n",
    "    print(f\"-\" * 40)"
   ]
  },
  {
   "cell_type": "code",
   "execution_count": 10,
   "metadata": {},
   "outputs": [
    {
     "ename": "AssertionError",
     "evalue": "",
     "output_type": "error",
     "traceback": [
      "\u001b[1;31m---------------------------------------------------------------------------\u001b[0m",
      "\u001b[1;31mAssertionError\u001b[0m                            Traceback (most recent call last)",
      "\u001b[1;32m<ipython-input-10-20ac0e6c95e2>\u001b[0m in \u001b[0;36m<module>\u001b[1;34m\u001b[0m\n\u001b[0;32m      1\u001b[0m \u001b[1;31m# error\u001b[0m\u001b[1;33m\u001b[0m\u001b[1;33m\u001b[0m\u001b[1;33m\u001b[0m\u001b[0m\n\u001b[1;32m----> 2\u001b[1;33m \u001b[0mq\u001b[0m\u001b[1;33m.\u001b[0m\u001b[0mdequeue\u001b[0m\u001b[1;33m(\u001b[0m\u001b[1;33m)\u001b[0m\u001b[1;33m\u001b[0m\u001b[1;33m\u001b[0m\u001b[0m\n\u001b[0m",
      "\u001b[1;32m<ipython-input-2-95bb6fcaac8c>\u001b[0m in \u001b[0;36mdequeue\u001b[1;34m(self)\u001b[0m\n\u001b[0;32m     10\u001b[0m \u001b[1;33m\u001b[0m\u001b[0m\n\u001b[0;32m     11\u001b[0m     \u001b[1;32mdef\u001b[0m \u001b[0mdequeue\u001b[0m\u001b[1;33m(\u001b[0m\u001b[0mself\u001b[0m\u001b[1;33m)\u001b[0m\u001b[1;33m:\u001b[0m\u001b[1;33m\u001b[0m\u001b[1;33m\u001b[0m\u001b[0m\n\u001b[1;32m---> 12\u001b[1;33m         \u001b[1;32massert\u001b[0m \u001b[1;32mnot\u001b[0m \u001b[0mself\u001b[0m\u001b[1;33m.\u001b[0m\u001b[0mis_empty\u001b[0m\u001b[1;33m(\u001b[0m\u001b[1;33m)\u001b[0m\u001b[1;33m\u001b[0m\u001b[1;33m\u001b[0m\u001b[0m\n\u001b[0m\u001b[0;32m     13\u001b[0m         \u001b[1;32mreturn\u001b[0m \u001b[0mself\u001b[0m\u001b[1;33m.\u001b[0m\u001b[0mitems\u001b[0m\u001b[1;33m.\u001b[0m\u001b[0mpop\u001b[0m\u001b[1;33m(\u001b[0m\u001b[1;33m)\u001b[0m\u001b[1;33m\u001b[0m\u001b[1;33m\u001b[0m\u001b[0m\n\u001b[0;32m     14\u001b[0m \u001b[1;33m\u001b[0m\u001b[0m\n",
      "\u001b[1;31mAssertionError\u001b[0m: "
     ]
    }
   ],
   "source": [
    "# error\n",
    "q.dequeue()"
   ]
  },
  {
   "cell_type": "code",
   "execution_count": 11,
   "metadata": {},
   "outputs": [
    {
     "ename": "AssertionError",
     "evalue": "",
     "output_type": "error",
     "traceback": [
      "\u001b[1;31m---------------------------------------------------------------------------\u001b[0m",
      "\u001b[1;31mAssertionError\u001b[0m                            Traceback (most recent call last)",
      "\u001b[1;32m<ipython-input-11-272fe40cc3a0>\u001b[0m in \u001b[0;36m<module>\u001b[1;34m\u001b[0m\n\u001b[0;32m      1\u001b[0m \u001b[1;31m# error\u001b[0m\u001b[1;33m\u001b[0m\u001b[1;33m\u001b[0m\u001b[1;33m\u001b[0m\u001b[0m\n\u001b[1;32m----> 2\u001b[1;33m \u001b[0mq_new\u001b[0m\u001b[1;33m.\u001b[0m\u001b[0mdequeue\u001b[0m\u001b[1;33m(\u001b[0m\u001b[1;33m)\u001b[0m\u001b[1;33m\u001b[0m\u001b[1;33m\u001b[0m\u001b[0m\n\u001b[0m",
      "\u001b[1;32m<ipython-input-3-aeace5ee87ac>\u001b[0m in \u001b[0;36mdequeue\u001b[1;34m(self)\u001b[0m\n\u001b[0;32m     11\u001b[0m \u001b[1;33m\u001b[0m\u001b[0m\n\u001b[0;32m     12\u001b[0m     \u001b[1;32mdef\u001b[0m \u001b[0mdequeue\u001b[0m\u001b[1;33m(\u001b[0m\u001b[0mself\u001b[0m\u001b[1;33m)\u001b[0m\u001b[1;33m:\u001b[0m\u001b[1;33m\u001b[0m\u001b[1;33m\u001b[0m\u001b[0m\n\u001b[1;32m---> 13\u001b[1;33m         \u001b[1;32massert\u001b[0m \u001b[1;32mnot\u001b[0m \u001b[0mself\u001b[0m\u001b[1;33m.\u001b[0m\u001b[0mis_empty\u001b[0m\u001b[1;33m(\u001b[0m\u001b[1;33m)\u001b[0m\u001b[1;33m\u001b[0m\u001b[1;33m\u001b[0m\u001b[0m\n\u001b[0m\u001b[0;32m     14\u001b[0m         \u001b[1;32mwhile\u001b[0m \u001b[1;32mnot\u001b[0m \u001b[0mself\u001b[0m\u001b[1;33m.\u001b[0m\u001b[0mstack1\u001b[0m\u001b[1;33m.\u001b[0m\u001b[0mis_empty\u001b[0m\u001b[1;33m(\u001b[0m\u001b[1;33m)\u001b[0m\u001b[1;33m:\u001b[0m\u001b[1;33m\u001b[0m\u001b[1;33m\u001b[0m\u001b[0m\n\u001b[0;32m     15\u001b[0m             \u001b[0mself\u001b[0m\u001b[1;33m.\u001b[0m\u001b[0mstack2\u001b[0m\u001b[1;33m.\u001b[0m\u001b[0mpush\u001b[0m\u001b[1;33m(\u001b[0m\u001b[0mself\u001b[0m\u001b[1;33m.\u001b[0m\u001b[0mstack1\u001b[0m\u001b[1;33m.\u001b[0m\u001b[0mpop\u001b[0m\u001b[1;33m(\u001b[0m\u001b[1;33m)\u001b[0m\u001b[1;33m)\u001b[0m\u001b[1;33m\u001b[0m\u001b[1;33m\u001b[0m\u001b[0m\n",
      "\u001b[1;31mAssertionError\u001b[0m: "
     ]
    }
   ],
   "source": [
    "# error\n",
    "q_new.dequeue()"
   ]
  },
  {
   "cell_type": "code",
   "execution_count": 12,
   "metadata": {},
   "outputs": [
    {
     "name": "stdout",
     "output_type": "stream",
     "text": [
      "q is empty? [True] | q_new is empty? [True]\n"
     ]
    }
   ],
   "source": [
    "print(f\"q is empty? [{q.is_empty()}] | q_new is empty? [{q_new.is_empty()}]\")"
   ]
  },
  {
   "cell_type": "markdown",
   "metadata": {},
   "source": [
    "### Describe and Discuss your answer: "
   ]
  },
  {
   "cell_type": "markdown",
   "metadata": {},
   "source": [
    "Stack의 경우 모든 숫자를 순서대로넣었다가 출력하면 순서가 거꾸로 뒤집히게 되는데, 이 과정을 두번 반복하면 처음 입력한 순서 그대로 출력을 하는 것이 가능하다. 사실 is_empty나 size 등은 자료들의 크기에만 의존하며, Stack과 Queue의 가장 큰 차이는 일단 item을 넣은 이후, 출력으로 나오는 item들의 순서가 어떻냐는 것이다.\n",
    "이에 두개의 stack을 이용해 queue를 만들 때 주요기능을 stack1에 의존하여 짰으며 stack2는 stack1에 들어있는 item들을 queue의 dequeue처럼 출력해주는 것을 도와주는 용도의 stack으로 사용하였다.\n",
    "Queue_new의 dequeue()를 실행할 때는 self.stack2.pop()을 하나 빼 준 이후 다시 숫자들을stack1으로 옮겨 주어야 한다. 이 때문에 해당 값을 바로\n",
    "return할 수 없어서 일단 num=self.stack2.pop()을 사용해주고 숫자들을 모두 stack1으로 옮긴 다음에 이 num값을 return해주도록 하였다.\n",
    "\n",
    "\n",
    "\n",
    "\n",
    "사실 Queue_new를 짜면서 고민을 매우 많이했었다. 내가 처음 생각한 queue_new의 알고리즘은 두가지였다. 하나는 enqueue에서부터 아예 item을 queue와 같은 모양으로 정렬해서 넣어주고 dequeue를 실행할 때 단순히 self.stack1.pop()을 시켜주는 것이었고, 나머지 하나는 enqueue에서 단순히 item을 넣어주고 dequeue를 실행할 때 item들을 모두 stack2로 옮긴 후 pop을 해주는 것이었다.\n",
    "\n",
    "전자의 경우는 item들이 list의 왼쪽으로 들어가서 오른쪽으로 나오는 형태로 구현한 queue이고 queue_new의 stack1.items의 모양이 queue의 items의 모양과 동일하게 배열이 된다. 반면 후자의 경우 item들이 list의 오른쪽으로 들어가 왼쪽으로 나오는 형태이고 이 경우 stack1.items를 출력하면 미리 구현되어 있는 queue와는 뒤집힌 방향으로 item들이 배열되어 있다.\n",
    "\n",
    "처음 뒤의 알고리즘을 이용해 Queue_new를 짠 이후, 혹시 item들의 배열이 거꾸로 되어있는 것이 감점요인이 될 까봐 첫 번째 코드로 수정해 올리려고 했다. 반면 시간을 가지고 다시 생각해 본 결과, 교수님께서 Stack이나 Queue는 추상적인 개념이므로 입출력 방향이 중요하지 않다고 말씀하신 적이 있고, hint에 나와있는 설명(item을 온전히 넣었다가 온전히 빼는 과정을 두번하면 원래 순서대로 출력이 가능하다)은 내가 짠 알고리즘에 더 어울리는 설명이라고 생각했다. (예를 들어 1~4까지의 4개의 숫자를 넣을때, enqueue에서 이미 배열을 바꾸어서 넣어버리는 것보다 enqueue에서 item을 그대로 넣고 dequeue에서 stack2를 거치는 것이 '온전히 item을 넣었다가 출력하는 것을 두번 반복한다'는 설명에 더 잘 어울리는 알고리즘이다.)\n",
    "그래서 코드는 수정하지 않고 대신 item이 거꾸로 배열된 Queue_new는 의도한 코드라는 것을 알리기 위해 discription에 이런 내용을 서술하기로 하였다. 이에 enqueue에서는 단순히 stack1.push()를 이용하고 dequeue에서 stack2의 도움을 받아 item들을 출력하는 방식으로 Queue_new를 구현해 최종 제출한다. \n",
    "\n",
    "\n",
    "\n",
    "\n",
    "Stack_new의 알고리즘은 이와 다르다. FIFO를 LIFO로 바꾸기 위해서는 처음부터 item을 거꾸로 넣어주어야 하기 때문에 push()를 짤 때 item을 거꾸로 넣는 방법을 생각해야 했다. 나는 이를 구현하기 위해\n",
    "1. queue1에 item을 넣는다.\n",
    "2. queue2에 기존에 item이 들어있다면 거기에 있는 item들을 모조리 나머지 한쪽으로 옮긴다.\n",
    "3. queue1에 있는 item을 모조리 queue2에 enqueue()한다.\n",
    "\n",
    "\n",
    "는 3단계의 알고리즘을 통해 이를 구현하였다. [][] 비어있는 두 queue가 있을 때 여기에 1,2,3을 넣는다고 치면\n",
    "[1][]->[][1]\n",
    ",[2][1]->[12][]->[][12]\n",
    ",[3][12]->[123][]->[][123]\n",
    "\n",
    "이런 식으로 숫자가 배열된다. 처음부터 배열이 거꾸로 되었기 때문에 Stack_new.pop()을 실행하면 내부 queue2의 dequeue()가 그대로 실행되어도\n",
    "stack의 pop()과 동일한 순서로 출력이 가능하다."
   ]
  },
  {
   "cell_type": "markdown",
   "metadata": {},
   "source": [
    "-------------------------------"
   ]
  },
  {
   "cell_type": "markdown",
   "metadata": {},
   "source": [
    "### PROBLEM 2 - Algorithm using stacks (20 POINTS)\n",
    "\n",
    "정렬이 되지 않은 리스트를 입력으로 받은 뒤 2개의 stack을 이용하여 오름차순으로 정렬하여 반환하는 함수를 구현하시오.  \n",
    "```sorted_list = sort_by_stack(list)```\n",
    "\n",
    "### Conditions\n",
    "정렬하는 동안 주어진 자료 구조 이외의 것(e.g. list)을 사용하지 않는다.\n",
    "\n",
    "\n",
    "### NOTE\n",
    "\n",
    "- 외부 라이브러리는 사용하지 않는다(사용 시 해당 문항 0점).\n",
    "- ```###CODE HERE###``` 이외의 코드를 수정하지 않는다.\n",
    "- ```###CODE HERE###``` 중 설명이 필요한 부분에 주석을 단다. \n",
    "- Discussion에 알고리즘이 어떻게 동작하는지 설명한다."
   ]
  },
  {
   "cell_type": "code",
   "execution_count": 13,
   "metadata": {},
   "outputs": [
    {
     "name": "stdout",
     "output_type": "stream",
     "text": [
      "[1, 2, 3, 4, 7, 9]\n"
     ]
    }
   ],
   "source": [
    "class Stack:\n",
    "    def __init__(self):\n",
    "        self.items = []\n",
    "\n",
    "    def is_empty(self):\n",
    "        return self.items == []\n",
    "\n",
    "    def push(self, item):\n",
    "        self.items.append(item)\n",
    "\n",
    "    def pop(self):\n",
    "        assert not self.is_empty()\n",
    "        return self.items.pop()\n",
    "\n",
    "    def size(self):\n",
    "        return len(self.items)\n",
    "    \n",
    "    def peek(self):\n",
    "        return self.items[-1]\n",
    "    \n",
    "\n",
    "def sort_by_stack(a_list):\n",
    "    stack1 = Stack()\n",
    "    stack2 = Stack()\n",
    "    for i in a_list:\n",
    "        stack1.push(i)\n",
    "        \n",
    "    while not stack1.is_empty(): #stack1이 빌 때까지 시행해준다.\n",
    "        num=stack1.pop() \n",
    "        if stack2.is_empty(): #stack 2가 비어있으면 일단 item을 하나 넣어준다.\n",
    "            stack2.push(num)\n",
    "        else: #stack2에 item이 있을 경우\n",
    "            while stack2.is_empty()==False and stack2.peek()>num: #stack2의 꼭대기에 있는 수가 stack1.pop보다 크면\n",
    "                stack1.push(stack2.pop())#peek에 있는 수를 빼서 stack1에 넣어버린다. 이를 peek가 num보다 작거나 stack2가 빌 때까지 반복한다.\n",
    "            stack2.push(num) #while문이 끝나서 stack2에서 수가 충분히 빠지면 num을 넣는다.\n",
    "    \n",
    "    return stack2.items\n",
    "\n",
    "a = [4, 2, 1, 3 ,7, 9]\n",
    "a_sorted = sort_by_stack(a)\n",
    "print(a_sorted)        \n",
    "    "
   ]
  },
  {
   "cell_type": "markdown",
   "metadata": {},
   "source": [
    "### Describe and Discuss your answer: "
   ]
  },
  {
   "cell_type": "markdown",
   "metadata": {},
   "source": [
    "일단 숫자가 들어오면 stack1에 모두 넣는것으로 시작하였는데, 이 부분의 코드는 기본으로 제공되어 수정할 수 없었다. 이를 이용해서 코드를 짜기 위해 내가 생각한 알고리즘은 다음과 같다.\n",
    "stack1에 들어가 있는 숫자배열을 stack2로 하나씩 옮기면서, 기존에 stack2.peek()가 stack1에서 pop()되어 새로 들어오는 숫자보다 큰 경우 해당 숫자는 빼서 stack1에 다시 넣는 것이다. 이렇게 stack2에서 숫자를 하나씩 빼다가 stack2가 비거나 stack2.peek()<=num이 되면 stack2에 num을 넣어준다.\n",
    "\n",
    "이 알고리즘대로면 일단 어떤 숫자를 기준으로, 자신보다 왼쪽에 자신보다 큰 숫자는 올 수 없게 된다. 또한 stack2에 있던 자신보다 큰 숫자들은 빠져서 stack1으로 돌아가는데, 결국 stack1에서 다시 stack2로 이 숫자들을 넣어주고, 이를 stack1이 완전히 빌 때까지 반복하기 때문에 바깥쪽 while문이 끝나는 시점에서 모든 숫자는 stack2에 들어가게 된다.\n",
    "\n",
    "어떤 숫자를 기준으로 왼쪽에는 해당 숫자보다 작거나 같은 숫자들 밖에 존재하지 않고, 모든 숫자들이 stack2에 들어와야 하므로 이를 동시에 만족할 경우 숫자들은 오름차순으로 정렬되게 된다. 실제로 출력값을 확인한 결과 오름차순으로 정렬되어 있음을 알 수 있다.\n",
    "\n",
    "출력값은 배열에 담긴 형태를 띠고 있는데, stack2.items를 return해주면 이런 형태로 출력이 가능하다.\n",
    "\n",
    "\n",
    "if stack2.is_empty()에서 stack이 비어있지 않아 else로 걸러져서 내려왔음에도 else문 안의 while문 조건에 stack2.is_empty()==False가 또 있는 것이 직관적으로 이상할 수 있다. 반면 while문 안에서 pop()이 돌아가기 때문에 이 조건을 사용하지 않으면 이 과정에서 stack2가 모두 비어있는데 stack2.peek()와 num을 비교하는 상황이 생겨 오류가 발생할 수 있다. 이를 방지하기 위해 stack2가 비어있으면 while문의 조건에 stack2의 is_empty()와 관련된 내용을 한번 더 써준 것이다."
   ]
  },
  {
   "cell_type": "markdown",
   "metadata": {},
   "source": [
    "-------------------------------"
   ]
  },
  {
   "cell_type": "markdown",
   "metadata": {},
   "source": [
    "## PROBLEM 3 - UnorderedList (65 POINTS)"
   ]
  },
  {
   "cell_type": "markdown",
   "metadata": {},
   "source": [
    "### Version Control System (e.g. Git)"
   ]
  },
  {
   "attachments": {
    "e1b52f49-eaa4-4d0a-ab47-c6781030d4a2.png": {
     "image/png": "[encoded data removed]"
    }
   },
   "cell_type": "markdown",
   "metadata": {},
   "source": [
    "![image.png](attachment:e1b52f49-eaa4-4d0a-ab47-c6781030d4a2.png)"
   ]
  },
  {
   "cell_type": "markdown",
   "metadata": {},
   "source": [
    "> **Version control system**이란 파일 변화를 시간에 따라 기록했다가 특정 시점의 버전을 다시 불러 올 수 있는 시스템을 칭함. 대표적으로 Git을 예로들 수 있으며, Git에 대한 설명은 다음 [링크](https://youtu.be/YFNQwo7iTNc) 참조. 본 과제는 **Unordered List**를 이용하여 1개 File에 대한 변화를 추적하고 저장할 수 있는 Simple git을 구현함.  \n",
    "\n",
    "> *Hint* : 제일 먼저 Demo code와 출력 결과, 그림을 보고 전체적인 구조를 파악하는 것을 추천\n",
    "\n",
    "> **브랜치(Branch):** 독립적으로 어떤 작업을 진행하기 위한 개념. 각각의 브랜치는 다른 브랜치의 영향을 받지 않기 때문에, 여러 작업을 동시에 진행 가능. 위 그림의 *main*, *sub*에 해당.  \n",
    "> **버전(Version):** \"버전\"을 통해 변경 사항을 추적 및 저장. 위 그림의 *main v1, ..., main v3, sub v1, sub v2*에 해당.  \n",
    "> **Head** : 현재 사용 중인 브랜치의 선두 부분. 기본적으로 *main* 브랜치의 선두 부분을 나타냄. **HEAD**를 이동하면, 사용하는 브랜치가 변경됨.\n",
    "\n",
    "\n",
    "- **File** : 파일은 이름, 내용, 생성된 시간을 변수로 가지는 클래스\n",
    "    - ```def __init__(self, name, content) ``` : File의 이름과 내용을 입력 받아 instance variable로 저장, 생성된 시간은 자동으로 instance variable로 저장. \n",
    "    - ```def __repr__(self)``` : ```__str__```과 마찬가지로 instance의 문자열 표현을 반환. \n",
    "    - ```def content(self)``` : get, set함수 대신 ```@property``` 라는 데코레이터를 이용하여 변수에 접근. [데코레이터에 대한 설명](https://dojang.io/mod/page/view.php?id=2427), [@property에 대한 설명](https://dojang.io/mod/page/view.php?id=2476). 이를 통해 instance variable에 대한 접근 제어 및 필요 동작 추가.  \n",
    "    \n",
    "\n",
    "\n",
    "\n",
    "- **Node** : Unordered list를 구성하는 노드. 역할에 따라 버전 노드와 브랜치 노드로 구분됨.\n",
    "    - ```def __init__(self, name, data) ```\n",
    "        - 버전 노드 : ```self.name```에는 해당 파일의 version이 저장되고 ```self.data```에는 ```File``` 클래스의 인스턴스가 저장됨.\n",
    "        - 브랜치 노드 : ```self.name```에는 브랜치의 이름이, ```self.data```에는 해당 브랜치에 commit한 횟수가 저장되고 이름과 횟수가 곧 버전 노드의 ```self.name```에 사용됨.\n",
    "    - ```self.prev``` : 다음 노드가 아닌 이전 노드를 가리킴. 인스턴스 생성 시 None값을 가짐.\n",
    "    - 데코레이터를 이용하여 instance variable에 대한 접근을 설정. \n",
    "    \n",
    "    "
   ]
  },
  {
   "cell_type": "markdown",
   "metadata": {},
   "source": [
    "- **Simple_git**\n",
    "    - ```def __init__(self)```\n",
    "        - ```self.main``` : \"main\"의 이름을 가진 브랜치 노드를 할당.\n",
    "        - ```self.head``` : ```self.main```을 할당. \"main\" 브랜치 노드를 현재 **사용 중임**을 뜻함.\n",
    "        - ```self.history``` : 수정 이력을 저장하기 위한 빈 리스트를 할당. \n",
    "        \n",
    "    - ```def checkout(self, branch_name)```: 사용 중인 브랜치 노드를 바꾼 후(```self.head```를 할당) 현재 사용 중인 브랜치 노드를 알려주는 메시지를 출력. 만약 해당 이름을 가진 브랜치 노드가 없을 시 에러 메시지를 출력.\n",
    "    \n",
    "    - ```def commit(self, file)``` : 사용 중인 브랜치 노드에 commit된 ```file```을 저장하는 버전 노드를 생성 후 추가. 버전 노드의 ```self.name```은 사용 중인 브랜치 노드의 ```self.name```과 ```self.data```값을 이용하여 작성(e.g. main v2). 추가한 뒤 사용 중인 브랜치 노드의 ```self.data``` 값을 1 증가시키고 ```self.history```에 commit한 내용을 추가.\n",
    "    \n",
    "    - ```def branch(self, branch_name)``` : ```self.name = branch_name```인 브랜치 노드를 instance variable로 생성. 생성된 브랜치 노드는 사용 중인 브랜치 노드가 가리키고 있는 버전 노드를 가리킨다. 사용 중인 브랜치 노드는 변하지 않음.\n",
    "    \n",
    "    - ```def reset(self)``` : 사용중인 브랜치 노드가 가리키는 최신 버전 노드를 삭제. 해당 브랜치 노드의 ```self.data```값을 1 낮추고 ```self.history```에 해당 내용을 추가.\n",
    "    \n",
    "    - ```def merge(self, src_branch, dst_branch)``` : 두 브랜치 노드의 최신 ```File```들의 ```content```를 합쳐 새로운 ```File```을 생성 후 ```commit```함. ```content```는 ```src_branch```의 것이 ```dst_branch```의 것 뒤에 줄바꿈을 한 뒤 합쳐짐. 또한, ```commit```할때 ```dst_branch```를 사용하고 그 후 ```self.history```에 merge에 관한 내용을 추가함. 단, \"main\" 브랜치 노드가 ```src_branch```가 될 수 없음.\n",
    "    \n",
    "    - ```def log(self)``` : ```self.history```에 추가한 수정 이력들을 차례대로 출력하고 현재 사용 중인 브랜치 노드의 이름을 출력.\n",
    "    \n",
    "    - ```def status(self, file)``` : 사용 중인 브랜치 노드의 최신 버전 ```File```의 ```content```와 input으로 받은 ```File```의 ```content```를 비교해 변화가 있는지 파악한 뒤 메시지를 출력.\n",
    "    \n",
    "    - ```def get_file(self,branch_name, version)``` : ```self.name = branch_name```인 브랜치 노드에서 해당 정수값의 ```version```을 가진 버전 노드를 찾아 일치하는 ```File```을 return함. 단, 사용 중인 브랜치 노드가 바뀌지 않으며 없는 경우 에러 메시지를 출력.  \n",
    "    \n",
    "\n",
    "**For example**\n",
    "- 위 그림에서 흰색 동그라미는 브랜치 노드를 나타내고 주황색 동그라미는 버전 노드를 나타냄.\n",
    "- **main** 브랜치 노드의 ```self.name```은 \"main\"이고 ```self.data```는 3이다.\n",
    "- **sub v1** 버전 노드의 ```self.name```은 \"sub v1\"이고 ```self.data```는 File 클래스의 instance 이다.\n",
    "- **Head**는 Simple_git 클래스의 ```self.head```를 나타내고 사용 중인 브랜치를 할당 받음(현재는 \"main\" 브랜치 노드)."
   ]
  },
  {
   "cell_type": "markdown",
   "metadata": {},
   "source": [
    "### Conditions\n",
    "- **Simple_git의 method들을 실행할 때 버전 노드들에 저장된 ```File```의 instance 변경 불가. (deepcopy 이용)**\n",
    "\n",
    "\n",
    "### NOTE\n",
    "\n",
    "- 명시된 라이브러리를 제외한 외부 라이브러리는 사용하지 않는다(사용 시 해당 문항 0점).\n",
    "- ```###CODE HERE###``` 이외의 코드를 수정하지 않는다.\n",
    "- ```###CODE HERE###``` 중 설명이 필요한 부분에 주석을 단다. \n",
    "- Discussion에 각 method를 어떤 식으로 구현했는지 설명한다.\n",
    "\n",
    "### HINT\n",
    "1. **f-string**: 파이썬 3.6부터 사용할 수 있는 string formatting mechanism이다. [참고 링크](https://realpython.com/python-f-strings/#reader-comments)\n",
    "``` python\n",
    "name = \"Eric\"\n",
    "profession = \"comedian\"\n",
    "affiliation = \"Monty Python\"\n",
    "message = (\n",
    "    f\"Hi {name}. \"\n",
    "    f\"You are a {profession}. \"\n",
    "    f\"You were in {affiliation}.\"\n",
    ")\n",
    ">>> message\n",
    "'Hi Eric. You are a comedian. You were in Monty Python.'\n",
    "```\n",
    "\n",
    "\n",
    "\n",
    "2. **hasattr, getattr, setattr** 사용 가능 [참고 링크](https://docs.python.org/ko/3.9/library/functions.html)\n",
    "``` python\n",
    "class ExampleClass:\n",
    "        def __init__(self):\n",
    "           self.tmp = [1, 2, 3, 4]\n",
    "a = ExampleClass()\n",
    ">>> getattr(a, 'tmp')\n",
    "[1, 2, 3, 4]\n",
    ">>> hasattr(a, 'tmp')\n",
    "True\n",
    ">>> hasattr(a, 'wow')\n",
    "False\n",
    ">>> setattr(a, 'wow', [3, 4, 5, 6])\n",
    ">>> print(a.wow)\n",
    "[3, 4, 5, 6]\n",
    "```\n",
    "\n",
    "\n",
    "3. **deepcopy(얕은 복사와 깊은 복사)** 사용 가능 [참고 링크](https://docs.python.org/ko/3/library/copy.html)  \n",
    "    - 파이썬에는 포인터 개념이 없지만 내부적으로는 reference count & garbage collection이라는 방법으로 포인터를 활용한 메모리 관리가 구현되어 있다. 파이썬의 거의 모든 것은 어떤 class의 객체(instance)이고 대입연산으로 할당해주는 변수는 그 객체의 reference(포인터와 비슷하지만 다른 것)이라고 할 수 있다. \n",
    "\n",
    "``` python\n",
    "from copy import copy, deepcopy\n",
    "# 일반적인 대입연산은 같은 객체에 대한 reference count를 증가시킨다(같은 객체를 가리킨다).\n",
    "a = [[1, 2, 3, 4], 4]\n",
    "b = a\n",
    ">>> print(id(a)==id(b))\n",
    "True\n",
    "# 얕은 복사는 새로운 객체를 생성하지만 그 안의 것들은 원본 객체를 가리키는 reference를 삽입한다.\n",
    "c = copy(a)\n",
    ">>> print(id(a) == id(c))\n",
    "False\n",
    ">>> print(id(a[0]) == id(c[0])) # 리스트안의 리스트는 같은 객체임을 알 수 있다.\n",
    "True\n",
    ">>> print(id(a[1]) == id(c[1]))\n",
    "True\n",
    "# 깊은 복사는 새로운 객체를 생성하고 재귀적으로 그 안의 객체들의 사본을 새로 생성한 객체에 삽입한다. 다만 불변객체에 대해서는 사본을 만들지 않는다. \n",
    "d = deepcopy(a)\n",
    ">>> print(id(a) == id(d))\n",
    "False\n",
    ">>> print(id(a[0]) == id(d[0]))\n",
    "False\n",
    ">>> print(id(a[1]) == id(d[1])) # 정수, 실수, bool, tuple, string은 불변객체이다!\n",
    "True\n",
    "```"
   ]
  },
  {
   "cell_type": "code",
   "execution_count": 14,
   "metadata": {},
   "outputs": [],
   "source": [
    "import datetime\n",
    "from copy import deepcopy\n",
    "\n",
    "\n",
    "class File:\n",
    "    def __init__(self, name, content):\n",
    "        assert isinstance(name, str)\n",
    "        assert isinstance(content, str)\n",
    "        self.name = name\n",
    "        self.date = datetime.datetime.now()\n",
    "        self.edit_date = self.date\n",
    "        self.content = content\n",
    "\n",
    "    def __repr__(self):\n",
    "        return f\"Filename : {self.name}\\nContent : {self.content}\\nGenerated at {self.date:%Y-%m-%d %H:%M:%S}, Edited at {self.edit_date:%Y-%m-%d %H:%M:%S}\"\n",
    "\n",
    "    @property\n",
    "    def content(self):\n",
    "        return self._content\n",
    "\n",
    "    @content.setter\n",
    "    def content(self, content):\n",
    "        assert isinstance(content, str)\n",
    "        self._content = content\n",
    "        self.edit_date = datetime.datetime.now()\n",
    "        print(f\"{self.edit_date - self.date} pass after generation\")"
   ]
  },
  {
   "cell_type": "code",
   "execution_count": 15,
   "metadata": {},
   "outputs": [],
   "source": [
    "class Node:\n",
    "    def __init__(self, name, data):\n",
    "        assert isinstance(name, str)\n",
    "        self.name = name\n",
    "        self.data = data\n",
    "        self.prev = None\n",
    "\n",
    "    @property\n",
    "    def name(self):\n",
    "        return self._name\n",
    "\n",
    "    @property\n",
    "    def data(self):\n",
    "        return self._data\n",
    "\n",
    "    @property\n",
    "    def prev(self):\n",
    "        return self._prev\n",
    "\n",
    "    @data.setter\n",
    "    def data(self, new_data):\n",
    "        self._data = new_data\n",
    "\n",
    "    @name.setter\n",
    "    def name(self, new_name):\n",
    "        assert isinstance(new_name, str)\n",
    "        self._name = new_name\n",
    "\n",
    "    @prev.setter\n",
    "    def prev(self, new_prev):\n",
    "        self._prev = new_prev"
   ]
  },
  {
   "cell_type": "code",
   "execution_count": 68,
   "metadata": {},
   "outputs": [],
   "source": [
    "class Simple_git:\n",
    "    def __init__(self):\n",
    "        self.main = Node(\"main\", 0)\n",
    "        self.head = self.main\n",
    "        self.history = []\n",
    "\n",
    "    def checkout(self, branch_name):\n",
    "        assert self.head.prev != None, \"There is no tracked file.\"\n",
    "        assert isinstance(branch_name, str)\n",
    "        assert hasattr(self, branch_name), f\"[{branch_name}] branch does not exist\"\n",
    "        \n",
    "        ### CODE HERE ###\n",
    "        self.head = getattr(self,branch_name)   #getattr을 이용하여 self.head를 바꾸어준다.\n",
    "        print(f'[Head] points to [{branch_name}] now')\n",
    "        #################\n",
    "        \n",
    "    def commit(self, file):\n",
    "        assert isinstance(file, File)\n",
    "        if self.head.prev != None:\n",
    "            if self.head.prev.data.content == file.content:\n",
    "                self.status(file)\n",
    "                print(\"Nothing will be committed.\")\n",
    "                return\n",
    "        \n",
    "        ### CODE HERE ###\n",
    "        self.head.data+=1 #파일을 하나 추가해줄것이므로 head.data+1을 해준다.\n",
    "        new_node=Node(f'{self.head.name} v{self.head.data}',deepcopy(file)) #file을 담은 새 노드를 생성한다. deepcopy를 이용한다.\n",
    "        new_node.prev=self.head.prev #new_node는 현재 self.head가 가리키는 노드를 가리키도록 한다.\n",
    "        self.head.prev=new_node #self.head는 new_node를 가리키도록 한다.\n",
    "        version=self.head.prev.name #version을 표기하기 위해 self.head.prev.name을 version으로 설정해준다.\n",
    "        #################\n",
    "        \n",
    "        if self.head.prev.prev == None:\n",
    "            self.history.append(\n",
    "                f\"On branch [{self.head.name}], Changes are committed.\\n\"\n",
    "                f\"The version is {version}\\n\\n\"\n",
    "                f\"(Nothing was committed)\\n(=>)\\n{self.head.prev.data.content}\\n\"\n",
    "            )\n",
    "        else:\n",
    "            self.history.append(\n",
    "                f\"On branch [{self.head.name}], Changes are committed.\\n\"\n",
    "                f\"The version is {version}\\n\\n\"\n",
    "                f\"{self.head.prev.prev.data.content}\\n(=>)\\n{self.head.prev.data.content}\\n\"\n",
    "            )\n",
    "\n",
    "    def branch(self, branch_name):\n",
    "        assert self.head.prev != None, \"There is no tracked file.\"\n",
    "        assert isinstance(branch_name, str)\n",
    "        ### CODE HERE ###\n",
    "        setattr(self,branch_name,Node(branch_name,0)) #setattr을 이용해 Simple_git에 branch를 추가해준다.\n",
    "        getattr(self,branch_name).prev=self.head.prev #branch가 self.head.prev와 동일한 노드를 가리키도록 설정해준다.\n",
    "        #################\n",
    "\n",
    "    def reset(self):\n",
    "        assert self.head.prev != None, \"There is no tracked file.\"\n",
    "        assert self.head.data != 0, f\"This branch doesn't contain a commit.\"\n",
    "        ### CODE HERE ###\n",
    "        self.head.prev=self.head.prev.prev #self.head.prev를 self.head.prev.prev로 수정하여 바로 다음노드를 가리키게 해준다.\n",
    "        self.head.data=self.head.data-1 #data를 하나 빼준다.\n",
    "        #################\n",
    "        \n",
    "        self.history.append(\n",
    "                f\"On branch [{self.head.name}], The last commit was reset.\\n\"\n",
    "                f\"{f'The version is {self.head.name} v{self.head.data}' if self.head.data != 0 else 'Nothing was committed'}\\n\"\n",
    "                + \"-\" * 30\n",
    "            )\n",
    "\n",
    "\n",
    "    def merge(self, src_branch, dst_branch):\n",
    "        assert self.head.prev != None, \"There is no tracked file.\"\n",
    "        assert isinstance(src_branch, str)\n",
    "        assert isinstance(dst_branch, str)\n",
    "        \n",
    "        src_branch = getattr(self, src_branch)\n",
    "        dst_branch = getattr(self, dst_branch)\n",
    "\n",
    "        assert (\n",
    "            src_branch != self.main\n",
    "        ), f\"[main] branch can not be merged into another branch.\"\n",
    "        \n",
    "        ### CODE HERE ###\n",
    "        self.head = dst_branch #dst_branch가 self.head가 아닌 상황에서 merge를 돌리는 경우에도 동작이 가능하게 하기위해 사용하였다.\n",
    "        new_file=File(f'{self.head.name} v{self.head.data}',deepcopy(dst_branch.prev.data.content)+'\\n'+deepcopy(src_branch.prev.data.content))\n",
    "        #새 파일을 만들어 준다. 이 때 deepcopy를 이용하였다.\n",
    "        self.history.append('merged'+'\\n'+\"-\" * 30) #self.history에 merged되었음을 추가해준다.\n",
    "        self.commit(new_file) #file을 commit한다.\n",
    "        #################\n",
    "        \n",
    "        \n",
    "    def log(self):\n",
    "        assert self.head.prev != None, \"There is no tracked file.\"\n",
    "\n",
    "        for i in self.history:\n",
    "            print(i)\n",
    "            print(\"-\" * 30)\n",
    "\n",
    "        print(f\"(Head -> {self.head.name})\")\n",
    "\n",
    "    def status(self, file):\n",
    "        assert isinstance(file, File)\n",
    "        assert self.head.prev != None, \"There is no tracked file.\"\n",
    "        ### CODE HERE ###\n",
    "        if file.content==self.head.prev.data.content: #파일이 바뀌지 않았을 경우\n",
    "            print('Nothing has changed!')\n",
    "        else:\n",
    "            print(f\"There are {file.name}'s change to be committed\") #Diary's를 표기하기 위해 여기만 \"\"을 사용하였다.\n",
    "            #################\n",
    "        \n",
    "    def get_file(self, branch_name, version):\n",
    "        assert self.head.prev != None, \"There is no tracked file.\"\n",
    "        assert isinstance(branch_name, str)\n",
    "        assert isinstance(version, int)\n",
    "        self.checkout(branch_name)\n",
    "        if version <= self.head.data:\n",
    "            assert f\"The latest version is {self.head.prev.name}\"\n",
    "        version = f\"{branch_name} v{version}\"\n",
    "        \n",
    "        temp_head = self.head\n",
    "        while temp_head is not None:\n",
    "            if temp_head.prev==None: #temp_head가 None을 가리킬 때까지 찾지 못한 경우\n",
    "                break #break로 while문을 탈출하면서 자동으로 이미 작성되어 있는 Error 메세지를 출력해준다.\n",
    "            elif temp_head.prev.name==version: #temp_head.prev가 우리가 찾는 version일 경우\n",
    "                print('------------------------------')\n",
    "                print(f'This version is {version}\\n')\n",
    "                return temp_head.prev.data\n",
    "            else: #temp_head.prev가 찾는 버전은 아니지만 아직 끝까지 검색하지 않은 경우\n",
    "                temp_head.prev=temp_head.prev.prev # 다음 노드로 넘어간다.\n",
    "                \n",
    "        assert False, \"Please check the version!\""
   ]
  },
  {
   "cell_type": "markdown",
   "metadata": {},
   "source": [
    "### Demo code"
   ]
  },
  {
   "cell_type": "code",
   "execution_count": 69,
   "metadata": {},
   "outputs": [
    {
     "name": "stdout",
     "output_type": "stream",
     "text": [
      "0:00:00 pass after generation\n"
     ]
    }
   ],
   "source": [
    "# 파일을 생성합니다.\n",
    "file_A = File(name=\"Diary\", content=f\"I will get an F..\")"
   ]
  },
  {
   "cell_type": "code",
   "execution_count": 70,
   "metadata": {},
   "outputs": [
    {
     "name": "stdout",
     "output_type": "stream",
     "text": [
      "Filename : Diary\n",
      "Content : I will get an F..\n",
      "Generated at 2021-04-09 17:48:47, Edited at 2021-04-09 17:48:47\n"
     ]
    }
   ],
   "source": [
    "# 파일 정보를 출력합니다.\n",
    "print(file_A)"
   ]
  },
  {
   "cell_type": "code",
   "execution_count": 71,
   "metadata": {},
   "outputs": [
    {
     "name": "stdout",
     "output_type": "stream",
     "text": [
      "On branch [main], Changes are committed.\n",
      "The version is main v1\n",
      "\n",
      "(Nothing was committed)\n",
      "(=>)\n",
      "I will get an F..\n",
      "\n",
      "------------------------------\n",
      "(Head -> main)\n"
     ]
    }
   ],
   "source": [
    "# 파일에 대한 버전 관리 시스템을 생성하고 파일을 commit 한 뒤 log 결과를 출력합니다.\n",
    "git = Simple_git()\n",
    "git.commit(file_A)\n",
    "git.log()"
   ]
  },
  {
   "cell_type": "code",
   "execution_count": 72,
   "metadata": {},
   "outputs": [
    {
     "name": "stdout",
     "output_type": "stream",
     "text": [
      "0:00:00.633531 pass after generation\n"
     ]
    }
   ],
   "source": [
    "git.reset()\n",
    "file_A.content = \"I will get an A+!!\"\n",
    "git.commit(file_A)"
   ]
  },
  {
   "cell_type": "code",
   "execution_count": 73,
   "metadata": {},
   "outputs": [
    {
     "name": "stdout",
     "output_type": "stream",
     "text": [
      "On branch [main], Changes are committed.\n",
      "The version is main v1\n",
      "\n",
      "(Nothing was committed)\n",
      "(=>)\n",
      "I will get an F..\n",
      "\n",
      "------------------------------\n",
      "On branch [main], The last commit was reset.\n",
      "Nothing was committed\n",
      "------------------------------\n",
      "------------------------------\n",
      "On branch [main], Changes are committed.\n",
      "The version is main v1\n",
      "\n",
      "(Nothing was committed)\n",
      "(=>)\n",
      "I will get an A+!!\n",
      "\n",
      "------------------------------\n",
      "(Head -> main)\n"
     ]
    }
   ],
   "source": [
    "git.log()"
   ]
  },
  {
   "cell_type": "code",
   "execution_count": 74,
   "metadata": {},
   "outputs": [
    {
     "data": {
      "text/plain": [
       "1"
      ]
     },
     "execution_count": 74,
     "metadata": {},
     "output_type": "execute_result"
    }
   ],
   "source": [
    "# 현재 Head가 가리키고 있는 branch에 달려있는 node의 갯수를 출력합니다.\n",
    "git.head.data"
   ]
  },
  {
   "cell_type": "code",
   "execution_count": 75,
   "metadata": {},
   "outputs": [
    {
     "name": "stdout",
     "output_type": "stream",
     "text": [
      "Nothing has changed!\n",
      "Nothing has changed!\n",
      "Nothing will be committed.\n"
     ]
    }
   ],
   "source": [
    "# file의 content가 수정되었을 때를 체크하고 그때에만 commit이 되도록 합니다.\n",
    "git.status(file_A)\n",
    "git.commit(file_A)"
   ]
  },
  {
   "cell_type": "code",
   "execution_count": 76,
   "metadata": {},
   "outputs": [
    {
     "name": "stdout",
     "output_type": "stream",
     "text": [
      "0:00:01.320277 pass after generation\n"
     ]
    }
   ],
   "source": [
    "# 파일의 content를 수정합니다.\n",
    "file_A.content += \"\\nI will study hard for Midterm\""
   ]
  },
  {
   "cell_type": "code",
   "execution_count": 77,
   "metadata": {},
   "outputs": [
    {
     "name": "stdout",
     "output_type": "stream",
     "text": [
      "There are Diary's change to be committed\n"
     ]
    }
   ],
   "source": [
    "# 현재 파일의 상태를 확인합니다.\n",
    "git.status(file_A)"
   ]
  },
  {
   "cell_type": "code",
   "execution_count": 78,
   "metadata": {},
   "outputs": [],
   "source": [
    "# 파일을 commit 합니다.\n",
    "git.commit(file_A)"
   ]
  },
  {
   "cell_type": "code",
   "execution_count": 79,
   "metadata": {},
   "outputs": [
    {
     "name": "stdout",
     "output_type": "stream",
     "text": [
      "On branch [main], Changes are committed.\n",
      "The version is main v1\n",
      "\n",
      "(Nothing was committed)\n",
      "(=>)\n",
      "I will get an F..\n",
      "\n",
      "------------------------------\n",
      "On branch [main], The last commit was reset.\n",
      "Nothing was committed\n",
      "------------------------------\n",
      "------------------------------\n",
      "On branch [main], Changes are committed.\n",
      "The version is main v1\n",
      "\n",
      "(Nothing was committed)\n",
      "(=>)\n",
      "I will get an A+!!\n",
      "\n",
      "------------------------------\n",
      "On branch [main], Changes are committed.\n",
      "The version is main v2\n",
      "\n",
      "I will get an A+!!\n",
      "(=>)\n",
      "I will get an A+!!\n",
      "I will study hard for Midterm\n",
      "\n",
      "------------------------------\n",
      "(Head -> main)\n"
     ]
    }
   ],
   "source": [
    "# log 결과를 출력합니다.\n",
    "git.log()"
   ]
  },
  {
   "cell_type": "code",
   "execution_count": 80,
   "metadata": {},
   "outputs": [
    {
     "name": "stdout",
     "output_type": "stream",
     "text": [
      "[Head] points to [assignment] now\n"
     ]
    }
   ],
   "source": [
    "# git branch를 생성한 뒤 Head가 이 브랜치를 가리키게 합니다.\n",
    "git.branch(\"assignment\")\n",
    "git.checkout(\"assignment\")"
   ]
  },
  {
   "cell_type": "code",
   "execution_count": 81,
   "metadata": {},
   "outputs": [
    {
     "name": "stdout",
     "output_type": "stream",
     "text": [
      "0:00:02.090279 pass after generation\n"
     ]
    }
   ],
   "source": [
    "# 파일의 content를 수정합니다.\n",
    "file_A.content = \"I am doing my assignment\""
   ]
  },
  {
   "cell_type": "code",
   "execution_count": 82,
   "metadata": {},
   "outputs": [
    {
     "name": "stdout",
     "output_type": "stream",
     "text": [
      "There are Diary's change to be committed\n",
      "On branch [main], Changes are committed.\n",
      "The version is main v1\n",
      "\n",
      "(Nothing was committed)\n",
      "(=>)\n",
      "I will get an F..\n",
      "\n",
      "------------------------------\n",
      "On branch [main], The last commit was reset.\n",
      "Nothing was committed\n",
      "------------------------------\n",
      "------------------------------\n",
      "On branch [main], Changes are committed.\n",
      "The version is main v1\n",
      "\n",
      "(Nothing was committed)\n",
      "(=>)\n",
      "I will get an A+!!\n",
      "\n",
      "------------------------------\n",
      "On branch [main], Changes are committed.\n",
      "The version is main v2\n",
      "\n",
      "I will get an A+!!\n",
      "(=>)\n",
      "I will get an A+!!\n",
      "I will study hard for Midterm\n",
      "\n",
      "------------------------------\n",
      "On branch [assignment], Changes are committed.\n",
      "The version is assignment v1\n",
      "\n",
      "I will get an A+!!\n",
      "I will study hard for Midterm\n",
      "(=>)\n",
      "I am doing my assignment\n",
      "\n",
      "------------------------------\n",
      "(Head -> assignment)\n"
     ]
    }
   ],
   "source": [
    "# status의 변화를 확인 한 후 assignment branch에 commit한 후 결과를 확인 합니다.\n",
    "git.status(file_A)\n",
    "git.commit(file_A)\n",
    "git.log()"
   ]
  },
  {
   "cell_type": "code",
   "execution_count": 83,
   "metadata": {},
   "outputs": [
    {
     "name": "stdout",
     "output_type": "stream",
     "text": [
      "0:00:02.380645 pass after generation\n"
     ]
    }
   ],
   "source": [
    "# 파일의 content를 수정합니다.\n",
    "file_A.content += \"\\nThis is too hard.. I decide to cheat on this assignment\"\n",
    "git.commit(file_A)"
   ]
  },
  {
   "cell_type": "code",
   "execution_count": 84,
   "metadata": {},
   "outputs": [
    {
     "name": "stdout",
     "output_type": "stream",
     "text": [
      "0:00:02.492497 pass after generation\n",
      "On branch [main], Changes are committed.\n",
      "The version is main v1\n",
      "\n",
      "(Nothing was committed)\n",
      "(=>)\n",
      "I will get an F..\n",
      "\n",
      "------------------------------\n",
      "On branch [main], The last commit was reset.\n",
      "Nothing was committed\n",
      "------------------------------\n",
      "------------------------------\n",
      "On branch [main], Changes are committed.\n",
      "The version is main v1\n",
      "\n",
      "(Nothing was committed)\n",
      "(=>)\n",
      "I will get an A+!!\n",
      "\n",
      "------------------------------\n",
      "On branch [main], Changes are committed.\n",
      "The version is main v2\n",
      "\n",
      "I will get an A+!!\n",
      "(=>)\n",
      "I will get an A+!!\n",
      "I will study hard for Midterm\n",
      "\n",
      "------------------------------\n",
      "On branch [assignment], Changes are committed.\n",
      "The version is assignment v1\n",
      "\n",
      "I will get an A+!!\n",
      "I will study hard for Midterm\n",
      "(=>)\n",
      "I am doing my assignment\n",
      "\n",
      "------------------------------\n",
      "On branch [assignment], Changes are committed.\n",
      "The version is assignment v2\n",
      "\n",
      "I am doing my assignment\n",
      "(=>)\n",
      "I am doing my assignment\n",
      "This is too hard.. I decide to cheat on this assignment\n",
      "\n",
      "------------------------------\n",
      "On branch [assignment], Changes are committed.\n",
      "The version is assignment v3\n",
      "\n",
      "I am doing my assignment\n",
      "This is too hard.. I decide to cheat on this assignment\n",
      "(=>)\n",
      "I've done my assignment.\n",
      "\n",
      "------------------------------\n",
      "(Head -> assignment)\n"
     ]
    }
   ],
   "source": [
    "# 파일의 content를 수정합니다.\n",
    "file_A.content = \"I've done my assignment.\"\n",
    "git.commit(file_A)\n",
    "git.log()"
   ]
  },
  {
   "cell_type": "code",
   "execution_count": 85,
   "metadata": {},
   "outputs": [
    {
     "name": "stdout",
     "output_type": "stream",
     "text": [
      "0:00:00 pass after generation\n"
     ]
    }
   ],
   "source": [
    "# assignment branch를 main branch에 merge 합니다.\n",
    "git.merge(\"assignment\", \"main\")"
   ]
  },
  {
   "cell_type": "code",
   "execution_count": 86,
   "metadata": {},
   "outputs": [
    {
     "name": "stdout",
     "output_type": "stream",
     "text": [
      "On branch [main], Changes are committed.\n",
      "The version is main v1\n",
      "\n",
      "(Nothing was committed)\n",
      "(=>)\n",
      "I will get an F..\n",
      "\n",
      "------------------------------\n",
      "On branch [main], The last commit was reset.\n",
      "Nothing was committed\n",
      "------------------------------\n",
      "------------------------------\n",
      "On branch [main], Changes are committed.\n",
      "The version is main v1\n",
      "\n",
      "(Nothing was committed)\n",
      "(=>)\n",
      "I will get an A+!!\n",
      "\n",
      "------------------------------\n",
      "On branch [main], Changes are committed.\n",
      "The version is main v2\n",
      "\n",
      "I will get an A+!!\n",
      "(=>)\n",
      "I will get an A+!!\n",
      "I will study hard for Midterm\n",
      "\n",
      "------------------------------\n",
      "On branch [assignment], Changes are committed.\n",
      "The version is assignment v1\n",
      "\n",
      "I will get an A+!!\n",
      "I will study hard for Midterm\n",
      "(=>)\n",
      "I am doing my assignment\n",
      "\n",
      "------------------------------\n",
      "On branch [assignment], Changes are committed.\n",
      "The version is assignment v2\n",
      "\n",
      "I am doing my assignment\n",
      "(=>)\n",
      "I am doing my assignment\n",
      "This is too hard.. I decide to cheat on this assignment\n",
      "\n",
      "------------------------------\n",
      "On branch [assignment], Changes are committed.\n",
      "The version is assignment v3\n",
      "\n",
      "I am doing my assignment\n",
      "This is too hard.. I decide to cheat on this assignment\n",
      "(=>)\n",
      "I've done my assignment.\n",
      "\n",
      "------------------------------\n",
      "merged\n",
      "------------------------------\n",
      "------------------------------\n",
      "On branch [main], Changes are committed.\n",
      "The version is main v3\n",
      "\n",
      "I will get an A+!!\n",
      "I will study hard for Midterm\n",
      "(=>)\n",
      "I will get an A+!!\n",
      "I will study hard for Midterm\n",
      "I've done my assignment.\n",
      "\n",
      "------------------------------\n",
      "(Head -> main)\n"
     ]
    }
   ],
   "source": [
    "git.log()"
   ]
  },
  {
   "cell_type": "code",
   "execution_count": 87,
   "metadata": {},
   "outputs": [
    {
     "name": "stdout",
     "output_type": "stream",
     "text": [
      "[Head] points to [midterm] now\n"
     ]
    }
   ],
   "source": [
    "git.branch(\"midterm\")\n",
    "git.checkout(\"midterm\")"
   ]
  },
  {
   "cell_type": "code",
   "execution_count": 88,
   "metadata": {},
   "outputs": [
    {
     "name": "stdout",
     "output_type": "stream",
     "text": [
      "0:00:03.451024 pass after generation\n"
     ]
    }
   ],
   "source": [
    "file_A.content = \"OOP & Basic data structure are difficult for me..\"\n",
    "git.commit(file_A)"
   ]
  },
  {
   "cell_type": "code",
   "execution_count": 89,
   "metadata": {},
   "outputs": [
    {
     "name": "stdout",
     "output_type": "stream",
     "text": [
      "0:00:03.835730 pass after generation\n",
      "[Head] points to [oop] now\n",
      "0:00:03.835730 pass after generation\n",
      "[Head] points to [ds] now\n",
      "0:00:00 pass after generation\n",
      "0:00:00 pass after generation\n",
      "0:00:03.836727 pass after generation\n",
      "0:00:03.836727 pass after generation\n",
      "0:00:00 pass after generation\n",
      "0:00:03.836727 pass after generation\n",
      "0:00:03.836727 pass after generation\n"
     ]
    }
   ],
   "source": [
    "git.branch(\"oop\")\n",
    "git.branch(\"ds\")\n",
    "\n",
    "file_A.content = \"I don't fear the OOP!\"\n",
    "git.checkout(\"oop\")\n",
    "git.commit(file_A)\n",
    "\n",
    "file_A.content = \"Now, DS is my favorite.\"\n",
    "git.checkout(\"ds\")\n",
    "git.commit(file_A)\n",
    "\n",
    "git.merge(\"oop\", \"midterm\")\n",
    "git.merge(\"ds\", \"midterm\")\n",
    "\n",
    "file_A.content = \"All is understood and no problem\"\n",
    "git.commit(file_A)\n",
    "file_A.content = \"I got 100 on my midterm exam\"\n",
    "git.commit(file_A)\n",
    "\n",
    "git.merge(\"midterm\", \"main\")\n",
    "\n",
    "file_A.content += \"\\nAgain, I got 100 on my final exam!!!\"\n",
    "git.commit(file_A)\n",
    "file_A.content = \"I got an A+!\"\n",
    "git.commit(file_A)"
   ]
  },
  {
   "cell_type": "code",
   "execution_count": 90,
   "metadata": {},
   "outputs": [
    {
     "name": "stdout",
     "output_type": "stream",
     "text": [
      "On branch [main], Changes are committed.\n",
      "The version is main v1\n",
      "\n",
      "(Nothing was committed)\n",
      "(=>)\n",
      "I will get an F..\n",
      "\n",
      "------------------------------\n",
      "On branch [main], The last commit was reset.\n",
      "Nothing was committed\n",
      "------------------------------\n",
      "------------------------------\n",
      "On branch [main], Changes are committed.\n",
      "The version is main v1\n",
      "\n",
      "(Nothing was committed)\n",
      "(=>)\n",
      "I will get an A+!!\n",
      "\n",
      "------------------------------\n",
      "On branch [main], Changes are committed.\n",
      "The version is main v2\n",
      "\n",
      "I will get an A+!!\n",
      "(=>)\n",
      "I will get an A+!!\n",
      "I will study hard for Midterm\n",
      "\n",
      "------------------------------\n",
      "On branch [assignment], Changes are committed.\n",
      "The version is assignment v1\n",
      "\n",
      "I will get an A+!!\n",
      "I will study hard for Midterm\n",
      "(=>)\n",
      "I am doing my assignment\n",
      "\n",
      "------------------------------\n",
      "On branch [assignment], Changes are committed.\n",
      "The version is assignment v2\n",
      "\n",
      "I am doing my assignment\n",
      "(=>)\n",
      "I am doing my assignment\n",
      "This is too hard.. I decide to cheat on this assignment\n",
      "\n",
      "------------------------------\n",
      "On branch [assignment], Changes are committed.\n",
      "The version is assignment v3\n",
      "\n",
      "I am doing my assignment\n",
      "This is too hard.. I decide to cheat on this assignment\n",
      "(=>)\n",
      "I've done my assignment.\n",
      "\n",
      "------------------------------\n",
      "merged\n",
      "------------------------------\n",
      "------------------------------\n",
      "On branch [main], Changes are committed.\n",
      "The version is main v3\n",
      "\n",
      "I will get an A+!!\n",
      "I will study hard for Midterm\n",
      "(=>)\n",
      "I will get an A+!!\n",
      "I will study hard for Midterm\n",
      "I've done my assignment.\n",
      "\n",
      "------------------------------\n",
      "On branch [midterm], Changes are committed.\n",
      "The version is midterm v1\n",
      "\n",
      "I will get an A+!!\n",
      "I will study hard for Midterm\n",
      "I've done my assignment.\n",
      "(=>)\n",
      "OOP & Basic data structure are difficult for me..\n",
      "\n",
      "------------------------------\n",
      "On branch [oop], Changes are committed.\n",
      "The version is oop v1\n",
      "\n",
      "OOP & Basic data structure are difficult for me..\n",
      "(=>)\n",
      "I don't fear the OOP!\n",
      "\n",
      "------------------------------\n",
      "On branch [ds], Changes are committed.\n",
      "The version is ds v1\n",
      "\n",
      "OOP & Basic data structure are difficult for me..\n",
      "(=>)\n",
      "Now, DS is my favorite.\n",
      "\n",
      "------------------------------\n",
      "merged\n",
      "------------------------------\n",
      "------------------------------\n",
      "On branch [midterm], Changes are committed.\n",
      "The version is midterm v2\n",
      "\n",
      "OOP & Basic data structure are difficult for me..\n",
      "(=>)\n",
      "OOP & Basic data structure are difficult for me..\n",
      "I don't fear the OOP!\n",
      "\n",
      "------------------------------\n",
      "merged\n",
      "------------------------------\n",
      "------------------------------\n",
      "On branch [midterm], Changes are committed.\n",
      "The version is midterm v3\n",
      "\n",
      "OOP & Basic data structure are difficult for me..\n",
      "I don't fear the OOP!\n",
      "(=>)\n",
      "OOP & Basic data structure are difficult for me..\n",
      "I don't fear the OOP!\n",
      "Now, DS is my favorite.\n",
      "\n",
      "------------------------------\n",
      "On branch [midterm], Changes are committed.\n",
      "The version is midterm v4\n",
      "\n",
      "OOP & Basic data structure are difficult for me..\n",
      "I don't fear the OOP!\n",
      "Now, DS is my favorite.\n",
      "(=>)\n",
      "All is understood and no problem\n",
      "\n",
      "------------------------------\n",
      "On branch [midterm], Changes are committed.\n",
      "The version is midterm v5\n",
      "\n",
      "All is understood and no problem\n",
      "(=>)\n",
      "I got 100 on my midterm exam\n",
      "\n",
      "------------------------------\n",
      "merged\n",
      "------------------------------\n",
      "------------------------------\n",
      "On branch [main], Changes are committed.\n",
      "The version is main v4\n",
      "\n",
      "I will get an A+!!\n",
      "I will study hard for Midterm\n",
      "I've done my assignment.\n",
      "(=>)\n",
      "I will get an A+!!\n",
      "I will study hard for Midterm\n",
      "I've done my assignment.\n",
      "I got 100 on my midterm exam\n",
      "\n",
      "------------------------------\n",
      "On branch [main], Changes are committed.\n",
      "The version is main v5\n",
      "\n",
      "I will get an A+!!\n",
      "I will study hard for Midterm\n",
      "I've done my assignment.\n",
      "I got 100 on my midterm exam\n",
      "(=>)\n",
      "I got 100 on my midterm exam\n",
      "Again, I got 100 on my final exam!!!\n",
      "\n",
      "------------------------------\n",
      "On branch [main], Changes are committed.\n",
      "The version is main v6\n",
      "\n",
      "I got 100 on my midterm exam\n",
      "Again, I got 100 on my final exam!!!\n",
      "(=>)\n",
      "I got an A+!\n",
      "\n",
      "------------------------------\n",
      "(Head -> main)\n"
     ]
    }
   ],
   "source": [
    "git.log()"
   ]
  },
  {
   "cell_type": "code",
   "execution_count": 91,
   "metadata": {},
   "outputs": [
    {
     "name": "stdout",
     "output_type": "stream",
     "text": [
      "[Head] points to [assignment] now\n",
      "------------------------------\n",
      "This version is assignment v2\n",
      "\n",
      "Filename : Diary\n",
      "Content : I am doing my assignment\n",
      "This is too hard.. I decide to cheat on this assignment\n",
      "Generated at 2021-04-09 17:48:47, Edited at 2021-04-09 17:48:49\n"
     ]
    }
   ],
   "source": [
    "# Cheating is wrong..\n",
    "print(git.get_file(\"assignment\", 2))"
   ]
  },
  {
   "cell_type": "code",
   "execution_count": 92,
   "metadata": {},
   "outputs": [
    {
     "name": "stdout",
     "output_type": "stream",
     "text": [
      "[Head] points to [main] now\n",
      "0:00:07.509363 pass after generation\n"
     ]
    }
   ],
   "source": [
    "git.checkout(\"main\")\n",
    "git.reset()\n",
    "file_A.content = \"I got an F....\""
   ]
  },
  {
   "cell_type": "code",
   "execution_count": 93,
   "metadata": {},
   "outputs": [
    {
     "name": "stdout",
     "output_type": "stream",
     "text": [
      "On branch [main], Changes are committed.\n",
      "The version is main v1\n",
      "\n",
      "(Nothing was committed)\n",
      "(=>)\n",
      "I will get an F..\n",
      "\n",
      "------------------------------\n",
      "On branch [main], The last commit was reset.\n",
      "Nothing was committed\n",
      "------------------------------\n",
      "------------------------------\n",
      "On branch [main], Changes are committed.\n",
      "The version is main v1\n",
      "\n",
      "(Nothing was committed)\n",
      "(=>)\n",
      "I will get an A+!!\n",
      "\n",
      "------------------------------\n",
      "On branch [main], Changes are committed.\n",
      "The version is main v2\n",
      "\n",
      "I will get an A+!!\n",
      "(=>)\n",
      "I will get an A+!!\n",
      "I will study hard for Midterm\n",
      "\n",
      "------------------------------\n",
      "On branch [assignment], Changes are committed.\n",
      "The version is assignment v1\n",
      "\n",
      "I will get an A+!!\n",
      "I will study hard for Midterm\n",
      "(=>)\n",
      "I am doing my assignment\n",
      "\n",
      "------------------------------\n",
      "On branch [assignment], Changes are committed.\n",
      "The version is assignment v2\n",
      "\n",
      "I am doing my assignment\n",
      "(=>)\n",
      "I am doing my assignment\n",
      "This is too hard.. I decide to cheat on this assignment\n",
      "\n",
      "------------------------------\n",
      "On branch [assignment], Changes are committed.\n",
      "The version is assignment v3\n",
      "\n",
      "I am doing my assignment\n",
      "This is too hard.. I decide to cheat on this assignment\n",
      "(=>)\n",
      "I've done my assignment.\n",
      "\n",
      "------------------------------\n",
      "merged\n",
      "------------------------------\n",
      "------------------------------\n",
      "On branch [main], Changes are committed.\n",
      "The version is main v3\n",
      "\n",
      "I will get an A+!!\n",
      "I will study hard for Midterm\n",
      "(=>)\n",
      "I will get an A+!!\n",
      "I will study hard for Midterm\n",
      "I've done my assignment.\n",
      "\n",
      "------------------------------\n",
      "On branch [midterm], Changes are committed.\n",
      "The version is midterm v1\n",
      "\n",
      "I will get an A+!!\n",
      "I will study hard for Midterm\n",
      "I've done my assignment.\n",
      "(=>)\n",
      "OOP & Basic data structure are difficult for me..\n",
      "\n",
      "------------------------------\n",
      "On branch [oop], Changes are committed.\n",
      "The version is oop v1\n",
      "\n",
      "OOP & Basic data structure are difficult for me..\n",
      "(=>)\n",
      "I don't fear the OOP!\n",
      "\n",
      "------------------------------\n",
      "On branch [ds], Changes are committed.\n",
      "The version is ds v1\n",
      "\n",
      "OOP & Basic data structure are difficult for me..\n",
      "(=>)\n",
      "Now, DS is my favorite.\n",
      "\n",
      "------------------------------\n",
      "merged\n",
      "------------------------------\n",
      "------------------------------\n",
      "On branch [midterm], Changes are committed.\n",
      "The version is midterm v2\n",
      "\n",
      "OOP & Basic data structure are difficult for me..\n",
      "(=>)\n",
      "OOP & Basic data structure are difficult for me..\n",
      "I don't fear the OOP!\n",
      "\n",
      "------------------------------\n",
      "merged\n",
      "------------------------------\n",
      "------------------------------\n",
      "On branch [midterm], Changes are committed.\n",
      "The version is midterm v3\n",
      "\n",
      "OOP & Basic data structure are difficult for me..\n",
      "I don't fear the OOP!\n",
      "(=>)\n",
      "OOP & Basic data structure are difficult for me..\n",
      "I don't fear the OOP!\n",
      "Now, DS is my favorite.\n",
      "\n",
      "------------------------------\n",
      "On branch [midterm], Changes are committed.\n",
      "The version is midterm v4\n",
      "\n",
      "OOP & Basic data structure are difficult for me..\n",
      "I don't fear the OOP!\n",
      "Now, DS is my favorite.\n",
      "(=>)\n",
      "All is understood and no problem\n",
      "\n",
      "------------------------------\n",
      "On branch [midterm], Changes are committed.\n",
      "The version is midterm v5\n",
      "\n",
      "All is understood and no problem\n",
      "(=>)\n",
      "I got 100 on my midterm exam\n",
      "\n",
      "------------------------------\n",
      "merged\n",
      "------------------------------\n",
      "------------------------------\n",
      "On branch [main], Changes are committed.\n",
      "The version is main v4\n",
      "\n",
      "I will get an A+!!\n",
      "I will study hard for Midterm\n",
      "I've done my assignment.\n",
      "(=>)\n",
      "I will get an A+!!\n",
      "I will study hard for Midterm\n",
      "I've done my assignment.\n",
      "I got 100 on my midterm exam\n",
      "\n",
      "------------------------------\n",
      "On branch [main], Changes are committed.\n",
      "The version is main v5\n",
      "\n",
      "I will get an A+!!\n",
      "I will study hard for Midterm\n",
      "I've done my assignment.\n",
      "I got 100 on my midterm exam\n",
      "(=>)\n",
      "I got 100 on my midterm exam\n",
      "Again, I got 100 on my final exam!!!\n",
      "\n",
      "------------------------------\n",
      "On branch [main], Changes are committed.\n",
      "The version is main v6\n",
      "\n",
      "I got 100 on my midterm exam\n",
      "Again, I got 100 on my final exam!!!\n",
      "(=>)\n",
      "I got an A+!\n",
      "\n",
      "------------------------------\n",
      "On branch [main], The last commit was reset.\n",
      "The version is main v5\n",
      "------------------------------\n",
      "------------------------------\n",
      "On branch [main], Changes are committed.\n",
      "The version is main v6\n",
      "\n",
      "I got 100 on my midterm exam\n",
      "Again, I got 100 on my final exam!!!\n",
      "(=>)\n",
      "I got an F....\n",
      "\n",
      "------------------------------\n",
      "(Head -> main)\n"
     ]
    }
   ],
   "source": [
    "git.commit(file_A)\n",
    "git.log()"
   ]
  },
  {
   "cell_type": "markdown",
   "metadata": {},
   "source": [
    "### Describe and Discuss your answer: "
   ]
  },
  {
   "cell_type": "markdown",
   "metadata": {},
   "source": [
    "File과 Node 가 미리 구현되어 있었으므로 실제로 우리가 구현해야 하는 기능들은 Simple_git에만 있었다. 그래서 Simple Git에서 내가 짠 부분에 대한 설명을 condition과 비교하며 해보겠다.\n",
    "\n",
    "1. def checkout(self, branch_name):\n",
    "self.head = getattr(self,branch_name) 을 이용해 head 를 바꾸어주었고 이후에 print를 사용해 이 내용을 출력해주었다.\n",
    "\n",
    "2. def commit(self, file) :\n",
    "self.head.data에 1을 더해주고 self.head.data가 가지고 있는 숫자와 동일한 version을 가진 Node를 생성한다. 이 때 commit이 연속적으로 일어날 때 각 file이 서로 영향을 주지 않게 하기 위해 deepcopy를 사용하였다. 이후 new_node는 self.head.prev를 가리키도록 하고 self.head는 new_node를 가리키게 하면 self.head바로 앞에 성공적으로 new_node를 끼워넣을 수 있게 된다.\n",
    "\n",
    "3. def branch(self, branch_name) :\n",
    "setattr함수를 이용해 branch Node를 하나 만들어주고, 이를 다시 getattr로 불러와서 해당 branch node가 self.head.prev와 동일한 노드를\n",
    "가리키도록 지정해준다.\n",
    "\n",
    "4. def reset(self) :\n",
    "self.head.prev=self.head.prev.prev를 사용해 head가 다다음 노드를 가리키도록 설정해준 뒤, self.head.data에서 하나를 빼준다.\n",
    "이 경우 self.head.data에 담겨있는 노드의 수는 하나가 줄어들었고 reset을 사용하기 전 기존 self.head.prev에 있던 노드는 찾을 수 없어 삭제 된 것이나 다름없게 된다.\n",
    "\n",
    "5. def merge(self, src_branch, dst_branch) :\n",
    "처음 이 기능을 짤 때는 dst_branch가 head로 설정되어 있지 않을 때 merge를 사용하면 어떻게 되나를 고민했었다. 그래서 checkout을 사용했었는데\n",
    "이 경우 예시출력과 결과가 달라서 self.head=dst_branch를 바로 설정해주는 방식으로 바꾸었다. 이후 새로운 파일을 만들어야 하므로 src_branch.prev.data.content와 dst_branch.prev.data.content를 deepcopy하여 합친 것을 content로 가지는 new_file을 하나 생성해준다.\n",
    "파일을 만든 이후에는 merge되었음을 알리는 문자열을 출력해주고 이 파일을 dst_branch에 commit하였다.\n",
    "\n",
    "\n",
    "6. def status(self, file) :\n",
    "사용중인 branch노드의 가장 최신 파일은 self.head.prev에 담겨있다. 그래서 self.head.prev.data와 file을 비교해 return값을 결정하도록 하였다.\n",
    "둘이 동일하면 동일하다는 문구를 return, 둘이 다르면 파일이 바뀌었다는 문구를 return해준다.\n",
    "\n",
    "7. def get_file(self,branch_name, version) :\n",
    "Unordered list의 Traversal개념을 이용하여 temp_head에서 시작해 내가 찾는 version의 노드가 나올 때까지 다음 노드로 넘어가도록 설정해주었다.\n",
    "만약 끝까지 찾았는데도 내가 찾는 노드가 나오지 않을 경우 while문을 break해서 탈출하도록 하였다. 이 경우 while문 바깥에 있는 assert False가 작동하여 에러 메시지를 출력하게 된다."
   ]
  },
  {
   "cell_type": "markdown",
   "metadata": {},
   "source": [
    "-------------------------------"
   ]
  }
 ],
 "metadata": {
  "kernelspec": {
   "display_name": "Python 3",
   "language": "python",
   "name": "python3"
  },
  "language_info": {
   "codemirror_mode": {
    "name": "ipython",
    "version": 3
   },
   "file_extension": ".py",
   "mimetype": "text/x-python",
   "name": "python",
   "nbconvert_exporter": "python",
   "pygments_lexer": "ipython3",
   "version": "3.8.5"
  }
 },
 "nbformat": 4,
 "nbformat_minor": 5
}
