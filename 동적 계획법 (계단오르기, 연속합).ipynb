{
 "cells": [
  {
   "cell_type": "code",
   "execution_count": null,
   "metadata": {},
   "outputs": [],
   "source": [
    "#동적 계획법 계단 오르기\n",
    "n=int(input())\n",
    "num_list= [0]+[int(input()) for _ in range(n)]\n",
    "\n",
    "dp=[0]*300\n",
    "for i in range(1,n+1):\n",
    "    if i==1:\n",
    "        dp[i]=num_list[i]\n",
    "    elif i==2:\n",
    "        dp[i]=num_list[i]+num_list[i-1]\n",
    "    elif i==3:\n",
    "        dp[i]=max(num_list[i-1]+num_list[i], num_list[i-2]+num_list[i])\n",
    "    else:\n",
    "        dp[i]=max(dp[i-3]+num_list[i-1]+num_list[i], dp[i-2]+num_list[i])\n",
    "        #  내가 처음 세운 식은 if문\n",
    "        # if dp[i-1]==dp[i-2]+num_list[i]: 로 거르려고 했는데 이게 아니었음.\n",
    "        \n",
    "        \n",
    "print(dp[n])\n",
    "        "
   ]
  },
  {
   "cell_type": "code",
   "execution_count": 27,
   "metadata": {},
   "outputs": [
    {
     "name": "stdout",
     "output_type": "stream",
     "text": [
      "6\n",
      "10 -4 3 -100 5 6\n",
      "[10, 6, 9, -91, 5, 11]\n",
      "11\n"
     ]
    }
   ],
   "source": [
    "#연속합, 왼쪽부터 더하면서 음수는 새로 등장하는 양수보다 작으므로 거르면 되는데\n",
    "#내가 너무 어렵게 생각했다.\n",
    "N=int(input())\n",
    "A=list(map(int,input().split()))\n",
    "temp=[0]*N\n",
    "result=-1001\n",
    "for i in range(N):\n",
    "    temp[i]=max(temp[i-1]+A[i], A[i])\n",
    "    result=max(result,temp[i])\n",
    "\n",
    "print(temp)\n",
    "print(result)"
   ]
  },
  {
   "cell_type": "code",
   "execution_count": null,
   "metadata": {},
   "outputs": [],
   "source": []
  }
 ],
 "metadata": {
  "kernelspec": {
   "display_name": "Python 3",
   "language": "python",
   "name": "python3"
  },
  "language_info": {
   "codemirror_mode": {
    "name": "ipython",
    "version": 3
   },
   "file_extension": ".py",
   "mimetype": "text/x-python",
   "name": "python",
   "nbconvert_exporter": "python",
   "pygments_lexer": "ipython3",
   "version": "3.7.9"
  }
 },
 "nbformat": 4,
 "nbformat_minor": 2
}
