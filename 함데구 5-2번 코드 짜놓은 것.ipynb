{
 "cells": [
  {
   "cell_type": "code",
   "execution_count": 134,
   "metadata": {},
   "outputs": [],
   "source": [
    "class Node:\n",
    "    def __init__(self, key, left_child=None, right_child=None, parent=None):\n",
    "        self.key = key\n",
    "        self.left_child = left_child\n",
    "        self.right_child = right_child\n",
    "        self.parent = parent\n",
    "        \n",
    "    def has_left_child(self): \n",
    "        return self.left_child\n",
    "    \n",
    "    def has_right_child(self): \n",
    "        return self.right_child\n",
    "    \n",
    "    def is_left_child(self):\n",
    "        return self.parent and self.parent.left_child == self\n",
    "    \n",
    "    def is_right_child(self):\n",
    "        return self.parent and self.parent.right_child == self\n",
    "    \n",
    "    def is_root(self):\n",
    "        return not self.parent\n",
    "    \n",
    "    def is_leaf(self):\n",
    "        return not (self.right_child or self.left_child)\n",
    "    \n",
    "    def has_any_children(self):\n",
    "        return self.right_child or self.left_child\n",
    "    \n",
    "    def has_both_children(self):\n",
    "        return self.right_child and self.left_child\n",
    "\n",
    "\n",
    "class SplayTree:\n",
    "    def __init__(self):\n",
    "        self.root = None\n",
    "    \n",
    "    def splay(self, node):\n",
    "        \"\"\" \n",
    "        This method splays the nodes.\n",
    "    \n",
    "        Args:\n",
    "            node (Node) : The node to splay.\n",
    "    \n",
    "        Returns:\n",
    "            None\n",
    "        \n",
    "        \"\"\"\n",
    "        ### CODE HERE ###\n",
    "        \"\"\"splay 특징. x가 root가 될 때가지 하므로 while문 안에서 돌아야 함\n",
    "        rotate를 잘 짜면 zig-zig랑 zig-zag는 rotate과정을 두 번 수행하는 코드로 짜면 됨.\"\"\"\n",
    "        \n",
    "        \"\"\"함수안의 함수로 rotate left와 rotate right를 구현하는게 더 좋아보이는데 일단은 그냥짜두고 시간남으면 해보자\n",
    "        굳이 정의가 안들어간다면 실행시간은 이 코드가 더 빠를 것 같음\"\"\"\n",
    "        while node.parent!=None: #node가 root가 될 때까지 반복해야하므로, 또한 node가 이미 root이면 실행되지 않음\n",
    "            if node.parent.parent==None: # 조부모가 없을 때=> parent가 root일 때=> rotate해야함\n",
    "                if node.is_left_child(): #node가 left_child면 rotate_left실행\n",
    "                    self.rotate_left(node)\n",
    "\n",
    "                elif node.is_right_child(): #node가 right_child면 rotate_right실행\n",
    "                    self.rotate_right(node)\n",
    "\n",
    "            else: #parent가 root가 아니므로 최소한 grandparent가 있는 경우이다.\n",
    "                if node.is_left_child() and node.parent.is_left_child(): #left_zig_zig\n",
    "                    self.rotate_left(node.parent) #parent node를 rotate_left하고\n",
    "                    self.rotate_left(node) #node를 rotate_left\n",
    "\n",
    "                    \n",
    "                elif node.is_right_child() and node.parent.is_right_child():#right_zig-zig\n",
    "                    self.rotate_right(node.parent) #parent_node를 rotate_right하고\n",
    "                    self.rotate_right(node) #node를 rotate_right\n",
    "\n",
    "                    \n",
    "                elif node.is_right_child() and node.parent.is_left_child(): #left_zigzag\n",
    "                    self.rotate_right(node) #방향에 맞춰서 node를 두번 rotate함\n",
    "                    self.rotate_left(node)\n",
    "\n",
    "                    \n",
    "                elif node.is_left_child() and node.parent.is_right_child(): #right_zigzag\n",
    "                    self.rotate_left(node) #방향에 맞춰서 node를 두번 rotate함\n",
    "                    self.rotate_right(node)\n",
    "\n",
    "        self.root=node #while문이 끝나면 node가 root자리에 와있으므로 self.root=node를 설정해준다.\n",
    "                \n",
    "            \n",
    "        #################\n",
    "        \n",
    "    \"\"\"아래는 내가 새로 추가한 method인 rotate right와 rotate left이다. 이를 반드시 구현해야만 splay tree를 짤 수 있는\n",
    "    것은 아니지만 함수로 따로 만들어두면 훨씬 효율적으로 코드를 구현할 수 있다. 두 method는 방향만 다르고 input으로\n",
    "    들어온 node에 대해 해당 node의 parent와 rotate를 수행하는 함수이다. 조건문을 이용하면 아예 하나의 함수로 구현할 수도\n",
    "    있다. 그러나 오류 수정과정에서 둘을 분리해주었고, 확인한 결과 이는 오류의 직접적인 원인이 아니었지만 굳이 수정하지 않았다.\"\"\"\n",
    "    \n",
    "    def rotate_left(self, node): #node가 left_child일 경우 \n",
    "        node.parent.left_child=node.right_child #node.parent.left_child를 node.right_child로 수정하고\n",
    "        if node.right_child!=None:\n",
    "            node.right_child.parent=node.parent #node.right_child가 None이 아니면 이 node의 parent정보도 수정한다.\n",
    "        node.right_child=node.parent #이후 node의 right_child를 기존 node.parent로 하고\n",
    "        temp=node.parent.parent\n",
    "        node.parent.parent=node #node.parent의 parnet를 node로 하고\n",
    "        node.parent=temp #node의 parent를 기존 grandparent였던 노드로 설정해준다. \n",
    "        \n",
    "        if node.parent!=None: #바뀐 node의 parent(기존의 grandparent)가 None이 아닌경우\n",
    "            if node.parent.key>node.key: #조건문에 따라 해당 node의 child정보를 수정해준다.\n",
    "                node.parent.left_child=node\n",
    "            else:\n",
    "                node.parent.right_child=node\n",
    "            \n",
    "            \n",
    "    def rotate_right(self,node): #node가 right_child일 경우\n",
    "        node.parent.right_child=node.left_child #node.parent.right_child를 node.left_child로 수정하고\n",
    "        if node.left_child!=None:\n",
    "            node.left_child.parent=node.parent #node.right_child가 None이 아니면 이 node의 parent정보도 수정한다.\n",
    "        node.left_child=node.parent #이후 node의 left_child를 기존 node.parent로 바꿔주고\n",
    "        temp=node.parent.parent\n",
    "        node.parent.parent=node #node.parent의 parnet를 node로 하고\n",
    "        node.parent=temp #node의 parent를 기존 grandparent였던 노드로 설정해준다. \n",
    "        \n",
    "        if node.parent!=None: #바뀐 node의 parent(기존의 grandparent)가 None이 아닌경우\n",
    "            if node.parent.key>node.key: #조건문에 따라 해당 node의 child정보를 수정해준다.\n",
    "                node.parent.left_child=node\n",
    "            else:\n",
    "                node.parent.right_child=node\n",
    "                \n",
    "                \n",
    "                \n",
    "    \"\"\"-------------------------------------------------------------------------------------\n",
    "    이 아래로는 내가 구현한 method가 아니므로 분리해주기 위해 주석을 하나 더 써주었다.\n",
    "    --------------------------------------------------------------------------------------\"\"\"\n",
    "    \n",
    "    \n",
    "    \n",
    "    def insert(self, key): #마지막 노드의 자식으로만 달아줘도 BST만족 가능\n",
    "        \"\"\" \n",
    "        This method inserts the key value to splay tree.\n",
    "    \n",
    "        Args:\n",
    "            key : The key value to insert\n",
    "    \n",
    "        Returns:\n",
    "            None\n",
    "        \n",
    "        \"\"\"\n",
    "        ### CODE HERE ###\n",
    "        current=self.root\n",
    "        previous=self.root\n",
    "        new_node=Node(key,None,None,None)\n",
    "\n",
    "        if self.root==None: #아무것도 없는 상태\n",
    "            self.root=new_node #그냥 new_node를 root로 설정해주면 된다.\n",
    "            \n",
    "        else:\n",
    "            while current!=None: #while반복문이 들어가지만 모든 노드를 탐색하지 않고 크기를 비교하며 선택해 내려가므로 O(logn)\n",
    "\n",
    "                if previous.key==key: #current!=None인데 key값이 동일한 노드를 발견하면 right_child에 insert\n",
    "                    temp=previous.right_child\n",
    "                    previous.right_child=new_node\n",
    "                    new_node.parent=previous\n",
    "                    new_node.right_child=temp\n",
    "                    if temp!=None:\n",
    "                        temp.parent=new_node\n",
    "                    return #이 경우 return 으로 함수실행 종료\n",
    "                    \n",
    "                elif current.key > key: #current.key가 key보다 크면 currnet를 왼쪽으로 내려감\n",
    "                    previous=current\n",
    "                    current=current.left_child\n",
    "                    \n",
    "                else: #current.key가 key보다 크지 않은 경우 current는 right로 내려감. 같은 경우라면 다음 반복에서 위의 if에 걸림\n",
    "                    previous=current\n",
    "                    current=current.right_child\n",
    "\n",
    "                    \n",
    "            if previous.key > key: #멈추지 않고 while문을 탈출한 경우 previous는 leaf node임.\n",
    "                previous.left_child=new_node\n",
    "                new_node.parent=previous\n",
    "                \n",
    "\n",
    "            else:\n",
    "                previous.right_child=new_node\n",
    "                new_node.parent=previous\n",
    "\n",
    "            self.splay(new_node) #끝단에 추가시킨 이후 splay해주면 된다.\n",
    "            #################\n",
    "\n",
    "    def find(self, key):\n",
    "        \"\"\" \n",
    "        This method finds the node have the specified key.\n",
    "    \n",
    "        Args:\n",
    "            key : The key value to find.\n",
    "    \n",
    "        Returns:\n",
    "            Bool\n",
    "        \n",
    "        \"\"\"\n",
    "        ### CODE HERE ###\n",
    "        current=self.root\n",
    "        previous=self.root\n",
    "        if not current: #self.root가 None이면 그냥 시작부터 종료함.\n",
    "            return False\n",
    "        \n",
    "        while current: #insert와 동일한 방식으로 search를 시작한다.\n",
    "            if previous.key==key: #만약 key가 동일한 node를 발견하면 이를 기준으로 splay하고 True를 반환한다.\n",
    "                self.splay(previous)\n",
    "                return True\n",
    "            elif current.key>key: #아래는 insert와 동일하다\n",
    "                previous=current\n",
    "                current=current.left_child\n",
    "            else:\n",
    "                previous=current\n",
    "                current=current.right_child\n",
    "                \n",
    "        self.splay(previous)\n",
    "        if self.root.key==key:\n",
    "            return True\n",
    "        else:\n",
    "            return False\n",
    "        #################\n",
    "\n",
    "    def delete(self, key):\n",
    "        \"\"\" \n",
    "        This method delete the node has the specified key.\n",
    "    \n",
    "        Args:\n",
    "            key : The key value to delete.\n",
    "    \n",
    "        Returns:\n",
    "            None\n",
    "        \n",
    "        \"\"\"\n",
    "        ### CODE HERE ###\n",
    "        a=self.find(key) #못찾은 경우 알아서 splay하고 끝난다. 찾아서 True를 반환하면 아래 코드를 실행한다. \n",
    "        if a:\n",
    "            current=self.root#find가 동작하면서 splay해두었으므로 이 때 self.root는 key값을 가진 노드이다.\n",
    "            if not current.has_any_children(): #root가 어떤 자식도 가지고 있지 않을 경우\n",
    "                self.root=None\n",
    "            elif not current.has_both_children(): #한쪽 child_node만 가지고 있을 경우\n",
    "                if current.has_left_child(): #왼쪽이면\n",
    "                    self.root=current.left_child\n",
    "                    current.left_child.parent=None #이렇게 하면 접근할 방법이 없으므로 삭제된 것이나 마찬가지임\n",
    "                else: #오른쪽이면\n",
    "                    self.root=current.right_child\n",
    "                    current.right_child.parent=None\n",
    "            else: #child가 모두 있는 경우\n",
    "                temp=current.right_child\n",
    "                max_node=current.left_child\n",
    "                while max_node.right_child!=None:\n",
    "                    max_node=max_node.right_child #왼쪽 subtree에서 key값이 가장 큰 노드는 항상 맨오른쪽에 위치한다.\n",
    "                self.splay(max_node)\n",
    "                max_node.right_child=temp #기존에 current.right_child였던 노드를 다시 right_child로 설정해준다.\n",
    "                temp.parent=max_node \n",
    "                \n",
    "        #################\n",
    "    \n",
    "    def pre_order(self, node=None):\n",
    "        \"\"\" \n",
    "        Do a preorder traversal.\n",
    "    \n",
    "        Args:\n",
    "            node : The target node.\n",
    "    \n",
    "        Returns:\n",
    "            None\n",
    "        \n",
    "        \"\"\"\n",
    "        ### CODE HERE ###\n",
    "        if node!=None: #preorder순서에 맞게 key값들을 출력하도록 구현하였다.\n",
    "            print(node.key)\n",
    "            self.pre_order(node.left_child)\n",
    "            self.pre_order(node.right_child)\n",
    "        #################\n",
    "    \n",
    "    def post_order(self, node=None):\n",
    "        \"\"\" \n",
    "        Do a postorder traversal.\n",
    "    \n",
    "        Args:\n",
    "            node : The target node.\n",
    "    \n",
    "        Returns:\n",
    "            None\n",
    "        \n",
    "        \"\"\"\n",
    "        ### CODE HERE ###\n",
    "        if node!=None: #post order에 맞게 key값을 출력하도록 구현하였다.\n",
    "            self.post_order(node.left_child)\n",
    "            self.post_order(node.right_child)\n",
    "            print(node.key)\n",
    "        #################\n",
    "    \n",
    "    def in_order(self, node=None):\n",
    "        \"\"\" \n",
    "        Do an inorder traversal.\n",
    "    \n",
    "        Args:\n",
    "            node : The target node.\n",
    "    \n",
    "        Returns:\n",
    "            None\n",
    "        \n",
    "        \"\"\"\n",
    "        ### CODE HERE ###\n",
    "        if node!=None: #inorder에 맞게 key값들을 출력하도록 구현하였다.\n",
    "            self.in_order(node.left_child)\n",
    "            print(node.key)\n",
    "            self.in_order(node.right_child)\n",
    "        #################"
   ]
  },
  {
   "cell_type": "code",
   "execution_count": 135,
   "metadata": {},
   "outputs": [],
   "source": [
    "def print_tree(tree_node, level=0):\n",
    "    if isinstance(tree_node, SplayTree):\n",
    "        tree_node = tree_node.root\n",
    "        \n",
    "    if tree_node == None:\n",
    "        return\n",
    "    \n",
    "    if level != 0:\n",
    "        print(\"           \", end='')\n",
    "        if tree_node.parent.left_child == tree_node:\n",
    "            print(\"             \"*(level - 1) + '_____(L)' + '[{:2d}]'.format(tree_node.key))\n",
    "        else:\n",
    "            print(\"             \"*(level - 1) + '_____(R)' + '[{:2d}]'.format(tree_node.key))\n",
    "    else:\n",
    "        print('\\n----- Printing tree structure -----')\n",
    "        print('(Root)[{:2d}]'.format(tree_node.key))\n",
    "        \n",
    "    print_tree(tree_node.right_child, level + 1)\n",
    "    print_tree(tree_node.left_child, level + 1)"
   ]
  },
  {
   "cell_type": "code",
   "execution_count": 136,
   "metadata": {},
   "outputs": [],
   "source": [
    "tree = SplayTree()"
   ]
  },
  {
   "cell_type": "code",
   "execution_count": 137,
   "metadata": {},
   "outputs": [
    {
     "name": "stdout",
     "output_type": "stream",
     "text": [
      "\n",
      "----- Printing tree structure -----\n",
      "(Root)[23]\n"
     ]
    }
   ],
   "source": [
    "tree.insert(23)\n",
    "print_tree(tree)"
   ]
  },
  {
   "cell_type": "code",
   "execution_count": 138,
   "metadata": {},
   "outputs": [
    {
     "name": "stdout",
     "output_type": "stream",
     "text": [
      "\n",
      "----- Printing tree structure -----\n",
      "(Root)[30]\n",
      "           _____(L)[23]\n"
     ]
    }
   ],
   "source": [
    "tree.insert(30)\n",
    "print_tree(tree)"
   ]
  },
  {
   "cell_type": "code",
   "execution_count": 139,
   "metadata": {},
   "outputs": [
    {
     "name": "stdout",
     "output_type": "stream",
     "text": [
      "\n",
      "----- Printing tree structure -----\n",
      "(Root)[45]\n",
      "           _____(L)[30]\n",
      "                        _____(L)[23]\n"
     ]
    }
   ],
   "source": [
    "tree.insert(45)\n",
    "print_tree(tree)"
   ]
  },
  {
   "cell_type": "code",
   "execution_count": 140,
   "metadata": {},
   "outputs": [
    {
     "data": {
      "text/plain": [
       "'현 문제상황! zigzig가 끝난 이후의 노드가 is_right_child,is_left_child둘다 아니게 됨'"
      ]
     },
     "execution_count": 140,
     "metadata": {},
     "output_type": "execute_result"
    }
   ],
   "source": [
    "\"\"\"현 문제상황! zigzig가 끝난 이후의 노드가 is_right_child,is_left_child둘다 아니게 됨\"\"\""
   ]
  },
  {
   "cell_type": "code",
   "execution_count": 141,
   "metadata": {},
   "outputs": [
    {
     "name": "stdout",
     "output_type": "stream",
     "text": [
      "\n",
      "----- Printing tree structure -----\n",
      "(Root)[ 1]\n",
      "           _____(R)[45]\n",
      "                        _____(L)[23]\n",
      "                                     _____(R)[30]\n"
     ]
    }
   ],
   "source": [
    "tree.insert(1)\n",
    "print_tree(tree)"
   ]
  },
  {
   "cell_type": "code",
   "execution_count": 142,
   "metadata": {},
   "outputs": [
    {
     "name": "stdout",
     "output_type": "stream",
     "text": [
      "\n",
      "----- Printing tree structure -----\n",
      "(Root)[21]\n",
      "           _____(R)[23]\n",
      "                        _____(R)[45]\n",
      "                                     _____(L)[30]\n",
      "           _____(L)[ 1]\n"
     ]
    }
   ],
   "source": [
    "tree.insert(21)\n",
    "print_tree(tree)"
   ]
  },
  {
   "cell_type": "code",
   "execution_count": 143,
   "metadata": {},
   "outputs": [
    {
     "name": "stdout",
     "output_type": "stream",
     "text": [
      "\n",
      "----- Printing tree structure -----\n",
      "(Root)[38]\n",
      "           _____(R)[45]\n",
      "           _____(L)[23]\n",
      "                        _____(R)[30]\n",
      "                        _____(L)[21]\n",
      "                                     _____(L)[ 1]\n"
     ]
    }
   ],
   "source": [
    "tree.insert(38)\n",
    "print_tree(tree)"
   ]
  },
  {
   "cell_type": "code",
   "execution_count": 144,
   "metadata": {},
   "outputs": [
    {
     "name": "stdout",
     "output_type": "stream",
     "text": [
      "\n",
      "----- Printing tree structure -----\n",
      "(Root)[ 9]\n",
      "           _____(R)[23]\n",
      "                        _____(R)[38]\n",
      "                                     _____(R)[45]\n",
      "                                     _____(L)[30]\n",
      "                        _____(L)[21]\n",
      "           _____(L)[ 1]\n"
     ]
    }
   ],
   "source": [
    "tree.insert(9)\n",
    "print_tree(tree)"
   ]
  },
  {
   "cell_type": "code",
   "execution_count": 145,
   "metadata": {},
   "outputs": [
    {
     "name": "stdout",
     "output_type": "stream",
     "text": [
      "\n",
      "----- Printing tree structure -----\n",
      "(Root)[16]\n",
      "           _____(R)[21]\n",
      "                        _____(R)[23]\n",
      "                                     _____(R)[38]\n",
      "                                                  _____(R)[45]\n",
      "                                                  _____(L)[30]\n",
      "           _____(L)[ 9]\n",
      "                        _____(L)[ 1]\n"
     ]
    }
   ],
   "source": [
    "tree.insert(16)\n",
    "print_tree(tree)"
   ]
  },
  {
   "cell_type": "code",
   "execution_count": 146,
   "metadata": {},
   "outputs": [
    {
     "name": "stdout",
     "output_type": "stream",
     "text": [
      "\n",
      "----- Printing tree structure -----\n",
      "(Root)[ 4]\n",
      "           _____(R)[16]\n",
      "                        _____(R)[21]\n",
      "                                     _____(R)[23]\n",
      "                                                  _____(R)[38]\n",
      "                                                               _____(R)[45]\n",
      "                                                               _____(L)[30]\n",
      "                        _____(L)[ 9]\n",
      "           _____(L)[ 1]\n"
     ]
    }
   ],
   "source": [
    "tree.insert(4)\n",
    "print_tree(tree)"
   ]
  },
  {
   "cell_type": "code",
   "execution_count": 147,
   "metadata": {},
   "outputs": [
    {
     "name": "stdout",
     "output_type": "stream",
     "text": [
      "\n",
      "----- Printing tree structure -----\n",
      "(Root)[23]\n",
      "           _____(R)[38]\n",
      "                        _____(R)[45]\n",
      "                        _____(L)[30]\n",
      "           _____(L)[ 4]\n",
      "                        _____(R)[21]\n",
      "                                     _____(L)[16]\n",
      "                                                  _____(L)[ 9]\n",
      "                        _____(L)[ 1]\n"
     ]
    }
   ],
   "source": [
    "tree.find(23)\n",
    "print_tree(tree)"
   ]
  },
  {
   "cell_type": "code",
   "execution_count": 148,
   "metadata": {},
   "outputs": [
    {
     "name": "stdout",
     "output_type": "stream",
     "text": [
      "\n",
      "----- Printing tree structure -----\n",
      "(Root)[38]\n",
      "           _____(L)[23]\n",
      "                        _____(R)[30]\n",
      "                        _____(L)[ 4]\n",
      "                                     _____(R)[21]\n",
      "                                                  _____(L)[16]\n",
      "                                                               _____(L)[ 9]\n",
      "                                     _____(L)[ 1]\n"
     ]
    }
   ],
   "source": [
    "tree.delete(45)\n",
    "print_tree(tree) #delete부터 다시짜기"
   ]
  },
  {
   "cell_type": "code",
   "execution_count": 149,
   "metadata": {},
   "outputs": [
    {
     "name": "stdout",
     "output_type": "stream",
     "text": [
      "\n",
      "----- Printing tree structure -----\n",
      "(Root)[23]\n",
      "           _____(R)[30]\n",
      "           _____(L)[ 4]\n",
      "                        _____(R)[21]\n",
      "                                     _____(L)[16]\n",
      "                                                  _____(L)[ 9]\n",
      "                        _____(L)[ 1]\n"
     ]
    }
   ],
   "source": [
    "tree.delete(38)\n",
    "print_tree(tree)"
   ]
  },
  {
   "cell_type": "code",
   "execution_count": 150,
   "metadata": {},
   "outputs": [
    {
     "name": "stdout",
     "output_type": "stream",
     "text": [
      "\n",
      "----- Printing tree structure -----\n",
      "(Root)[ 9]\n",
      "           _____(R)[23]\n",
      "                        _____(R)[30]\n",
      "                        _____(L)[16]\n",
      "                                     _____(R)[21]\n",
      "           _____(L)[ 4]\n",
      "                        _____(L)[ 1]\n"
     ]
    }
   ],
   "source": [
    "tree.delete(5)\n",
    "print_tree(tree)"
   ]
  },
  {
   "cell_type": "code",
   "execution_count": 151,
   "metadata": {},
   "outputs": [
    {
     "name": "stdout",
     "output_type": "stream",
     "text": [
      "\n",
      "----- Printing tree structure -----\n",
      "(Root)[ 1]\n",
      "           _____(R)[ 4]\n",
      "                        _____(R)[ 9]\n",
      "                                     _____(R)[23]\n",
      "                                                  _____(R)[30]\n",
      "                                                  _____(L)[16]\n",
      "                                                               _____(R)[21]\n"
     ]
    }
   ],
   "source": [
    "tree.find(-235)\n",
    "print_tree(tree)"
   ]
  },
  {
   "cell_type": "code",
   "execution_count": 152,
   "metadata": {},
   "outputs": [
    {
     "name": "stdout",
     "output_type": "stream",
     "text": [
      "1\n",
      "4\n",
      "9\n",
      "23\n",
      "16\n",
      "21\n",
      "30\n"
     ]
    }
   ],
   "source": [
    "tree.pre_order(tree.root)"
   ]
  },
  {
   "cell_type": "code",
   "execution_count": 153,
   "metadata": {},
   "outputs": [
    {
     "name": "stdout",
     "output_type": "stream",
     "text": [
      "21\n",
      "16\n",
      "30\n",
      "23\n",
      "9\n",
      "4\n",
      "1\n"
     ]
    }
   ],
   "source": [
    "tree.post_order(tree.root)"
   ]
  },
  {
   "cell_type": "code",
   "execution_count": 154,
   "metadata": {},
   "outputs": [
    {
     "name": "stdout",
     "output_type": "stream",
     "text": [
      "1\n",
      "4\n",
      "9\n",
      "16\n",
      "21\n",
      "23\n",
      "30\n"
     ]
    }
   ],
   "source": [
    "tree.in_order(tree.root)"
   ]
  },
  {
   "cell_type": "code",
   "execution_count": 155,
   "metadata": {},
   "outputs": [],
   "source": [
    "tree2=SplayTree()"
   ]
  },
  {
   "cell_type": "code",
   "execution_count": 156,
   "metadata": {},
   "outputs": [
    {
     "name": "stdout",
     "output_type": "stream",
     "text": [
      "\n",
      "----- Printing tree structure -----\n",
      "(Root)[ 9]\n"
     ]
    }
   ],
   "source": [
    "tree2.insert(9)\n",
    "print_tree(tree2)"
   ]
  },
  {
   "cell_type": "code",
   "execution_count": 157,
   "metadata": {},
   "outputs": [
    {
     "name": "stdout",
     "output_type": "stream",
     "text": [
      "\n",
      "----- Printing tree structure -----\n",
      "(Root)[ 9]\n",
      "           _____(R)[ 9]\n"
     ]
    }
   ],
   "source": [
    "tree2.insert(9)\n",
    "print_tree(tree2)"
   ]
  },
  {
   "cell_type": "code",
   "execution_count": 158,
   "metadata": {},
   "outputs": [
    {
     "name": "stdout",
     "output_type": "stream",
     "text": [
      "\n",
      "----- Printing tree structure -----\n",
      "(Root)[ 9]\n",
      "           _____(R)[ 9]\n",
      "                        _____(R)[ 9]\n"
     ]
    }
   ],
   "source": [
    "tree2.insert(9)\n",
    "print_tree(tree2)"
   ]
  },
  {
   "cell_type": "code",
   "execution_count": 159,
   "metadata": {},
   "outputs": [
    {
     "name": "stdout",
     "output_type": "stream",
     "text": [
      "\n",
      "----- Printing tree structure -----\n",
      "(Root)[ 9]\n",
      "           _____(R)[ 9]\n",
      "                        _____(R)[ 9]\n",
      "                                     _____(R)[ 9]\n"
     ]
    }
   ],
   "source": [
    "tree2.insert(9)\n",
    "print_tree(tree2)"
   ]
  },
  {
   "cell_type": "code",
   "execution_count": 160,
   "metadata": {},
   "outputs": [
    {
     "name": "stdout",
     "output_type": "stream",
     "text": [
      "\n",
      "----- Printing tree structure -----\n",
      "(Root)[ 9]\n",
      "           _____(R)[ 9]\n",
      "                        _____(R)[ 9]\n"
     ]
    }
   ],
   "source": [
    "tree2.delete(9)\n",
    "print_tree(tree2) #delete부터 다시짜기"
   ]
  },
  {
   "cell_type": "code",
   "execution_count": 161,
   "metadata": {},
   "outputs": [
    {
     "name": "stdout",
     "output_type": "stream",
     "text": [
      "\n",
      "----- Printing tree structure -----\n",
      "(Root)[ 9]\n",
      "           _____(R)[ 9]\n"
     ]
    }
   ],
   "source": [
    "tree2.delete(9)\n",
    "print_tree(tree2) #delete부터 다시짜기"
   ]
  },
  {
   "cell_type": "code",
   "execution_count": 162,
   "metadata": {},
   "outputs": [
    {
     "name": "stdout",
     "output_type": "stream",
     "text": [
      "\n",
      "----- Printing tree structure -----\n",
      "(Root)[ 9]\n"
     ]
    }
   ],
   "source": [
    "tree2.delete(9)\n",
    "print_tree(tree2) #delete부터 다시짜기"
   ]
  },
  {
   "cell_type": "code",
   "execution_count": 163,
   "metadata": {},
   "outputs": [
    {
     "name": "stdout",
     "output_type": "stream",
     "text": [
      "\n",
      "----- Printing tree structure -----\n",
      "(Root)[75]\n",
      "           _____(L)[ 9]\n"
     ]
    }
   ],
   "source": [
    "tree2.insert(75)\n",
    "print_tree(tree2)"
   ]
  },
  {
   "cell_type": "code",
   "execution_count": 164,
   "metadata": {},
   "outputs": [
    {
     "name": "stdout",
     "output_type": "stream",
     "text": [
      "\n",
      "----- Printing tree structure -----\n",
      "(Root)[ 9]\n",
      "           _____(R)[75]\n"
     ]
    }
   ],
   "source": [
    "tree2.find(9)\n",
    "print_tree(tree2)"
   ]
  },
  {
   "cell_type": "code",
   "execution_count": 165,
   "metadata": {},
   "outputs": [
    {
     "name": "stdout",
     "output_type": "stream",
     "text": [
      "\n",
      "----- Printing tree structure -----\n",
      "(Root)[45]\n",
      "           _____(R)[75]\n",
      "           _____(L)[ 9]\n"
     ]
    }
   ],
   "source": [
    "tree2.insert(45)\n",
    "print_tree(tree2)"
   ]
  },
  {
   "cell_type": "code",
   "execution_count": 166,
   "metadata": {},
   "outputs": [
    {
     "name": "stdout",
     "output_type": "stream",
     "text": [
      "9\n",
      "45\n",
      "75\n"
     ]
    }
   ],
   "source": [
    "tree2.in_order(tree2.root)"
   ]
  },
  {
   "cell_type": "code",
   "execution_count": null,
   "metadata": {},
   "outputs": [],
   "source": []
  }
 ],
 "metadata": {
  "kernelspec": {
   "display_name": "Python 3",
   "language": "python",
   "name": "python3"
  },
  "language_info": {
   "codemirror_mode": {
    "name": "ipython",
    "version": 3
   },
   "file_extension": ".py",
   "mimetype": "text/x-python",
   "name": "python",
   "nbconvert_exporter": "python",
   "pygments_lexer": "ipython3",
   "version": "3.8.5"
  }
 },
 "nbformat": 4,
 "nbformat_minor": 4
}
