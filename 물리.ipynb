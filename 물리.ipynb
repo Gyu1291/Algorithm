{
 "cells": [
  {
   "cell_type": "code",
   "execution_count": 4,
   "id": "educated-bride",
   "metadata": {},
   "outputs": [],
   "source": [
    "def avg_time(data):\n",
    "    result=[]\n",
    "    for i in range(len(data)-1):\n",
    "        temp=float('%.3f'%((data[i]+data[i+1])/2))\n",
    "        result.append(temp)\n",
    "    return result"
   ]
  },
  {
   "cell_type": "code",
   "execution_count": 5,
   "id": "historical-tulsa",
   "metadata": {},
   "outputs": [],
   "source": [
    "data1=[2.875,2.903,2.926,2.947,2.966,2.983,2.999,3.015,3.029,3.043,3.056,3.069]\n",
    "data2=[2.455,2.477,2.497,2.516,2.533,2.549,2.564,2.578,2.591,2.604,2.617,2.629]\n",
    "data3=[3.223,3.244,3.263,3.280,3.296,3.312,3.326,3.340,3.353,3.366,3.378,3.390]\n",
    "data4=[2.516,2.543,2.566,2.587,2.605,2.622,2.639,2.654,2.668,2.682,2.695,2.708]\n",
    "data5=[2.960,2.987,3.011,3.031,3.050,3.068,3.084,3.099,3.114,3.128,3.141,3.154]"
   ]
  },
  {
   "cell_type": "code",
   "execution_count": 6,
   "id": "perceived-conversion",
   "metadata": {},
   "outputs": [
    {
     "data": {
      "text/plain": [
       "[2.466, 2.487, 2.506, 2.524, 2.541, 2.556, 2.571, 2.585, 2.598, 2.611, 2.623]"
      ]
     },
     "execution_count": 6,
     "metadata": {},
     "output_type": "execute_result"
    }
   ],
   "source": [
    "avg_time(data2)"
   ]
  },
  {
   "cell_type": "code",
   "execution_count": 7,
   "id": "searching-vatican",
   "metadata": {},
   "outputs": [
    {
     "data": {
      "text/plain": [
       "[3.234, 3.253, 3.271, 3.288, 3.304, 3.319, 3.333, 3.346, 3.36, 3.372, 3.384]"
      ]
     },
     "execution_count": 7,
     "metadata": {},
     "output_type": "execute_result"
    }
   ],
   "source": [
    "avg_time(data3)"
   ]
  },
  {
   "cell_type": "code",
   "execution_count": 8,
   "id": "shared-insert",
   "metadata": {},
   "outputs": [
    {
     "data": {
      "text/plain": [
       "[2.53, 2.554, 2.577, 2.596, 2.614, 2.63, 2.646, 2.661, 2.675, 2.688, 2.702]"
      ]
     },
     "execution_count": 8,
     "metadata": {},
     "output_type": "execute_result"
    }
   ],
   "source": [
    "avg_time(data4)"
   ]
  },
  {
   "cell_type": "code",
   "execution_count": 9,
   "id": "mexican-assessment",
   "metadata": {},
   "outputs": [
    {
     "data": {
      "text/plain": [
       "[2.974, 2.999, 3.021, 3.04, 3.059, 3.076, 3.091, 3.107, 3.121, 3.135, 3.147]"
      ]
     },
     "execution_count": 9,
     "metadata": {},
     "output_type": "execute_result"
    }
   ],
   "source": [
    "avg_time(data5)"
   ]
  },
  {
   "cell_type": "code",
   "execution_count": 10,
   "id": "assisted-uncertainty",
   "metadata": {},
   "outputs": [],
   "source": [
    "def avg_vel(data):\n",
    "    result=[]\n",
    "    for i in range(len(data)-1):\n",
    "        temp='%.3f'%(0.04/(data[i+1]-data[i]))\n",
    "        result.append(temp)\n",
    "    return result"
   ]
  },
  {
   "cell_type": "code",
   "execution_count": 11,
   "id": "polyphonic-jacket",
   "metadata": {},
   "outputs": [
    {
     "data": {
      "text/plain": [
       "['1.429',\n",
       " '1.739',\n",
       " '1.905',\n",
       " '2.105',\n",
       " '2.353',\n",
       " '2.500',\n",
       " '2.500',\n",
       " '2.857',\n",
       " '2.857',\n",
       " '3.077',\n",
       " '3.077']"
      ]
     },
     "execution_count": 11,
     "metadata": {},
     "output_type": "execute_result"
    }
   ],
   "source": [
    "avg_vel(data1)"
   ]
  },
  {
   "cell_type": "code",
   "execution_count": 12,
   "id": "sealed-louisiana",
   "metadata": {},
   "outputs": [
    {
     "data": {
      "text/plain": [
       "['1.818',\n",
       " '2.000',\n",
       " '2.105',\n",
       " '2.353',\n",
       " '2.500',\n",
       " '2.667',\n",
       " '2.857',\n",
       " '3.077',\n",
       " '3.077',\n",
       " '3.077',\n",
       " '3.333']"
      ]
     },
     "execution_count": 12,
     "metadata": {},
     "output_type": "execute_result"
    }
   ],
   "source": [
    "avg_vel(data2)"
   ]
  },
  {
   "cell_type": "code",
   "execution_count": 13,
   "id": "monthly-roller",
   "metadata": {},
   "outputs": [
    {
     "data": {
      "text/plain": [
       "['1.905',\n",
       " '2.105',\n",
       " '2.353',\n",
       " '2.500',\n",
       " '2.500',\n",
       " '2.857',\n",
       " '2.857',\n",
       " '3.077',\n",
       " '3.077',\n",
       " '3.333',\n",
       " '3.333']"
      ]
     },
     "execution_count": 13,
     "metadata": {},
     "output_type": "execute_result"
    }
   ],
   "source": [
    "avg_vel(data3)"
   ]
  },
  {
   "cell_type": "code",
   "execution_count": 14,
   "id": "unexpected-algebra",
   "metadata": {},
   "outputs": [
    {
     "data": {
      "text/plain": [
       "['1.481',\n",
       " '1.739',\n",
       " '1.905',\n",
       " '2.222',\n",
       " '2.353',\n",
       " '2.353',\n",
       " '2.667',\n",
       " '2.857',\n",
       " '2.857',\n",
       " '3.077',\n",
       " '3.077']"
      ]
     },
     "execution_count": 14,
     "metadata": {},
     "output_type": "execute_result"
    }
   ],
   "source": [
    "avg_vel(data4)"
   ]
  },
  {
   "cell_type": "code",
   "execution_count": 15,
   "id": "timely-plane",
   "metadata": {},
   "outputs": [
    {
     "data": {
      "text/plain": [
       "['1.481',\n",
       " '1.667',\n",
       " '2.000',\n",
       " '2.105',\n",
       " '2.222',\n",
       " '2.500',\n",
       " '2.667',\n",
       " '2.667',\n",
       " '2.857',\n",
       " '3.077',\n",
       " '3.077']"
      ]
     },
     "execution_count": 15,
     "metadata": {},
     "output_type": "execute_result"
    }
   ],
   "source": [
    "avg_vel(data5)"
   ]
  },
  {
   "cell_type": "code",
   "execution_count": 47,
   "id": "curious-percentage",
   "metadata": {},
   "outputs": [],
   "source": [
    "def avg_vel5(data):\n",
    "    result=[]\n",
    "    for i in range(len(data)-1):\n",
    "        temp='%.3f'%(0.05/(data[i+1]-data[i]))\n",
    "        result.append(temp)\n",
    "    return result"
   ]
  },
  {
   "cell_type": "code",
   "execution_count": 48,
   "id": "trying-recognition",
   "metadata": {},
   "outputs": [],
   "source": [
    "data51=[2.869,2.906,2.936,2.962,2.985,3.005,3.025,3.043,3.060,3.076]\n",
    "data52=[2.578,2.622,2.656,2.683,2.708,2.730,2.750,2.768,2.786,2.803]\n",
    "data53=[3.033,3.058,3.081,3.101,3.121,3.138,3.155,3.171,3.186,3.201]\n",
    "data54=[3.305,3.337,3.365,3.389,3.411,3.431,3.449,3.467,3.483,3.499]\n",
    "data55=[3.503,3.542,3.574,3.600,3.624,3.645,3.665,3.683,3.700,3.717]"
   ]
  },
  {
   "cell_type": "code",
   "execution_count": 49,
   "id": "tested-distribution",
   "metadata": {},
   "outputs": [
    {
     "data": {
      "text/plain": [
       "[2.888, 2.921, 2.949, 2.974, 2.995, 3.015, 3.034, 3.051, 3.068]"
      ]
     },
     "execution_count": 49,
     "metadata": {},
     "output_type": "execute_result"
    }
   ],
   "source": [
    "avg_time(data51)"
   ]
  },
  {
   "cell_type": "code",
   "execution_count": 50,
   "id": "likely-cooperative",
   "metadata": {},
   "outputs": [
    {
     "data": {
      "text/plain": [
       "[2.6, 2.639, 2.67, 2.696, 2.719, 2.74, 2.759, 2.777, 2.795]"
      ]
     },
     "execution_count": 50,
     "metadata": {},
     "output_type": "execute_result"
    }
   ],
   "source": [
    "avg_time(data52)"
   ]
  },
  {
   "cell_type": "code",
   "execution_count": 51,
   "id": "provincial-shirt",
   "metadata": {},
   "outputs": [
    {
     "data": {
      "text/plain": [
       "[3.045, 3.069, 3.091, 3.111, 3.13, 3.146, 3.163, 3.178, 3.194]"
      ]
     },
     "execution_count": 51,
     "metadata": {},
     "output_type": "execute_result"
    }
   ],
   "source": [
    "avg_time(data53)"
   ]
  },
  {
   "cell_type": "code",
   "execution_count": 52,
   "id": "chief-cookie",
   "metadata": {},
   "outputs": [
    {
     "data": {
      "text/plain": [
       "[3.321, 3.351, 3.377, 3.4, 3.421, 3.44, 3.458, 3.475, 3.491]"
      ]
     },
     "execution_count": 52,
     "metadata": {},
     "output_type": "execute_result"
    }
   ],
   "source": [
    "avg_time(data54)"
   ]
  },
  {
   "cell_type": "code",
   "execution_count": 53,
   "id": "confident-mounting",
   "metadata": {},
   "outputs": [
    {
     "data": {
      "text/plain": [
       "[3.522, 3.558, 3.587, 3.612, 3.635, 3.655, 3.674, 3.692, 3.708]"
      ]
     },
     "execution_count": 53,
     "metadata": {},
     "output_type": "execute_result"
    }
   ],
   "source": [
    "avg_time(data55)"
   ]
  },
  {
   "cell_type": "code",
   "execution_count": 54,
   "id": "finnish-agreement",
   "metadata": {},
   "outputs": [
    {
     "data": {
      "text/plain": [
       "['1.351',\n",
       " '1.667',\n",
       " '1.923',\n",
       " '2.174',\n",
       " '2.500',\n",
       " '2.500',\n",
       " '2.778',\n",
       " '2.941',\n",
       " '3.125']"
      ]
     },
     "execution_count": 54,
     "metadata": {},
     "output_type": "execute_result"
    }
   ],
   "source": [
    "avg_vel5(data51)"
   ]
  },
  {
   "cell_type": "code",
   "execution_count": 55,
   "id": "decimal-vegetable",
   "metadata": {},
   "outputs": [
    {
     "data": {
      "text/plain": [
       "['1.136',\n",
       " '1.471',\n",
       " '1.852',\n",
       " '2.000',\n",
       " '2.273',\n",
       " '2.500',\n",
       " '2.778',\n",
       " '2.778',\n",
       " '2.941']"
      ]
     },
     "execution_count": 55,
     "metadata": {},
     "output_type": "execute_result"
    }
   ],
   "source": [
    "avg_vel5(data52)"
   ]
  },
  {
   "cell_type": "code",
   "execution_count": 56,
   "id": "worse-manual",
   "metadata": {},
   "outputs": [
    {
     "data": {
      "text/plain": [
       "['2.000',\n",
       " '2.174',\n",
       " '2.500',\n",
       " '2.500',\n",
       " '2.941',\n",
       " '2.941',\n",
       " '3.125',\n",
       " '3.333',\n",
       " '3.333']"
      ]
     },
     "execution_count": 56,
     "metadata": {},
     "output_type": "execute_result"
    }
   ],
   "source": [
    "avg_vel5(data53)"
   ]
  },
  {
   "cell_type": "code",
   "execution_count": 57,
   "id": "similar-funeral",
   "metadata": {},
   "outputs": [
    {
     "data": {
      "text/plain": [
       "['1.562',\n",
       " '1.786',\n",
       " '2.083',\n",
       " '2.273',\n",
       " '2.500',\n",
       " '2.778',\n",
       " '2.778',\n",
       " '3.125',\n",
       " '3.125']"
      ]
     },
     "execution_count": 57,
     "metadata": {},
     "output_type": "execute_result"
    }
   ],
   "source": [
    "avg_vel5(data54)"
   ]
  },
  {
   "cell_type": "code",
   "execution_count": 58,
   "id": "infinite-southeast",
   "metadata": {},
   "outputs": [
    {
     "data": {
      "text/plain": [
       "['1.282',\n",
       " '1.562',\n",
       " '1.923',\n",
       " '2.083',\n",
       " '2.381',\n",
       " '2.500',\n",
       " '2.778',\n",
       " '2.941',\n",
       " '2.941']"
      ]
     },
     "execution_count": 58,
     "metadata": {},
     "output_type": "execute_result"
    }
   ],
   "source": [
    "avg_vel5(data55)"
   ]
  },
  {
   "cell_type": "code",
   "execution_count": null,
   "id": "closed-stability",
   "metadata": {},
   "outputs": [],
   "source": []
  }
 ],
 "metadata": {
  "kernelspec": {
   "display_name": "Python 3",
   "language": "python",
   "name": "python3"
  },
  "language_info": {
   "codemirror_mode": {
    "name": "ipython",
    "version": 3
   },
   "file_extension": ".py",
   "mimetype": "text/x-python",
   "name": "python",
   "nbconvert_exporter": "python",
   "pygments_lexer": "ipython3",
   "version": "3.7.9"
  }
 },
 "nbformat": 4,
 "nbformat_minor": 5
}
