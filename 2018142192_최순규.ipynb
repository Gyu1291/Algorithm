{
 "cells": [
  {
   "cell_type": "markdown",
   "metadata": {},
   "source": [
    "> ### EEE2020: Data Structures & Algorithms\n",
    "\n",
    "# Assignment \\# I: Object Oriented Programming & Algorithm Analysis"
   ]
  },
  {
   "cell_type": "markdown",
   "metadata": {},
   "source": [
    "<div style=\"text-align: right\"> **Due date: March 26, 2021.** </div> \n",
    "<div style=\"text-align: right\"> **Please upload your file @ LearnUs by 7 PM.** </div> \n",
    "<br>\n",
    "<div style=\"text-align: right\"> Daesung Jeon(전대성): <a href=\"mailto:ds.jeon@yonsei.ac.kr\">ds.jeon@yonsei.ac.kr</a> \n",
    "<div style=\"text-align: right\"> Hyekang Park(박혜강): <a href=\"mailto:hyekang.park@yonsei.ac.kr\">hyekang.park@yonsei.ac.kr</a> </div>\n",
    "</div>"
   ]
  },
  {
   "cell_type": "markdown",
   "metadata": {},
   "source": [
    "-------------------------------"
   ]
  },
  {
   "cell_type": "markdown",
   "metadata": {},
   "source": [
    "\n",
    "### *Assignment Instructions:*\n",
    "1. Write a program implementing a particular algorithm to solve a given problem.\n",
    "2. You can use both Korean and Engligh for your report.\n",
    "3. Since this is your first assignment of the course, comprehensive instructions are given for particular problems.  \n",
    " However, note that this might not be the case for further assignments over the course.\n",
    "4. **Analyze the algorithm theoretically and empirically, and write discussion.** \n",
    "5. **Report your results.**  \n",
    "    - You must do assignments and labs yourself. \n",
    "    - <span style=\"color:red\">**Do not copy any part of your friends’ code.**</span>\n",
    "    - Otherwise, you will get a F grade."
   ]
  },
  {
   "cell_type": "markdown",
   "metadata": {},
   "source": [
    "-----------------"
   ]
  },
  {
   "cell_type": "markdown",
   "metadata": {},
   "source": [
    "<h2><span style=\"color:blue\">[2018142192] [최순규]</span> </h2>"
   ]
  },
  {
   "cell_type": "code",
   "execution_count": 1,
   "metadata": {},
   "outputs": [
    {
     "name": "stdout",
     "output_type": "stream",
     "text": [
      "This code is written at 2021-03-24 16:54:59.769265\n"
     ]
    }
   ],
   "source": [
    "import datetime\n",
    "print(\"This code is written at \" + str(datetime.datetime.now()))"
   ]
  },
  {
   "cell_type": "markdown",
   "metadata": {},
   "source": [
    "-------------------------------"
   ]
  },
  {
   "cell_type": "markdown",
   "metadata": {},
   "source": [
    "### PROBLEM I - Class (50 POINTS)"
   ]
  },
  {
   "cell_type": "markdown",
   "metadata": {},
   "source": [
    "### Matrix"
   ]
  },
  {
   "cell_type": "markdown",
   "metadata": {},
   "source": [
    "행렬은 수, 기호, 식 등을 직사각형으로 배열한 것이다. 행렬을 구성하는 수, 기호, 식 등을 행렬의 원소라 부른다. 예를 들어, 수 1, 0, 2, -1, 3, 1을 원소로 갖는 $3\\times2$ 행렬은 다음과 같이 표현할 수 있다.\n",
    "\n",
    "$$\\begin{equation} \n",
    "    A = \n",
    "    \\begin{bmatrix}\n",
    "        1&0\\\\2&-1\\\\3&1\\\\\n",
    "    \\end{bmatrix} \n",
    "\\end{equation}$$\n",
    "\n",
    "행렬에서 **가로로 된 줄을 행(row)**, **세로로 된 줄을 열(column)**이라 한다. 따라서 위의 $3\\times2$ 행렬 $A$는 3개의 행과 2개의 열을 가지는 행렬이다. $A$의 $i$ 번째 행, $j$ 번째 열에 위치한 원소는 $A_{ij}$로 나타낸다. 예를 들어, $A_{21}=2$, $A_{32}=1$이다.\n",
    "\n",
    "$m$개의 행과 $n$개의 열로 구성된 행렬을 일반화하여 표현하면 다음과 같다. \n",
    "\n",
    "$$\n",
    "\\begin{equation}\n",
    "    A = \\begin{bmatrix}\n",
    "        A_{11}&A_{12}&A_{13}&\\cdots &A_{1n}\\\\\n",
    "        A_{21}&A_{22}&A_{23}&\\cdots &A_{2n}\\\\\n",
    "        A_{31}&A_{32}&A_{33}&\\cdots &A_{3n}\\\\\n",
    "        \\vdots &\\vdots &\\vdots &\\ddots &\\vdots \\\\\n",
    "        A_{m1}&A_{m2}&A_{m3}&\\cdots &A_{mn}\n",
    "        \\end{bmatrix}\n",
    "\\end{equation}\n",
    "$$\n",
    "\n",
    "**본 과제에서 $m \\times n$ 행렬의 shape(혹은 dimension)은 (m, n)으로 정의한다.**"
   ]
  },
  {
   "cell_type": "markdown",
   "metadata": {},
   "source": [
    "두 행렬 $A$, $B$의 dimension이 같다면 행렬 간 덧셈이 가능하다. **행렬 간 덧셈**은 다음과 같이 **같은 위치의 원소들을 더한 것**으로 정의된다.\n",
    "\n",
    "$$\n",
    "\\begin{equation}\n",
    "    \\begin{bmatrix}\n",
    "        1&3&7\\\\\n",
    "        1&0&0\n",
    "    \\end{bmatrix} +\n",
    "    \\begin{bmatrix}\n",
    "        0&0&5\\\\\n",
    "        7&5&0\n",
    "    \\end{bmatrix} = \n",
    "    \\begin{bmatrix}\n",
    "        1+0&3+0&7+5\\\\\n",
    "        1+7&0+5&0+0\n",
    "    \\end{bmatrix} =\n",
    "    \\begin{bmatrix}\n",
    "        1&3&12\\\\8&5&0\n",
    "    \\end{bmatrix}\n",
    "\\end{equation}\n",
    "$$"
   ]
  },
  {
   "cell_type": "markdown",
   "metadata": {},
   "source": [
    "본 과제에서 **행렬과 실수의 덧셈**은 다음과 같이 **행렬의 모든 원소에 실수를 더하는 것**으로 정의한다.\n",
    "\n",
    "$$\n",
    "\\begin{equation}\n",
    "    100 +\n",
    "    \\begin{bmatrix}\n",
    "        -2&3&5\\\\\n",
    "        1&5&9\n",
    "    \\end{bmatrix} = \n",
    "    \\begin{bmatrix}\n",
    "        100+(-2)&100+3&100+5\\\\\n",
    "        100+1&100+5&100+9\n",
    "    \\end{bmatrix} =\n",
    "    \\begin{bmatrix}\n",
    "        98&103&105\\\\101&105&109\n",
    "    \\end{bmatrix}\n",
    "\\end{equation}\n",
    "$$"
   ]
  },
  {
   "cell_type": "markdown",
   "metadata": {},
   "source": [
    "마찬가지로, **행렬과 실수의 곱셈(스칼라 곱)**은 다음 예시와 같이 **행렬의 모든 원소에 실수를 곱하는 것**으로 정의한다.\n",
    "\n",
    "$$\n",
    "\\begin{equation}\n",
    "    100 \n",
    "    \\begin{bmatrix}\n",
    "        -2&3&5\\\\\n",
    "        1&5&9\n",
    "    \\end{bmatrix} = \n",
    "    \\begin{bmatrix}\n",
    "        100\\times(-2)&100\\times3&100\\times5\\\\\n",
    "        100\\times1&100\\times5&100\\times9\n",
    "    \\end{bmatrix} =\n",
    "    \\begin{bmatrix}\n",
    "        -200&300&500\\\\100&500&900\n",
    "    \\end{bmatrix}\n",
    "\\end{equation}\n",
    "$$"
   ]
  },
  {
   "cell_type": "markdown",
   "metadata": {},
   "source": [
    "위의 세 연산(행렬 간 덧셈, 행렬과 실수의 덧셈, 행렬과 실수의 곱셈)은 **교환 법칙이 성립**한다."
   ]
  },
  {
   "cell_type": "markdown",
   "metadata": {},
   "source": [
    "**두 행렬 $A$, $B$의 곱 $AB$는 $A$의 열 개수가 $B$의 행 개수와 같을 때 정의**된다. $A$, $B$의 곱셈이 정의될 때, $C=AB$이면, $C_{ij}$는 다음과 같이 정의된다.\n",
    "\n",
    "$$\n",
    "\\begin{equation}\n",
    "    C_{ij}=\\sum_{k=1}^{n}A_{ik}B_{kj}=A_{i1}B_{1j}+A_{i2}B_{2j}+\\cdots A_{in}B_{nj}\n",
    "\\end{equation}\n",
    "$$"
   ]
  },
  {
   "cell_type": "markdown",
   "metadata": {},
   "source": [
    "즉, **$C_{ij}$는 $A$의 $i$ 번째 행 원소들로 구성된 벡터와 $B$의 $j$ 번째 열 원소들로 구성된 벡터를 내적한 값**이다. 행렬 간 곱셈의 예는 다음과 같다."
   ]
  },
  {
   "cell_type": "markdown",
   "metadata": {},
   "source": [
    "$$\n",
    "\\begin{equation}\n",
    "    AB=\n",
    "    \\begin{bmatrix}\n",
    "        1&0&2\\\\\n",
    "        -1&3&1\\\\\n",
    "    \\end{bmatrix}\n",
    "    \\begin{bmatrix}\n",
    "        3&1\\\\\n",
    "        2&1\\\\\n",
    "        1&0\n",
    "    \\end{bmatrix} =\n",
    "    \\begin{bmatrix}\n",
    "        1\\cdot 3+0\\cdot 2+2\\cdot 1&1\\cdot 1+0\\cdot 1+2\\cdot 0\\\\\n",
    "        -1\\cdot 3+3\\cdot 2+1\\cdot 1&-1\\cdot 1+3\\cdot 1+1\\cdot 0\n",
    "    \\end{bmatrix}=\n",
    "    \\begin{bmatrix}\n",
    "        5&1\\\\\n",
    "        4&2\n",
    "    \\end{bmatrix}\n",
    "    =C\n",
    "\\end{equation}$$"
   ]
  },
  {
   "cell_type": "markdown",
   "metadata": {},
   "source": [
    "$C_{12}$는 아래 식과 같이 $A$의 첫 번째 행벡터 $\\begin{bmatrix} 1 & 0 &2 \\end{bmatrix}$와 $B$의 두 번째 열벡터 $\\begin{bmatrix} 1 & 1& 0 \\end{bmatrix}$의 내적값을 원소로 갖는다.\n",
    "\n",
    "$$\n",
    "\\begin{equation}\n",
    "    C_{12} = A_i \\cdot B_j = \n",
    "    \\begin{bmatrix}\n",
    "        1 & 0 & 2\n",
    "    \\end{bmatrix} \\cdot\n",
    "    \\begin{bmatrix}\n",
    "        1 & 1 & 0\n",
    "    \\end{bmatrix} = 1 \\cdot 1 + 0 \\cdot 1 + 2 \\cdot 0 = 1\n",
    "\\end{equation}\n",
    "$$"
   ]
  },
  {
   "cell_type": "markdown",
   "metadata": {},
   "source": [
    "행렬의 비교는 두 행렬의 shape(dimension)이 같은 경우에만 정의된다. 즉 실수와 행렬의 비교, 서로 다른 shape(dimension)을 가진 행렬의 비교는 성립하지 않는다."
   ]
  },
  {
   "cell_type": "markdown",
   "metadata": {},
   "source": [
    "위의 설명을 참고하여 아래의 조건을 만족하는 ```Matrix``` 클래스를 완성하시오."
   ]
  },
  {
   "cell_type": "markdown",
   "metadata": {},
   "source": [
    "### Conditions\n",
    "1. ```Matrix``` 클래스는 2-dimensional list(double list)를 argument로 하여 행렬을 표현한다. \n",
    "2. ```__init__``` 메소드(constructor)에서 object attribute로 행렬의 row vectors와 shape(dimension)을 결정한다. 예를 들어, ```Matrix([[1, 2, 3], [4, 5, 6]]).vectors```와 ```Matrix([[1, 2, 3], [4, 5, 6]]).shape```의 반환 값은 다음과 같다.\n",
    "> ```[[1, 2, 3], [4, 5, 6]]```, ```(2, 3)```\n",
    "3. ```print```를 사용했을 때 직사각형 행렬 꼴로 출력한다. 예를 들어, ```print(Matrix([[1, 2, 3], [4, 5, 6]]))```의 출력은 다음과 같다.\n",
    "> ```[[1, 2, 3]\n",
    "     [4, 5, 6]]```\n",
    "4. ```len()```함수를 이용 했을 때, row vector의 개수를 반환하도록 한다. 예를 들어, ```len(Matrix([[1, 2, 3], [4, 5, 6]]))```의 반환 값은 다음과 같다.\n",
    "> ```2```\n",
    "5. ```Matrix``` class의 object는 다음을 만족해야 한다.\n",
    "> 1) ```+``` 연산자로 행렬 간 덧셈 및 실수와의 덧셈이 가능하다.  \n",
    "> 2) 행렬의 부호 변환(```-my_matrix```)이 가능하다.  \n",
    "> 3) ```-``` 연산자로 행렬 간 뺄셈 및 실수와의 뺄셈이 가능하다.  \n",
    "> 4) ```*``` 연산자로 행렬 간 곱셈 및 실수와의 곱셈이 가능하다.  \n",
    "> 5) 교환 법칙이 성립하는 연산의 경우, 이를 표현할 수 있다.  \n",
    "> 6) ```/``` 연산자로 행렬의 원소를 실수로 나누는 연산이 가능하다.  \n",
    "> 7) ```==``` 와 ```!=``` 연산자로 object 간 비교가 가능하다.  \n",
    "> 8) 연산이 불가능한 경우 error message를 출력한다.  \n",
    "> 9) 비교를 제외한 모든 연산의 결과는 ```Matrix``` class이다. 즉, ```(type(result_matrix) == Matrix) = True```이다.\n",
    "\n",
    "\n",
    "### NOTE\n",
    "\n",
    "* *Numpy등의 외부 라이브러리는 사용하지 않는다 (사용 시 해당 문항 0점).*\n",
    "\n",
    "* 필요할 경우 명시된 attribute 외의 object attribute를 선언 및 사용할 수 있다.\n",
    "\n",
    "### HINT\n",
    "* ```isinstance(object, type)``` 함수는 ```object```가 주어진 ```type```과 일치하면 ```True``` 그렇지 않으면 ```False```를 반환하는 함수이다. \n",
    "> ```int``` 혹은 ```float``` 변수 num에 대해 ```isinstance(num, (int, float)) = True```.\n",
    "* ```__radd__(), __rmul__()```등을 응용하면 교환 법칙이 성립하도록 할 수 있다.\n"
   ]
  },
  {
   "cell_type": "code",
   "execution_count": 36,
   "metadata": {},
   "outputs": [],
   "source": [
    "class Matrix:\n",
    "    def __init__(self, vectors):\n",
    "        assert isinstance(vectors, list), 'Input argument must be a list.'\n",
    "        assert all([isinstance(vector, list) for vector in vectors]), 'Row vectors must be a list.'\n",
    "        assert all(len(vector) == len(vectors[0]) for vector in vectors), 'Row vectors must have the same length.'\n",
    "        self.vectors=vectors \n",
    "        self.shape=(len(self.vectors),len(self.vectors[0]))  #list에 지원되는 len함수를 이용해 shape를 구현했다.\n",
    "    \n",
    "    def __str__(self):\n",
    "        print('[', end='')\n",
    "        for i in range(len(self.vectors)): # matrix object를 print하면 이 함수가 실행된다. for문을 이용해 행렬 모양으로 출력하게 했다.\n",
    "            if i==len(self.vectors)-1:\n",
    "                print(self.vectors[i], end=']')\n",
    "            else:\n",
    "                print(self.vectors[i])\n",
    "        return ''    #str 타입을 반환해야 하기 때문에 return '' 을 넣어주었다.\n",
    "    \n",
    "    def __len__(self):\n",
    "        return len(self.vectors) #list에 지원되는 len을 이용하면 동일한 기능을 지원해주므로 len(self.vector)를 return하게 하였다.\n",
    "\n",
    "    def __add__(self, other):\n",
    "        assert isinstance(other,(int,Matrix)), 'Error'   #assert를 이용해 int matrix로 other의 type을 제한해주었다.\n",
    "        add_result=Matrix([[0]*len(self.vectors[0]) for _ in range(len(self.vectors))]) #self와 shape이 add_result matrix를 만들었다.\n",
    "        if isinstance(other, int):  #연산자 하나로 실수, 행렬 모두 덧셈 가능하게 해야하므로 조건문 if, else를 사용한다.\n",
    "            for i in range(len(self.vectors)):\n",
    "                for j in range(len(self.vectors[0])):\n",
    "                    add_result.vectors[i][j]=self.vectors[i][j]+other #self와 shape이 같은 add_result matrix에 연산값을 넣어준다.\n",
    "            return add_result \n",
    "    \n",
    "        else: # other이 matrix인 경우\n",
    "            assert self.shape==other.shape, 'Error' #self와 other은 shape이 같은 행렬이어야 한다.\n",
    "            for i in range(len(self.vectors)):\n",
    "                for j in range(len(self.vectors[0])):\n",
    "                    add_result.vectors[i][j]=self.vectors[i][j]+other.vectors[i][j]\n",
    "            return add_result\n",
    "        \n",
    "    \n",
    "    def __radd__(self, other): \n",
    "        return self.__add__(other) #add의 경우 교환법칙이 성립하므로 add과 동일한 값을 반환하도록 하였다.\n",
    "        \n",
    "    def __mul__(self, other):\n",
    "        assert isinstance(other,(int,Matrix)), 'Error'\n",
    "        if isinstance(other, int): #연산자 하나로 실수와 행렬 모두 곱하기가 가능해야 하므로 if문을 사용하였다.\n",
    "            mul_result=self.__add__(0) # 임의의 matrix가 아닌 임의의 self와 같은 타입의 object를 표현하기 위해 mul_result를 이렇게 잡았다.\n",
    "            #2번문제에서 matrix를 상속받은 vector가 연산한 결과값도 vector로 유지되게 하기 위해 self와 같은 타입이 필요했다.\n",
    "            for i in range(len(self.vectors)):\n",
    "                for j in range(len(self.vectors[0])):\n",
    "                    mul_result.vectors[i][j]=self.vectors[i][j]*other\n",
    "            return mul_result\n",
    "                    \n",
    "        else: #other이 matrix인 경우\n",
    "            new_vectors=[[0]*len(other.vectors[0]) for _ in range(len(self.vectors))] \n",
    "            mul_result=Matrix(new_vectors) #matrix간 곱셈에서는 shape이 바뀐다. shape이 같은 임의의 matrix를 만든다.\n",
    "            #2번문제 vector에서는 행렬곱은 사용하지 않으므로 행렬곱의 경우 굳이 self과 같은 타입일 필요가 없다고 판단하였다.\n",
    "            assert len(self.vectors[0])==len(other.vectors), 'Error' #self의 행의 길이가 other의 열의 길이와 같아야 성립한다.\n",
    "            for i in range(len(mul_result)):\n",
    "                for j in range(len(mul_result.vectors[0])):\n",
    "                    sum=0\n",
    "                    for k in range(len(self.vectors[0])):\n",
    "                        sum+=self.vectors[i][k]*other.vectors[k][j]\n",
    "                    mul_result.vectors[i][j]=sum\n",
    "            return mul_result\n",
    "        \n",
    "    def __rmul__(self, other): \n",
    "        return self.__mul__(other) #mul의 경우 교환법칙이 성립하므로 rmul도 mul과 같은 값을 반환해준다.\n",
    "    \n",
    "    def __neg__(self):\n",
    "        return self.__mul__(-1) #앞서 구현한 mul을 이용해 negative를 구현하였다.\n",
    "    #이를 상속받은 2번문제의 vector도 vector type을 유지하며 음수로 바꿀 수 있다.\n",
    "        \n",
    "    def __sub__(self, other):\n",
    "        assert isinstance(other,(int,Matrix)), 'Error'\n",
    "        sub_result=self.__add__(0)\n",
    "        if isinstance(other, int):\n",
    "            for i in range(len(self.vectors)):\n",
    "                for j in range(len(self.vectors[0])):\n",
    "                    sub_result.vectors[i][j]=self.vectors[i][j]-other\n",
    "            return sub_result\n",
    "        \n",
    "        else:\n",
    "            assert self.shape==other.shape, 'Error' #행렬의 shape이 같아야 하도록 제약을 설정한다.\n",
    "            for i in range(len(self.vectors)):\n",
    "                for j in range(len(self.vectors[0])):\n",
    "                    sub_result.vectors[i][j]=self.vectors[i][j]-other.vectors[i][j]\n",
    "            return sub_result\n",
    "        \n",
    "    def __rsub__(self, other): #sub의 경우 순서가 바뀌면 부호가 바뀌는데, 앞서 정의한 neg를 이용해준다.\n",
    "        rsub_result = self.__sub__(other)\n",
    "        return rsub_result.__neg__()\n",
    "    \n",
    "    def __truediv__(self, other):\n",
    "        assert isinstance(other,int)and other!=0 , 'Error' #0으로 나누지 못하도록 제약조건을 걸어준다.\n",
    "        div_result = self.__add__(0) # self과 같은 type을 가지는 임의의 object div_result를 선언한다.\n",
    "        for i in range(len(self.vectors)):\n",
    "            for j in range(len(self.vectors[0])):\n",
    "                div_result.vectors[i][j]=self.vectors[i][j]/other\n",
    "        return div_result\n",
    "    \n",
    "    def __eq__(self, other):\n",
    "        assert isinstance(other,Matrix), 'Error' # Matrix타입의 object만 other로 들어올 수 있다.\n",
    "        assert self.shape==other.shape, 'Error' #other은 shape이 같은 object여야 한다.\n",
    "        for i in range(len(self.vectors)):   #이중 for문을 사용하여 각 행렬의 각 요소들을 비교해주었다.\n",
    "            for j in range(len(self.vectors[0])):\n",
    "                if self.vectors[i][j]==other.vectors[i][j]:\n",
    "                    continue\n",
    "                else:\n",
    "                    return False\n",
    "        return True\n",
    "                    \n",
    "    \n",
    "    def __ne__(self, other):\n",
    "        assert isinstance(other,Matrix), 'Error' # Matrix타입의 object만 other로 들어올 수 있다.\n",
    "        assert self.shape==other.shape, 'Error' #other은 shape이 같은 object여야 한다.\n",
    "        for i in range(len(self.vectors)): #이중 for문을 사용하여 각 행렬의 각 요소들을 비교해주었다.\n",
    "            for j in range(len(self.vectors[0])):\n",
    "                if self.vectors[i][j]==other.vectors[i][j]:\n",
    "                    continue\n",
    "                else:\n",
    "                    return True\n",
    "        return False\n",
    "                    \n",
    "                "
   ]
  },
  {
   "cell_type": "code",
   "execution_count": 37,
   "metadata": {},
   "outputs": [],
   "source": [
    "my_matrix1 = Matrix([[1, 2, 3], [4, 5, 6], [7, 8, 9]])\n",
    "my_matrix2 = Matrix([[1, 1, 1], [2, 2, 2], [3, 3, 3]])\n",
    "my_matrix3 = Matrix([[10, 20], [30, 40], [50, 60]])"
   ]
  },
  {
   "cell_type": "code",
   "execution_count": 38,
   "metadata": {
    "scrolled": true
   },
   "outputs": [
    {
     "name": "stdout",
     "output_type": "stream",
     "text": [
      "[[1, 2, 3]\n",
      "[4, 5, 6]\n",
      "[7, 8, 9]]\n",
      "[[1, 1, 1]\n",
      "[2, 2, 2]\n",
      "[3, 3, 3]]\n",
      "[[10, 20]\n",
      "[30, 40]\n",
      "[50, 60]]\n"
     ]
    }
   ],
   "source": [
    "print(my_matrix1)\n",
    "print(my_matrix2)\n",
    "print(my_matrix3)"
   ]
  },
  {
   "cell_type": "code",
   "execution_count": 39,
   "metadata": {},
   "outputs": [
    {
     "name": "stdout",
     "output_type": "stream",
     "text": [
      "[[1, 2, 3], [4, 5, 6], [7, 8, 9]]\n",
      "(3, 2)\n",
      "True\n"
     ]
    }
   ],
   "source": [
    "print(my_matrix1.vectors)\n",
    "print(my_matrix3.shape)\n",
    "print(type(my_matrix1) == Matrix)"
   ]
  },
  {
   "cell_type": "code",
   "execution_count": 40,
   "metadata": {},
   "outputs": [],
   "source": [
    "result1 = my_matrix1 + my_matrix2\n",
    "result2 =  my_matrix1 + 100\n",
    "result3 = 200 + my_matrix1\n",
    "result4 = 1000 * my_matrix1\n",
    "result5 = my_matrix1 * 100\n",
    "result6 = my_matrix1 * my_matrix2\n",
    "result7 = my_matrix1 * my_matrix3\n",
    "result8 = my_matrix1 / 10\n",
    "result9 = my_matrix1 - my_matrix2\n",
    "result10 =  my_matrix1 - 100\n",
    "result11 = 200 - my_matrix1\n",
    "result12 = -my_matrix2\n",
    "result13 = (my_matrix1 * my_matrix2) == (my_matrix2 * my_matrix1)\n",
    "result14 = my_matrix1 != my_matrix2"
   ]
  },
  {
   "cell_type": "code",
   "execution_count": 41,
   "metadata": {},
   "outputs": [
    {
     "name": "stdout",
     "output_type": "stream",
     "text": [
      "result1 \n",
      "\n",
      " [[2, 3, 4]\n",
      "[6, 7, 8]\n",
      "[10, 11, 12]] \n",
      "\n",
      "result2 \n",
      "\n",
      " [[101, 102, 103]\n",
      "[104, 105, 106]\n",
      "[107, 108, 109]] \n",
      "\n",
      "result3 \n",
      "\n",
      " [[201, 202, 203]\n",
      "[204, 205, 206]\n",
      "[207, 208, 209]] \n",
      "\n",
      "result4 \n",
      "\n",
      " [[1000, 2000, 3000]\n",
      "[4000, 5000, 6000]\n",
      "[7000, 8000, 9000]] \n",
      "\n",
      "result5 \n",
      "\n",
      " [[100, 200, 300]\n",
      "[400, 500, 600]\n",
      "[700, 800, 900]] \n",
      "\n",
      "result6 \n",
      "\n",
      " [[14, 14, 14]\n",
      "[32, 32, 32]\n",
      "[50, 50, 50]] \n",
      "\n",
      "result7 \n",
      "\n",
      " [[220, 280]\n",
      "[490, 640]\n",
      "[760, 1000]] \n",
      "\n",
      "result8 \n",
      "\n",
      " [[0.1, 0.2, 0.3]\n",
      "[0.4, 0.5, 0.6]\n",
      "[0.7, 0.8, 0.9]] \n",
      "\n",
      "result9 \n",
      "\n",
      " [[0, 1, 2]\n",
      "[2, 3, 4]\n",
      "[4, 5, 6]] \n",
      "\n",
      "result10 \n",
      "\n",
      " [[-99, -98, -97]\n",
      "[-96, -95, -94]\n",
      "[-93, -92, -91]] \n",
      "\n",
      "result11 \n",
      "\n",
      " [[199, 198, 197]\n",
      "[196, 195, 194]\n",
      "[193, 192, 191]] \n",
      "\n",
      "result12 \n",
      "\n",
      " [[-1, -1, -1]\n",
      "[-2, -2, -2]\n",
      "[-3, -3, -3]] \n",
      "\n",
      "result13 \n",
      "\n",
      " False \n",
      "\n",
      "result14 \n",
      "\n",
      " True \n",
      "\n"
     ]
    }
   ],
   "source": [
    "print('result1 \\n\\n', result1, '\\n')\n",
    "print('result2 \\n\\n', result2, '\\n')\n",
    "print('result3 \\n\\n', result3, '\\n')\n",
    "print('result4 \\n\\n', result4, '\\n')\n",
    "print('result5 \\n\\n', result5, '\\n')\n",
    "print('result6 \\n\\n', result6, '\\n')\n",
    "print('result7 \\n\\n', result7, '\\n')\n",
    "print('result8 \\n\\n', result8, '\\n')\n",
    "print('result9 \\n\\n', result9, '\\n')\n",
    "print('result10 \\n\\n', result10, '\\n')\n",
    "print('result11 \\n\\n', result11, '\\n')\n",
    "print('result12 \\n\\n', result12, '\\n')\n",
    "print('result13 \\n\\n', result13, '\\n')\n",
    "print('result14 \\n\\n', result14, '\\n')"
   ]
  },
  {
   "cell_type": "code",
   "execution_count": 42,
   "metadata": {},
   "outputs": [
    {
     "name": "stdout",
     "output_type": "stream",
     "text": [
      "[[1, 2, 3]\n",
      "[4, 5, 6]\n",
      "[7, 8, 9]]\n",
      "[[1, 1, 1]\n",
      "[2, 2, 2]\n",
      "[3, 3, 3]]\n",
      "[[10, 20]\n",
      "[30, 40]\n",
      "[50, 60]]\n"
     ]
    }
   ],
   "source": [
    "print(my_matrix1)\n",
    "print(my_matrix2)\n",
    "print(my_matrix3)"
   ]
  },
  {
   "cell_type": "code",
   "execution_count": 43,
   "metadata": {
    "scrolled": false
   },
   "outputs": [
    {
     "name": "stdout",
     "output_type": "stream",
     "text": [
      "True\n",
      "True\n",
      "True\n",
      "True\n",
      "True\n",
      "True\n",
      "True\n",
      "True\n",
      "True\n",
      "True\n",
      "True\n",
      "True\n"
     ]
    }
   ],
   "source": [
    "print(type(result1) == Matrix)\n",
    "print(type(result2) == Matrix)\n",
    "print(type(result3) == Matrix)\n",
    "print(type(result4) == Matrix)\n",
    "print(type(result5) == Matrix)\n",
    "print(type(result6) == Matrix)\n",
    "print(type(result7) == Matrix)\n",
    "print(type(result8) == Matrix)\n",
    "print(type(result9) == Matrix)\n",
    "print(type(result10) == Matrix)\n",
    "print(type(result11) == Matrix)\n",
    "print(type(result12) == Matrix)"
   ]
  },
  {
   "cell_type": "code",
   "execution_count": 44,
   "metadata": {},
   "outputs": [
    {
     "ename": "AssertionError",
     "evalue": "Error",
     "output_type": "error",
     "traceback": [
      "\u001b[1;31m---------------------------------------------------------------------------\u001b[0m",
      "\u001b[1;31mAssertionError\u001b[0m                            Traceback (most recent call last)",
      "\u001b[1;32m<ipython-input-44-496ae712a931>\u001b[0m in \u001b[0;36m<module>\u001b[1;34m\u001b[0m\n\u001b[1;32m----> 1\u001b[1;33m \u001b[0mmy_matrix1\u001b[0m \u001b[1;33m+\u001b[0m \u001b[1;34m'my_string'\u001b[0m \u001b[1;31m# error message\u001b[0m\u001b[1;33m\u001b[0m\u001b[1;33m\u001b[0m\u001b[0m\n\u001b[0m",
      "\u001b[1;32m<ipython-input-36-d99843e1d341>\u001b[0m in \u001b[0;36m__add__\u001b[1;34m(self, other)\u001b[0m\n\u001b[0;32m     20\u001b[0m \u001b[1;33m\u001b[0m\u001b[0m\n\u001b[0;32m     21\u001b[0m     \u001b[1;32mdef\u001b[0m \u001b[0m__add__\u001b[0m\u001b[1;33m(\u001b[0m\u001b[0mself\u001b[0m\u001b[1;33m,\u001b[0m \u001b[0mother\u001b[0m\u001b[1;33m)\u001b[0m\u001b[1;33m:\u001b[0m\u001b[1;33m\u001b[0m\u001b[1;33m\u001b[0m\u001b[0m\n\u001b[1;32m---> 22\u001b[1;33m         \u001b[1;32massert\u001b[0m \u001b[0misinstance\u001b[0m\u001b[1;33m(\u001b[0m\u001b[0mother\u001b[0m\u001b[1;33m,\u001b[0m\u001b[1;33m(\u001b[0m\u001b[0mint\u001b[0m\u001b[1;33m,\u001b[0m\u001b[0mMatrix\u001b[0m\u001b[1;33m)\u001b[0m\u001b[1;33m)\u001b[0m\u001b[1;33m,\u001b[0m \u001b[1;34m'Error'\u001b[0m   \u001b[1;31m#assert를 이용해 int matrix로 other의 type을 제한해주었다.\u001b[0m\u001b[1;33m\u001b[0m\u001b[1;33m\u001b[0m\u001b[0m\n\u001b[0m\u001b[0;32m     23\u001b[0m         \u001b[0madd_result\u001b[0m\u001b[1;33m=\u001b[0m\u001b[0mMatrix\u001b[0m\u001b[1;33m(\u001b[0m\u001b[1;33m[\u001b[0m\u001b[1;33m[\u001b[0m\u001b[1;36m0\u001b[0m\u001b[1;33m]\u001b[0m\u001b[1;33m*\u001b[0m\u001b[0mlen\u001b[0m\u001b[1;33m(\u001b[0m\u001b[0mself\u001b[0m\u001b[1;33m.\u001b[0m\u001b[0mvectors\u001b[0m\u001b[1;33m[\u001b[0m\u001b[1;36m0\u001b[0m\u001b[1;33m]\u001b[0m\u001b[1;33m)\u001b[0m \u001b[1;32mfor\u001b[0m \u001b[0m_\u001b[0m \u001b[1;32min\u001b[0m \u001b[0mrange\u001b[0m\u001b[1;33m(\u001b[0m\u001b[0mlen\u001b[0m\u001b[1;33m(\u001b[0m\u001b[0mself\u001b[0m\u001b[1;33m.\u001b[0m\u001b[0mvectors\u001b[0m\u001b[1;33m)\u001b[0m\u001b[1;33m)\u001b[0m\u001b[1;33m]\u001b[0m\u001b[1;33m)\u001b[0m \u001b[1;31m#self와 shape이 add_result matrix를 만들었다.\u001b[0m\u001b[1;33m\u001b[0m\u001b[1;33m\u001b[0m\u001b[0m\n\u001b[0;32m     24\u001b[0m         \u001b[1;32mif\u001b[0m \u001b[0misinstance\u001b[0m\u001b[1;33m(\u001b[0m\u001b[0mother\u001b[0m\u001b[1;33m,\u001b[0m \u001b[0mint\u001b[0m\u001b[1;33m)\u001b[0m\u001b[1;33m:\u001b[0m  \u001b[1;31m#연산자 하나로 실수, 행렬 모두 덧셈 가능하게 해야하므로 조건문 if, else를 사용한다.\u001b[0m\u001b[1;33m\u001b[0m\u001b[1;33m\u001b[0m\u001b[0m\n",
      "\u001b[1;31mAssertionError\u001b[0m: Error"
     ]
    }
   ],
   "source": [
    "my_matrix1 + 'my_string' # error message"
   ]
  },
  {
   "cell_type": "code",
   "execution_count": 45,
   "metadata": {},
   "outputs": [
    {
     "ename": "AssertionError",
     "evalue": "Error",
     "output_type": "error",
     "traceback": [
      "\u001b[1;31m---------------------------------------------------------------------------\u001b[0m",
      "\u001b[1;31mAssertionError\u001b[0m                            Traceback (most recent call last)",
      "\u001b[1;32m<ipython-input-45-4cfc2b85811f>\u001b[0m in \u001b[0;36m<module>\u001b[1;34m\u001b[0m\n\u001b[1;32m----> 1\u001b[1;33m \u001b[0mmy_matrix3\u001b[0m \u001b[1;33m*\u001b[0m \u001b[0mmy_matrix2\u001b[0m \u001b[1;31m# error message\u001b[0m\u001b[1;33m\u001b[0m\u001b[1;33m\u001b[0m\u001b[0m\n\u001b[0m",
      "\u001b[1;32m<ipython-input-36-d99843e1d341>\u001b[0m in \u001b[0;36m__mul__\u001b[1;34m(self, other)\u001b[0m\n\u001b[0;32m     53\u001b[0m             \u001b[0mmul_result\u001b[0m\u001b[1;33m=\u001b[0m\u001b[0mMatrix\u001b[0m\u001b[1;33m(\u001b[0m\u001b[0mnew_vectors\u001b[0m\u001b[1;33m)\u001b[0m \u001b[1;31m#matrix간 곱셈에서는 shape이 바뀐다. shape이 같은 임의의 matrix를 만든다.\u001b[0m\u001b[1;33m\u001b[0m\u001b[1;33m\u001b[0m\u001b[0m\n\u001b[0;32m     54\u001b[0m             \u001b[1;31m#2번문제 vector에서는 행렬곱은 사용하지 않으므로 행렬곱의 경우 굳이 self과 같은 타입일 필요가 없다고 판단하였다.\u001b[0m\u001b[1;33m\u001b[0m\u001b[1;33m\u001b[0m\u001b[1;33m\u001b[0m\u001b[0m\n\u001b[1;32m---> 55\u001b[1;33m             \u001b[1;32massert\u001b[0m \u001b[0mlen\u001b[0m\u001b[1;33m(\u001b[0m\u001b[0mself\u001b[0m\u001b[1;33m.\u001b[0m\u001b[0mvectors\u001b[0m\u001b[1;33m[\u001b[0m\u001b[1;36m0\u001b[0m\u001b[1;33m]\u001b[0m\u001b[1;33m)\u001b[0m\u001b[1;33m==\u001b[0m\u001b[0mlen\u001b[0m\u001b[1;33m(\u001b[0m\u001b[0mother\u001b[0m\u001b[1;33m.\u001b[0m\u001b[0mvectors\u001b[0m\u001b[1;33m)\u001b[0m\u001b[1;33m,\u001b[0m \u001b[1;34m'Error'\u001b[0m \u001b[1;31m#self의 행의 길이가 other의 열의 길이와 같아야 성립한다.\u001b[0m\u001b[1;33m\u001b[0m\u001b[1;33m\u001b[0m\u001b[0m\n\u001b[0m\u001b[0;32m     56\u001b[0m             \u001b[1;32mfor\u001b[0m \u001b[0mi\u001b[0m \u001b[1;32min\u001b[0m \u001b[0mrange\u001b[0m\u001b[1;33m(\u001b[0m\u001b[0mlen\u001b[0m\u001b[1;33m(\u001b[0m\u001b[0mmul_result\u001b[0m\u001b[1;33m)\u001b[0m\u001b[1;33m)\u001b[0m\u001b[1;33m:\u001b[0m\u001b[1;33m\u001b[0m\u001b[1;33m\u001b[0m\u001b[0m\n\u001b[0;32m     57\u001b[0m                 \u001b[1;32mfor\u001b[0m \u001b[0mj\u001b[0m \u001b[1;32min\u001b[0m \u001b[0mrange\u001b[0m\u001b[1;33m(\u001b[0m\u001b[0mlen\u001b[0m\u001b[1;33m(\u001b[0m\u001b[0mmul_result\u001b[0m\u001b[1;33m.\u001b[0m\u001b[0mvectors\u001b[0m\u001b[1;33m[\u001b[0m\u001b[1;36m0\u001b[0m\u001b[1;33m]\u001b[0m\u001b[1;33m)\u001b[0m\u001b[1;33m)\u001b[0m\u001b[1;33m:\u001b[0m\u001b[1;33m\u001b[0m\u001b[1;33m\u001b[0m\u001b[0m\n",
      "\u001b[1;31mAssertionError\u001b[0m: Error"
     ]
    }
   ],
   "source": [
    "my_matrix3 * my_matrix2 # error message"
   ]
  },
  {
   "cell_type": "code",
   "execution_count": 46,
   "metadata": {},
   "outputs": [
    {
     "ename": "AssertionError",
     "evalue": "Error",
     "output_type": "error",
     "traceback": [
      "\u001b[1;31m---------------------------------------------------------------------------\u001b[0m",
      "\u001b[1;31mAssertionError\u001b[0m                            Traceback (most recent call last)",
      "\u001b[1;32m<ipython-input-46-d008cdcc7f3a>\u001b[0m in \u001b[0;36m<module>\u001b[1;34m\u001b[0m\n\u001b[1;32m----> 1\u001b[1;33m \u001b[0mmy_matrix1\u001b[0m \u001b[1;33m+\u001b[0m \u001b[0mmy_matrix3\u001b[0m \u001b[1;31m# error message\u001b[0m\u001b[1;33m\u001b[0m\u001b[1;33m\u001b[0m\u001b[0m\n\u001b[0m",
      "\u001b[1;32m<ipython-input-36-d99843e1d341>\u001b[0m in \u001b[0;36m__add__\u001b[1;34m(self, other)\u001b[0m\n\u001b[0;32m     29\u001b[0m \u001b[1;33m\u001b[0m\u001b[0m\n\u001b[0;32m     30\u001b[0m         \u001b[1;32melse\u001b[0m\u001b[1;33m:\u001b[0m \u001b[1;31m# other이 matrix인 경우\u001b[0m\u001b[1;33m\u001b[0m\u001b[1;33m\u001b[0m\u001b[0m\n\u001b[1;32m---> 31\u001b[1;33m             \u001b[1;32massert\u001b[0m \u001b[0mself\u001b[0m\u001b[1;33m.\u001b[0m\u001b[0mshape\u001b[0m\u001b[1;33m==\u001b[0m\u001b[0mother\u001b[0m\u001b[1;33m.\u001b[0m\u001b[0mshape\u001b[0m\u001b[1;33m,\u001b[0m \u001b[1;34m'Error'\u001b[0m \u001b[1;31m#self와 other은 shape이 같은 행렬이어야 한다.\u001b[0m\u001b[1;33m\u001b[0m\u001b[1;33m\u001b[0m\u001b[0m\n\u001b[0m\u001b[0;32m     32\u001b[0m             \u001b[1;32mfor\u001b[0m \u001b[0mi\u001b[0m \u001b[1;32min\u001b[0m \u001b[0mrange\u001b[0m\u001b[1;33m(\u001b[0m\u001b[0mlen\u001b[0m\u001b[1;33m(\u001b[0m\u001b[0mself\u001b[0m\u001b[1;33m.\u001b[0m\u001b[0mvectors\u001b[0m\u001b[1;33m)\u001b[0m\u001b[1;33m)\u001b[0m\u001b[1;33m:\u001b[0m\u001b[1;33m\u001b[0m\u001b[1;33m\u001b[0m\u001b[0m\n\u001b[0;32m     33\u001b[0m                 \u001b[1;32mfor\u001b[0m \u001b[0mj\u001b[0m \u001b[1;32min\u001b[0m \u001b[0mrange\u001b[0m\u001b[1;33m(\u001b[0m\u001b[0mlen\u001b[0m\u001b[1;33m(\u001b[0m\u001b[0mself\u001b[0m\u001b[1;33m.\u001b[0m\u001b[0mvectors\u001b[0m\u001b[1;33m[\u001b[0m\u001b[1;36m0\u001b[0m\u001b[1;33m]\u001b[0m\u001b[1;33m)\u001b[0m\u001b[1;33m)\u001b[0m\u001b[1;33m:\u001b[0m\u001b[1;33m\u001b[0m\u001b[1;33m\u001b[0m\u001b[0m\n",
      "\u001b[1;31mAssertionError\u001b[0m: Error"
     ]
    }
   ],
   "source": [
    "my_matrix1 + my_matrix3 # error message"
   ]
  },
  {
   "cell_type": "markdown",
   "metadata": {},
   "source": [
    "### Describe and Discuss your answer: "
   ]
  },
  {
   "cell_type": "markdown",
   "metadata": {},
   "source": [
    "__init__ 에서 class의 형태와 shape를 정의해주었다. __str__ 에서는 줄을 바꾸며 출력을 해주기 위해 for문을 이용하였고 str type 값이 return되어야 하므로 return ''을 붙여주었다. len함수의 경우 list에서는 이미 주어진 조건과 동일한 기능의 len을 제공하므로, list에 존재하는 len함수를 사용하였다.\n",
    "\n",
    "Matrix의 사칙연산(__add__, __mul__,__sub__,__truediv__)에서 전자 세개는 부호 하나로 matrix와 실수간의 연산, matrix간의 연산을 모두 가능하게 하기 위해 조건문 if로 other의 type을 분류해 각각 다른 값을 return하도록 하였다. add와 mul의 경우 교환법칙이 성립하므로 radd rmul에도 동일한 값을 반환하도록 하였고 sub의 경우는 부호가 바뀌므로 rsub에서는 부호만 바꿔주었다.\n",
    "\n",
    "사칙연산이나 비교 연산자에서는 Matrix의 각 행, 각 열에 해당하는 숫자들에 대해 연산을 하기 위해 2중 for문을 이용하였다. matrix 간의 곱셈에서는 self matrix의 column과 other matrix의 row의 요소들을 각각 곱해 더해주는 과정이 필요하므로 3중for문을 사용해 구현하였다.\n",
    "\n",
    "연산값을 반환하기 위해 나는 임의의 행렬을 하나 만들고 self와 other을 계산해 나온 값을 그 행렬에 넣은 후, 계산값들이 모두 들어간 행렬을 반환하는 방식을 사용하였다. 처음에는 0으로 이루어지고 shape이 같은 어떤 matrix를 하나 만들어 이를 구현하였는데, 이후 2번문제를 풀면서 문제에 봉착하게 되었다. 2번에서 matrix를 상속받은 vector class가 연산을 한 이후 vector type이 아닌 matrix type을 반환하는 것이었다.\n",
    "이를 해결하기 위해 add 혹은 mul 함수를 구현할 때만 임의의 matrix만들어 값을 대입 및 반환하도록 하고, 다른 함수에서는\n",
    "임의의 matrix =self.__add__(0) 혹은 self.__mul__(1)등을 이용해 임의의 matrix를 고정된 matrix타입이 아닌 self와 같은 타입을 가지는 임의의 행렬로 만들어주도록 하였다. 이렇게 설정하면 이후 vector에서는 self가 vector이므로 vector type을 반환할 것이라고 생각했고, 실제로 맞았다.\n",
    "2번문제에도 add함수가 필요하다면 구현하도록 되어있어서 나는 add함수에서 임의의 matrix를 설정하고 값을 반환->다른 함수들에서는 값을 반환하기 위해 설정한 임의의 matrix를 self.__add__(0)로 설정->vector 덧셈함수를 2번문제에 따로 구현하는 방식을 택하였다.\n",
    "\n",
    "neg함수는 앞서 구현한 mul함수를 이용해 (-1)실수곱을 해주는 방법으로 구현하였고,\n",
    "eq,ne의 경우 shape이 같은 행렬에 대해서 행렬의 각행, 각열에 해당하는 숫자들을 비교하도록 2중for문을 통해 구현해주었다."
   ]
  },
  {
   "cell_type": "markdown",
   "metadata": {},
   "source": [
    "-------------------------------"
   ]
  },
  {
   "cell_type": "markdown",
   "metadata": {},
   "source": [
    "### PROBLEM II - Inheritance (20 POINTS)"
   ]
  },
  {
   "cell_type": "markdown",
   "metadata": {},
   "source": [
    "아래의 조건을 만족하는 ```Vector``` class를 완성하시오."
   ]
  },
  {
   "cell_type": "markdown",
   "metadata": {},
   "source": [
    "### Conditions\n",
    "\n",
    "1. Length가 1인 2-dimesional list를 argument로 하며, row vector만 표현하도록 한다.\n",
    "> 예를 들어, 1, 2, 3을 원소로 하는 벡터는 ```Vector([[1, 2, 3]])```으로 표현한다.  \n",
    "2. __PROBLEM I__ 의 ```Matrix``` class를 상속받아야 한다.\n",
    "3. ```Vector``` class의 object는 다음을 만족해야 한다.\n",
    "> 1) ```*```연산자로 벡터 간 내적 및 실수와의 곱셈이 가능하다.  \n",
    "> 2) ```Matrix``` class의 object에서 가능한 모든 연산은 ```Vector```  class의 object에서도 가능하다.  \n",
    "> 3) 벡터의 비교는 shape(dimension)이 같은 두 벡터에 대해서만 정의된다. 즉, 벡터와 실수의 비교 및 다른 shape(dimension)을 가진 벡터 간 비교는 불가능하다.  \n",
    "> 4) 연산이 불가능한 경우 error message를 출력한다.  \n",
    "> 5) 내적과 비교를 제외한 모든 연산의 결과는 ```Vector``` class여야 한다. 즉, ```(type(result_vector) == Vector) = True``` 이다.\n",
    "\n",
    "\n",
    "### Note\n",
    "* _Numpy를 비롯한 외부 라이브러리는 사용하지 않는다. (사용 시 해당 문항 0점)_\n",
    "* ```__add__```와 ```__mul__``` 이외의 연산은 ```Vector``` class에서 overload할 수 없다. (명시한 operator 이외의 operator를 ```Vector``` class에서 overload 시 해당 문항 0점) \n",
    "\n",
    "### Hint\n",
    "* 행 벡터는 $1 \\times n$ 행렬로 생각할 수 있다."
   ]
  },
  {
   "cell_type": "code",
   "execution_count": 47,
   "metadata": {},
   "outputs": [],
   "source": [
    "class Vector(Matrix):\n",
    "    def __init__(self, vectors):\n",
    "        Matrix.__init__(self,vectors) #Matrix class의 init을 상속받았다.\n",
    "        assert len(self.vectors)==1, 'Error' #Matrix와 동일하지만 shape는 1xn형태로 만들어준다.\n",
    "\n",
    "    def __mul__(self, other): #Vector의 내적을 행렬곱셈과 별개로 구현하기 위해 사용하였다.\n",
    "        assert isinstance(other, (int,Vector)), 'Error' \n",
    "        if isinstance(other,int):\n",
    "            mul_result=Vector([[]])\n",
    "            for i in range(len(self.vectors[0])): #Vector은 1xn shape이라는 것을 이용해 for문을 한번만 써준다.\n",
    "                mul_result.vectors[0].append(self.vectors[0][i]*other)\n",
    "            return mul_result\n",
    "        else:\n",
    "            assert len(self.vectors[0])==len(other.vectors[0]),'Error' #vector의 길이가 동일해야 한다는 제약을 걸어준다.\n",
    "            mul_result=0\n",
    "            for i in range(len(self.vectors[0])): #Vector는 1xn shape이므로 for문은 한번만 필요하다.\n",
    "                mul_result+=int(self.vectors[0][i]*other.vectors[0][i])\n",
    "            return mul_result\n",
    "    \n",
    "    def __add__(self,other):\n",
    "        assert isinstance(other,(int,Vector)), 'Error'\n",
    "        add_result=Vector([[]])\n",
    "        if isinstance(other,int):\n",
    "            for i in range(len(self.vectors[0])):\n",
    "                add_result.vectors[0].append(self.vectors[0][i]+other)\n",
    "            return add_result\n",
    "        else:\n",
    "            for i in range(len(self.vectors[0])):\n",
    "                add_result.vectors[0].append(self.vectors[0][i]+other.vectors[0][i])\n",
    "            return add_result\n",
    "    "
   ]
  },
  {
   "cell_type": "code",
   "execution_count": 48,
   "metadata": {},
   "outputs": [
    {
     "ename": "AssertionError",
     "evalue": "Row vectors must be a list.",
     "output_type": "error",
     "traceback": [
      "\u001b[1;31m---------------------------------------------------------------------------\u001b[0m",
      "\u001b[1;31mAssertionError\u001b[0m                            Traceback (most recent call last)",
      "\u001b[1;32m<ipython-input-48-3bc84817bcb1>\u001b[0m in \u001b[0;36m<module>\u001b[1;34m\u001b[0m\n\u001b[1;32m----> 1\u001b[1;33m \u001b[0mvector\u001b[0m \u001b[1;33m=\u001b[0m \u001b[0mVector\u001b[0m\u001b[1;33m(\u001b[0m\u001b[1;33m[\u001b[0m\u001b[1;36m1\u001b[0m\u001b[1;33m,\u001b[0m \u001b[1;36m2\u001b[0m\u001b[1;33m,\u001b[0m \u001b[1;36m3\u001b[0m\u001b[1;33m]\u001b[0m\u001b[1;33m)\u001b[0m \u001b[1;31m# error message\u001b[0m\u001b[1;33m\u001b[0m\u001b[1;33m\u001b[0m\u001b[0m\n\u001b[0m",
      "\u001b[1;32m<ipython-input-47-91cb51eed939>\u001b[0m in \u001b[0;36m__init__\u001b[1;34m(self, vectors)\u001b[0m\n\u001b[0;32m      1\u001b[0m \u001b[1;32mclass\u001b[0m \u001b[0mVector\u001b[0m\u001b[1;33m(\u001b[0m\u001b[0mMatrix\u001b[0m\u001b[1;33m)\u001b[0m\u001b[1;33m:\u001b[0m\u001b[1;33m\u001b[0m\u001b[1;33m\u001b[0m\u001b[0m\n\u001b[0;32m      2\u001b[0m     \u001b[1;32mdef\u001b[0m \u001b[0m__init__\u001b[0m\u001b[1;33m(\u001b[0m\u001b[0mself\u001b[0m\u001b[1;33m,\u001b[0m \u001b[0mvectors\u001b[0m\u001b[1;33m)\u001b[0m\u001b[1;33m:\u001b[0m\u001b[1;33m\u001b[0m\u001b[1;33m\u001b[0m\u001b[0m\n\u001b[1;32m----> 3\u001b[1;33m         \u001b[0mMatrix\u001b[0m\u001b[1;33m.\u001b[0m\u001b[0m__init__\u001b[0m\u001b[1;33m(\u001b[0m\u001b[0mself\u001b[0m\u001b[1;33m,\u001b[0m\u001b[0mvectors\u001b[0m\u001b[1;33m)\u001b[0m \u001b[1;31m#Matrix class의 init을 상속받았다.\u001b[0m\u001b[1;33m\u001b[0m\u001b[1;33m\u001b[0m\u001b[0m\n\u001b[0m\u001b[0;32m      4\u001b[0m         \u001b[1;32massert\u001b[0m \u001b[0mlen\u001b[0m\u001b[1;33m(\u001b[0m\u001b[0mself\u001b[0m\u001b[1;33m.\u001b[0m\u001b[0mvectors\u001b[0m\u001b[1;33m)\u001b[0m\u001b[1;33m==\u001b[0m\u001b[1;36m1\u001b[0m\u001b[1;33m,\u001b[0m \u001b[1;34m'Error'\u001b[0m \u001b[1;31m#Matrix와 동일하지만 shape는 1xn형태로 만들어준다.\u001b[0m\u001b[1;33m\u001b[0m\u001b[1;33m\u001b[0m\u001b[0m\n\u001b[0;32m      5\u001b[0m \u001b[1;33m\u001b[0m\u001b[0m\n",
      "\u001b[1;32m<ipython-input-36-d99843e1d341>\u001b[0m in \u001b[0;36m__init__\u001b[1;34m(self, vectors)\u001b[0m\n\u001b[0;32m      2\u001b[0m     \u001b[1;32mdef\u001b[0m \u001b[0m__init__\u001b[0m\u001b[1;33m(\u001b[0m\u001b[0mself\u001b[0m\u001b[1;33m,\u001b[0m \u001b[0mvectors\u001b[0m\u001b[1;33m)\u001b[0m\u001b[1;33m:\u001b[0m\u001b[1;33m\u001b[0m\u001b[1;33m\u001b[0m\u001b[0m\n\u001b[0;32m      3\u001b[0m         \u001b[1;32massert\u001b[0m \u001b[0misinstance\u001b[0m\u001b[1;33m(\u001b[0m\u001b[0mvectors\u001b[0m\u001b[1;33m,\u001b[0m \u001b[0mlist\u001b[0m\u001b[1;33m)\u001b[0m\u001b[1;33m,\u001b[0m \u001b[1;34m'Input argument must be a list.'\u001b[0m\u001b[1;33m\u001b[0m\u001b[1;33m\u001b[0m\u001b[0m\n\u001b[1;32m----> 4\u001b[1;33m         \u001b[1;32massert\u001b[0m \u001b[0mall\u001b[0m\u001b[1;33m(\u001b[0m\u001b[1;33m[\u001b[0m\u001b[0misinstance\u001b[0m\u001b[1;33m(\u001b[0m\u001b[0mvector\u001b[0m\u001b[1;33m,\u001b[0m \u001b[0mlist\u001b[0m\u001b[1;33m)\u001b[0m \u001b[1;32mfor\u001b[0m \u001b[0mvector\u001b[0m \u001b[1;32min\u001b[0m \u001b[0mvectors\u001b[0m\u001b[1;33m]\u001b[0m\u001b[1;33m)\u001b[0m\u001b[1;33m,\u001b[0m \u001b[1;34m'Row vectors must be a list.'\u001b[0m\u001b[1;33m\u001b[0m\u001b[1;33m\u001b[0m\u001b[0m\n\u001b[0m\u001b[0;32m      5\u001b[0m         \u001b[1;32massert\u001b[0m \u001b[0mall\u001b[0m\u001b[1;33m(\u001b[0m\u001b[0mlen\u001b[0m\u001b[1;33m(\u001b[0m\u001b[0mvector\u001b[0m\u001b[1;33m)\u001b[0m \u001b[1;33m==\u001b[0m \u001b[0mlen\u001b[0m\u001b[1;33m(\u001b[0m\u001b[0mvectors\u001b[0m\u001b[1;33m[\u001b[0m\u001b[1;36m0\u001b[0m\u001b[1;33m]\u001b[0m\u001b[1;33m)\u001b[0m \u001b[1;32mfor\u001b[0m \u001b[0mvector\u001b[0m \u001b[1;32min\u001b[0m \u001b[0mvectors\u001b[0m\u001b[1;33m)\u001b[0m\u001b[1;33m,\u001b[0m \u001b[1;34m'Row vectors must have the same length.'\u001b[0m\u001b[1;33m\u001b[0m\u001b[1;33m\u001b[0m\u001b[0m\n\u001b[0;32m      6\u001b[0m         \u001b[0mself\u001b[0m\u001b[1;33m.\u001b[0m\u001b[0mvectors\u001b[0m\u001b[1;33m=\u001b[0m\u001b[0mvectors\u001b[0m\u001b[1;33m\u001b[0m\u001b[1;33m\u001b[0m\u001b[0m\n",
      "\u001b[1;31mAssertionError\u001b[0m: Row vectors must be a list."
     ]
    }
   ],
   "source": [
    "vector = Vector([1, 2, 3]) # error message"
   ]
  },
  {
   "cell_type": "code",
   "execution_count": 49,
   "metadata": {},
   "outputs": [],
   "source": [
    "my_vector1 = Vector([[1, 2, 3]])\n",
    "my_vector2 = Vector([[400, 500, 600]])\n",
    "my_vector3 = Vector([[1, 2]])"
   ]
  },
  {
   "cell_type": "code",
   "execution_count": 50,
   "metadata": {},
   "outputs": [
    {
     "name": "stdout",
     "output_type": "stream",
     "text": [
      "[[1, 2, 3]]\n",
      "[[400, 500, 600]]\n",
      "[[1, 2]]\n"
     ]
    }
   ],
   "source": [
    "print(my_vector1)\n",
    "print(my_vector2)\n",
    "print(my_vector3)"
   ]
  },
  {
   "cell_type": "code",
   "execution_count": 51,
   "metadata": {},
   "outputs": [
    {
     "name": "stdout",
     "output_type": "stream",
     "text": [
      "[[1, 2, 3]]\n",
      "(1, 3)\n",
      "True\n"
     ]
    }
   ],
   "source": [
    "print(my_vector1.vectors)\n",
    "print(my_vector2.shape)\n",
    "print(type(my_vector3) == Vector)"
   ]
  },
  {
   "cell_type": "code",
   "execution_count": 52,
   "metadata": {},
   "outputs": [],
   "source": [
    "result1 = my_vector1 + my_vector2\n",
    "result2 =  my_vector1 + 100\n",
    "result3 = 200 + my_vector1\n",
    "result4 = 1000 * my_vector1\n",
    "result5 = my_vector3 * 100\n",
    "result6 = my_vector1 * my_vector2\n",
    "result7 = my_vector2 * my_vector1\n",
    "result8 = my_vector2 / 10\n",
    "result9 = my_vector2 - my_vector1\n",
    "result10 =  my_vector2 - 100\n",
    "result11 = 200 - my_vector2\n",
    "result12 = -my_vector1\n",
    "result13 = my_vector1 == my_vector2\n",
    "result14 = my_vector1 != my_vector2"
   ]
  },
  {
   "cell_type": "code",
   "execution_count": 53,
   "metadata": {},
   "outputs": [
    {
     "name": "stdout",
     "output_type": "stream",
     "text": [
      "result1 \n",
      "\n",
      " [[401, 502, 603]] \n",
      "\n",
      "result2 \n",
      "\n",
      " [[101, 102, 103]] \n",
      "\n",
      "result3 \n",
      "\n",
      " [[201, 202, 203]] \n",
      "\n",
      "result4 \n",
      "\n",
      " [[1000, 2000, 3000]] \n",
      "\n",
      "result5 \n",
      "\n",
      " [[100, 200]] \n",
      "\n",
      "result6 \n",
      "\n",
      " 3200 \n",
      "\n",
      "result7 \n",
      "\n",
      " 3200 \n",
      "\n",
      "result8 \n",
      "\n",
      " [[40.0, 50.0, 60.0]] \n",
      "\n",
      "result9 \n",
      "\n",
      " [[399, 498, 597]] \n",
      "\n",
      "result10 \n",
      "\n",
      " [[300, 400, 500]] \n",
      "\n",
      "result11 \n",
      "\n",
      " [[-200, -300, -400]] \n",
      "\n",
      "result12 \n",
      "\n",
      " [[-1, -2, -3]] \n",
      "\n",
      "result13 \n",
      "\n",
      " False \n",
      "\n",
      "result14 \n",
      "\n",
      " True \n",
      "\n"
     ]
    }
   ],
   "source": [
    "print('result1 \\n\\n', result1, '\\n')\n",
    "print('result2 \\n\\n', result2, '\\n')\n",
    "print('result3 \\n\\n', result3, '\\n')\n",
    "print('result4 \\n\\n', result4, '\\n')\n",
    "print('result5 \\n\\n', result5, '\\n')\n",
    "print('result6 \\n\\n', result6, '\\n')\n",
    "print('result7 \\n\\n', result7, '\\n')\n",
    "print('result8 \\n\\n', result8, '\\n')\n",
    "print('result9 \\n\\n', result9, '\\n')\n",
    "print('result10 \\n\\n', result10, '\\n')\n",
    "print('result11 \\n\\n', result11, '\\n')\n",
    "print('result12 \\n\\n', result12, '\\n')\n",
    "print('result13 \\n\\n', result13, '\\n')\n",
    "print('result14 \\n\\n', result14, '\\n')"
   ]
  },
  {
   "cell_type": "code",
   "execution_count": 54,
   "metadata": {
    "scrolled": false
   },
   "outputs": [
    {
     "name": "stdout",
     "output_type": "stream",
     "text": [
      "True\n",
      "True\n",
      "True\n",
      "True\n",
      "True\n",
      "False\n",
      "False\n",
      "True\n",
      "True\n",
      "True\n",
      "True\n",
      "True\n"
     ]
    }
   ],
   "source": [
    "print(type(result1) == Vector)\n",
    "print(type(result2) == Vector)\n",
    "print(type(result3) == Vector)\n",
    "print(type(result4) == Vector)\n",
    "print(type(result5) == Vector)\n",
    "print(type(result6) == Vector)\n",
    "print(type(result7) == Vector)\n",
    "print(type(result8) == Vector)\n",
    "print(type(result9) == Vector)\n",
    "print(type(result10) == Vector)\n",
    "print(type(result11) == Vector)\n",
    "print(type(result12) == Vector)"
   ]
  },
  {
   "cell_type": "code",
   "execution_count": 55,
   "metadata": {},
   "outputs": [
    {
     "ename": "AssertionError",
     "evalue": "Error",
     "output_type": "error",
     "traceback": [
      "\u001b[1;31m---------------------------------------------------------------------------\u001b[0m",
      "\u001b[1;31mAssertionError\u001b[0m                            Traceback (most recent call last)",
      "\u001b[1;32m<ipython-input-55-da9e7ef33227>\u001b[0m in \u001b[0;36m<module>\u001b[1;34m\u001b[0m\n\u001b[1;32m----> 1\u001b[1;33m \u001b[0mmy_vector1\u001b[0m \u001b[1;33m+\u001b[0m \u001b[1;34m'my_string'\u001b[0m \u001b[1;31m# error message\u001b[0m\u001b[1;33m\u001b[0m\u001b[1;33m\u001b[0m\u001b[0m\n\u001b[0m",
      "\u001b[1;32m<ipython-input-47-91cb51eed939>\u001b[0m in \u001b[0;36m__add__\u001b[1;34m(self, other)\u001b[0m\n\u001b[0;32m     19\u001b[0m \u001b[1;33m\u001b[0m\u001b[0m\n\u001b[0;32m     20\u001b[0m     \u001b[1;32mdef\u001b[0m \u001b[0m__add__\u001b[0m\u001b[1;33m(\u001b[0m\u001b[0mself\u001b[0m\u001b[1;33m,\u001b[0m\u001b[0mother\u001b[0m\u001b[1;33m)\u001b[0m\u001b[1;33m:\u001b[0m\u001b[1;33m\u001b[0m\u001b[1;33m\u001b[0m\u001b[0m\n\u001b[1;32m---> 21\u001b[1;33m         \u001b[1;32massert\u001b[0m \u001b[0misinstance\u001b[0m\u001b[1;33m(\u001b[0m\u001b[0mother\u001b[0m\u001b[1;33m,\u001b[0m\u001b[1;33m(\u001b[0m\u001b[0mint\u001b[0m\u001b[1;33m,\u001b[0m\u001b[0mVector\u001b[0m\u001b[1;33m)\u001b[0m\u001b[1;33m)\u001b[0m\u001b[1;33m,\u001b[0m \u001b[1;34m'Error'\u001b[0m\u001b[1;33m\u001b[0m\u001b[1;33m\u001b[0m\u001b[0m\n\u001b[0m\u001b[0;32m     22\u001b[0m         \u001b[0madd_result\u001b[0m\u001b[1;33m=\u001b[0m\u001b[0mVector\u001b[0m\u001b[1;33m(\u001b[0m\u001b[1;33m[\u001b[0m\u001b[1;33m[\u001b[0m\u001b[1;33m]\u001b[0m\u001b[1;33m]\u001b[0m\u001b[1;33m)\u001b[0m\u001b[1;33m\u001b[0m\u001b[1;33m\u001b[0m\u001b[0m\n\u001b[0;32m     23\u001b[0m         \u001b[1;32mif\u001b[0m \u001b[0misinstance\u001b[0m\u001b[1;33m(\u001b[0m\u001b[0mother\u001b[0m\u001b[1;33m,\u001b[0m\u001b[0mint\u001b[0m\u001b[1;33m)\u001b[0m\u001b[1;33m:\u001b[0m\u001b[1;33m\u001b[0m\u001b[1;33m\u001b[0m\u001b[0m\n",
      "\u001b[1;31mAssertionError\u001b[0m: Error"
     ]
    }
   ],
   "source": [
    "my_vector1 + 'my_string' # error message"
   ]
  },
  {
   "cell_type": "code",
   "execution_count": 56,
   "metadata": {},
   "outputs": [
    {
     "ename": "IndexError",
     "evalue": "list index out of range",
     "output_type": "error",
     "traceback": [
      "\u001b[1;31m---------------------------------------------------------------------------\u001b[0m",
      "\u001b[1;31mIndexError\u001b[0m                                Traceback (most recent call last)",
      "\u001b[1;32m<ipython-input-56-2d6bc9702e13>\u001b[0m in \u001b[0;36m<module>\u001b[1;34m\u001b[0m\n\u001b[1;32m----> 1\u001b[1;33m \u001b[0mmy_vector1\u001b[0m \u001b[1;33m+\u001b[0m \u001b[0mmy_vector3\u001b[0m \u001b[1;31m# error message\u001b[0m\u001b[1;33m\u001b[0m\u001b[1;33m\u001b[0m\u001b[0m\n\u001b[0m",
      "\u001b[1;32m<ipython-input-47-91cb51eed939>\u001b[0m in \u001b[0;36m__add__\u001b[1;34m(self, other)\u001b[0m\n\u001b[0;32m     27\u001b[0m         \u001b[1;32melse\u001b[0m\u001b[1;33m:\u001b[0m\u001b[1;33m\u001b[0m\u001b[1;33m\u001b[0m\u001b[0m\n\u001b[0;32m     28\u001b[0m             \u001b[1;32mfor\u001b[0m \u001b[0mi\u001b[0m \u001b[1;32min\u001b[0m \u001b[0mrange\u001b[0m\u001b[1;33m(\u001b[0m\u001b[0mlen\u001b[0m\u001b[1;33m(\u001b[0m\u001b[0mself\u001b[0m\u001b[1;33m.\u001b[0m\u001b[0mvectors\u001b[0m\u001b[1;33m[\u001b[0m\u001b[1;36m0\u001b[0m\u001b[1;33m]\u001b[0m\u001b[1;33m)\u001b[0m\u001b[1;33m)\u001b[0m\u001b[1;33m:\u001b[0m\u001b[1;33m\u001b[0m\u001b[1;33m\u001b[0m\u001b[0m\n\u001b[1;32m---> 29\u001b[1;33m                 \u001b[0madd_result\u001b[0m\u001b[1;33m.\u001b[0m\u001b[0mvectors\u001b[0m\u001b[1;33m[\u001b[0m\u001b[1;36m0\u001b[0m\u001b[1;33m]\u001b[0m\u001b[1;33m.\u001b[0m\u001b[0mappend\u001b[0m\u001b[1;33m(\u001b[0m\u001b[0mself\u001b[0m\u001b[1;33m.\u001b[0m\u001b[0mvectors\u001b[0m\u001b[1;33m[\u001b[0m\u001b[1;36m0\u001b[0m\u001b[1;33m]\u001b[0m\u001b[1;33m[\u001b[0m\u001b[0mi\u001b[0m\u001b[1;33m]\u001b[0m\u001b[1;33m+\u001b[0m\u001b[0mother\u001b[0m\u001b[1;33m.\u001b[0m\u001b[0mvectors\u001b[0m\u001b[1;33m[\u001b[0m\u001b[1;36m0\u001b[0m\u001b[1;33m]\u001b[0m\u001b[1;33m[\u001b[0m\u001b[0mi\u001b[0m\u001b[1;33m]\u001b[0m\u001b[1;33m)\u001b[0m\u001b[1;33m\u001b[0m\u001b[1;33m\u001b[0m\u001b[0m\n\u001b[0m\u001b[0;32m     30\u001b[0m             \u001b[1;32mreturn\u001b[0m \u001b[0madd_result\u001b[0m\u001b[1;33m\u001b[0m\u001b[1;33m\u001b[0m\u001b[0m\n\u001b[0;32m     31\u001b[0m \u001b[1;33m\u001b[0m\u001b[0m\n",
      "\u001b[1;31mIndexError\u001b[0m: list index out of range"
     ]
    }
   ],
   "source": [
    "my_vector1 + my_vector3 # error message"
   ]
  },
  {
   "cell_type": "code",
   "execution_count": 57,
   "metadata": {},
   "outputs": [
    {
     "ename": "AssertionError",
     "evalue": "Error",
     "output_type": "error",
     "traceback": [
      "\u001b[1;31m---------------------------------------------------------------------------\u001b[0m",
      "\u001b[1;31mAssertionError\u001b[0m                            Traceback (most recent call last)",
      "\u001b[1;32m<ipython-input-57-68575e90c0e8>\u001b[0m in \u001b[0;36m<module>\u001b[1;34m\u001b[0m\n\u001b[1;32m----> 1\u001b[1;33m \u001b[0mmy_vector1\u001b[0m \u001b[1;33m*\u001b[0m \u001b[0mmy_vector3\u001b[0m \u001b[1;31m# error message\u001b[0m\u001b[1;33m\u001b[0m\u001b[1;33m\u001b[0m\u001b[0m\n\u001b[0m",
      "\u001b[1;32m<ipython-input-47-91cb51eed939>\u001b[0m in \u001b[0;36m__mul__\u001b[1;34m(self, other)\u001b[0m\n\u001b[0;32m     12\u001b[0m             \u001b[1;32mreturn\u001b[0m \u001b[0mmul_result\u001b[0m\u001b[1;33m\u001b[0m\u001b[1;33m\u001b[0m\u001b[0m\n\u001b[0;32m     13\u001b[0m         \u001b[1;32melse\u001b[0m\u001b[1;33m:\u001b[0m\u001b[1;33m\u001b[0m\u001b[1;33m\u001b[0m\u001b[0m\n\u001b[1;32m---> 14\u001b[1;33m             \u001b[1;32massert\u001b[0m \u001b[0mlen\u001b[0m\u001b[1;33m(\u001b[0m\u001b[0mself\u001b[0m\u001b[1;33m.\u001b[0m\u001b[0mvectors\u001b[0m\u001b[1;33m[\u001b[0m\u001b[1;36m0\u001b[0m\u001b[1;33m]\u001b[0m\u001b[1;33m)\u001b[0m\u001b[1;33m==\u001b[0m\u001b[0mlen\u001b[0m\u001b[1;33m(\u001b[0m\u001b[0mother\u001b[0m\u001b[1;33m.\u001b[0m\u001b[0mvectors\u001b[0m\u001b[1;33m[\u001b[0m\u001b[1;36m0\u001b[0m\u001b[1;33m]\u001b[0m\u001b[1;33m)\u001b[0m\u001b[1;33m,\u001b[0m\u001b[1;34m'Error'\u001b[0m \u001b[1;31m#vector의 길이가 동일해야 한다는 제약을 걸어준다.\u001b[0m\u001b[1;33m\u001b[0m\u001b[1;33m\u001b[0m\u001b[0m\n\u001b[0m\u001b[0;32m     15\u001b[0m             \u001b[0mmul_result\u001b[0m\u001b[1;33m=\u001b[0m\u001b[1;36m0\u001b[0m\u001b[1;33m\u001b[0m\u001b[1;33m\u001b[0m\u001b[0m\n\u001b[0;32m     16\u001b[0m             \u001b[1;32mfor\u001b[0m \u001b[0mi\u001b[0m \u001b[1;32min\u001b[0m \u001b[0mrange\u001b[0m\u001b[1;33m(\u001b[0m\u001b[0mlen\u001b[0m\u001b[1;33m(\u001b[0m\u001b[0mself\u001b[0m\u001b[1;33m.\u001b[0m\u001b[0mvectors\u001b[0m\u001b[1;33m[\u001b[0m\u001b[1;36m0\u001b[0m\u001b[1;33m]\u001b[0m\u001b[1;33m)\u001b[0m\u001b[1;33m)\u001b[0m\u001b[1;33m:\u001b[0m \u001b[1;31m#Vector는 1xn shape이므로 for문은 한번만 필요하다.\u001b[0m\u001b[1;33m\u001b[0m\u001b[1;33m\u001b[0m\u001b[0m\n",
      "\u001b[1;31mAssertionError\u001b[0m: Error"
     ]
    }
   ],
   "source": [
    "my_vector1 * my_vector3 # error message"
   ]
  },
  {
   "cell_type": "markdown",
   "metadata": {},
   "source": [
    "### Describe and Discuss your answer: \n"
   ]
  },
  {
   "cell_type": "markdown",
   "metadata": {},
   "source": [
    "Vector의 연산은 내적을 제외하면 matrix의 연산과 상당히 비슷해 대부분의 함수를 상속받을 수 있었다. Vector class를 구현하는데 있어서 가장 큰 문제는 1번에서 서술했던것과 마찬가지로 matrix함수를 상속받아 계산했음에도 vector type을 반환하도록 만드는 것이었다.\n",
    "이는 1번에서 설명한 것처럼 값 반환을 위한 임의의 matrix=self.__add__(0)를 사용하여 해결하였다.\n",
    "vector의 init은 matrix를 그대로 상속받아 shape만 1,n을 가지도록 제한을 주었고, Vector을 상속받는 다른 클래스가 존재하지는 않아서 vector class에서의 연산은 모두 임의의 vector type object를 하나 만들어 연산값을 넣어주고 출력하는 직관적인 방식으로 구현하였다."
   ]
  },
  {
   "cell_type": "markdown",
   "metadata": {},
   "source": [
    "-------------------------------"
   ]
  },
  {
   "cell_type": "markdown",
   "metadata": {},
   "source": [
    "### PROBLEM III (15 POINTS)"
   ]
  },
  {
   "cell_type": "markdown",
   "metadata": {},
   "source": [
    "```Vector``` class의 object 간 연산과 numpy vector 간 연산을 비교하는 실험을 설계하시오.\n",
    "\n",
    "### Conditions\n",
    "\n",
    "1. __PROBLEM II__에서 ```Vector``` object 간 덧셈, 내적을 구현하였다. 각 연산의 time complexity를 big $\\mathcal{O}$ notation을 이용하여 분석하시오.\n",
    "2. ```Vector``` object 간 덧셈, 내적의 time complexity와 numpy vector 간 덧셈, 내적의 time complexity를 비교하는 실험을 설계하시오.\n",
    "3. __1__에서 분석한 결과와 __2__의 실험 결과를 비교하시오.\n",
    "\n",
    "### Note\n",
    "* __PROBLEM II__에서 ```Vector``` class를 구현하지 못한 경우, 아래의 함수를 정의하여 사용하는 것은 허용한다. **단, 이 경우에도 numpy를 비롯한 외부 라이브러리는 사용하지 않는다. (_사용 시 해당 문항 0점_)**"
   ]
  },
  {
   "cell_type": "markdown",
   "metadata": {},
   "source": [
    "### Parameters for figure (optional)\n",
    "\n",
    "```\n",
    "iterations: 500\n",
    "\n",
    "plt.figure(figsize=(20, 15))\n",
    "\n",
    "plt.xlabel('$n$', fontsize=20)\n",
    "plt.ylabel('elapsed time', fontsize=20)\n",
    "plt.legend(['vector sum. (ours)', 'vector mul. (ours)', 'vector sum. (numpy)', 'vector mul. (numpy)'], loc='best', fontsize=15)\n",
    "```"
   ]
  },
  {
   "cell_type": "code",
   "execution_count": 58,
   "metadata": {},
   "outputs": [
    {
     "ename": "IndentationError",
     "evalue": "expected an indented block (<ipython-input-58-22eb0cde79d4>, line 6)",
     "output_type": "error",
     "traceback": [
      "\u001b[1;36m  File \u001b[1;32m\"<ipython-input-58-22eb0cde79d4>\"\u001b[1;36m, line \u001b[1;32m6\u001b[0m\n\u001b[1;33m    def vector_multiplication(vector1, vector2):\u001b[0m\n\u001b[1;37m      ^\u001b[0m\n\u001b[1;31mIndentationError\u001b[0m\u001b[1;31m:\u001b[0m expected an indented block\n"
     ]
    }
   ],
   "source": [
    "# If you fail to implement the Vector class you can define the operations for the experiments.\n",
    "# But, libraries like numpy are not allowed (use python list).\n",
    "\n",
    "def vector_summation(vector1, vector2):\n",
    "\n",
    "def vector_multiplication(vector1, vector2):\n",
    "    \n",
    "#1,2번에서 class를 구현했으므로 사용하지 않겠다."
   ]
  },
  {
   "cell_type": "code",
   "execution_count": 59,
   "metadata": {},
   "outputs": [],
   "source": [
    "import time\n",
    "import numpy as np\n",
    "import matplotlib.pyplot as plt"
   ]
  },
  {
   "cell_type": "code",
   "execution_count": 27,
   "metadata": {
    "scrolled": false
   },
   "outputs": [
    {
     "data": {
      "image/png": "[encoded data removed]",
      "text/plain": [
       "<Figure size 1440x1080 with 1 Axes>"
      ]
     },
     "metadata": {
      "needs_background": "light"
     },
     "output_type": "display_data"
    }
   ],
   "source": [
    "def vector_sum(n): #n에 따른 런타임을 측정하는 함수이다.\n",
    "    vector1=Vector([[X for X in range(n)]])\n",
    "    vector2=Vector([[Y for Y in range(n)]])\n",
    "    start = time.time()\n",
    "    for _ in range(500): #time library로 단순 연산의 시간을 구하면 나오지 않아 for문을 사용하였다.\n",
    "        vector1+vector2\n",
    "    end = time.time()\n",
    "    return (end-start)/500\n",
    "\n",
    "def vector_mul(n): #n에 따른 런타임을 측정하는 함수이다.\n",
    "    vector1=Vector([[X for X in range(n)]])\n",
    "    vector2=Vector([[Y for Y in range(n)]])\n",
    "    start = time.time()\n",
    "    for _ in range(500): #time library로 단순 연산의 시간을 구하면 나오지 않아 for문을 사용하였다.\n",
    "        vector1*vector2\n",
    "    end = time.time()\n",
    "    return (end-start)/500\n",
    "\n",
    "def numpy_sum(n): #n에 따른 런타임을 측정하는 함수이다.\n",
    "    np1=np.arange(0,n)\n",
    "    np2=np.arange(0,n)\n",
    "    start=time.time()\n",
    "    for _ in range(1000): #time library로 단순 연산의 시간을 구하면 나오지 않아 for문을 사용하였다.\n",
    "        np1+np2\n",
    "    end=time.time()\n",
    "    return (end-start)/1000\n",
    "        \n",
    "def numpy_mul(n): #n에 따른 런타임을 측정하는 함수이다.\n",
    "    np1=np.arange(0,n)\n",
    "    np2=np.arange(0,n)\n",
    "    start=time.time()\n",
    "    for _ in range(1000): #time library로 단순 연산의 시간을 구하면 나오지 않아 for문을 사용하였다.\n",
    "        np.dot(np1,np2)\n",
    "    end=time.time()\n",
    "    return (end-start)/1000\n",
    "\n",
    "plt.figure(figsize=(20, 15))\n",
    "\n",
    "\n",
    "y1=[vector_sum(i) for i in range(1,500)] #앞서 연산한 값들을 y축에 표현하기 위해 list배열에 일단 넣어주었다.\n",
    "y2=[vector_mul(i) for i in range(1,500)]\n",
    "y3=[numpy_sum(i) for i in range(1,500)]\n",
    "y4=[numpy_mul(i) for i in range(1,500)]\n",
    "#y1~y4로 측정한 시간들의 배열을 만들어준다.\n",
    "\n",
    "plt.xlabel('$n$', fontsize=20) #x,y축의 이름을 설정한다.\n",
    "plt.ylabel('elapsed time', fontsize=20) \n",
    "\n",
    "plt.plot(y1) #그래프를 그린다\n",
    "plt.plot(y2,'y-')\n",
    "plt.plot(y3,'r-')\n",
    "plt.plot(y4,'g-')\n",
    "\n",
    "plt.legend(['vector sum. (ours)', 'vector mul. (ours)', 'vector sum. (numpy)', 'vector mul. (numpy)'], loc='best', fontsize=15)\n",
    "#최적의 위치에 그래프에 대한 설명을 띄워준다.\n",
    "plt.show() #그래프를 보여준다."
   ]
  },
  {
   "cell_type": "markdown",
   "metadata": {},
   "source": [
    "### Describe your answer: \n"
   ]
  },
  {
   "cell_type": "markdown",
   "metadata": {},
   "source": [
    "1. 우리가 짠 Vector_summation, Vector_multiplication은 모두 T(n) = n+3, 으로 O(n)의 시간 복잡도를 가진다. 이로부터 n이 증가하면 runtime이 선형적으로 증가할 것이라고 예상해볼 수 있다. 이 때 n은 self.vectors[0], 즉 vector의 길이에 해당한다. 그러므로 n이 증가할수록 벡터의 길이가 늘어나는 상황을 만들어 runtime을 측정해보면 이 가설에 대해 검증이 가능할 것이다. \n",
    "\n",
    "2. 먼저 벡터의 길이 n을 대입하면 해당 길이를 가진 임의의 벡터를 정의하여, 내가 만든 벡터 덧셈과 내적, numpy의 덧셈과 내적 알고리즘을 수행, 수행시간을 측정하는 4개의 함수를 만들었다. 이후 1부터 500까지의 n에 따른 런타임들을 리스트 y1~y4에 넣고 이를 matplotlib.pyplot을 이용해 그래프로 표현하였다. 본래 matplotlib는 numpy를 기반으로 만들어졌다고 알고 있는데 x,y축에 list를 넣어도 실행이 가능하도록 내부적으로 변환을 해준다.\n",
    "그런데 파이썬의 time library를 이용해 아주 짧은 시간을 측정할 경우 시간을 제대로 측정하지 못하고 0.0 이라는 측정값을을 내놓는다. 그러므로 시간을 측정하는 함수에서 한번만 연산을 해서는 이들의 런타임을 측정할 수 없다.\n",
    "그래서 나는 동일한 함수를 임의의 상수 k번 실행하고 그렇게 구해진 런타임을 k로 나누는 방식을 이용해보았다. 이 경우 time 라이브러리만을 이용해 시간을 측정할 수 있는것은 물론이고 계속 변하는 런타임의 평균값을 구하는 방식이라 n이 증가함에 따라 런타임이 어떻게 변하는지에 대한 패턴을 분석하기에도 적절하다.\n",
    "\n",
    "numpy의 경우 이 반복횟수가 1000정도는 되어야 값이 나와서 연산을 1000번 반복하였고, 내가 만든 벡터연산은 100번만 반복해도 런타임이 측정되었지만 그 경우 numpy와 비교해 선형적으로 증가하는 그래프가 제대로 표현되지 않았고, 1000번을 반복하면 런타임이 매우 길어졌다.(물론 실행이 아예 불가능할정도로 런타임이 길어지지는 않는다.) 그래서 측정의 정확도와 런타임을 모두 고려하여 내가 만든 연산의 경우 반복횟수를 500으로 잡고 for문을 시행하였다.\n",
    "\n",
    "3. 예측한 시간복잡도와 마찬가지로 내가 설계한 알고리즘은 n이 증가할수록 runtime도 선형적으로 증가하는 모습을 보인다. numpy의 동일한 연산을 수행하였을 때 numpy는 n이 증가하여도 runtime이 거의 증가하지 않는다는 것을 알 수 있다. 이 결과를 통해 생각하면 n이 커질수록 내가 구현한 class에 비해 numpy를 이용하는 것이 훨씬 유리할 것이다.\n",
    "\n",
    "처음 주어진 예시 그래프와 색을 다르게 나타냈는데 중요하지 않다고 생각하여 수정하지 않았다."
   ]
  },
  {
   "cell_type": "markdown",
   "metadata": {},
   "source": [
    "-------------------------------"
   ]
  },
  {
   "cell_type": "markdown",
   "metadata": {},
   "source": [
    "### PROBLEM IV (15 POINTS)"
   ]
  },
  {
   "cell_type": "markdown",
   "metadata": {},
   "source": [
    "```Matrix``` class의 object 간 연산과 numpy matrix 간 연산을 비교하는 실험을 설계하시오.\n",
    "\n",
    "### Conditions\n",
    "\n",
    "1. __PROBLEM I__에서 ```Matrix``` object 간 덧셈, 곱셈을 구현하였다. 각 연산의 time complexity를 big $\\mathcal{O}$ notation을 이용하여 분석하시오.\n",
    "2. ```Matrix``` object 간 덧셈, 곱셈의 time complexity와 numpy matrix 간 덧셈, 곱셈의 time complexity를 비교하는 실험을 설계하시오.\n",
    "3. __1__에서 분석한 결과와 __2__의 실험 결과를 비교하시오.\n",
    "\n",
    "\n",
    "### Note\n",
    "* __PROBLEM I__에서 ```Matrix``` class를 구현하지 못한 경우, 아래의 함수를 정의하여 사용하는 것은 허용한다. **단, 이 경우에도 numpy를 비롯한 외부 라이브러리는 사용하지 않는다. (_사용 시 해당 문항 0점_)**"
   ]
  },
  {
   "cell_type": "markdown",
   "metadata": {},
   "source": [
    "### Parameters for figure (optional)\n",
    "\n",
    "```\n",
    "iterations for our matrix class multiplication: 100\n",
    "iterations for others: 1000\n",
    "\n",
    "plt.figure(figsize=(20, 15))\n",
    "\n",
    "plt.xlabel('$n$', fontsize=20)\n",
    "plt.ylabel('elapsed time', fontsize=20)\n",
    "plt.legend(['matrix sum. (ours)', 'matrix mul. (ours)', 'matrix sum. (numpy)', 'matrix mul. (numpy)'], loc='best', fontsize=15)\n",
    "```"
   ]
  },
  {
   "cell_type": "code",
   "execution_count": null,
   "metadata": {},
   "outputs": [],
   "source": [
    "# If you fail to implement the Matrix class, you can define the operations for the experiments.\n",
    "# But, libraries like numpy are not allowed (use python list).\n",
    "\n",
    "def matrix_summation(matrix1, matrix2):\n",
    "\n",
    "\n",
    "def matrix_multiplication(matrix1, matrix2):\n",
    "\n",
    "    \n",
    "# 1,2번에서 class를 구현하였으므로 사용하지 않겠다."
   ]
  },
  {
   "cell_type": "code",
   "execution_count": 60,
   "metadata": {},
   "outputs": [],
   "source": [
    "import time\n",
    "import numpy as np\n",
    "import matplotlib.pyplot as plt"
   ]
  },
  {
   "cell_type": "code",
   "execution_count": 65,
   "metadata": {
    "scrolled": false
   },
   "outputs": [
    {
     "data": {
      "image/png": "[encoded data removed]",
      "text/plain": [
       "<Figure size 1440x1080 with 1 Axes>"
      ]
     },
     "metadata": {
      "needs_background": "light"
     },
     "output_type": "display_data"
    }
   ],
   "source": [
    "def matrix_sum(n): #n에 따른 런타임을 측정하는 함수이다.\n",
    "    matrix1=Matrix([[1 for _ in range(n)] for _ in range(n)]) #n이 증가하면 행, 열이 모두 증가하는 matrix를 만든다.\n",
    "    matrix2=Matrix([[1 for _ in range(n)] for _ in range(n)]) #n이 증가하면 행, 열이 모두 증가하는 matrix를 만든다.\n",
    "    start = time.time()\n",
    "    for _ in range(20): #3번과 비교해 연산의 반복을 대폭 줄였다.\n",
    "        matrix1+matrix2\n",
    "    end = time.time()\n",
    "    return (end-start)/20\n",
    "\n",
    "def matrix_mul(n): #n에 따른 런타임을 측정하는 함수이다.\n",
    "    matrix1=Matrix([[1 for _ in range(n)] for _ in range(n)]) #n이 증가하면 행, 열이 모두 증가하는 matrix를 만든다.\n",
    "    matrix2=Matrix([[1 for _ in range(n)] for _ in range(n)]) #n이 증가하면 행, 열이 모두 증가하는 matrix를 만든다.\n",
    "    start = time.time()\n",
    "    for i in range(20): #3번과 비교해 연산의 반복을 대폭 줄였다.\n",
    "        matrix1*matrix2\n",
    "    end = time.time()\n",
    "    return (end-start)/20\n",
    "\n",
    "def numpy_sum(n): #n에 따른 런타임을 측정하는 함수이다.\n",
    "    np1=np.ones((n,n))\n",
    "    np2=np.ones((n,n))\n",
    "    start=time.time()\n",
    "    for _ in range(100): #3번과 비교해 연산의 반복을 대폭 줄였다.\n",
    "        np1+np2\n",
    "    end=time.time()\n",
    "    return (end-start)/100\n",
    "        \n",
    "def numpy_mul(n): #n에 따른 런타임을 측정하는 함수이다.\n",
    "    np1=np.ones((n,n))\n",
    "    np2=np.ones((n,n))\n",
    "    start=time.time()\n",
    "    for _ in range(100): #3번과 비교해 연산의 반복을 대폭 줄였다.\n",
    "        np.dot(np1,np2)\n",
    "    end=time.time()\n",
    "    return (end-start)/100\n",
    "\n",
    "x1=[5*i for i in range(1,200)] #matplotlib에 그래프를 그리기 위해서는 x,y의 shape이 동일해야 한다.\n",
    "x2=[10*i for i in range(1,10)] # y1,y2,y3과 y4는 shape이 서로 다르므로 이를 그래프에 표현하기 위해 x축을 3개 잡아준다.\n",
    "x3=[10*i for i in range(1,100)]\n",
    "\n",
    "y1=[matrix_sum(i) for i in range(1,1000) if i%5==0] #Matrix의 경우 1~1000까지의 모든 경우를 고려하면 런타임이 너무 오래걸린다.\n",
    "y2=[matrix_mul(i) for i in range(1,100) if i%10==0] #그래서 1~1000범위 안에 들어가는 값들 중 일부만 계산에 고려하도록 하였다.\n",
    "y3=[numpy_sum(i) for i in range(1,1000) if i%10==0] #완벽한 방법은 아니지만 일단 O(n)의 증가추이를 볼 수 있다고 생각하였다.\n",
    "y4=[numpy_mul(i) for i in range(1,1000) if i%10==0]\n",
    "\n",
    "plt.figure(figsize=(20, 15))\n",
    "\n",
    "plt.xlabel('$n$', fontsize=20) #x,y축의 이름을 설정한다.\n",
    "plt.ylabel('elapsed time', fontsize=20)\n",
    "\n",
    "plt.plot(x1,y1) #그래프를 그린다.\n",
    "plt.plot(x2,y2, 'y-')\n",
    "plt.plot(x3,y3,'r-')\n",
    "plt.plot(x3,y4,'g-')\n",
    "\n",
    "plt.legend(['matrix sum. (ours)', 'matrix mul. (ours)', 'matrix sum. (numpy)', 'matrix mul. (numpy)'], loc='best', fontsize=15)\n",
    "#최적의 위치에 그래프에 대한 설명을 띄워준다.\n",
    "plt.show() #그래프를 보여준다.\n",
    "\n"
   ]
  },
  {
   "cell_type": "markdown",
   "metadata": {},
   "source": [
    "### Describe your answer: "
   ]
  },
  {
   "cell_type": "markdown",
   "metadata": {},
   "source": [
    "1. 내가 짠 Matrix multiplication의 T(n) = n^3+2n^2+5 이고 시간복잡도는 O(n^3)이다. Matrix summation의 T(n)=n^2+5로 O(n^2)의 시간복잡도를 가짐을 알 수 있다. 이로부터 결과를 추론해보면 Matrix multiplication과 Matrix summation은 모두 n이 증가할수록 rumtime이 크게 증가하며, Matrix multiplication이 Matrix summation보다 가파르게 runtime이 증가할 것이라고 예측할 수 있다. 앞선 3번문제의 경우 내가 구현한 벡터의 합과 곱이 비슷한 경향을 나타내고 numpy끼리 비슷한 경향을 나타냈는데, matrix연산의 경우 곱연산의 런타임이 압도적으로 빠르게 증가할 것이다.\n",
    "\n",
    "2. Matrix연산의 런타임을 측정함에 있어 vector와 모양이 같은 1차원 matrix를 이용할 경우 2중, 3중 for문을 사용한 알고리즘에서 for문의 반복성이 제대로 나타나지 않고, 런타임이 선형적으로 증가하는 것처럼 보이게 된다. 이런 경우 O(n)의 알고리즘을 제대로 보여주지 못해서 나는 Matrix의 연산에서는 n이 증가하면 행, 열이 모두 n만큼 증가하는 임의의 matrix를 만들어 연산을 수행하였다. 그런데 이 경우 matrix의 행과 열이 모두 늘어나기 때문에 vector에서와 동일하게 짜면 시간은 훨씬 더 오래걸리게 된다. 이런 문제를 어느정도 해결하기 위해 나는 먼저 런타임을 측정하는 함수에서 연산의 반복횟수를 줄이고(vector연산보다 시간이 오래걸려 반복횟수를 줄여도 일단 측정이 가능하다.) x,y축에도 1부터 1000까지의 모든 측정값을 표시하지는 않고 일부 값들을 선택하여 표시한 후 그래프로 그리도록 하였다. 이러면 연산의 횟수를 줄여주어 런타임이 기하급수적으로 줄어들게 된다.\n",
    "\n",
    "3. 시간복잡도 O(n)을 통해 예측한 결과와 마찬가지로 Matrix multiplication과 Matrix summation은 모두 n이 증가할수록 runtime의 증가율이 커지는 모습을 보여주며, n이 커짐에 따라 Matrix multiplication의 runtime이 Matrix summation보다 훨씬 빠르게 증가한다는 것을 알 수 있다. 반면 numpy에서도 n이 커짐에 따라 약간의 런타임이 늘어나는 것을 알 수 있지만 내가 구현한 계산과는 비교가 되지 않을 정도로 낮은 증가율을 보여준다. matrix의 계산에서는 numpy를 사용하는 것이 훨씬 더 효율적일 것이다.\n",
    "내가 만든 matrix sum연산의 그래프가 다소 울퉁불퉁하게 보인다. 이것은 시간을 측정함에 있어 연산의 반복횟수를 줄이고 실제로 그래프에 표현하는 측정값의 개수도 줄였기 때문이다. matrix mul과 마찬가지로 10의 배수만 계산하게 하면 간격이 너무 넓다고 생각하여 matrix sum의 경우 5의 배수만을 계산하게 했는데 그래도 깔끔한 그래프가 그려지지는 않는 편이다. sum함수에서의 반복 횟수를 늘리거나 그래프에 표시하는 값들의 간격을 더 조밀하게 만들면 런타임은 길어지고 그래프는 더 균일한 모습을 보여줄 것 같다.\n",
    "처음 주어진 예시 그래프와 색을 다르게 나타냈는데 중요하지 않다고 생각하여 수정하지 않았다."
   ]
  },
  {
   "cell_type": "markdown",
   "metadata": {},
   "source": [
    "-------------------------------"
   ]
  }
 ],
 "metadata": {
  "anaconda-cloud": {},
  "kernelspec": {
   "display_name": "Python 3",
   "language": "python",
   "name": "python3"
  },
  "language_info": {
   "codemirror_mode": {
    "name": "ipython",
    "version": 3
   },
   "file_extension": ".py",
   "mimetype": "text/x-python",
   "name": "python",
   "nbconvert_exporter": "python",
   "pygments_lexer": "ipython3",
   "version": "3.8.5"
  }
 },
 "nbformat": 4,
 "nbformat_minor": 1
}
