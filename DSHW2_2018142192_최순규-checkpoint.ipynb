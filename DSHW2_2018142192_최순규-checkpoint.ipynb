{
 "cells": [
  {
   "cell_type": "markdown",
   "metadata": {},
   "source": [
    "> ### EEE2020-04: Data Structures & Algorithms\n",
    "\n",
    "# Assignment \\#  II: Algorithm Analysis & Basic Data Structure"
   ]
  },
  {
   "cell_type": "markdown",
   "metadata": {},
   "source": [
    "**<div style=\"text-align: right\"> Due date: April 20, 2019. </div>** \n",
    "**<div style=\"text-align: right\"> Please upload your file @ yscec by 9 PM. </div>** \n",
    "<div style=\"text-align: right\"> Youngmin Oh(오영민): <a href=\"mailto:youngmin.oh@yonsei.ac.kr\">youngmin.oh@yonsei.ac.kr</a> </div>\n",
    "<div style=\"text-align: right\"> Sanghoon Lee(이상훈): <a href=\"mailto:sanghslee@yonsei.ac.kr\">sanghslee@yonsei.ac.kr</a> </div>"
   ]
  },
  {
   "cell_type": "markdown",
   "metadata": {},
   "source": [
    "-------------------------------"
   ]
  },
  {
   "cell_type": "markdown",
   "metadata": {},
   "source": [
    "\n",
    "### *Assignment Instructions:*\n",
    "1. Write a program implementing a particular algorithm to solve a given problem.\n",
    "2. You can use both Korean and English for your report.\n",
    "3. **Analyze the algorithm, theoretically and empirically.** \n",
    "4. **Report your results.**  \n",
    "    - You must do assignments and labs yourself. \n",
    "    - <span style=\"color:red\">**Do not copy any part of your friends’ code.**</span>\n",
    "    - Otherwise, you will get a F grade."
   ]
  },
  {
   "cell_type": "markdown",
   "metadata": {},
   "source": [
    "-----------------"
   ]
  },
  {
   "cell_type": "markdown",
   "metadata": {},
   "source": [
    "## <h2><span style=\"color:blue\">[2018142192] [최순규]</span> </h2>"
   ]
  },
  {
   "cell_type": "code",
   "execution_count": 1,
   "metadata": {},
   "outputs": [
    {
     "name": "stdout",
     "output_type": "stream",
     "text": [
      "This code is written at 2019-04-20 12:35:09.238492\n"
     ]
    }
   ],
   "source": [
    "import datetime\n",
    "print(\"This code is written at \" + str(datetime.datetime.now()))"
   ]
  },
  {
   "cell_type": "markdown",
   "metadata": {},
   "source": [
    "-------------------------------"
   ]
  },
  {
   "cell_type": "markdown",
   "metadata": {},
   "source": [
    "### \\# PROBLEM I (10 POINTS)"
   ]
  },
  {
   "cell_type": "markdown",
   "metadata": {},
   "source": [
    " Compute the complexity (using a big $\\mathcal{O}$ notation) of the following algorithms shown below. **(2.5 POINTS each)**<br>\n",
    " **You don't need to write a progam to compute it.** <br>\n",
    " Just play with mathematics **by hand**.\n",
    " \n",
    " > (a) \n",
    "<code>\n",
    "def function(n):\n",
    "    i = 1\n",
    "    sum=0\n",
    "    while i <= n:\n",
    "        i = i * 2\n",
    "        sum+=1  \n",
    "    return sum\n",
    "</code>\n",
    "\n",
    " > (b)  **NOTE** : N $\\approx$ M\n",
    "<code>\n",
    "def matrix_sum1(A,N,M):\n",
    "    cnt=0\n",
    "    for row in range(N):\n",
    "        for col in range(M):\n",
    "            cnt+=A[row][col]\n",
    "    return cnt\n",
    "</code>\n",
    "\n",
    " > (c)\n",
    "<code>\n",
    "def matrix_sum2(A,N):\n",
    "    cnt1=0\n",
    "    for row in range(N):\n",
    "        for col in range(N):\n",
    "            cnt1+=A[row][col]\n",
    "    cnt2=0\n",
    "    for i in range(N):\n",
    "        cnt2+=i\n",
    "    return cnt1+cnt2\n",
    "</code>\n",
    "\n",
    " >(d)\n",
    "<code>\n",
    "def fib_type1(n):\n",
    "    if n == 0 :\n",
    "        return n\n",
    "    if n == 1:\n",
    "        return 1\n",
    "    else:\n",
    "        return fib_type1(n-2) + fib_type1(n-1)\n",
    "</code>"
   ]
  },
  {
   "cell_type": "markdown",
   "metadata": {},
   "source": [
    "### Answer: "
   ]
  },
  {
   "cell_type": "markdown",
   "metadata": {},
   "source": [
    "Answer Here\n",
    "1. 처음의 세 줄이 +3, while 문이 2n, return이 1 이므로 T(n)=2n+4이고 O(n)이다.\n",
    "\n",
    "2. 처음 두 줄이 +2 for문이 두개 겹쳐져 있고 안에 cnt+=A[row][col]이 한 줄 들어있으므로 n^2 return이 1이므로 \n",
    "T(n)=2+n^2+1=n^2+3, O(n^2)\n",
    "\n",
    "3. 위에 2줄이 +2, 두개 겹쳐진 for문 안에 한 문장이 들어있으므로 n^2 cnt2=0이 +1 for문이 하나 있으므로 n, return 이 1 이므로\n",
    "T(n)=2+n^2+1+n+1=n^2+n+4, O(n^2)\n",
    "\n",
    "4. if 문은 반복실행이 아니라서 그냥 한문장이 1이다. else도 마찬가지임. 따라서 총 코드의 수는 7줄 이므로 T(n)=7이고 O(1)"
   ]
  },
  {
   "cell_type": "markdown",
   "metadata": {},
   "source": [
    "### Describe your answer: "
   ]
  },
  {
   "cell_type": "markdown",
   "metadata": {},
   "source": [
    "1. 처음의 세 줄이 +3, while 문이 2n, return이 1 이므로 T(n)=2n+4이고 O(n)이다.\n",
    "\n",
    "2. 처음 두 줄이 +2 for문이 두개 겹쳐져 있고 안에 cnt+=A[row][col]이 한 줄 들어있으므로 n^2 return이 1이므로 \n",
    "T(n)=2+n^2+1=n^2+3, O(n^2)\n",
    "\n",
    "3. 위에 2줄이 +2, 두개 겹쳐진 for문 안에 한 문장이 들어있으므로 n^2 cnt2=0이 +1 for문이 하나 있으므로 n, return 이 1 이므로\n",
    "T(n)=2+n^2+1+n+1=n^2+n+4, O(n^2)\n",
    "\n",
    "4. if 문은 반복실행이 아니라서 그냥 한문장이 1이다. else도 마찬가지임. 따라서 총 코드의 수는 7줄 이므로 T(n)=7이고 O(1)"
   ]
  },
  {
   "cell_type": "markdown",
   "metadata": {},
   "source": [
    "--------"
   ]
  },
  {
   "cell_type": "markdown",
   "metadata": {},
   "source": [
    "### \\# PROBLEM II (10 POINTS)"
   ]
  },
  {
   "cell_type": "markdown",
   "metadata": {},
   "source": [
    "#### PROBLEM II-1 (3 POINTS)"
   ]
  },
  {
   "cell_type": "markdown",
   "metadata": {},
   "source": [
    "Compute the following problems with **TWO**(Nested) **_loop_** (_while_ or _for_) <br>\n",
    " > (a) 1 + (1+2) + (1+2+3) + ... + (1+2+3+..+100) <br>\n",
    "(b) 1 + $\\frac{1}{2!}$ + $\\frac{1}{3!}$ + ... + $\\frac{1}{10!}$<br>"
   ]
  },
  {
   "cell_type": "markdown",
   "metadata": {},
   "source": [
    "### Answer: "
   ]
  },
  {
   "cell_type": "code",
   "execution_count": 19,
   "metadata": {},
   "outputs": [
    {
     "name": "stdout",
     "output_type": "stream",
     "text": [
      "171700.0\n",
      "1.7182818011463847\n"
     ]
    }
   ],
   "source": [
    "a,b=0.0,0.0\n",
    "### CODE HERE ###\n",
    "fac=1\n",
    "sum=0\n",
    "for i in range(10):\n",
    "    for j in range(1,11):\n",
    "        sum=sum+(10*i+j)\n",
    "        a=a+sum\n",
    "    fac*=(i+1)\n",
    "    b = b + 1/fac\n",
    "    \n",
    "print(a)\n",
    "print(b)\n",
    "### END ###"
   ]
  },
  {
   "cell_type": "markdown",
   "metadata": {},
   "source": [
    "### Describe your answer: "
   ]
  },
  {
   "cell_type": "markdown",
   "metadata": {},
   "source": [
    "먼저, a를 짜기 위해서 첫 번째 for문을 10의자리, 두 번째 for문을 일의자리 숫자를 담당하게 하여 a에 계속 더해주는 방식을 사용하였다. 이 때 1로 시작하여 100으로 끝나야 하므로 10의 자리 숫자는 0~9, 일의 자리는 1~10 for문을 실행시켰다. 이 경우 모든 1에서 100까지의 모든 수에 대해 주어진 a를 만들 수 있다.\n",
    "\n",
    "b의 경우는 분모에 별개의 for문 등을 쓰지 않고 바로 팩토리얼을 만드는 것이 어려워 팩토리얼 값인 fac을 하나 만들어서 i에 대한 팩토리얼을 먼저 정의하였다. 이 때 fac를 for문 안에 정의해주면 i 가 바뀔 때 마다 fac값을 1로 만들어주므로 for문 밖에 정의해야 한다. 이 경우 팩토리얼 10! 까지만 더해주어야 하므로 첫 번째 for문에 만들었고, 첫 번째 for문에서 i=0~9까지의 값을 가지므로 +1을 해주었다. 이후에 b를 주어진 식에 따라서 만들었다."
   ]
  },
  {
   "cell_type": "markdown",
   "metadata": {},
   "source": [
    "#### PROBLEM II-2 (3 POINTS)"
   ]
  },
  {
   "cell_type": "markdown",
   "metadata": {},
   "source": [
    "Compute the following problems with **ONLY ONE** **_loop_** (_while_ or _for_) <br>\n",
    "**NOTICE (A small tip for you)** : <br>\n",
    "- Use built-in functions _sum_ AND/OR _linspace_ AND/OR _arange_ AND/OR _cumsum_ in $\\texttt{numpy}$ <br>\n",
    "- Use built-in function _factorial_ in $\\texttt{math}$\n",
    " > (c) 1 + (1+2) + (1+2+3) + ... + (1+2+3+..+100) <br>\n",
    "(d) 1 + $\\frac{1}{2!}$ + $\\frac{1}{3!}$ + ... + $\\frac{1}{10!}$<br>"
   ]
  },
  {
   "cell_type": "markdown",
   "metadata": {},
   "source": [
    "### Answer: "
   ]
  },
  {
   "cell_type": "code",
   "execution_count": 63,
   "metadata": {},
   "outputs": [
    {
     "name": "stdout",
     "output_type": "stream",
     "text": [
      "171700\n",
      "1.7182818011463847\n"
     ]
    }
   ],
   "source": [
    "import numpy as np\n",
    "import math\n",
    "\n",
    "c,d=0.0,0.0\n",
    "### CODE HERE ###\n",
    "sum=0\n",
    "for i in range(1,101):\n",
    "    array=np.arange(1, i+1)\n",
    "    array=array.cumsum()\n",
    "    c=array.sum()\n",
    "    if i % 10 == 0:\n",
    "        d=d+1/math.factorial(i/10)\n",
    "        \n",
    "\n",
    "print(c)    \n",
    "print(d)\n",
    "### END ###"
   ]
  },
  {
   "cell_type": "markdown",
   "metadata": {},
   "source": [
    "### Describe your answer: "
   ]
  },
  {
   "cell_type": "markdown",
   "metadata": {},
   "source": [
    "for문을 하나만 쓰는 예시이다. c의 경우 for문에서 i를 증가하면서 각 i마다\n",
    "1. 1~i까지의 배열을 만듦\n",
    "2. 각 배열을 더함\n",
    "\n",
    "의 과정을 시행하였다. 이 경우 i가 2면 1+2 3이면 1+2+3... 100이면 1+2+...+99+100 의 값이 출력된다. 또한 매 반환값을 array.sum()을 이용하여 C에 누적해서 더해주면 c 값을 얻을 수 있다.\n",
    "2번의 경우 1~10까지의 팩토리얼만 필요하다. 그러나 이미 설정해 둔 for문은 100까지 돌아가므로(또한 그렇게 짜는 것이 c를 직관적으로 구현하기 좋으므로) d의 값은 이에 맞추기 위해서 10, 20, 30 ... 마다 1/1! 1/2! 1/3!...을 더해주도록 하였다. i를 10으로 나눈 나머지가 0일 때만 1/math.factorial(i/10)을 더해주는 알고리즘이다."
   ]
  },
  {
   "cell_type": "markdown",
   "metadata": {},
   "source": [
    "#### PROBLEM II-3 (4 POINTS)"
   ]
  },
  {
   "cell_type": "markdown",
   "metadata": {},
   "source": [
    "Compute the following problems with **ONLY ONE** **_line_** (No _loop_) <br>\n",
    "**NOTICE (A small tip for you)** : <br>\n",
    "- Use built-in fuctions _sum_ AND/OR _linspace_ AND/OR _arange_ AND/OR _cumsum_ AND/OR _cumprod_ in $\\texttt{numpy}$  \n",
    "- Use built-in function _factorial_ in $\\texttt{math}$\n",
    " > (e)  1 + (1+2) + (1+2+3) + ... + (1+2+3+..+100) <br>\n",
    "(f) 1 + $\\frac{1}{2!}$ + $\\frac{1}{3!}$ + ... + $\\frac{1}{10!}$"
   ]
  },
  {
   "cell_type": "markdown",
   "metadata": {},
   "source": [
    "### Answer: "
   ]
  },
  {
   "cell_type": "code",
   "execution_count": 35,
   "metadata": {},
   "outputs": [
    {
     "name": "stdout",
     "output_type": "stream",
     "text": [
      "171700\n",
      "1.7182818011463845\n"
     ]
    }
   ],
   "source": [
    "import numpy as np\n",
    "import math\n",
    "\n",
    "e,f=0.0,0.0\n",
    "array=np.arange(1,101)\n",
    "e=array.cumsum().sum()\n",
    "\n",
    "array2=np.arange(1,11)\n",
    "array3=1/array2.cumprod()\n",
    "f=array3.sum()\n",
    "\n",
    "print(e)\n",
    "print(f)\n",
    "### CODE HERE ###\n",
    "\n",
    "### END ###"
   ]
  },
  {
   "cell_type": "markdown",
   "metadata": {},
   "source": [
    "### Describe your answer: "
   ]
  },
  {
   "cell_type": "markdown",
   "metadata": {},
   "source": [
    "먼저 e를 구성하기 위해서 1~100까지의 값을 담는 numpy를 정의하였다.\n",
    "이것을 한번 .cumsum()하면 numpy는 1, (1+2), ..., (1+2+3...+100)을 가지게 되는데, 다시 이 값들을 sum()으로 총합하면 e를 구할 수 있다.\n",
    "f를 구할 때도 마찬가지로 1~10까지의 array를 구성하고, cumprod를 이용해 array3에 1/1! 1/2! ... 1/10!을 저장해주었다. 이를 f에서 .sum()으로 모두 더해버리면 f값을 구할 수 있다.\n",
    "Tip에 나와있는 linspace나 math.factorial을 사용하면 다르게 코드를 구성할 수도 있지만 모든 기능이 올바른 결과값을 뽑아내는데 반드시 필요하지는 않았기에 일부는 사용하지 않았다.\n"
   ]
  },
  {
   "cell_type": "markdown",
   "metadata": {},
   "source": [
    "### For Sanity Check (Problem II)\n",
    "NOTE : You do not need to edit following code !"
   ]
  },
  {
   "cell_type": "code",
   "execution_count": null,
   "metadata": {},
   "outputs": [],
   "source": [
    "if ((a+c+e)/3 - 171700) != 0:\n",
    "    raise ValueError('You Should Check Your Code for One of (a), (c) and (e) !')\n",
    "else:\n",
    "    print('Correct (a), (c) and (e) !')\n",
    "if abs((b+d+f)/3 - 1.718281) > 1e-5:\n",
    "    raise ValueError('You Should Check Your Code for One of (b), (d) and (f) !')\n",
    "else:\n",
    "    print('Correct (b), (d) and (f) !')"
   ]
  },
  {
   "cell_type": "markdown",
   "metadata": {},
   "source": [
    "---------"
   ]
  },
  {
   "cell_type": "markdown",
   "metadata": {},
   "source": [
    "### \\# PROBLEM III (40 POINTS)"
   ]
  },
  {
   "cell_type": "markdown",
   "metadata": {},
   "source": [
    "#### PROBLEM III-1 (15 POINTS)"
   ]
  },
  {
   "cell_type": "markdown",
   "metadata": {},
   "source": [
    " Write a function that computes moving average of a 1-D numpy array.  \n",
    " Use **only** $\\texttt{numpy}$ methods. (For example, do not use <code>sum</code>. Use <code>np.sum</code> instead)  \n",
    " Parameters of function $\\texttt{moving_average}$ are specified as follows:  \n",
    "> * inputs: 1-D array (length: N), kernel_size(=k)\n",
    "> * outputs: 1-D array (length: N-k+1)  \n",
    ">  \n",
    "> For example, your output should be as follows:  \n",
    ">> test_output = [2. 3. 4. 5. 6. 7.],  \n",
    ">> given the input: [0 1 2 3 4 5 6 7 8 9], kernel_size = 5"
   ]
  },
  {
   "cell_type": "markdown",
   "metadata": {},
   "source": [
    "Figure below is an example of moving average calculation with parameters N=6, k=3.\n",
    "\n",
    "![moving_avarage figure](./MAfig.png)"
   ]
  },
  {
   "cell_type": "markdown",
   "metadata": {},
   "source": [
    "### Answer: "
   ]
  },
  {
   "cell_type": "code",
   "execution_count": 120,
   "metadata": {},
   "outputs": [],
   "source": [
    "import numpy as np\n",
    "\n",
    "def moving_average(input_array, kernel_size):\n",
    "    ### CODE HERE ###\n",
    "    N=input_array.size\n",
    "    i=0\n",
    "    k=kernel_size\n",
    "    output_array=np.arange(N-k+1)\n",
    "    while i<N-k+1:\n",
    "        kernel=input_array[i:i+k]\n",
    "        output_array[i] = kernel.sum() / k\n",
    "        i=i+1\n",
    "    \n",
    "    return output_array\n",
    "        \n",
    "\n",
    "    ### END ###"
   ]
  },
  {
   "cell_type": "code",
   "execution_count": 121,
   "metadata": {},
   "outputs": [
    {
     "name": "stdout",
     "output_type": "stream",
     "text": [
      "[0 1 2 3 4 5 6 7 8 9]\n",
      "[2 3 4 5 6 7]\n"
     ]
    }
   ],
   "source": [
    "test_input = np.arange(start=0, stop=10)\n",
    "test_output = moving_average(input_array=test_input, kernel_size=5)\n",
    "print(test_input)\n",
    "print(test_output)"
   ]
  },
  {
   "cell_type": "markdown",
   "metadata": {},
   "source": [
    "### Describe your answer: "
   ]
  },
  {
   "cell_type": "markdown",
   "metadata": {},
   "source": [
    "N은 input_array의 사이즈로 잡고 k는 kernel_size로 잡았다.(kernel_size의 경우는 굳이 재정의 할 필요는 없지만 뒤에서 계속쓰이기 때문에 편하게 k로 잡은것)\n",
    "먼저 output이 np형태로 출력되므로 output_array=np.arange(N-k+1)로 길이가 동일한 np를 잡아주었다. 이후 while문을 돌려 i가 커짐에 따라 kernel이 같이 움직이도록 kernel=input_array[i:i+k] 을 정의하였고 kernel의 평균을 구해 output_array[i]의 값으로 넣어주었다."
   ]
  },
  {
   "cell_type": "markdown",
   "metadata": {},
   "source": [
    "#### PROBLEM III-2 (5 POINTS)"
   ]
  },
  {
   "cell_type": "markdown",
   "metadata": {},
   "source": [
    " Compute the complexity (using a big-$\\mathcal{O}$ notation) of your $\\texttt{moving_average}$ function **by hand.**  "
   ]
  },
  {
   "cell_type": "markdown",
   "metadata": {},
   "source": [
    "### Answer: "
   ]
  },
  {
   "cell_type": "markdown",
   "metadata": {},
   "source": [
    "코드에 nested된 반복문은 존재하지 않고, 반복문으로는 while문을 하나 이용하였다. 이 때 T(n)을 자세하게 구하지 않아도 반드시 an+b형태를 가지게 됨을 예측할 수 있는데(중첩되지 않은 반복문 하나만이 사용되었으므로)\n",
    "이 코드의 complexity는 따라서 O(n)이라고 할 수 있다."
   ]
  },
  {
   "cell_type": "markdown",
   "metadata": {},
   "source": [
    "### Describe your answer: "
   ]
  },
  {
   "cell_type": "markdown",
   "metadata": {},
   "source": [
    "Description Here"
   ]
  },
  {
   "cell_type": "markdown",
   "metadata": {},
   "source": [
    "#### PROBLEM III-3 (10 POINTS)"
   ]
  },
  {
   "cell_type": "markdown",
   "metadata": {},
   "source": [
    " Devise an experiment to verify your hand-computated big-$\\mathcal{O}$ from the problem above.  \n",
    " * Measure runtime of your code while varying length of input 1-D array.  \n",
    " * Plot N(=length of input array) vs time graph.  \n",
    " * Don't forget to show your graph (use <code>plt.show()</code>)\n",
    "\n",
    "> Since you are dealing with time in this problem, there is inevitable experimental error.  \n",
    "> However, as engineers, it is your duty to minimize all sorts of errors!  \n",
    "> To this end, you will use **average time** of large number of <U>executions</U> (for example, $10^3$) instead of exploiting a single execution time."
   ]
  },
  {
   "cell_type": "markdown",
   "metadata": {},
   "source": [
    "### Answer: "
   ]
  },
  {
   "cell_type": "code",
   "execution_count": 108,
   "metadata": {},
   "outputs": [
    {
     "data": {
      "image/png": "[encoded data removed]",
      "text/plain": [
       "<Figure size 432x288 with 1 Axes>"
      ]
     },
     "metadata": {
      "needs_background": "light"
     },
     "output_type": "display_data"
    }
   ],
   "source": [
    "import numpy as np\n",
    "import time\n",
    "import matplotlib.pyplot as plt\n",
    "### CODE HERE ##\n",
    "def runtime(n):\n",
    "    ### CODE HERE ###\n",
    "    start=time.time()\n",
    "    moving_average(np.arange(n),5)\n",
    "    end=time.time()\n",
    "   \n",
    "    return end-start\n",
    "\n",
    "x=np.arange(10000)\n",
    "y=np.zeros(10000)\n",
    "for i in range(10000):\n",
    "    y[i]=runtime(i)\n",
    "    i=i+1\n",
    "\n",
    "plt.plot(x,y)\n",
    "plt.show()"
   ]
  },
  {
   "cell_type": "markdown",
   "metadata": {},
   "source": [
    "### Describe your answer: "
   ]
  },
  {
   "cell_type": "markdown",
   "metadata": {},
   "source": [
    "시간을 재기 위해서 새로운 함수 runtime을 정의하였고 함수 runtime는 moving_average가 시작할 때의 시간과 끝날 때의 시간을 기록하여 그 차이를 반환하도록 설정하였다. n값에 따라서 moving_average에 들어가는 input_array의 길이 N이 증가해야 하는데, 이 경우 input_array의 종류와 time은 관계가 없다고 생각하는 것이므로(변수는n하나임)\n",
    "input_array를 임의의 np.arange(n)으로 잡아주었다. 마찬가지로 K또한 고정된 값이어야 하므로 K=5로 잡았다.\n",
    "\n",
    "그래프를 그리기 위해서 X는 그냥 1~10000까지의 값을 잡았고 Y에는 i가 1에서 10000까지 갈 때 Y[i]=runtime[i] 로 정의하여 Y값에 각각의 runtime값을 대입하도록 하였다. 이 값들을 numpy에 넣어 matplotlib를 통해 그래프를 그릴 수 있다.\n",
    "\n",
    "깔끔한 직선이 나오지 않는 이유는 오차 때문이다. 물론 O(n)에 따라 전체적으로는 증가하는 경향을 보이지만 실제로 이 값이 n에 따라 정확히 비례할 수는 없다.\n",
    "충분히 큰 수 n에 대해서 그래프를 그릴 때 이러한 개형이 나타나는데,\n",
    "n을 10000으로 설정한 이유는 시간이 조금 더 오래 걸리더라도 직선에 가까운 형태를 보여주기 때문이다.\n",
    "n=1000일 경우에는 증가하는 경향정도는 파악할 수 있지만 정확한 직선그래프의 개형은 얻을 수 없다.\n",
    "\n",
    "\n",
    "결국 결과 그래프는 근사적으로 직선의 형태를 띠고, 이는 O(n)임을 증명한 것과 같다."
   ]
  },
  {
   "cell_type": "markdown",
   "metadata": {},
   "source": [
    "#### PROBLEM III-4 (10 POINTS)"
   ]
  },
  {
   "cell_type": "markdown",
   "metadata": {},
   "source": [
    "Devise an additional experiment to verify relationship between big $\\mathcal{O}$ and kernel size.  \n",
    " * Measure runtime of your code while varying kernel size.  \n",
    " * Plot k(=kernel size) vs time graph.  \n",
    " \n",
    " \n",
    " * Experimental settings are equivalent to **PROBLEM III-3**."
   ]
  },
  {
   "cell_type": "markdown",
   "metadata": {},
   "source": [
    "### Answer: "
   ]
  },
  {
   "cell_type": "code",
   "execution_count": 127,
   "metadata": {},
   "outputs": [
    {
     "data": {
      "image/png": "[encoded data removed]",
      "text/plain": [
       "<Figure size 432x288 with 1 Axes>"
      ]
     },
     "metadata": {
      "needs_background": "light"
     },
     "output_type": "display_data"
    }
   ],
   "source": [
    "import numpy as np\n",
    "import time\n",
    "import matplotlib.pyplot as plt\n",
    "### CODE HERE ###\n",
    "\n",
    "def runtime2(n):\n",
    "    ### CODE HERE ###\n",
    "    start=time.time()\n",
    "    moving_average(np.arange(10000),n+1)\n",
    "    end=time.time()\n",
    "   \n",
    "    return end-start\n",
    "\n",
    "x=np.arange(10000)\n",
    "y=np.zeros(10000)\n",
    "for j in range(9999):\n",
    "    y[j]=runtime2(j)\n",
    "    j=j+1\n",
    "\n",
    "plt.plot(x,y)\n",
    "plt.show()\n",
    "\n",
    "\n",
    "### END ###"
   ]
  },
  {
   "cell_type": "markdown",
   "metadata": {},
   "source": [
    "### Describe your answer: "
   ]
  },
  {
   "cell_type": "markdown",
   "metadata": {},
   "source": [
    "3-3번과 동일한 코드에서 변수 n만을 k로 바꾸었다. 이 때 input_array는 고정된 값이어야 하므로 충분히 큰 값인 np.arrange(10000)으로 설정해주었다. j에 대한 for문은 오류를 방지하는 선에서 9999로 잡았는데 어차피 충분히 많은 시행에서 K의 값을 확인하여 그래프의 개형을 보는 것이므로 오류가 나지 않는 숫자만 선택을 해주면 된다.\n",
    "마찬가지로 그래프를 그리기 위해서 X, runtime값은 각각 numpy에 넣어주었다.\n",
    "\n",
    "k의 경우 직관적으로 봐도 k값과 running time이 직선형태로 비례하지는 않는다. 단 K의 값이 증가하면 runntime은 감소하는 것을 알 수 있다. log함수의 그래프 개형을 따르는 것처럼 보이기도 한다.\n"
   ]
  },
  {
   "cell_type": "markdown",
   "metadata": {},
   "source": [
    "-------------------------------"
   ]
  },
  {
   "cell_type": "markdown",
   "metadata": {},
   "source": [
    "### \\# PROBLEM IV (40 POINTS)"
   ]
  },
  {
   "cell_type": "markdown",
   "metadata": {},
   "source": [
    "Suppose you are working for a company.  \n",
    "Your supervisor asks you to design a **queue system** for the printer that your group uses.  \n",
    "Since you took \"Data Structures and Algorithms\" class, you said 'piece of cake!'  \n",
    "\n",
    "Your group consists of 10 people.  \n",
    "There are <U>two</U> superiors (whose names are: **'S1', 'S2'**) and <U>eight</U> employees (whose names are: **'E1', 'E2', ... , 'E8'**).  \n",
    "\n",
    "Properties of the printer queue($\\texttt{PQ}$) are specified as follows:  \n",
    "> * There is only <U>one</U> printer for your group.  \n",
    "> * The superiors(S1, S2) **always** have priority in waiting line for the printer. \n",
    "> * PQ follows FIFO order basis among superiors.  \n",
    "> * PQ follows FIFO order among employees, given that there are no superiors waiting in line.  "
   ]
  },
  {
   "cell_type": "markdown",
   "metadata": {},
   "source": [
    "Write a python script implementing the printer queue algorithm specified above using $\\texttt{list}$.  \n",
    "Printer queue **must** include the following methods.  \n",
    " * .is_empty(): returns a boolean value indicating whether waiting line is empty.  \n",
    " * .size($\\texttt{arg}$): $\\texttt{arg}$ is a string, either 'S' or 'E' or None.  \n",
    "\n",
    " > 'S': returns number of superiors in waiting line.  \n",
    " > 'E': returns number of employees in waiting line.  \n",
    " > None: returns total number of people in waiting line.  \n",
    " \n",
    " * .enqueue(name): (returns nothing) adds a person to waiting line.  \n",
    " * .dequeue(): removes the front person in waiting line and returns the person's name.  \n",
    " * .print_status(): (returns nothing) prints waiting line in a sequential manner.  \n",
    " \n",
    "Notes: \n",
    ">1) dequeue() can not be executed when PQ is empty. In this case, print appropriate warning indicating that your PQ is empty.  \n",
    ">2) There is no limit in total length of waiting line.  \n",
    "\n",
    "\n",
    "<span style=\"color:blue\">  **For full credit, use only <U>one</U> $\\texttt{list}$ in $\\texttt{PQ}$.** </span>\n"
   ]
  },
  {
   "cell_type": "markdown",
   "metadata": {},
   "source": [
    "### Answer: "
   ]
  },
  {
   "cell_type": "code",
   "execution_count": 97,
   "metadata": {},
   "outputs": [],
   "source": [
    "class PQ:\n",
    "### CODE HERE ###\n",
    "    def __init__(self):\n",
    "        self.items=[]\n",
    "    \n",
    "    def size(self, arg=None):\n",
    "        if arg == 'S':\n",
    "            k=0\n",
    "            for i in range(len(self.items)):\n",
    "                if self.items[i]=='S1'or self.items[i]=='S2':\n",
    "                    k=k+1\n",
    "                return k\n",
    "        if arg == 'E':\n",
    "            return len(self.items)-self.size('S')\n",
    "        else:\n",
    "            return len(self.items)\n",
    "        \n",
    "    \n",
    "    def enqueue(self, name):\n",
    "        if name==\"S1\" or name==\"S2\":\n",
    "            self.items.insert(self.size('S') ,name)    \n",
    "        else:\n",
    "            self.items.append(name)\n",
    "        \n",
    "    def dequeue(self):\n",
    "        if self.size(None)==0:\n",
    "            print(\"대기열이 비어있습니다!\")\n",
    "        else:\n",
    "            return self.items.pop(0)        \n",
    "    \n",
    "\n",
    "    def print_status(self):\n",
    "        print(self.items)\n",
    "        \n",
    "    \n",
    "### END ###"
   ]
  },
  {
   "cell_type": "code",
   "execution_count": 98,
   "metadata": {},
   "outputs": [
    {
     "name": "stdout",
     "output_type": "stream",
     "text": [
      "-------- sanity check --------\n",
      "['S1']\n",
      "['S1', 'E1']\n",
      "['S1', 'S2', 'E1']\n",
      "['S1', 'S2', 'E1', 'E5']\n",
      "['S1', 'S2', 'E1', 'E5', 'E1']\n",
      "['S2', 'E1', 'E5', 'E1']\n",
      "['E1', 'E5', 'E1']\n",
      "['E1', 'E5', 'E1', 'E3']\n",
      "['S2', 'E1', 'E5', 'E1', 'E3']\n",
      "total size: 5\n",
      "size of sup: 1\n",
      "size of emp: 4\n",
      "['E1', 'E5', 'E1', 'E3']\n",
      "['E5', 'E1', 'E3']\n",
      "['E1', 'E3']\n",
      "['E3']\n",
      "[]\n",
      "대기열이 비어있습니다!\n",
      "[]\n"
     ]
    }
   ],
   "source": [
    "#Do not change this code\n",
    "print('-------- sanity check --------')\n",
    "pq = PQ()\n",
    "pq.enqueue('S1')\n",
    "pq.print_status()\n",
    "pq.enqueue('E1')\n",
    "pq.print_status()\n",
    "pq.enqueue('S2')\n",
    "pq.print_status()\n",
    "pq.enqueue('E5')\n",
    "pq.print_status()\n",
    "pq.enqueue('E1')\n",
    "pq.print_status()\n",
    "\n",
    "pq.dequeue()\n",
    "pq.print_status()\n",
    "pq.dequeue()\n",
    "pq.print_status()\n",
    "\n",
    "pq.enqueue('E3')\n",
    "pq.print_status()\n",
    "pq.enqueue('S2')\n",
    "pq.print_status()\n",
    "print('total size:', pq.size())\n",
    "print('size of sup:', pq.size('S'))\n",
    "print('size of emp:', pq.size('E'))\n",
    "\n",
    "pq.dequeue()\n",
    "pq.print_status()\n",
    "pq.dequeue()\n",
    "pq.print_status()\n",
    "pq.dequeue()\n",
    "pq.print_status()\n",
    "pq.dequeue()\n",
    "pq.print_status()\n",
    "pq.dequeue()\n",
    "pq.print_status()\n",
    "pq.dequeue()\n",
    "pq.print_status()"
   ]
  },
  {
   "cell_type": "markdown",
   "metadata": {},
   "source": [
    "### Describe your answer: "
   ]
  },
  {
   "cell_type": "markdown",
   "metadata": {},
   "source": [
    "Class를 통해 queue를 구성하는 예제이다. 먼저 Class에서 __init__ 을 재정의해주었다. 필요한 기능은 size enqueue dequeue print_status의 4개이다. 또한 코드를 짜기 전에 나와있던 output에 따르면 queue를 print했을 때 first가 왼쪽, rear가 오른쪽이었기 때문에 이것에 따라서 구성하였다.\n",
    "\n",
    "\n",
    "\n",
    "size(arg)는 arg가 S, E, None중 어떤것이냐에 따라 그 반환값이 다르다. def size(self, arg=none)에서 arg=none를 써 준 이유는 이 구문 없이 self.size()를 부를 경우 변수가 빠진 것으로 착각하여 오류를 나타내기 때문이다.\n",
    "self.size(S)의 경우 S1과 S2의 수만 세서 길이를 세도록 하였다. self.size(E)에서도 이 방식을 이용할 수는 있다. 그러나 E1에서 E8까지를 일일이 쓰기는 귀찮아서 size(E)의 경우는 전체 길이에서 self.size(S)를 빼는 방식으로 간단하게 표현하였다. 마지막으로 if arg==None을 처리하기 위해서는 else를 사용하였다. if arg==None를 쓸 경우 Nonetype을 integer로 변환할 수 없다는 Error이 뜨는데, 어차피 주어진 size의 기능은 S,E,None 세 가지에 따라서만 나뉘므로 else를 써도 무방하다고 판단하였다.\n",
    "\n",
    "enqueue에서는 S1이나 S2는 순서의 우선권을 가지게 되면서도, S끼리는 순서를 지키는데 이 것은 self.items.insert(self.size(S, name))로 구현할 수 있었다. E1~E8의 사람들은 순서를 따라서 등록하도록 .append를 사용하였다(rear이 가장 오른쪽이므로 append). 이때는 마찬가지로 else를 사용하였다.\n",
    "\n",
    "dequeue의 경우 if문을 이용해 queue가 비어있을 때는 대기열이 없다는 메세지를 띄우고, queue가 있을 때는 pop(0)을 이용해 가장 list[0]에 저장된 사람의 이름을 빼도록 하였다.\n",
    "\n",
    "print_status는 queue에 저장된 사람들의 이름을 출력하도록 구성하였다."
   ]
  },
  {
   "cell_type": "markdown",
   "metadata": {},
   "source": [
    "-------------------------------"
   ]
  }
 ],
 "metadata": {
  "anaconda-cloud": {},
  "kernelspec": {
   "display_name": "Python 3",
   "language": "python",
   "name": "python3"
  },
  "language_info": {
   "codemirror_mode": {
    "name": "ipython",
    "version": 3
   },
   "file_extension": ".py",
   "mimetype": "text/x-python",
   "name": "python",
   "nbconvert_exporter": "python",
   "pygments_lexer": "ipython3",
   "version": "3.7.1"
  }
 },
 "nbformat": 4,
 "nbformat_minor": 1
}
