{
 "cells": [
  {
   "cell_type": "code",
   "execution_count": 18,
   "metadata": {},
   "outputs": [
    {
     "name": "stdout",
     "output_type": "stream",
     "text": [
      "2\n",
      "17\n"
     ]
    }
   ],
   "source": [
    "#쉬운 계단수\n",
    "N=int(input())\n",
    "DP=[[0,1,1,1,1,1,1,1,1,1] for _ in range(N)]\n",
    "#처음 리스트 선언할 때 [[01111]*N이런식으로 하니까 각 리스트가 원소가 되지 않았음. for문으로 써서 각 리스트가 원소가 되게 하기]\n",
    "for i in range(1,N):\n",
    "    for j in range(0, 10):\n",
    "        if j == 9:\n",
    "            DP[i][j] = DP[i-1][j-1]\n",
    "        elif j == 0:\n",
    "            DP[i][j] = DP[i-1][j+1]\n",
    "        else:\n",
    "            DP[i][j] = DP[i-1][j-1]+DP[i-1][j+1]\n",
    "            \n",
    "print(sum(DP[N-1])%1000000)\n"
   ]
  },
  {
   "cell_type": "code",
   "execution_count": 1,
   "metadata": {},
   "outputs": [
    {
     "name": "stdout",
     "output_type": "stream",
     "text": [
      "4 7\n",
      "6 13\n",
      "4 8\n",
      "3 6\n",
      "5 12\n",
      "[12, 14, 6, 6, 14, 8, 8, 8, 12, 12, 12, 12, 13, 13, 13, 13]\n"
     ]
    }
   ],
   "source": []
  },
  {
   "cell_type": "code",
   "execution_count": 3,
   "metadata": {},
   "outputs": [
    {
     "name": "stdout",
     "output_type": "stream",
     "text": [
      "4 7\n",
      "6 13\n",
      "4 8\n",
      "3 6\n",
      "5 12\n",
      "[[0, 0, 0, 0, 0, 0, 0, 0], [0, 0, 0, 0, 0, 0, 0, 0], [0, 0, 0, 0, 0, 0, 0, 0], [0, 0, 0, 0, 0, 0, 0, 0], [0, 0, 0, 0, 0, 0, 0, 0]]\n",
      "[[0, 0], [6, 13], [4, 8], [3, 6], [5, 12]]\n"
     ]
    }
   ],
   "source": [
    "N, K =map(int,input().split())\n",
    "dp=[[0 for _ in range(K+1)] for _ in range(N+1)]\n",
    "items=[[0,0]]+[[*map(int,input().split())] for _ in range(N)]\n",
    "\n",
    "for i in range(1,N+1):\n",
    "    for j in range(1, K+1):\n",
    "        if j<items[i][0]:\n",
    "            dp[i][j]=dp[i-1][j]\n",
    "        else:\n",
    "            dp[i][j]=max(dp[i=1][j], items[i][j]+dp[i-1][j-items[i][0]])\n",
    "            \n",
    "print(dp[N][K])\n"
   ]
  },
  {
   "cell_type": "code",
   "execution_count": null,
   "metadata": {},
   "outputs": [],
   "source": []
  }
 ],
 "metadata": {
  "kernelspec": {
   "display_name": "Python 3",
   "language": "python",
   "name": "python3"
  },
  "language_info": {
   "codemirror_mode": {
    "name": "ipython",
    "version": 3
   },
   "file_extension": ".py",
   "mimetype": "text/x-python",
   "name": "python",
   "nbconvert_exporter": "python",
   "pygments_lexer": "ipython3",
   "version": "3.7.9"
  }
 },
 "nbformat": 4,
 "nbformat_minor": 2
}
