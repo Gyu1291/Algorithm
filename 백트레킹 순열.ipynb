{
 "cells": [
  {
   "cell_type": "code",
   "execution_count": 15,
   "metadata": {},
   "outputs": [
    {
     "name": "stdout",
     "output_type": "stream",
     "text": [
      "4 3\n",
      "1 2 3\n",
      "1 2 4\n",
      "1 3 4\n",
      "2 3 4\n"
     ]
    }
   ],
   "source": [
    "N, M = map(int,input().split())\n",
    "num_list=[i for i in range(1,N+1)]\n",
    "check_list=[False]*N\n",
    "arr=[]\n",
    "\n",
    "def fnc(cnt):\n",
    "    if cnt==M:\n",
    "        for i in range(M-1):\n",
    "            if arr[i]>arr[i+1]:\n",
    "                return\n",
    "        print(*arr)\n",
    "        return\n",
    "        \n",
    "    for i in range(N):\n",
    "        if (check_list[i]):\n",
    "            continue    \n",
    "        check_list[i]=True\n",
    "        arr.append(num_list[i])\n",
    "        fnc(cnt+1)\n",
    "        \n",
    "        arr.pop()\n",
    "        check_list[i]=False\n",
    "        \n",
    "fnc(0)"
   ]
  },
  {
   "cell_type": "code",
   "execution_count": 20,
   "metadata": {
    "scrolled": false
   },
   "outputs": [
    {
     "name": "stdout",
     "output_type": "stream",
     "text": [
      "4 3\n",
      "[False, False, False, False]\n",
      "[True, False, False, False]\n",
      "[True, False, False, False]\n",
      "[True, True, False, False]\n",
      "[True, True, False, False]\n",
      "[True, True, False, False]\n",
      "1 2 3\n",
      "[True, True, True, False]\n",
      "1 2 4\n",
      "[True, True, False, False]\n",
      "[True, True, True, False]\n",
      "[True, True, True, False]\n",
      "[True, True, True, False]\n",
      "[True, True, True, False]\n",
      "1 3 4\n",
      "[True, True, True, False]\n",
      "[True, True, True, True]\n",
      "[True, True, True, True]\n",
      "[True, True, True, True]\n",
      "[True, True, True, True]\n",
      "[True, False, False, False]\n",
      "[True, True, False, False]\n",
      "[True, True, False, False]\n",
      "[True, True, False, False]\n",
      "[True, True, True, False]\n",
      "[True, True, True, False]\n",
      "[True, True, True, False]\n",
      "[True, True, True, False]\n",
      "2 3 4\n",
      "[True, True, True, False]\n",
      "[True, True, True, True]\n",
      "[True, True, True, True]\n",
      "[True, True, True, True]\n",
      "[True, True, True, True]\n",
      "[True, True, False, False]\n",
      "[True, True, True, False]\n",
      "[True, True, True, False]\n",
      "[True, True, True, False]\n",
      "[True, True, True, False]\n",
      "[True, True, True, True]\n",
      "[True, True, True, True]\n",
      "[True, True, True, True]\n",
      "[True, True, True, True]\n",
      "[True, True, True, False]\n",
      "[True, True, True, True]\n",
      "[True, True, True, True]\n",
      "[True, True, True, True]\n",
      "[True, True, True, True]\n"
     ]
    }
   ],
   "source": [
    "\n",
    "N, M = map(int, input().split())\n",
    "\n",
    "num_list = [i + 1 for i in range(N)]\n",
    "check_list = [False] * N\n",
    "\n",
    "arr = []\n",
    "\n",
    "def dfs(cnt):\n",
    "    if(cnt == M):\n",
    "        print(*arr)\n",
    "        return\n",
    "    \n",
    "    for i in range(0, N):\n",
    "        print(check_list)\n",
    "        if(check_list[i]):\n",
    "            continue\n",
    "        \n",
    "        check_list[i] = True\n",
    "        arr.append(num_list[i])\n",
    "        dfs(cnt + 1)\n",
    "        arr.pop()\n",
    "        \n",
    "        # 이 부분이 순열하고의 차이점이다.\n",
    "        # 큰 나무에서 전에 봤던 것만\n",
    "        # 닫아주면 된다.\n",
    "        for j in range(i + 1, N):\n",
    "            check_list[j] = False\n",
    "            \n",
    "        \n",
    "dfs(0)"
   ]
  },
  {
   "cell_type": "code",
   "execution_count": 31,
   "metadata": {
    "scrolled": false
   },
   "outputs": [
    {
     "name": "stdout",
     "output_type": "stream",
     "text": [
      "3 3\n",
      "1 1 1\n",
      "1 1 2\n",
      "1 1 3\n",
      "1 2 2\n",
      "1 2 3\n",
      "1 3 3\n",
      "2 2 2\n",
      "2 2 3\n",
      "2 3 3\n",
      "3 3 3\n"
     ]
    }
   ],
   "source": [
    "\n",
    "N, M = map(int, input().split())\n",
    "\n",
    "num_list = [i + 1 for i in range(N)]\n",
    "check_list = [False] * N\n",
    "\n",
    "arr = []\n",
    "\n",
    "def dfs(cnt):\n",
    "    if(cnt == M):\n",
    "        print(*arr)\n",
    "        return\n",
    "    \n",
    "    for i in range(0, N):\n",
    "        if(check_list[i]):\n",
    "            continue\n",
    "        \n",
    "        arr.append(num_list[i])\n",
    "        dfs(cnt + 1)\n",
    "        check_list[i] = True\n",
    "        arr.pop()\n",
    "        for j in range(i+1, N):\n",
    "            check_list[j] = False\n",
    "            \n",
    "        \n",
    "dfs(0)"
   ]
  },
  {
   "cell_type": "code",
   "execution_count": null,
   "metadata": {},
   "outputs": [],
   "source": []
  }
 ],
 "metadata": {
  "kernelspec": {
   "display_name": "Python 3",
   "language": "python",
   "name": "python3"
  },
  "language_info": {
   "codemirror_mode": {
    "name": "ipython",
    "version": 3
   },
   "file_extension": ".py",
   "mimetype": "text/x-python",
   "name": "python",
   "nbconvert_exporter": "python",
   "pygments_lexer": "ipython3",
   "version": "3.7.1"
  }
 },
 "nbformat": 4,
 "nbformat_minor": 2
}
