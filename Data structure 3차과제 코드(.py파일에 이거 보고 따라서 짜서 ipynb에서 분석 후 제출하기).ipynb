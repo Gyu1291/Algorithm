{
 "cells": [
  {
   "cell_type": "code",
   "execution_count": 5,
   "id": "macro-curve",
   "metadata": {},
   "outputs": [],
   "source": [
    "#1-1,2점화식을 세우는 것은 보고했다...\n",
    "def p1_recursion(n):\n",
    "    if n==1:\n",
    "        return 0\n",
    "    elif n==2:\n",
    "        return 1\n",
    "    else:\n",
    "        return (n-1)*(p1_recursion(n-1)+p1_recursion(n-2))"
   ]
  },
  {
   "cell_type": "code",
   "execution_count": 24,
   "id": "affecting-grove",
   "metadata": {},
   "outputs": [
    {
     "data": {
      "text/plain": [
       "44"
      ]
     },
     "execution_count": 24,
     "metadata": {},
     "output_type": "execute_result"
    }
   ],
   "source": [
    "p1_recursion(5)"
   ]
  },
  {
   "cell_type": "code",
   "execution_count": 15,
   "id": "fifty-grocery",
   "metadata": {},
   "outputs": [],
   "source": [
    "#동일한 함수를 dp로 구현\n",
    "def p1_dp(n):\n",
    "    dp=[0]*(n+1)\n",
    "    for i in range(1,n+1):\n",
    "        if i==1:\n",
    "            dp[i]=0\n",
    "        elif i==2:\n",
    "            dp[i]=1\n",
    "        else:\n",
    "            dp[i]=(i-1)*(dp[i-1]+dp[i-2])\n",
    "    return dp"
   ]
  },
  {
   "cell_type": "code",
   "execution_count": 23,
   "id": "forty-eagle",
   "metadata": {},
   "outputs": [
    {
     "data": {
      "text/plain": [
       "[0, 0, 1, 2, 9, 44]"
      ]
     },
     "execution_count": 23,
     "metadata": {},
     "output_type": "execute_result"
    }
   ],
   "source": [
    "p1_dp(5)"
   ]
  },
  {
   "cell_type": "markdown",
   "id": "spatial-airline",
   "metadata": {},
   "source": [
    "철수는 학교에서 강의를 수강한 후, 서비스 센터에서 휴대폰을 수리하고 집으로 가려고 한다. 그림과 같이 학교, 서비스 센터, 집의 위치는 행과 열을 나타내는 좌표로 주어진다. 학교, 서비스 센터, 집의 좌표는 각각  (1,1) ,  (𝑘𝑥,𝑘𝑦) ,  (𝑛,𝑚) 이다. 철수가 학교에서 서비스 센터를 경유하여 집으로 가는 최단 경로의 개수를 구하시오.\n",
    "\n",
    "->학교에서 서비스센터로 가는 경우의 수x서비스센터에서 집으로 가는 경우의 수\n",
    "각 단계에서의 최단거리 경우의 수는 옆으로 가는 횟수(n-1)번과 아래로 가는 횟수 (m-1)번을 배열하는 서로 다른 방법의 수라고 생각하면 됨.\n",
    "\n",
    "그런데 이걸 recursion과 dp를 이용해 짜야한다.\n",
    "recursion->최단거리(n,m)=최단거리(n-1,m)+최단거리(n,m-1)"
   ]
  },
  {
   "cell_type": "code",
   "execution_count": 29,
   "id": "whole-parent",
   "metadata": {},
   "outputs": [],
   "source": [
    "def p2_basic(n,m):\n",
    "    if n==1 or m==1:\n",
    "        return 1\n",
    "    else:\n",
    "        return p2_basic(n-1,m)+p2_basic(n,m-1)"
   ]
  },
  {
   "cell_type": "code",
   "execution_count": 30,
   "id": "lightweight-context",
   "metadata": {},
   "outputs": [
    {
     "data": {
      "text/plain": [
       "4"
      ]
     },
     "execution_count": 30,
     "metadata": {},
     "output_type": "execute_result"
    }
   ],
   "source": [
    "p2_basic(2,4)"
   ]
  },
  {
   "cell_type": "code",
   "execution_count": 43,
   "id": "atmospheric-warrior",
   "metadata": {},
   "outputs": [],
   "source": [
    "def p2_recursion(n,m,k):\n",
    "    return p2_basic(n-k[0]+1,m-k[1]+1)*p2_basic(k[0],k[1])"
   ]
  },
  {
   "cell_type": "code",
   "execution_count": 66,
   "id": "magnetic-halifax",
   "metadata": {},
   "outputs": [
    {
     "data": {
      "text/plain": [
       "9"
      ]
     },
     "execution_count": 66,
     "metadata": {},
     "output_type": "execute_result"
    }
   ],
   "source": [
    "p2_recursion(3,5,(2,3))"
   ]
  },
  {
   "cell_type": "code",
   "execution_count": 1,
   "id": "convinced-algorithm",
   "metadata": {},
   "outputs": [],
   "source": [
    "def p2_dp_basic(n,m):\n",
    "    dp_map=[[0]*m for _ in range(n)]\n",
    "    for i in range(n):\n",
    "        for j in range(m):\n",
    "            if i==0 or j==0:\n",
    "                dp_map[i][j]=1\n",
    "                \n",
    "            else:\n",
    "                dp_map[i][j]=dp_map[i-1][j]+dp_map[i][j-1]\n",
    "                \n",
    "    return dp_map[n-1][m-1]"
   ]
  },
  {
   "cell_type": "code",
   "execution_count": 2,
   "id": "returning-texas",
   "metadata": {},
   "outputs": [
    {
     "data": {
      "text/plain": [
       "4"
      ]
     },
     "execution_count": 2,
     "metadata": {},
     "output_type": "execute_result"
    }
   ],
   "source": [
    "p2_dp_basic(2,4)"
   ]
  },
  {
   "cell_type": "code",
   "execution_count": 3,
   "id": "perceived-farmer",
   "metadata": {},
   "outputs": [],
   "source": [
    "def p2_dp(n,m,k):\n",
    "    return p2_dp_basic(n-k[0]+1,m-k[1]+1)*p2_dp_basic(k[0],k[1])"
   ]
  },
  {
   "cell_type": "code",
   "execution_count": 4,
   "id": "printable-absorption",
   "metadata": {},
   "outputs": [
    {
     "data": {
      "text/plain": [
       "9"
      ]
     },
     "execution_count": 4,
     "metadata": {},
     "output_type": "execute_result"
    }
   ],
   "source": [
    "p2_dp(3,5,(2,3))"
   ]
  },
  {
   "cell_type": "markdown",
   "id": "stable-vampire",
   "metadata": {},
   "source": [
    "배달로봇->비용 500, 거리 상관없음, 커피개수 제한없음, 카페->연구실로만 배달 가능\n",
    "직원->거리1당 비용10, 한명이 한개의 커피 옮길 수 있음, 카페->연구실 및 연구실->연구실 배달 가능\n",
    "\n",
    "카페(0번연구실)에서 10 25 25 40 50 5개 연구실에 커피 배달할 예정\n",
    "\n",
    "1. 어떤 상황에서 배달로봇을 사용하는 것이 최적인가?\n",
    "배달로봇을 사용하지 않고 직원 5명이 카페에서 출발한다고 하면 이동거리 1당 비용 50이 든다.\n",
    "각 직원이 이동하는 거리를 x1~x5라고 하면(이는 연구실의 번호와도 같다) (x1+x2+x3+x4+x5) * 10 이 총 비용이 될 텐데 평균이동거리 = (x1+x2+x3+x4+x5)/5임을 생각해보면 평균이동거리 * 50으로 나타낼 수도 있다.\n",
    "\n",
    "이 경우 배달해야 하는 연구실까지의 평균 이동거리가 10이 되는 순간 일단 배달로봇 만큼의 비용이 들어가게 된다.\n",
    "\n",
    "배달로봇의 경우 어떤 연구실 K에서 내릴 경우, 직원들이 거기에서부터 커피를 재 배달해주어야 한다. 특정 연구실의 번호가 x, 배달로봇이 도착한 연구실의 번호가 k 일 때 로봇을 사용한 이후 추가적으로 드는 비용은 연구실 별로 (10 * lx-kl)이다. \n",
    "\n",
    "다음과 같은 결론을 내렸다.\n",
    "1) 연구실의 번호가 10 이하일 경우 사람이 직접 배달하는 것이 이득이다.\n",
    "\n",
    "2) 번호가 10이 넘는 연구실이 포함되어 있다 하더라도, 연구실들의 번호의 평균이 10 이하인 경우 사람이 직접 배달하는 것이 이득이다.\n",
    "\n",
    "3) 연구실의 번호의 평균이 10을 넘는 경우, 다음과 같은 알고리즘을 수행한다.\n",
    "- 먼저 5개의 커피 모두 로봇이 가지고 가고 직원은 로봇에서부터 배달한다고 가정하자. 로봇이 정지하는 연구실을 K라고하면, 해당 연구실로부터 추가적으로 드는 비용의 총합이 최소가 되도록 k를 설정한다.\n",
    "\n"
   ]
  },
  {
   "cell_type": "markdown",
   "id": "biological-classification",
   "metadata": {},
   "source": [
    "2. 배달로봇이 어떤 위치까지 배달할 지 어떻게 결정할 것인가?\n",
    "각 연구실까지 배달로봇을 보냈을 때 드는 비용을 모두 계산 후 비교해서 비용이 최소가 될 때를 찾는다."
   ]
  },
  {
   "cell_type": "markdown",
   "id": "supported-chancellor",
   "metadata": {},
   "source": [
    "# 발견한 사실1 \n",
    "\n",
    "-로봇 하나를 이용할 경우, 로봇을 이용해 커피를 배달하는 연구실이 홀수개일 경우 반드시 그 가운데 연구실에, 짝수개일 경우 가운데 2 연구실 사이 범위로 로봇을 보내야 한다.\n",
    "만약 연구실 a b c d e 로 커피를 보내야 하면 c로 보내야 최적, a b c d 로 커피를 보낸다면 b이나 c 가운데 아무대로나 보내도 최적이라는 뜻이다. 전자의 경우 로봇을 사용한 후 이동거리는 (d+e)-(a+b) 후자의 경우 (c+d)-(a+b)이다. 로봇을 사용해야 하는 경우는 다음과 같다.\n",
    "홀수개일 때\n",
    "(a+b+c+d+e)+(a+b)-(d+e)>50, 2(a+b)+c>50\n",
    "(a+b+c+d)+(a+b)-(d+e)>50, 2(a+b)>50\n",
    "\n",
    "즉 앞의 절반x2 한 값이 50보다 크면 이 경우 로봇을 하나 사용해도 된다.(홀수개면 앞의 절반+가운데 값)\n",
    "\n",
    "로봇을 사용하기로 결정했으면 K는 무조건 가운데 값으로 결정하면 되는데,\n",
    "K > 2a인 경우 로봇을 사용하더라도 그냥 사람이 가는게 이득이다. 이 경우 그냥 사람을 보내는 것으로 한다.\n",
    "\n",
    "\n",
    "\n",
    "\n",
    "\n",
    "로봇을 하나만 사용하는 제한적인 경우 가정\n",
    "\n",
    "리스트 들어옴(num_coffe=len(list)대용으로 사용한다 치자)\n",
    "\n",
    "1) list.sort()\n",
    "\n",
    "2) 2x앞의 절반값(+홀수일 경우 가운데 값)>50인지 계산\n",
    "\n",
    "3) 위 조건이 만족되면 로봇 출발->출발과 동시에 최적의 값은 이미 나와있음.\n",
    "\n",
    "(500+로봇 가운데로 보냈을 때(K>2a면 그냥 비용 10a처리하고, 2a<K이면 10lk-al처리한 후 모두 더해줌)\n",
    "(예외상황으로 가운데 두 연구실이 매우 벌어져있을때-> 처리하기 위해 기본적으로 뒤쪽 연구실로 커피 보내게 한다?)\n",
    "\n",
    "3) \n",
    "\n",
    "-로봇을 2개 이상 사용할 때는 언제인가?\n",
    "\n",
    "\n",
    "\n",
    "\n",
    "\n",
    "\n",
    "-점화식을 찾을 수 있는가\n",
    "뭔카 커피의 개수와 점화식이 관련이 있을 것 같다.\n",
    "기본 점화식은 개수가 n개일 때와 n+1개일 때 뭔가 관련이 있고 특정 조건을 만족하면 로봇을 사용해버리는 경우\n",
    "최소 개수 동전하고 비슷하게 생각해보자.\n",
    "\n",
    "커피 개수를 차례로 센다면\n",
    "가장 멀리있는것부터 계산하는게 계산하기 편할듯 하다.\n",
    "list[-1]이용하면 될듯\n",
    "\n",
    "커피가 1개일 때 -> 거리 50미만 사람, 거리 50이상 로봇 사용\n",
    "거리가 A일 경우 10xA or 500 ---------------> dp[A](로봇을 안쓰는 경우, 로봇을 하나 쓰는 경우)\n",
    "\n",
    "\n",
    "커피가 2개일 때 -> (어떤 위치 조건)\n",
    "거리가 A, B일 경우 dp[1]+10xB (둘다사람, 하나만 로봇인 경우 모두 포함) or 500+B-A-> or 1000\n",
    "->dp[A]+dp[B](A로의 경로는 그대로고 B로의 경로는 로봇이든 사람이든 추가되는 경우), dp[A,B](로봇의 도착지점이 바뀌어 A로의 경로까지 바뀌는 경우)\n",
    "\n",
    "커피가 3개일 때-> (어떤 조건)\n",
    "거리가 A,B,C일 경우 dp[A,B]+dp[C](A,B는 그대로 가고 C는 도보를 하든 로봇을 추가해서 가든 별개로 추가되는 경우) or dp[A,B,C]=500+C-A(기존에 A,B에서 쓰던 방식이 변화하는 경우)\n",
    "\n",
    "\n",
    "이걸로 모든 경우 찾을 수 있을 듯 ㅇㅇ\n",
    "\n",
    "\n",
    "dp[i+1]=\n",
    "\n"
   ]
  },
  {
   "cell_type": "code",
   "execution_count": 2,
   "id": "apart-armstrong",
   "metadata": {},
   "outputs": [],
   "source": [
    "def dp_p3(num_coffee, labs, staff, robot):\n",
    "    n=num_coffee\n",
    "    labs.sort()\n",
    "    dp=[[0]*i for i in range(1,n+1)]\n",
    "    \n",
    "    \n",
    "    for i in range(n):\n",
    "        for j in range(len(dp[i])):\n",
    "            if j==0:\n",
    "                dp[i][j]=min(labs[i]*staff,500)\n",
    "            elif j==1:\n",
    "                dp[i][j]=min(dp[i][j-1]+dp[i-1][j-1],500+(labs[i]-labs[i-1])*10)\n",
    "            else:\n",
    "                dp[i][j]=min(dp[i][j-1]+dp[i-j][0], dp[i-1][j-1]+dp[i][0], 500+10*(sum(labs[i-((j+1)//2):i+1])-sum(labs[i-j-1:i-((j+1)//2)])))\n",
    "    \n",
    "    return dp\n",
    "\n",
    "#얼추 접근은 맞은 것 같은데 큰 숫자부터 세는걸로 바꿔야 할 것 같다."
   ]
  },
  {
   "cell_type": "code",
   "execution_count": 3,
   "id": "impaired-cartoon",
   "metadata": {},
   "outputs": [
    {
     "data": {
      "text/plain": [
       "[[100],\n",
       " [250, 350],\n",
       " [250, 500, 600],\n",
       " [400, 650, 800, 900],\n",
       " [500, 600, 850, 1100, 1200]]"
      ]
     },
     "execution_count": 3,
     "metadata": {},
     "output_type": "execute_result"
    }
   ],
   "source": [
    "dp_p3(5,[10,25,40,25,50],10,500)"
   ]
  },
  {
   "cell_type": "code",
   "execution_count": 4,
   "id": "manufactured-modeling",
   "metadata": {},
   "outputs": [],
   "source": [
    "def dp_p3(num_coffee, labs, staff, robot):\n",
    "    n=num_coffee\n",
    "    labs.sort(reverse=True)\n",
    "    \n",
    "    dp=[[0]*i for i in range(1,n+1)]\n",
    "    sum_triangle=[[0]*i for i in range(1,n+1)]\n",
    "    sub_triangle=[[0]*i for i in range(1,n+1)]\n",
    "    \n",
    "    for i in range(n):\n",
    "        for j in range(len(sum_triangle[i])):\n",
    "            if j==0:\n",
    "                sum_triangle[i][j]=labs[i]\n",
    "            else:\n",
    "                sum_triangle[i][j]=sum_triangle[i][j-1]+sum_triangle[i-j][0]\n",
    "    \n",
    "    for i in range(n): #sub_triangle다시짜기 일단 삼각형 계산과정을 2로 넣어놓긴 했는데 더 정확한 인덱스 값 찾기\n",
    "        for j in range(len(sub_triangle[i])):\n",
    "            if j == 0:\n",
    "                sub_triangle[i][j]=0\n",
    "            elif j == 1:\n",
    "                sub_triangle[i][j]=sum_triangle[i-1][0]-sum_triangle[i][0]\n",
    "            else:\n",
    "                sub_triangle[i][j]=sum_triangle[i-(j+1)+(j+1)//2][(j+1)//2-1]-sum_triangle[i][(j+1)//2-1]\n",
    "                #설명 제대로 하기!!!!!!\n",
    "    \n",
    "    \n",
    "    \n",
    "    \n",
    "    \n",
    "    for i in range(n):\n",
    "        for j in range(len(dp[i])):\n",
    "            if j==0:\n",
    "                dp[i][j]=min(labs[i]*staff,500)\n",
    "            elif j==1:\n",
    "                dp[i][j]=min(dp[i][j-1]+dp[i-1][j-1],500+(labs[i-1]-labs[i])*10)\n",
    "            else:\n",
    "                dp[i][j]=min(dp[i][j-1]+dp[i-j][0], dp[i-1][j-1]+dp[i][0], 500+10*(sub_triangle[i][j]))\n",
    "                \n",
    "    return dp\n",
    "\n",
    "\n",
    "\n",
    "\n",
    "#다짰다.!!!!!!!!!!!!!!!!!!\n",
    "#Sum() 을 시간복잡도 n으로 계산할 경우 O(n^2)을 넘는듯? 저 sum부분에 들어가는 최솟값 배열을 따로 만들어주기\n",
    "#시간복잡도 O(n^2)으로 구현해냄!!\n",
    "#잘못짰다..."
   ]
  },
  {
   "cell_type": "code",
   "execution_count": 5,
   "id": "valid-journal",
   "metadata": {},
   "outputs": [
    {
     "data": {
      "text/plain": [
       "[[500], [500, 500], [500, 900, 900], [500, 500, 900, 1300]]"
      ]
     },
     "execution_count": 5,
     "metadata": {},
     "output_type": "execute_result"
    }
   ],
   "source": [
    "dp_p3(4,[60,60,100,100],10,500)"
   ]
  },
  {
   "cell_type": "code",
   "execution_count": 10,
   "id": "communist-behavior",
   "metadata": {},
   "outputs": [
    {
     "name": "stdout",
     "output_type": "stream",
     "text": [
      "[]\n",
      "[1, 2, 3]\n"
     ]
    }
   ],
   "source": [
    "a=[1,2,3,4,5]\n",
    "print(a[5:])\n",
    "print(a[0:3])"
   ]
  },
  {
   "cell_type": "code",
   "execution_count": 73,
   "id": "marine-integer",
   "metadata": {},
   "outputs": [],
   "source": [
    "def dp_p4(n,labs,staff,robot):\n",
    "    labs.sort()\n",
    "    only_staff=[staff*sum(labs[:i+1]) for i in range(n)]\n",
    "    use_robot=[0]*n\n",
    "    dp=[0]*n\n",
    "    \n",
    "    #사람만 쓰는 경우는 도출했으니 이제 로봇을 무조건 쓴다고 생각하고 코딩\n",
    "    \n",
    "    \n",
    "    \n",
    "    \n",
    "    for i in range(n): #로봇을 하나만 쓰는 경우(국소적으로 활용)\n",
    "        if i == 0:\n",
    "            use_robot[i]= robot\n",
    "        elif i == 1:\n",
    "            use_robot[i]= robot+min((labs[1]-labs[0])*staff,labs[0]*staff)\n",
    "        else:\n",
    "            c=0\n",
    "            current=labs[:i+1]\n",
    "            mid_point=(i+1)//2 #이렇게 하면 무조건 가운데임\n",
    "            k=current[mid_point]\n",
    "            while k > 2*current[0]:\n",
    "                c+=current[0]*staff\n",
    "                k=current[mid_point+1]\n",
    "                current=current[1:]\n",
    "                \n",
    "            mid_point=len(current)//2\n",
    "            if len(current)%2==0:\n",
    "                a = 10*(sum(current[mid_point:])-sum(current[:mid_point]))\n",
    "            else:\n",
    "                a = 10*(sum(current[mid_point+1:])-sum(current[:mid_point]))\n",
    "            \n",
    "            print(current)\n",
    "            print(a)\n",
    "            print(c)\n",
    "            print(mid_point)\n",
    "            use_robot[i] = 500+c+a\n",
    "            \n",
    "            \n",
    "            \n",
    "            \n",
    "    for i in range(n): #사람만 쓸 것인가, 로봇을 하나만 쓸 것인가, 로봇을 여러개 쓸 것인가?\n",
    "        if i==0:\n",
    "            dp[i]=min(only_staff[0],use_robot[0])\n",
    "        else:\n",
    "            if (labs[i]-labs[i-1])*staff>robot:\n",
    "                dp[i]=dp[i-1]+robot\n",
    "            else:\n",
    "                dp[i]=min(only_staff[i],use_robot[i],dp[i-1]+labs[i])\n",
    "                \n",
    "    return use_robot"
   ]
  },
  {
   "cell_type": "code",
   "execution_count": 74,
   "id": "green-constitution",
   "metadata": {},
   "outputs": [
    {
     "name": "stdout",
     "output_type": "stream",
     "text": [
      "[25, 25]\n",
      "0\n",
      "100\n",
      "1\n",
      "[25, 25, 40]\n",
      "150\n",
      "100\n",
      "1\n",
      "[25, 25, 40, 50]\n",
      "400\n",
      "100\n",
      "2\n"
     ]
    },
    {
     "data": {
      "text/plain": [
       "[500, 600, 600, 750, 1000]"
      ]
     },
     "execution_count": 74,
     "metadata": {},
     "output_type": "execute_result"
    }
   ],
   "source": [
    "dp_p4(5,[10,25,25,40,50],10,500)"
   ]
  },
  {
   "cell_type": "code",
   "execution_count": 54,
   "id": "celtic-decade",
   "metadata": {},
   "outputs": [
    {
     "name": "stdout",
     "output_type": "stream",
     "text": [
      "[2, 3]\n",
      "[1]\n"
     ]
    }
   ],
   "source": [
    "a=[1,2,3]\n",
    "print(a[1:])\n",
    "print(a[:1])"
   ]
  },
  {
   "cell_type": "code",
   "execution_count": 1,
   "id": "smoking-business",
   "metadata": {},
   "outputs": [],
   "source": [
    "def dp_p4(n,labs,staff,robot):\n",
    "    labs.sort()\n",
    "    \n",
    "    only_staff=[staff*sum(labs[:i+1]) for i in range(n)]\n",
    "    use_robot=[0]*n\n",
    "    dp=[0]*n\n",
    "    new_robot=[500]*n\n",
    "    nearest_robot=0\n",
    "    t=False\n",
    "    y=0\n",
    "    #사람만 쓰는 경우는 도출했으니 이제 로봇을 무조건 쓴다고 생각하고 코딩\n",
    "    \n",
    "    \n",
    "    \n",
    "    \n",
    "    for i in range(n): #로봇을 하나만 쓰는 경우(국소적으로 활용)\n",
    "        if i == 0:\n",
    "            use_robot[i]= robot\n",
    "            dp[i]=min(only_staff[0],use_robot[0])\n",
    "            \n",
    "        elif i == 1:\n",
    "            use_robot[i]= robot+min((labs[i]-labs[i-1])*staff,labs[i-1]*staff)\n",
    "            dp[i]=min(only_staff[i],use_robot[i],dp[i-1]+use_robot[i])\n",
    "            \n",
    "        else:\n",
    "            if t==True:\n",
    "                current=labs[y:i+1]\n",
    "                c=0\n",
    "                mid_point=(len(current)-1)//2 #이렇게 하면 무조건 가운데임\n",
    "                k=current[mid_point]\n",
    "                while k > 2*current[0]:\n",
    "                    c += current[0]*staff\n",
    "                    k=current[mid_point+1]\n",
    "                    current=current[1:]\n",
    "                \n",
    "                mid_point=len(current)//2\n",
    "                if len(current)%2==0:\n",
    "                    a = 10*(sum(current[mid_point:])-sum(current[:mid_point]))\n",
    "                else:\n",
    "                    a = 10*(sum(current[mid_point+1:])-sum(current[:mid_point]))\n",
    "                use_robot[i] = c+a\n",
    "                \n",
    "                d=1\n",
    "                cnt=0\n",
    "                while labs[i]-labs[i-d]<labs[i-d]-current[mid_point]: #새로 들어오는 자리에 로봇을 넣은 경우 최적의 값\n",
    "                    cnt+=1                                             #new_robot부분은 다시 짜야하는데\n",
    "                    new_robot[i]+=10*(labs[i]-labs[i-d])\n",
    "                    d+=1\n",
    "                new_robot[i]+=dp[i-d]\n",
    "                \n",
    "            else:\n",
    "                current=labs[:i+1]\n",
    "                c=0\n",
    "                mid_point=(i+1)//2 #이렇게 하면 무조건 가운데임\n",
    "                k=current[mid_point]\n",
    "                while k > 2*current[0]:\n",
    "                    c += current[0]*staff\n",
    "                    k=current[mid_point+1]\n",
    "                    current=current[1:]\n",
    "                \n",
    "                mid_point=len(current)//2\n",
    "                if len(current)%2==0:\n",
    "                    a = 10*(sum(current[mid_point:])-sum(current[:mid_point]))\n",
    "                else:\n",
    "                    a = 10*(sum(current[mid_point+1:])-sum(current[:mid_point]))\n",
    "                use_robot[i] = 500+c+a\n",
    "            \n",
    "            \n",
    "            \n",
    "                d=1\n",
    "                cnt=0\n",
    "                while labs[i]-labs[i-d]<labs[i-d]-current[mid_point]: #새로 들어오는 자리에 로봇을 넣은 경우 최적의 값\n",
    "                    cnt+=1                                             #new_robot부분은 다시 짜야하는데\n",
    "                    new_robot[i]+=10*(labs[i]-labs[i-d])\n",
    "                    d+=1\n",
    "                new_robot[i]+=dp[i-d-1]\n",
    "            \n",
    "            \n",
    "            if t==True:\n",
    "                dp[i]=min(only_staff[i],new_robot[i],dp[i-1]+use_robot[i])\n",
    "            else:\n",
    "                dp[i]=min(only_staff[i],use_robot[i])\n",
    "            \n",
    "            \n",
    "            if dp[i]>new_robot[i]:\n",
    "                dp[i]=new_robot[i]     #지금부터는 두번째 로봇을 써야한다.\n",
    "                y=i-d\n",
    "                t=True\n",
    "                \n",
    "                \n",
    "        #로봇 한번 초기화 시킨 이후 코드 짜기\n",
    "        #얼추 완성시켰다.\n",
    "\n",
    "    return dp"
   ]
  },
  {
   "cell_type": "code",
   "execution_count": 5,
   "id": "disciplinary-jacksonville",
   "metadata": {},
   "outputs": [
    {
     "data": {
      "text/plain": [
       "[500, 500, 900, 1000, 1500]"
      ]
     },
     "execution_count": 5,
     "metadata": {},
     "output_type": "execute_result"
    }
   ],
   "source": [
    "dp_p4(5,[60,60,100,100,160],10,500)"
   ]
  },
  {
   "cell_type": "code",
   "execution_count": 1,
   "id": "adaptive-operation",
   "metadata": {},
   "outputs": [],
   "source": [
    "def dp_p5(n,labs,staff,robot):\n",
    "    labs.sort()\n",
    "    dp=[0]*n\n",
    "    only_staff=[staff*sum(labs[:i+1]) for i in range(n)]\n",
    "    num_robot=0\n",
    "    check_point=0\n",
    "    use_robot=[0]*n\n",
    "    new_robot=[10000]*n\n",
    "    \n",
    "    dp[0]=min(staff*labs[0],robot) #dp[0]은 단순연산으로 계산이 가능하다\n",
    "    if dp[0]==robot:\n",
    "        num_robot+=1\n",
    "\n",
    "    \n",
    "    for i in range(1,n):\n",
    "        if num_robot==0: #dp[0]에서 사람만 보낸 경우, 이후에 로봇을 하나도 사용하지 않는지, 하나라도 쓰는지 판별\n",
    "            current=labs[:i+1]\n",
    "            length=len(current)\n",
    "            mid_point=length//2\n",
    "            a=0\n",
    "            for j in range(length):  #직원의 이동거리\n",
    "                if current[j]<current[mid_point]-current[j]:\n",
    "                    a+=current[j]\n",
    "                else:\n",
    "                    a+=(current[mid_point]-current[j])\n",
    "                    \n",
    "            use_robot[i]=robot+staff*a\n",
    "            \n",
    "            if use_robot[i]<=only_staff[i]:\n",
    "                dp[i]=use_robot[i]\n",
    "                num_robot+=1\n",
    "                check_point=i\n",
    "                while labs[check_point-1]==labs[i]:\n",
    "                    check_point-=1\n",
    "            else:\n",
    "                dp[i]=only_staff[i]\n",
    "            \n",
    "            \n",
    "            \n",
    "                \n",
    "        else: #로봇을 이미 하나 사용하고 있을 때\n",
    "            current=labs[check_point:i+1]\n",
    "            length=len(current)\n",
    "            mid_point=length//2\n",
    "            a=0\n",
    "            if length % 2==0: #current에 있는 연구소가 짝수인 경우\n",
    "                a = (sum(current[mid_point:])-sum(current[:mid_point]))\n",
    "            else: #연구소가 홀수인 경우 가운데 인덱스는 빼야 한다.\n",
    "                a = (sum(current[mid_point+1:])-sum(current[:mid_point]))\n",
    "\n",
    "            use_robot[i]=dp[check_point-1]+robot+staff*a\n",
    "            \n",
    "            \n",
    "            b=0\n",
    "            length2=length\n",
    "            print(current)\n",
    "            for j in range(length): #new_robot이 들어올 때의 거리만 제대로 짜면 되는데...\n",
    "                if current[-1]-current[-1-j]<abs(current[-1-j]-current[mid_point]):\n",
    "                    b+=(current[-1]-current[-1-j])\n",
    "                    length2=length2-1\n",
    "                    mid_point=length2//2\n",
    "            \n",
    "            print(b)\n",
    "            new_robot[i]=use_robot[i]-staff*a+staff*b+robot #이게 왜맞지?\n",
    "            \n",
    "            \n",
    "\n",
    "            if new_robot[i]<=use_robot[i]:\n",
    "                dp[i]=new_robot[i]\n",
    "                num_robot+=1\n",
    "                check_point=i\n",
    "                while labs[check_point-1]==labs[i]:\n",
    "                    check_point-=1\n",
    "            else:\n",
    "                dp[i]=use_robot[i]\n",
    "                \n",
    "                \n",
    "    return dp"
   ]
  },
  {
   "cell_type": "code",
   "execution_count": 2,
   "id": "designing-barcelona",
   "metadata": {},
   "outputs": [
    {
     "name": "stdout",
     "output_type": "stream",
     "text": [
      "[60, 60]\n",
      "0\n",
      "[60, 60, 100]\n",
      "0\n",
      "[60, 60, 100, 100]\n",
      "0\n",
      "[100, 100, 200]\n",
      "0\n",
      "[200, 200]\n",
      "0\n"
     ]
    },
    {
     "data": {
      "text/plain": [
       "[500, 500, 900, 1000, 1500, 1500]"
      ]
     },
     "execution_count": 2,
     "metadata": {},
     "output_type": "execute_result"
    }
   ],
   "source": [
    "dp_p5(6,[60,60,100,100,200,200],10,500)"
   ]
  },
  {
   "cell_type": "code",
   "execution_count": null,
   "id": "expressed-transport",
   "metadata": {},
   "outputs": [],
   "source": [
    "\n",
    "            if length % 2==0: #current에 있는 연구소가 짝수인 경우\n",
    "                b += (sum(current[mid_point:length2])-sum(current[:mid_point]))\n",
    "            else: #연구소가 홀수인 경우 가운데 인덱스는 빼야 한다.\n",
    "                b += (sum(current[mid_point+1:length2])-sum(current[:mid_point]))"
   ]
  },
  {
   "cell_type": "code",
   "execution_count": 147,
   "id": "grave-calculation",
   "metadata": {},
   "outputs": [],
   "source": [
    "def dp_p5(n,labs,staff,robot):\n",
    "    labs.sort()\n",
    "    dp=[0]*n\n",
    "    only_staff=[staff*sum(labs[:i+1]) for i in range(n)]\n",
    "    num_robot=0\n",
    "    check_point=0\n",
    "    use_robot=[0]*n\n",
    "    new_robot=[only_staff[-1]]*n\n",
    "    \n",
    "    dp[0]=min(staff*labs[0],robot) #dp[0]은 단순연산으로 계산이 가능하다\n",
    "    if dp[0]==robot:\n",
    "        num_robot+=1\n",
    "\n",
    "    \n",
    "    for i in range(1,n):\n",
    "        if num_robot==0: #dp[0]에서 사람만 보낸 경우, 이후에 로봇을 하나도 사용하지 않는지, 하나라도 쓰는지 판별\n",
    "            current=labs[:i+1]\n",
    "            length=len(current)\n",
    "            avg=sum(current)/length\n",
    "            mid_point=current[0]\n",
    "            \n",
    "            for i in range(length):\n",
    "                if abs(current[i]-avg)<=abs(mid_point-avg):\n",
    "                    mid_ponit=current[i]\n",
    "                    \n",
    "            a=0\n",
    "            for j in range(length):  #직원의 이동거리\n",
    "                if current[j]<=mid_point-current[j]:\n",
    "                    a+=current[j]\n",
    "                else:\n",
    "                    a+=(mid_point-current[j])\n",
    "            print(mid_point)\n",
    "            print(avg)\n",
    "            use_robot[i]=robot+staff*a\n",
    "            \n",
    "            if use_robot[i]<=only_staff[i]:\n",
    "                dp[i]=use_robot[i]\n",
    "                num_robot+=1\n",
    "                check_point=i\n",
    "                while labs[check_point-1]==labs[i]:\n",
    "                    check_point-=1\n",
    "            else:\n",
    "                dp[i]=only_staff[i]\n",
    "            \n",
    "            \n",
    "            \n",
    "                \n",
    "        else: #로봇을 이미 하나 사용하고 있을 때\n",
    "            current=labs[check_point:i+1]\n",
    "            length=len(current)\n",
    "            mid_point=length//2\n",
    "            a=0\n",
    "            if length % 2==0: #current에 있는 연구소가 짝수인 경우\n",
    "                a = (sum(current[mid_point:])-sum(current[:mid_point]))\n",
    "            else: #연구소가 홀수인 경우 가운데 인덱스는 빼야 한다.\n",
    "                a = (sum(current[mid_point+1:])-sum(current[:mid_point]))\n",
    "            use_robot[i]=dp[check_point-1]+robot+staff*a\n",
    "\n",
    "            \n",
    "            b=0\n",
    "            j=0\n",
    "            length2=length\n",
    "            while (1+j)<length and current[-1]-current[-1-j]<abs(current[-1-j]-current[(length2-1)//2]):\n",
    "                b=b+(current[-1]-current[-1-j])\n",
    "                length2=length2-1\n",
    "                j+=1\n",
    "\n",
    "            if j==0:\n",
    "                if length2 % 2==0: #current에 있는 연구소가 짝수인 경우\n",
    "                    b += (sum(current[(length2)//2:])-sum(current[:(length2)//2]))\n",
    "                else: #연구소가 홀수인 경우 가운데 인덱스는 빼야 한다.\n",
    "                    b += (sum(current[(length2)//2+1:])-sum(current[:(length2)//2]))\n",
    "            else:\n",
    "                if length2 % 2==0:\n",
    "                    b += (sum(current[(length2)//2:-j])-sum(current[:(length2)//2]))\n",
    "                else:\n",
    "                    b += (sum(current[(length2)//2+1:-j])-sum(current[:(length2)//2]))\n",
    "\n",
    "            new_robot[i]=use_robot[i]-staff*a+staff*b+robot #이게 왜맞지?\n",
    "            \n",
    "            \n",
    "\n",
    "            if new_robot[i]<=use_robot[i]:\n",
    "                dp[i]=new_robot[i]\n",
    "                num_robot+=1\n",
    "                check_point=i-j+1\n",
    "                while labs[check_point-1]==labs[i]:\n",
    "                    check_point-=1\n",
    "            else:\n",
    "                dp[i]=use_robot[i]\n",
    "                \n",
    "                \n",
    "    return dp, use_robot, new_robot\n",
    "\n",
    "#이게 오류 아예 없는 최종본이다.!!!!!\n",
    "#한번 더 수정 ㅋㅋㅋ"
   ]
  },
  {
   "cell_type": "code",
   "execution_count": 148,
   "id": "liberal-large",
   "metadata": {},
   "outputs": [
    {
     "data": {
      "text/plain": [
       "([500, 500, 900, 1000, 1100, 1600],\n",
       " [0, 500, 900, 1300, 1100, 2100],\n",
       " [6300, 1000, 1000, 1000, 1500, 1600])"
      ]
     },
     "execution_count": 148,
     "metadata": {},
     "output_type": "execute_result"
    }
   ],
   "source": [
    "dp_p5(6,[60,60,100,100,110,200],10,500)"
   ]
  },
  {
   "cell_type": "code",
   "execution_count": 149,
   "id": "restricted-queensland",
   "metadata": {},
   "outputs": [
    {
     "name": "stdout",
     "output_type": "stream",
     "text": [
      "10\n",
      "17.5\n"
     ]
    },
    {
     "data": {
      "text/plain": [
       "([100, 350, 600, 750, 1000],\n",
       " [0, 350, 600, 750, 1000],\n",
       " [1500, 1500, 1100, 1100, 1200])"
      ]
     },
     "execution_count": 149,
     "metadata": {},
     "output_type": "execute_result"
    }
   ],
   "source": [
    "dp_p5(5,[10,25,25,40,50],10,500)"
   ]
  },
  {
   "cell_type": "code",
   "execution_count": 150,
   "id": "olive-hammer",
   "metadata": {},
   "outputs": [
    {
     "name": "stdout",
     "output_type": "stream",
     "text": [
      "10\n",
      "10.0\n",
      "10\n",
      "10.0\n",
      "10\n",
      "10.0\n",
      "10\n",
      "13.0\n"
     ]
    },
    {
     "data": {
      "text/plain": [
       "([100, 200, 300, 400, 350, 900, 1050],\n",
       " [0, 500, 500, 500, 350, 900, 1050],\n",
       " [1300, 1300, 1300, 1300, 1300, 1400, 1400])"
      ]
     },
     "execution_count": 150,
     "metadata": {},
     "output_type": "execute_result"
    }
   ],
   "source": [
    "dp_p5(7,[10, 10, 10, 10, 25, 25, 40],10,500)"
   ]
  },
  {
   "cell_type": "code",
   "execution_count": 151,
   "id": "corrected-edition",
   "metadata": {},
   "outputs": [
    {
     "name": "stdout",
     "output_type": "stream",
     "text": [
      "10\n",
      "15.0\n",
      "10\n",
      "20.0\n"
     ]
    },
    {
     "data": {
      "text/plain": [
       "([100, 300, 200, 900, 1000, 1200, 1400, 1700, 2000, 2100],\n",
       " [0, 400, 200, 900, 1000, 1200, 1400, 1700, 2000, 2100],\n",
       " [5500, 5500, 5500, 1300, 1400, 1500, 1600, 1800, 2000, 2500])"
      ]
     },
     "execution_count": 151,
     "metadata": {},
     "output_type": "execute_result"
    }
   ],
   "source": [
    "dp_p5(10,[10,20,30,40,50,60,70,80,90,100],10,500)"
   ]
  },
  {
   "cell_type": "code",
   "execution_count": 152,
   "id": "suspected-southeast",
   "metadata": {},
   "outputs": [
    {
     "name": "stdout",
     "output_type": "stream",
     "text": [
      "10\n",
      "10.0\n",
      "10\n",
      "10.0\n",
      "10\n",
      "10.0\n",
      "10\n",
      "24.0\n"
     ]
    },
    {
     "data": {
      "text/plain": [
       "([100, 200, 300, 400, -200],\n",
       " [0, 500, 500, 500, -200],\n",
       " [1200, 1200, 1200, 1200, 1200])"
      ]
     },
     "execution_count": 152,
     "metadata": {},
     "output_type": "execute_result"
    }
   ],
   "source": [
    "dp_p5(5,[10,10,10,10,80],10,500)"
   ]
  },
  {
   "cell_type": "code",
   "execution_count": 120,
   "id": "delayed-optimization",
   "metadata": {},
   "outputs": [],
   "source": [
    "def dp_p6(n,labs,staff,robot):\n",
    "    labs.sort()\n",
    "    dp=[0]*n\n",
    "    only_staff=[staff*sum(labs[:i+1]) for i in range(n)]\n",
    "    num_robot=0\n",
    "    check_point=0\n",
    "    use_robot=[0]*n\n",
    "    new_robot=[only_staff[-1]]*n\n",
    "    \n",
    "    dp[0]=min(staff*labs[0],robot) #dp[0]은 단순연산으로 계산이 가능하다\n",
    "    if dp[0]==robot:\n",
    "        num_robot+=1\n",
    "\n",
    "    \n",
    "    for i in range(1,n):\n",
    "        if num_robot==0: #dp[0]에서 사람만 보낸 경우, 이후에 로봇을 하나도 사용하지 않는지, 하나라도 쓰는지 판별\n",
    "            current=labs[:i+1]\n",
    "            length=len(current)\n",
    "            a=0\n",
    "            j=0\n",
    "\n",
    "            length2=length\n",
    "            \n",
    "            while (1+j)<length and current[-1]-current[-1-j]<=current[-1-j]:\n",
    "                a=a+(current[-1]-current[-1-j])\n",
    "                length2=length2-1\n",
    "                j+=1\n",
    "            \n",
    "            for k in range(length-j):\n",
    "                a+=current[k]\n",
    "            \n",
    "            print(a)\n",
    "            use_robot[i]=robot+staff*a\n",
    "            \n",
    "            if use_robot[i]<=only_staff[i]:\n",
    "                dp[i]=use_robot[i]\n",
    "                num_robot+=1\n",
    "                check_point=i\n",
    "                while labs[check_point-1]==labs[i]:\n",
    "                    check_point-=1\n",
    "            else:\n",
    "                dp[i]=only_staff[i]\n",
    "            \n",
    "            \n",
    "            \n",
    "                \n",
    "        else: #로봇을 이미 하나 사용하고 있을 때\n",
    "            current=labs[check_point:i+1]\n",
    "            length=len(current)\n",
    "            mid_point=length//2\n",
    "            a=0\n",
    "            if length % 2==0: #current에 있는 연구소가 짝수인 경우\n",
    "                a = (sum(current[mid_point:])-sum(current[:mid_point]))\n",
    "            else: #연구소가 홀수인 경우 가운데 인덱스는 빼야 한다.\n",
    "                a = (sum(current[mid_point+1:])-sum(current[:mid_point]))\n",
    "            use_robot[i]=dp[check_point-1]+robot+staff*a\n",
    "\n",
    "            \n",
    "            b=0\n",
    "            j=0\n",
    "            length2=length\n",
    "            while (1+j)<length and current[-1]-current[-1-j]<abs(current[-1-j]-current[(length2-1)//2]):\n",
    "                b=b+(current[-1]-current[-1-j])\n",
    "                length2=length2-1\n",
    "                j+=1\n",
    "\n",
    "            if j==0:\n",
    "                if length2 % 2==0: #current에 있는 연구소가 짝수인 경우\n",
    "                    b += (sum(current[(length2)//2:])-sum(current[:(length2)//2]))\n",
    "                else: #연구소가 홀수인 경우 가운데 인덱스는 빼야 한다.\n",
    "                    b += (sum(current[(length2)//2+1:])-sum(current[:(length2)//2]))\n",
    "            else:\n",
    "                if length2 % 2==0:\n",
    "                    b += (sum(current[(length2)//2:-j])-sum(current[:(length2)//2]))\n",
    "                else:\n",
    "                    b += (sum(current[(length2)//2+1:-j])-sum(current[:(length2)//2]))\n",
    "\n",
    "            new_robot[i]=use_robot[i]-staff*a+staff*b+robot\n",
    "            \n",
    "            \n",
    "\n",
    "            if new_robot[i]<=use_robot[i]:\n",
    "                dp[i]=new_robot[i]\n",
    "                num_robot+=1\n",
    "                check_point=i-j+1\n",
    "                while labs[check_point-1]==labs[i]:\n",
    "                    check_point-=1\n",
    "            else:\n",
    "                dp[i]=use_robot[i]\n",
    "                \n",
    "                \n",
    "    return dp, use_robot, new_robot, num_robot\n",
    "#한번 더수정"
   ]
  },
  {
   "cell_type": "code",
   "execution_count": 121,
   "id": "martial-teddy",
   "metadata": {},
   "outputs": [
    {
     "data": {
      "text/plain": [
       "([500, 500, 900, 1000, 1100, 1600],\n",
       " [0, 500, 900, 1300, 1100, 2100],\n",
       " [6300, 1000, 1000, 1000, 1500, 1600],\n",
       " 3)"
      ]
     },
     "execution_count": 121,
     "metadata": {},
     "output_type": "execute_result"
    }
   ],
   "source": [
    "dp_p6(6,[60,60,100,100,110,200],10,500)"
   ]
  },
  {
   "cell_type": "code",
   "execution_count": 122,
   "id": "nervous-highland",
   "metadata": {},
   "outputs": [
    {
     "name": "stdout",
     "output_type": "stream",
     "text": [
      "10\n",
      "10\n"
     ]
    },
    {
     "data": {
      "text/plain": [
       "([100, 350, 600, 750, 1000],\n",
       " [0, 600, 600, 750, 1000],\n",
       " [1500, 1500, 1500, 1100, 1200],\n",
       " 1)"
      ]
     },
     "execution_count": 122,
     "metadata": {},
     "output_type": "execute_result"
    }
   ],
   "source": [
    "dp_p6(5,[10,25,25,40,50],10,500)"
   ]
  },
  {
   "cell_type": "code",
   "execution_count": 123,
   "id": "precise-trade",
   "metadata": {},
   "outputs": [
    {
     "name": "stdout",
     "output_type": "stream",
     "text": [
      "1\n",
      "1\n",
      "1\n",
      "4\n"
     ]
    },
    {
     "data": {
      "text/plain": [
       "([10, 20, 30, 40, 540], [0, 510, 510, 510, 540], [840, 840, 840, 840, 840], 1)"
      ]
     },
     "execution_count": 123,
     "metadata": {},
     "output_type": "execute_result"
    }
   ],
   "source": [
    "dp_p6(5,[1, 1, 1, 1, 80],10,500)"
   ]
  },
  {
   "cell_type": "code",
   "execution_count": 155,
   "id": "referenced-meeting",
   "metadata": {},
   "outputs": [
    {
     "name": "stdout",
     "output_type": "stream",
     "text": [
      "5\n",
      "15\n",
      "25\n",
      "45\n"
     ]
    },
    {
     "data": {
      "text/plain": [
       "([50, 150, 350, 650, 950],\n",
       " [0, 550, 650, 750, 950],\n",
       " [1050, 1050, 1050, 1050, 1050],\n",
       " 1)"
      ]
     },
     "execution_count": 155,
     "metadata": {},
     "output_type": "execute_result"
    }
   ],
   "source": [
    "dp_p6(5,[5,10,20,30,40],10,500)"
   ]
  },
  {
   "cell_type": "code",
   "execution_count": 125,
   "id": "preliminary-intranet",
   "metadata": {},
   "outputs": [
    {
     "name": "stdout",
     "output_type": "stream",
     "text": [
      "10\n",
      "10\n",
      "10\n",
      "40\n",
      "40\n"
     ]
    },
    {
     "data": {
      "text/plain": [
       "([100, 200, 300, 400, 650, 900, 1050],\n",
       " [0, 600, 600, 600, 900, 900, 1050],\n",
       " [1300, 1300, 1300, 1300, 1300, 1300, 1400],\n",
       " 1)"
      ]
     },
     "execution_count": 125,
     "metadata": {},
     "output_type": "execute_result"
    }
   ],
   "source": [
    "dp_p6(7,[10, 10, 10, 10, 25, 25, 40],10,500)"
   ]
  },
  {
   "cell_type": "code",
   "execution_count": 212,
   "id": "manual-practitioner",
   "metadata": {},
   "outputs": [
    {
     "name": "stdout",
     "output_type": "stream",
     "text": [
      "79\n",
      "79\n",
      "79\n",
      "79\n",
      "4\n",
      "[1290, 1290, 1290, 1290, 540, 840] 4\n"
     ]
    },
    {
     "data": {
      "text/plain": [
       "[10, 20, 30, 40, 540]"
      ]
     },
     "execution_count": 212,
     "metadata": {},
     "output_type": "execute_result"
    }
   ],
   "source": [
    "solve_p3(5,[1,1,1,1,80],10,500)"
   ]
  },
  {
   "cell_type": "code",
   "execution_count": null,
   "id": "former-penny",
   "metadata": {},
   "outputs": [],
   "source": [
    "elif sum(current)*staff<robot:\n",
    "    dp[i]=sum(current)*staff"
   ]
  },
  {
   "cell_type": "code",
   "execution_count": 243,
   "id": "grand-nightmare",
   "metadata": {},
   "outputs": [],
   "source": [
    "def solve_p3(num_coffee, labs, staff, robot):\n",
    "    n=num_coffee\n",
    "    labs.sort()\n",
    "    dp=[0]*n\n",
    "    num_robot=0\n",
    "    \n",
    "    for i in range(n):\n",
    "        current=labs[:i+1]\n",
    "        if i==0:\n",
    "            dp[i]=min(current[0]*staff,robot)\n",
    "        else:\n",
    "            result=[]\n",
    "            for j in range(i+1):\n",
    "                \n",
    "                current2 = current[j:]\n",
    "                length=i-j+1\n",
    "                a=0\n",
    "                if length % 2==0: #current에 있는 연구소가 짝수인 경우\n",
    "                    a += (sum(current2[(length)//2:])-sum(current2[:(length)//2]))\n",
    "                else: #연구소가 홀수인 경우 가운데 인덱스는 빼야 한다.\n",
    "                    a += (sum(current2[(length)//2+1:])-sum(current2[:(length)//2]))\n",
    "                \n",
    "                if j==0:\n",
    "                    result.append(robot+a*staff)\n",
    "                else:\n",
    "                    result.append(dp[j-1]+robot+a*staff)\n",
    "            result.append(sum(current)*staff)\n",
    "            print(result,i)\n",
    "            dp[i]=min(result)\n",
    "                             \n",
    "            \n",
    "            \n",
    "            \n",
    "    return dp\n",
    "                \n",
    "#O(n^3)짜리 답..."
   ]
  },
  {
   "cell_type": "code",
   "execution_count": 244,
   "id": "military-interstate",
   "metadata": {},
   "outputs": [
    {
     "name": "stdout",
     "output_type": "stream",
     "text": [
      "[650, 600, 350] 1\n",
      "[650, 600, 850, 600] 2\n",
      "[800, 750, 1000, 1100, 1000] 3\n",
      "[1050, 1000, 1100, 1200, 1250, 1500] 4\n"
     ]
    },
    {
     "data": {
      "text/plain": [
       "[100, 350, 600, 750, 1000]"
      ]
     },
     "execution_count": 244,
     "metadata": {},
     "output_type": "execute_result"
    }
   ],
   "source": [
    "solve_p3(5,[10,25,25,40,50],10,500)"
   ]
  },
  {
   "cell_type": "code",
   "execution_count": 245,
   "id": "inner-future",
   "metadata": {},
   "outputs": [
    {
     "name": "stdout",
     "output_type": "stream",
     "text": [
      "[500, 510, 20] 1\n",
      "[500, 510, 520, 30] 2\n",
      "[500, 510, 520, 530, 40] 3\n",
      "[1290, 1300, 1310, 1320, 540, 840] 4\n"
     ]
    },
    {
     "data": {
      "text/plain": [
       "[10, 20, 30, 40, 540]"
      ]
     },
     "execution_count": 245,
     "metadata": {},
     "output_type": "execute_result"
    }
   ],
   "source": [
    "solve_p3(5,[1,1,1,1,80],10,500)"
   ]
  },
  {
   "cell_type": "code",
   "execution_count": 246,
   "id": "outside-overview",
   "metadata": {},
   "outputs": [
    {
     "name": "stdout",
     "output_type": "stream",
     "text": [
      "[500, 1000, 1200] 1\n",
      "[900, 1400, 1000, 2200] 2\n",
      "[1300, 1400, 1000, 1400, 3200] 3\n",
      "[1400, 1500, 1100, 1500, 1500, 4300] 4\n",
      "[2400, 2500, 2100, 2400, 2400, 1600, 6300] 5\n"
     ]
    },
    {
     "data": {
      "text/plain": [
       "[500, 500, 900, 1000, 1100, 1600]"
      ]
     },
     "execution_count": 246,
     "metadata": {},
     "output_type": "execute_result"
    }
   ],
   "source": [
    "solve_p3(6,[60,60,100,100,110,200],10,500)"
   ]
  },
  {
   "cell_type": "code",
   "execution_count": 247,
   "id": "electronic-favor",
   "metadata": {},
   "outputs": [
    {
     "name": "stdout",
     "output_type": "stream",
     "text": [
      "[550, 640, 330] 1\n",
      "[560, 650, 830, 530] 2\n",
      "[750, 830, 1010, 1030, 910] 3\n",
      "[1150, 1230, 1230, 1250, 1250, 1510] 4\n",
      "[1550, 1450, 1450, 1250, 1250, 1650, 2110] 5\n",
      "[1890, 1790, 1570, 1370, 1370, 1770, 1750, 2830] 6\n",
      "[2250, 1930, 1710, 1510, 1510, 1790, 1770, 1870, 3570] 7\n",
      "[2390, 2070, 1850, 1650, 1530, 1810, 1770, 1870, 2010, 4310] 8\n",
      "[2640, 2320, 2100, 1780, 1660, 1920, 1880, 1980, 2120, 2030, 5160] 9\n",
      "[2970, 2650, 2310, 1990, 1850, 2110, 2070, 2170, 2200, 2110, 2160, 6090] 10\n",
      "[3310, 2870, 2530, 2190, 2050, 2310, 2270, 2260, 2290, 2120, 2170, 2350, 7030] 11\n"
     ]
    },
    {
     "data": {
      "text/plain": [
       "[140, 330, 530, 750, 1150, 1250, 1370, 1510, 1530, 1660, 1850, 2050]"
      ]
     },
     "execution_count": 247,
     "metadata": {},
     "output_type": "execute_result"
    }
   ],
   "source": [
    "solve_p3(12,[14,19,20,38,60,60,72,74,74,85,93,94],10,500)"
   ]
  },
  {
   "cell_type": "code",
   "execution_count": 330,
   "id": "remarkable-birth",
   "metadata": {},
   "outputs": [],
   "source": [
    "def solve_p4(num_coffee, labs, staff, robot):\n",
    "    n=num_coffee\n",
    "    labs.sort()\n",
    "    dp=[0]*n\n",
    "    num_robot=0\n",
    "    \n",
    "    for i in range(n):\n",
    "        current=labs[:i+1]\n",
    "        r_current=[]\n",
    "        for l in range(i+1):\n",
    "            r_current.append(current[-l-1])\n",
    "      \n",
    "        if i==0:\n",
    "            dp[i]=min(current[0]*staff,robot)\n",
    "        else:\n",
    "            result=[]\n",
    "            a=[]\n",
    "            for j in range(i+1):\n",
    "                if j==0:\n",
    "                    a.append(0)\n",
    "                elif j==1:\n",
    "                    a.append(r_current[j-1]-r_current[j])\n",
    "                else:\n",
    "                    a.append(a[j-1]+r_current[j//2]-r_current[j])\n",
    "            for k in range(i+1):\n",
    "\n",
    "                if k==0:\n",
    "                    result.append(robot+a[-1]*staff)\n",
    "                else:\n",
    "                    result.append(dp[k-1]+robot+a[-1-k]*staff)\n",
    "            result.append(sum(current)*staff)\n",
    "            dp[i]=min(result)\n",
    "                             \n",
    "            \n",
    "            \n",
    "    return dp[-1]"
   ]
  },
  {
   "cell_type": "code",
   "execution_count": 331,
   "id": "atlantic-thickness",
   "metadata": {},
   "outputs": [
    {
     "ename": "UnboundLocalError",
     "evalue": "local variable 'result' referenced before assignment",
     "output_type": "error",
     "traceback": [
      "\u001b[1;31m---------------------------------------------------------------------------\u001b[0m",
      "\u001b[1;31mUnboundLocalError\u001b[0m                         Traceback (most recent call last)",
      "\u001b[1;32m<ipython-input-331-8cf8fdd0cd7d>\u001b[0m in \u001b[0;36m<module>\u001b[1;34m\u001b[0m\n\u001b[1;32m----> 1\u001b[1;33m \u001b[0msolve_p4\u001b[0m\u001b[1;33m(\u001b[0m\u001b[1;36m5\u001b[0m\u001b[1;33m,\u001b[0m\u001b[1;33m[\u001b[0m\u001b[1;36m10\u001b[0m\u001b[1;33m,\u001b[0m\u001b[1;36m25\u001b[0m\u001b[1;33m,\u001b[0m\u001b[1;36m25\u001b[0m\u001b[1;33m,\u001b[0m\u001b[1;36m40\u001b[0m\u001b[1;33m,\u001b[0m\u001b[1;36m50\u001b[0m\u001b[1;33m]\u001b[0m\u001b[1;33m,\u001b[0m\u001b[1;36m10\u001b[0m\u001b[1;33m,\u001b[0m\u001b[1;36m500\u001b[0m\u001b[1;33m)\u001b[0m\u001b[1;33m\u001b[0m\u001b[1;33m\u001b[0m\u001b[0m\n\u001b[0m",
      "\u001b[1;32m<ipython-input-330-32f498ddeb70>\u001b[0m in \u001b[0;36msolve_p4\u001b[1;34m(num_coffee, labs, staff, robot)\u001b[0m\n\u001b[0;32m     30\u001b[0m                     \u001b[0mresult\u001b[0m\u001b[1;33m.\u001b[0m\u001b[0mappend\u001b[0m\u001b[1;33m(\u001b[0m\u001b[0mdp\u001b[0m\u001b[1;33m[\u001b[0m\u001b[0mk\u001b[0m\u001b[1;33m-\u001b[0m\u001b[1;36m1\u001b[0m\u001b[1;33m]\u001b[0m\u001b[1;33m+\u001b[0m\u001b[0mrobot\u001b[0m\u001b[1;33m+\u001b[0m\u001b[0ma\u001b[0m\u001b[1;33m[\u001b[0m\u001b[1;33m-\u001b[0m\u001b[1;36m1\u001b[0m\u001b[1;33m-\u001b[0m\u001b[0mk\u001b[0m\u001b[1;33m]\u001b[0m\u001b[1;33m*\u001b[0m\u001b[0mstaff\u001b[0m\u001b[1;33m)\u001b[0m\u001b[1;33m\u001b[0m\u001b[1;33m\u001b[0m\u001b[0m\n\u001b[0;32m     31\u001b[0m             \u001b[0mresult\u001b[0m\u001b[1;33m.\u001b[0m\u001b[0mappend\u001b[0m\u001b[1;33m(\u001b[0m\u001b[0msum\u001b[0m\u001b[1;33m(\u001b[0m\u001b[0mcurrent\u001b[0m\u001b[1;33m)\u001b[0m\u001b[1;33m*\u001b[0m\u001b[0mstaff\u001b[0m\u001b[1;33m)\u001b[0m\u001b[1;33m\u001b[0m\u001b[1;33m\u001b[0m\u001b[0m\n\u001b[1;32m---> 32\u001b[1;33m         \u001b[0mdp\u001b[0m\u001b[1;33m[\u001b[0m\u001b[0mi\u001b[0m\u001b[1;33m]\u001b[0m\u001b[1;33m=\u001b[0m\u001b[0mmin\u001b[0m\u001b[1;33m(\u001b[0m\u001b[0mresult\u001b[0m\u001b[1;33m)\u001b[0m\u001b[1;33m\u001b[0m\u001b[1;33m\u001b[0m\u001b[0m\n\u001b[0m\u001b[0;32m     33\u001b[0m \u001b[1;33m\u001b[0m\u001b[0m\n\u001b[0;32m     34\u001b[0m \u001b[1;33m\u001b[0m\u001b[0m\n",
      "\u001b[1;31mUnboundLocalError\u001b[0m: local variable 'result' referenced before assignment"
     ]
    }
   ],
   "source": [
    "solve_p4(5,[10,25,25,40,50],10,500)"
   ]
  },
  {
   "cell_type": "code",
   "execution_count": 323,
   "id": "approximate-lodge",
   "metadata": {},
   "outputs": [
    {
     "name": "stdout",
     "output_type": "stream",
     "text": [
      "[650, 600, 350] 1\n",
      "[650, 600, 850, 600] 2\n",
      "[800, 750, 1000, 1100, 1000] 3\n",
      "[1050, 1000, 1100, 1200, 1250, 1500] 4\n"
     ]
    },
    {
     "data": {
      "text/plain": [
       "[100, 350, 600, 750, 1000]"
      ]
     },
     "execution_count": 323,
     "metadata": {},
     "output_type": "execute_result"
    }
   ],
   "source": [
    "solve_p3(5,[10,25,25,40,50],10,500)"
   ]
  },
  {
   "cell_type": "code",
   "execution_count": 324,
   "id": "subject-mortgage",
   "metadata": {},
   "outputs": [
    {
     "data": {
      "text/plain": [
       "2050"
      ]
     },
     "execution_count": 324,
     "metadata": {},
     "output_type": "execute_result"
    }
   ],
   "source": [
    "solve_p4(12,[14,19,20,38,60,60,72,74,74,85,93,94],10,500)"
   ]
  },
  {
   "cell_type": "code",
   "execution_count": 325,
   "id": "patent-people",
   "metadata": {},
   "outputs": [
    {
     "name": "stdout",
     "output_type": "stream",
     "text": [
      "[550, 640, 330] 1\n",
      "[560, 650, 830, 530] 2\n",
      "[750, 830, 1010, 1030, 910] 3\n",
      "[1150, 1230, 1230, 1250, 1250, 1510] 4\n",
      "[1550, 1450, 1450, 1250, 1250, 1650, 2110] 5\n",
      "[1890, 1790, 1570, 1370, 1370, 1770, 1750, 2830] 6\n",
      "[2250, 1930, 1710, 1510, 1510, 1790, 1770, 1870, 3570] 7\n",
      "[2390, 2070, 1850, 1650, 1530, 1810, 1770, 1870, 2010, 4310] 8\n",
      "[2640, 2320, 2100, 1780, 1660, 1920, 1880, 1980, 2120, 2030, 5160] 9\n",
      "[2970, 2650, 2310, 1990, 1850, 2110, 2070, 2170, 2200, 2110, 2160, 6090] 10\n",
      "[3310, 2870, 2530, 2190, 2050, 2310, 2270, 2260, 2290, 2120, 2170, 2350, 7030] 11\n"
     ]
    },
    {
     "data": {
      "text/plain": [
       "[140, 330, 530, 750, 1150, 1250, 1370, 1510, 1530, 1660, 1850, 2050]"
      ]
     },
     "execution_count": 325,
     "metadata": {},
     "output_type": "execute_result"
    }
   ],
   "source": [
    "solve_p3(12,[14,19,20,38,60,60,72,74,74,85,93,94],10,500)"
   ]
  },
  {
   "cell_type": "code",
   "execution_count": 329,
   "id": "substantial-shark",
   "metadata": {},
   "outputs": [
    {
     "data": {
      "text/plain": [
       "1100"
      ]
     },
     "execution_count": 329,
     "metadata": {},
     "output_type": "execute_result"
    }
   ],
   "source": [
    "solve_p4(5,[60,60,100,100,110],10,500)"
   ]
  },
  {
   "cell_type": "code",
   "execution_count": 327,
   "id": "institutional-split",
   "metadata": {},
   "outputs": [
    {
     "data": {
      "text/plain": [
       "540"
      ]
     },
     "execution_count": 327,
     "metadata": {},
     "output_type": "execute_result"
    }
   ],
   "source": [
    "solve_p4(5,[1,1,1,1,80],10,500)"
   ]
  },
  {
   "cell_type": "code",
   "execution_count": 328,
   "id": "mexican-expense",
   "metadata": {},
   "outputs": [
    {
     "data": {
      "text/plain": [
       "1050"
      ]
     },
     "execution_count": 328,
     "metadata": {},
     "output_type": "execute_result"
    }
   ],
   "source": [
    "solve_p4(7,[10,10,10,10,25,25,40],10,500)"
   ]
  },
  {
   "cell_type": "code",
   "execution_count": null,
   "id": "living-nylon",
   "metadata": {},
   "outputs": [],
   "source": []
  }
 ],
 "metadata": {
  "kernelspec": {
   "display_name": "Python 3",
   "language": "python",
   "name": "python3"
  },
  "language_info": {
   "codemirror_mode": {
    "name": "ipython",
    "version": 3
   },
   "file_extension": ".py",
   "mimetype": "text/x-python",
   "name": "python",
   "nbconvert_exporter": "python",
   "pygments_lexer": "ipython3",
   "version": "3.7.9"
  }
 },
 "nbformat": 4,
 "nbformat_minor": 5
}
