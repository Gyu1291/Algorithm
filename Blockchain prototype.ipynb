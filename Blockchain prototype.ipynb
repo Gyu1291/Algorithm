{
 "cells": [
  {
   "cell_type": "markdown",
   "metadata": {},
   "source": [
    "# 블록체인의 원리:\n",
    "블록을 add, transaction, encryption 데이터를 저장하는 알고리즘"
   ]
  },
  {
   "cell_type": "code",
   "execution_count": 12,
   "metadata": {},
   "outputs": [
    {
     "name": "stdout",
     "output_type": "stream",
     "text": [
      "Blockchain:  [{'index': 1, 'timestamp': 1610946152.042857, 'transaction': [], 'proof': 100, 'previous_hash': 'The Times 03/Jan/2009 Chancellor brink of second bailout for banks'}, {'index': 2, 'timestamp': 1610946152.0438545, 'transaction': [{'sender': 'Satoshi', 'recipient': 'Mike', 'amount': '5 BTC'}, {'sender': 'Mike', 'recipient': 'Satosh', 'amount': '1 BTC'}, {'sender': 'Satoshi', 'recipient': 'Hal Finney', 'amount': '5 BTC'}], 'proof': 12345, 'previous_hash': '22d68075cdd71309f9c37122bf980fa59e21e913841b344cde6639592704d184'}, {'index': 3, 'timestamp': 1610946152.0438545, 'transaction': [{'sender': 'Mike', 'recipient': 'alice', 'amount': '1 BTC'}, {'sender': 'Alice', 'recipient': 'Bob', 'amount': '0.5 BTC'}, {'sender': 'Bob', 'recipient': 'Mike', 'amount': '0.5 BTC'}], 'proof': 6789, 'previous_hash': '8436b36e269b1b3ddc9d04e39dc2de3bb1478acdba50941e850e1222b3fb1841'}]\n"
     ]
    }
   ],
   "source": [
    "import hashlib\n",
    "import json\n",
    "from time import time\n",
    "\n",
    "class Blockchain(object):\n",
    "    \n",
    "    def __init__(self):\n",
    "        self.chain = []\n",
    "        self.pending_transactions = []\n",
    "        \n",
    "        self.new_block(previous_hash=\"The Times 03/Jan/2009 Chancellor brink of second bailout for banks\",proof = 100)\n",
    "    \n",
    "    def new_block(self,proof,previous_hash=None):\n",
    "        block = {\n",
    "            'index': len(self.chain)+1,\n",
    "            'timestamp' : time(),\n",
    "            'transaction' : self.pending_transactions,\n",
    "            'proof' : proof,\n",
    "            'previous_hash' : previous_hash or self.hash(self.chain[-1])\n",
    "        }\n",
    "        self.pending_transactions = []\n",
    "        self.chain.append(block)\n",
    "        \n",
    "        return block\n",
    "    \n",
    "    @property   #자세한 설명은 여기에 https://www.daleseo.com/python-property/ \n",
    "    #@ property()나 @property를 이용해서 get_ set_(getter,setter) 를 생략할 수 있음.\n",
    "    \n",
    "    def last_block(self):\n",
    "        return self.chain[-1]\n",
    "    \n",
    "    def new_transaction(self,sender, recipient, amount):\n",
    "        transaction = {\n",
    "            'sender': sender,\n",
    "            'recipient': recipient,\n",
    "            'amount': amount\n",
    "        }\n",
    "        self.pending_transactions.append(transaction)\n",
    "        return self.last_block['index']+1\n",
    "        \n",
    "    def hash(self, block):\n",
    "        string_object = json.dumps(block,sort_keys=True)\n",
    "        block_string = string_object.encode()\n",
    "        \n",
    "        raw_hash = hashlib.sha256(block_string)\n",
    "        hex_hash = raw_hash.hexdigest()\n",
    "        \n",
    "        return hex_hash\n",
    "    \n",
    "    #--------------------------------------------------------------------#\n",
    "blockchain = Blockchain()\n",
    "    \n",
    "t1=blockchain.new_transaction(\"Satoshi\",\"Mike\",'5 BTC')\n",
    "t2=blockchain.new_transaction(\"Mike\",\"Satosh\",'1 BTC')\n",
    "t3=blockchain.new_transaction(\"Satoshi\",\"Hal Finney\", \"5 BTC\")\n",
    "    \n",
    "blockchain.new_block(12345)\n",
    "    \n",
    "t4 = blockchain.new_transaction(\"Mike\",\"alice\",'1 BTC')\n",
    "t5 = blockchain.new_transaction(\"Alice\", \"Bob\", '0.5 BTC')\n",
    "t6 = blockchain.new_transaction(\"Bob\", \"Mike\", '0.5 BTC')\n",
    "blockchain.new_block(6789)\n",
    "print(\"Blockchain: \", blockchain.chain)"
   ]
  },
  {
   "cell_type": "code",
   "execution_count": null,
   "metadata": {},
   "outputs": [],
   "source": []
  }
 ],
 "metadata": {
  "kernelspec": {
   "display_name": "Python 3",
   "language": "python",
   "name": "python3"
  },
  "language_info": {
   "codemirror_mode": {
    "name": "ipython",
    "version": 3
   },
   "file_extension": ".py",
   "mimetype": "text/x-python",
   "name": "python",
   "nbconvert_exporter": "python",
   "pygments_lexer": "ipython3",
   "version": "3.7.9"
  }
 },
 "nbformat": 4,
 "nbformat_minor": 2
}
