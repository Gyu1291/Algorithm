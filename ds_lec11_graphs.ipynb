{
 "cells": [
  {
   "cell_type": "markdown",
   "metadata": {},
   "source": [
    "> ### EEE2020: Data Structures & Algorithms\n",
    "\n",
    "# Lecture 11: Graphs"
   ]
  },
  {
   "cell_type": "markdown",
   "metadata": {},
   "source": [
    "## 1. Graph ADT"
   ]
  },
  {
   "cell_type": "code",
   "execution_count": 1,
   "metadata": {},
   "outputs": [],
   "source": [
    "import sys"
   ]
  },
  {
   "cell_type": "code",
   "execution_count": 2,
   "metadata": {},
   "outputs": [],
   "source": [
    "class Vertex:\n",
    "    def __init__(self,key):\n",
    "        self.id = key\n",
    "        self.connectedTo = {}\n",
    "        self.color = 'white'\n",
    "        self.dist = sys.maxsize\n",
    "        self.pred = None\n",
    "        self.disc = 0\n",
    "        self.fin = 0\n",
    "    \n",
    "    def addNeighbor(self,nbr,weight=0):\n",
    "        self.connectedTo[nbr] = weight\n",
    "        \n",
    "    def setColor(self,color):\n",
    "        self.color = color\n",
    "        \n",
    "    def setDistance(self,d):\n",
    "        self.dist = d\n",
    "\n",
    "    def setPred(self,p):\n",
    "        self.pred = p\n",
    "\n",
    "    def setDiscovery(self,dtime):\n",
    "        self.disc = dtime\n",
    "        \n",
    "    def setFinish(self,ftime):\n",
    "        self.fin = ftime\n",
    "        \n",
    "    def getFinish(self):\n",
    "        return self.fin\n",
    "        \n",
    "    def getDiscovery(self):\n",
    "        return self.disc\n",
    "        \n",
    "    def getPred(self):\n",
    "        return self.pred\n",
    "        \n",
    "    def getDistance(self):\n",
    "        return self.dist\n",
    "        \n",
    "    def getColor(self):\n",
    "        return self.color\n",
    "    \n",
    "    def getConnections(self):\n",
    "        return self.connectedTo.keys()\n",
    "\n",
    "    def getId(self):\n",
    "        return self.id\n",
    "    \n",
    "    def getWeight(self,nbr):\n",
    "        return self.connectedTo[nbr]\n",
    "\n",
    "    def __str__(self):\n",
    "        return str(self.id) + ' connectedTo: ' + str([x.id for x in self.connectedTo])    \n"
   ]
  },
  {
   "cell_type": "code",
   "execution_count": 3,
   "metadata": {},
   "outputs": [],
   "source": [
    "class Graph:\n",
    "    def __init__(self):\n",
    "        self.vertList = {}\n",
    "        self.numVertices = 0\n",
    "\n",
    "    def addVertex(self,key):\n",
    "        self.numVertices = self.numVertices + 1\n",
    "        newVertex = Vertex(key)\n",
    "        self.vertList[key] = newVertex\n",
    "        return newVertex\n",
    "\n",
    "    def getVertex(self,n):\n",
    "        if n in self.vertList:\n",
    "            return self.vertList[n]\n",
    "        else:\n",
    "            return None\n",
    "\n",
    "    def __contains__(self,n):\n",
    "        return n in self.vertList\n",
    "\n",
    "    def addEdge(self,f,t,weight=0):\n",
    "        if f not in self.vertList:\n",
    "            nv = self.addVertex(f)\n",
    "        if t not in self.vertList:\n",
    "            nv = self.addVertex(t)\n",
    "        self.vertList[f].addNeighbor(self.vertList[t], weight)\n",
    "\n",
    "    def getVertices(self):\n",
    "        return self.vertList.keys()\n",
    "\n",
    "    def __iter__(self):\n",
    "        return iter(self.vertList.values())"
   ]
  },
  {
   "cell_type": "code",
   "execution_count": 4,
   "metadata": {},
   "outputs": [],
   "source": [
    "g = Graph()"
   ]
  },
  {
   "cell_type": "code",
   "execution_count": 5,
   "metadata": {},
   "outputs": [],
   "source": [
    "for i in range(6):\n",
    "    g.addVertex(i)"
   ]
  },
  {
   "cell_type": "code",
   "execution_count": 6,
   "metadata": {},
   "outputs": [
    {
     "data": {
      "text/plain": [
       "{0: <__main__.Vertex at 0x280d76649d0>,\n",
       " 1: <__main__.Vertex at 0x280d76647f0>,\n",
       " 2: <__main__.Vertex at 0x280d7676eb0>,\n",
       " 3: <__main__.Vertex at 0x280d7676f10>,\n",
       " 4: <__main__.Vertex at 0x280d7676f70>,\n",
       " 5: <__main__.Vertex at 0x280d7676fa0>}"
      ]
     },
     "execution_count": 6,
     "metadata": {},
     "output_type": "execute_result"
    }
   ],
   "source": [
    "g.vertList"
   ]
  },
  {
   "cell_type": "code",
   "execution_count": 7,
   "metadata": {},
   "outputs": [],
   "source": [
    "g.addEdge(0,1,5)\n",
    "g.addEdge(0,5,2)\n",
    "g.addEdge(1,2,4)\n",
    "g.addEdge(2,3,9)\n",
    "g.addEdge(3,4,7)\n",
    "g.addEdge(3,5,3)\n",
    "g.addEdge(4,0,1)\n",
    "g.addEdge(5,4,8)\n",
    "g.addEdge(5,2,1)"
   ]
  },
  {
   "cell_type": "code",
   "execution_count": 8,
   "metadata": {},
   "outputs": [
    {
     "name": "stdout",
     "output_type": "stream",
     "text": [
      "( 0 , 1 )\n",
      "( 0 , 5 )\n",
      "( 1 , 2 )\n",
      "( 2 , 3 )\n",
      "( 3 , 4 )\n",
      "( 3 , 5 )\n",
      "( 4 , 0 )\n",
      "( 5 , 4 )\n",
      "( 5 , 2 )\n"
     ]
    }
   ],
   "source": [
    "for v in g:\n",
    "    for w in v.getConnections():\n",
    "        print(\"( %s , %s )\" % (v.getId(), w.getId()))"
   ]
  },
  {
   "cell_type": "code",
   "execution_count": 9,
   "metadata": {},
   "outputs": [
    {
     "name": "stdout",
     "output_type": "stream",
     "text": [
      "0 connectedTo: [1, 5]\n",
      "1 connectedTo: [2]\n",
      "2 connectedTo: [3]\n",
      "3 connectedTo: [4, 5]\n",
      "4 connectedTo: [0]\n",
      "5 connectedTo: [4, 2]\n"
     ]
    }
   ],
   "source": [
    "for v in g:\n",
    "    print(v)"
   ]
  },
  {
   "cell_type": "markdown",
   "metadata": {},
   "source": [
    "## 2. Breadth First Search (BFS): Word Ladder Problem"
   ]
  },
  {
   "cell_type": "code",
   "execution_count": 10,
   "metadata": {},
   "outputs": [],
   "source": [
    "from queues import Queue"
   ]
  },
  {
   "cell_type": "code",
   "execution_count": 11,
   "metadata": {},
   "outputs": [],
   "source": [
    "def buildGraph(wordFile):\n",
    "    d = {}\n",
    "    g = Graph()\n",
    "    wfile = open(wordFile,'r')\n",
    "    # create buckets of words that differ by one letter\n",
    "    for line in wfile:\n",
    "        word = line[:-1]\n",
    "        for i in range(len(word)):\n",
    "            bucket = word[:i] + '_' + word[i+1:]\n",
    "            if bucket in d:\n",
    "                d[bucket].append(word)\n",
    "            else:\n",
    "                d[bucket] = [word]\n",
    "    # add vertices and edges for words in the same bucket\n",
    "    for bucket in d.keys():\n",
    "        for word1 in d[bucket]:\n",
    "            for word2 in d[bucket]:\n",
    "                if word1 != word2:\n",
    "                    g.addEdge(word1,word2)\n",
    "    return g"
   ]
  },
  {
   "cell_type": "code",
   "execution_count": 12,
   "metadata": {},
   "outputs": [],
   "source": [
    "def bfs(g,start):\n",
    "    start.setDistance(0)\n",
    "    start.setPred(None)\n",
    "    vertQueue = Queue()\n",
    "    vertQueue.enqueue(start)\n",
    "    while (vertQueue.size() > 0):\n",
    "        currentVert = vertQueue.dequeue()\n",
    "        for nbr in currentVert.getConnections():\n",
    "            if (nbr.getColor() == 'white'):\n",
    "                nbr.setColor('gray')\n",
    "                nbr.setDistance(currentVert.getDistance() + 1)\n",
    "                nbr.setPred(currentVert)\n",
    "                vertQueue.enqueue(nbr)\n",
    "        currentVert.setColor('black')"
   ]
  },
  {
   "cell_type": "code",
   "execution_count": 13,
   "metadata": {},
   "outputs": [],
   "source": [
    "def traverse(y):\n",
    "    x = y\n",
    "    while (x.getPred()):\n",
    "        print(x.getId())\n",
    "        x = x.getPred()\n",
    "    print(x.getId())"
   ]
  },
  {
   "cell_type": "code",
   "execution_count": 14,
   "metadata": {},
   "outputs": [
    {
     "ename": "FileNotFoundError",
     "evalue": "[Errno 2] No such file or directory: 'fourletterwords.txt'",
     "output_type": "error",
     "traceback": [
      "\u001b[1;31m---------------------------------------------------------------------------\u001b[0m",
      "\u001b[1;31mFileNotFoundError\u001b[0m                         Traceback (most recent call last)",
      "\u001b[1;32m<ipython-input-14-01c4b1ff6c47>\u001b[0m in \u001b[0;36m<module>\u001b[1;34m\u001b[0m\n\u001b[1;32m----> 1\u001b[1;33m \u001b[0mwordgraph\u001b[0m \u001b[1;33m=\u001b[0m \u001b[0mbuildGraph\u001b[0m\u001b[1;33m(\u001b[0m\u001b[1;34m\"fourletterwords.txt\"\u001b[0m\u001b[1;33m)\u001b[0m\u001b[1;33m\u001b[0m\u001b[1;33m\u001b[0m\u001b[0m\n\u001b[0m",
      "\u001b[1;32m<ipython-input-11-510eb4530bab>\u001b[0m in \u001b[0;36mbuildGraph\u001b[1;34m(wordFile)\u001b[0m\n\u001b[0;32m      2\u001b[0m     \u001b[0md\u001b[0m \u001b[1;33m=\u001b[0m \u001b[1;33m{\u001b[0m\u001b[1;33m}\u001b[0m\u001b[1;33m\u001b[0m\u001b[1;33m\u001b[0m\u001b[0m\n\u001b[0;32m      3\u001b[0m     \u001b[0mg\u001b[0m \u001b[1;33m=\u001b[0m \u001b[0mGraph\u001b[0m\u001b[1;33m(\u001b[0m\u001b[1;33m)\u001b[0m\u001b[1;33m\u001b[0m\u001b[1;33m\u001b[0m\u001b[0m\n\u001b[1;32m----> 4\u001b[1;33m     \u001b[0mwfile\u001b[0m \u001b[1;33m=\u001b[0m \u001b[0mopen\u001b[0m\u001b[1;33m(\u001b[0m\u001b[0mwordFile\u001b[0m\u001b[1;33m,\u001b[0m\u001b[1;34m'r'\u001b[0m\u001b[1;33m)\u001b[0m\u001b[1;33m\u001b[0m\u001b[1;33m\u001b[0m\u001b[0m\n\u001b[0m\u001b[0;32m      5\u001b[0m     \u001b[1;31m# create buckets of words that differ by one letter\u001b[0m\u001b[1;33m\u001b[0m\u001b[1;33m\u001b[0m\u001b[1;33m\u001b[0m\u001b[0m\n\u001b[0;32m      6\u001b[0m     \u001b[1;32mfor\u001b[0m \u001b[0mline\u001b[0m \u001b[1;32min\u001b[0m \u001b[0mwfile\u001b[0m\u001b[1;33m:\u001b[0m\u001b[1;33m\u001b[0m\u001b[1;33m\u001b[0m\u001b[0m\n",
      "\u001b[1;31mFileNotFoundError\u001b[0m: [Errno 2] No such file or directory: 'fourletterwords.txt'"
     ]
    }
   ],
   "source": [
    "wordgraph = buildGraph(\"fourletterwords.txt\")"
   ]
  },
  {
   "cell_type": "code",
   "execution_count": 15,
   "metadata": {},
   "outputs": [
    {
     "ename": "NameError",
     "evalue": "name 'wordgraph' is not defined",
     "output_type": "error",
     "traceback": [
      "\u001b[1;31m---------------------------------------------------------------------------\u001b[0m",
      "\u001b[1;31mNameError\u001b[0m                                 Traceback (most recent call last)",
      "\u001b[1;32m<ipython-input-15-0e680385e223>\u001b[0m in \u001b[0;36m<module>\u001b[1;34m\u001b[0m\n\u001b[1;32m----> 1\u001b[1;33m \u001b[0mbfs\u001b[0m\u001b[1;33m(\u001b[0m\u001b[0mwordgraph\u001b[0m\u001b[1;33m,\u001b[0m \u001b[0mwordgraph\u001b[0m\u001b[1;33m.\u001b[0m\u001b[0mgetVertex\u001b[0m\u001b[1;33m(\u001b[0m\u001b[1;34m'FOOL'\u001b[0m\u001b[1;33m)\u001b[0m\u001b[1;33m)\u001b[0m\u001b[1;33m\u001b[0m\u001b[1;33m\u001b[0m\u001b[0m\n\u001b[0m",
      "\u001b[1;31mNameError\u001b[0m: name 'wordgraph' is not defined"
     ]
    }
   ],
   "source": [
    "bfs(wordgraph, wordgraph.getVertex('FOOL'))"
   ]
  },
  {
   "cell_type": "code",
   "execution_count": 16,
   "metadata": {},
   "outputs": [
    {
     "ename": "NameError",
     "evalue": "name 'wordgraph' is not defined",
     "output_type": "error",
     "traceback": [
      "\u001b[1;31m---------------------------------------------------------------------------\u001b[0m",
      "\u001b[1;31mNameError\u001b[0m                                 Traceback (most recent call last)",
      "\u001b[1;32m<ipython-input-16-e457340c2ac8>\u001b[0m in \u001b[0;36m<module>\u001b[1;34m\u001b[0m\n\u001b[1;32m----> 1\u001b[1;33m \u001b[0mtraverse\u001b[0m\u001b[1;33m(\u001b[0m\u001b[0mwordgraph\u001b[0m\u001b[1;33m.\u001b[0m\u001b[0mgetVertex\u001b[0m\u001b[1;33m(\u001b[0m\u001b[1;34m'SAGE'\u001b[0m\u001b[1;33m)\u001b[0m\u001b[1;33m)\u001b[0m\u001b[1;33m\u001b[0m\u001b[1;33m\u001b[0m\u001b[0m\n\u001b[0m",
      "\u001b[1;31mNameError\u001b[0m: name 'wordgraph' is not defined"
     ]
    }
   ],
   "source": [
    "traverse(wordgraph.getVertex('SAGE'))"
   ]
  },
  {
   "cell_type": "markdown",
   "metadata": {},
   "source": [
    "## 2. Depth First Search (DFS): The Knight's Tour Problem"
   ]
  },
  {
   "cell_type": "code",
   "execution_count": 17,
   "metadata": {},
   "outputs": [],
   "source": [
    "def knightGraph(bdSize):\n",
    "    ktGraph = Graph()\n",
    "    for row in range(bdSize):\n",
    "        for col in range(bdSize):\n",
    "            nodeId = posToNodeId(row,col,bdSize)\n",
    "            newPositions = genLegalMoves(row,col,bdSize)\n",
    "            for e in newPositions:\n",
    "                nid = posToNodeId(e[0],e[1],bdSize)\n",
    "                ktGraph.addEdge(nodeId,nid)\n",
    "    return ktGraph\n",
    "\n",
    "def posToNodeId(row, column, board_size):\n",
    "    return (row * board_size) + column"
   ]
  },
  {
   "cell_type": "code",
   "execution_count": 18,
   "metadata": {},
   "outputs": [],
   "source": [
    "def genLegalMoves(x,y,bdSize):\n",
    "    newMoves = []\n",
    "    moveOffsets = [(-1,-2),(-1,2),(-2,-1),(-2,1),\n",
    "                   ( 1,-2),( 1,2),( 2,-1),( 2,1)]\n",
    "    for i in moveOffsets:\n",
    "        newX = x + i[0]\n",
    "        newY = y + i[1]\n",
    "        if legalCoord(newX,bdSize) and \\\n",
    "                        legalCoord(newY,bdSize):\n",
    "            newMoves.append((newX,newY))\n",
    "    return newMoves\n",
    "\n",
    "def legalCoord(x,bdSize):\n",
    "    if x >= 0 and x < bdSize:\n",
    "        return True\n",
    "    else:\n",
    "        return False"
   ]
  },
  {
   "cell_type": "code",
   "execution_count": 19,
   "metadata": {},
   "outputs": [],
   "source": [
    "def knightTour(n,path,u,limit):\n",
    "        u.setColor('gray')\n",
    "        path.append(u)\n",
    "        if n < limit:\n",
    "            nbrList = list(u.getConnections())\n",
    "            i = 0\n",
    "            done = False\n",
    "            while i < len(nbrList) and not done:\n",
    "                if nbrList[i].getColor() == 'white':\n",
    "                    done = knightTour(n+1, path, nbrList[i], limit)\n",
    "                i = i + 1\n",
    "            if not done:  # prepare to backtrack\n",
    "                path.pop()\n",
    "                u.setColor('white')\n",
    "        else:\n",
    "            done = True\n",
    "        return done"
   ]
  },
  {
   "cell_type": "code",
   "execution_count": 20,
   "metadata": {},
   "outputs": [],
   "source": [
    "def orderByAvail(n):\n",
    "    resList = []\n",
    "    for v in n.getConnections():\n",
    "        if v.getColor() == 'white':\n",
    "            c = 0\n",
    "            for w in v.getConnections():\n",
    "                if w.getColor() == 'white':\n",
    "                    c = c + 1\n",
    "            resList.append((c,v))\n",
    "    resList.sort(key=lambda x: x[0])\n",
    "    return [y[1] for y in resList]\n",
    "    \n",
    "def knightTourBetter(n,path,u,limit):  #use order by available function\n",
    "        u.setColor('gray')\n",
    "        path.append(u)\n",
    "        if n < limit:\n",
    "            nbrList = orderByAvail(u) #기존 nightTour와 이 부분만 딱 다르다\n",
    "            i = 0\n",
    "            done = False\n",
    "            while i < len(nbrList) and not done:\n",
    "                if nbrList[i].getColor() == 'white':\n",
    "                    done = knightTour(n+1, path, nbrList[i], limit)\n",
    "                i = i + 1\n",
    "            if not done:  # prepare to backtrack\n",
    "                path.pop()\n",
    "                u.setColor('white')\n",
    "        else:\n",
    "            done = True\n",
    "        return done"
   ]
  },
  {
   "cell_type": "code",
   "execution_count": 21,
   "metadata": {},
   "outputs": [],
   "source": [
    "kg = knightGraph(6)  "
   ]
  },
  {
   "cell_type": "code",
   "execution_count": 22,
   "metadata": {},
   "outputs": [],
   "source": [
    "thepath = []"
   ]
  },
  {
   "cell_type": "code",
   "execution_count": 23,
   "metadata": {},
   "outputs": [],
   "source": [
    "start = kg.getVertex(4)"
   ]
  },
  {
   "cell_type": "code",
   "execution_count": 24,
   "metadata": {},
   "outputs": [
    {
     "data": {
      "text/plain": [
       "True"
      ]
     },
     "execution_count": 24,
     "metadata": {},
     "output_type": "execute_result"
    }
   ],
   "source": [
    "knightTour(0,thepath,start,35)"
   ]
  },
  {
   "cell_type": "code",
   "execution_count": 25,
   "metadata": {},
   "outputs": [
    {
     "name": "stdout",
     "output_type": "stream",
     "text": [
      "4\n",
      "8\n",
      "0\n",
      "13\n",
      "9\n",
      "1\n",
      "12\n",
      "20\n",
      "24\n",
      "32\n",
      "28\n",
      "17\n",
      "21\n",
      "10\n",
      "2\n",
      "6\n",
      "19\n",
      "30\n",
      "26\n",
      "34\n",
      "23\n",
      "15\n",
      "7\n",
      "3\n",
      "11\n",
      "22\n",
      "35\n",
      "27\n",
      "31\n",
      "18\n",
      "14\n",
      "25\n",
      "33\n",
      "29\n",
      "16\n",
      "5\n"
     ]
    }
   ],
   "source": [
    "for v in thepath:\n",
    "    print(v.getId())"
   ]
  },
  {
   "cell_type": "code",
   "execution_count": 26,
   "metadata": {},
   "outputs": [
    {
     "name": "stdout",
     "output_type": "stream",
     "text": [
      "4\n",
      "8\n",
      "0\n",
      "13\n",
      "9\n",
      "1\n",
      "12\n",
      "20\n",
      "24\n",
      "32\n",
      "28\n",
      "17\n",
      "21\n",
      "10\n",
      "2\n",
      "6\n",
      "19\n",
      "30\n",
      "26\n",
      "34\n",
      "23\n",
      "15\n",
      "7\n",
      "3\n",
      "11\n",
      "22\n",
      "35\n",
      "27\n",
      "31\n",
      "18\n",
      "14\n",
      "25\n",
      "33\n",
      "29\n",
      "16\n",
      "5\n"
     ]
    }
   ],
   "source": [
    "knightTourBetter(0,thepath,start,35)\n",
    "for v in thepath:\n",
    "    print(v.getId())"
   ]
  },
  {
   "cell_type": "markdown",
   "metadata": {},
   "source": [
    "## 3. General DFS"
   ]
  },
  {
   "cell_type": "code",
   "execution_count": 30,
   "metadata": {},
   "outputs": [],
   "source": [
    "class DFSGraph(Graph):\n",
    "    def __init__(self):\n",
    "        super().__init__()\n",
    "        self.time = 0\n",
    "\n",
    "    def dfs(self):\n",
    "        for aVertex in self:\n",
    "            aVertex.setColor('white')\n",
    "            aVertex.setPred(-1)\n",
    "        for aVertex in self:\n",
    "            if aVertex.getColor() == 'white':\n",
    "                self.dfsvisit(aVertex)\n",
    "\n",
    "    def dfsvisit(self,startVertex):\n",
    "        startVertex.setColor('gray')\n",
    "        self.time += 1\n",
    "        startVertex.setDiscovery(self.time)\n",
    "        for nextVertex in startVertex.getConnections():\n",
    "            if nextVertex.getColor() == 'white':\n",
    "                nextVertex.setPred(startVertex)\n",
    "                self.dfsvisit(nextVertex)\n",
    "        startVertex.setColor('black')\n",
    "        self.time += 1\n",
    "        startVertex.setFinish(self.time)\n",
    "        \n",
    "    def print_time(self):\n",
    "        for key in sorted(list(self.getVertices())):\n",
    "            print(str(key) + \": \" + str(self.getVertex(key).getDiscovery()) + \"/\" + str(self.getVertex(key).getFinish()))"
   ]
  },
  {
   "cell_type": "code",
   "execution_count": 31,
   "metadata": {},
   "outputs": [],
   "source": [
    "graph = DFSGraph()\n",
    "\n",
    "myVertices = ['A','B','C','D','E','F']\n",
    "# add vertices\n",
    "for i in range(len(myVertices)):\n",
    "    graph.addVertex(myVertices[i])\n",
    "\n",
    "graph.addEdge('A', 'B')\n",
    "graph.addEdge('A', 'D')\n",
    "graph.addEdge('B', 'C')\n",
    "graph.addEdge('B', 'D')\n",
    "graph.addEdge('D', 'E')\n",
    "graph.addEdge('E', 'B')\n",
    "graph.addEdge('E', 'F')\n",
    "graph.addEdge('F', 'C')\n",
    "\n",
    "graph.dfs()"
   ]
  },
  {
   "cell_type": "code",
   "execution_count": 32,
   "metadata": {},
   "outputs": [
    {
     "name": "stdout",
     "output_type": "stream",
     "text": [
      "A: 1/12\n",
      "B: 2/11\n",
      "C: 3/4\n",
      "D: 5/10\n",
      "E: 6/9\n",
      "F: 7/8\n"
     ]
    }
   ],
   "source": [
    "graph.print_time()"
   ]
  },
  {
   "cell_type": "markdown",
   "metadata": {},
   "source": [
    "## 4. Dijkstra's Algorithm"
   ]
  },
  {
   "cell_type": "code",
   "execution_count": 33,
   "metadata": {},
   "outputs": [],
   "source": [
    "class PriorityQueue:\n",
    "    def __init__(self):\n",
    "        self.heapArray = [(0,0)]\n",
    "        self.currentSize = 0\n",
    "\n",
    "    def buildHeap(self,alist):\n",
    "        self.currentSize = len(alist)\n",
    "        self.heapArray = [(0,0)]\n",
    "        for i in alist:\n",
    "            self.heapArray.append(i)\n",
    "        i = len(alist) // 2            \n",
    "        while (i > 0):\n",
    "            self.percDown(i)\n",
    "            i = i - 1\n",
    "                        \n",
    "    def percDown(self,i):\n",
    "        while (i * 2) <= self.currentSize:\n",
    "            mc = self.minChild(i)\n",
    "            if self.heapArray[i][0] > self.heapArray[mc][0]:\n",
    "                tmp = self.heapArray[i]\n",
    "                self.heapArray[i] = self.heapArray[mc]\n",
    "                self.heapArray[mc] = tmp\n",
    "            i = mc\n",
    "                \n",
    "    def minChild(self,i):\n",
    "        if i*2 > self.currentSize:\n",
    "            return -1\n",
    "        else:\n",
    "            if i*2 + 1 > self.currentSize:\n",
    "                return i*2\n",
    "            else:\n",
    "                if self.heapArray[i*2][0] < self.heapArray[i*2+1][0]:\n",
    "                    return i*2\n",
    "                else:\n",
    "                    return i*2+1\n",
    "\n",
    "    def percUp(self,i):\n",
    "        while i // 2 > 0:\n",
    "            if self.heapArray[i][0] < self.heapArray[i//2][0]:\n",
    "                tmp = self.heapArray[i//2]\n",
    "                self.heapArray[i//2] = self.heapArray[i]\n",
    "                self.heapArray[i] = tmp\n",
    "            i = i//2\n",
    " \n",
    "    def add(self,k):\n",
    "        self.heapArray.append(k)\n",
    "        self.currentSize = self.currentSize + 1\n",
    "        self.percUp(self.currentSize)\n",
    "\n",
    "    def delMin(self):\n",
    "        retval = self.heapArray[1][1]\n",
    "        self.heapArray[1] = self.heapArray[self.currentSize]\n",
    "        self.currentSize = self.currentSize - 1\n",
    "        self.heapArray.pop()\n",
    "        self.percDown(1)\n",
    "        return retval\n",
    "        \n",
    "    def isEmpty(self):\n",
    "        if self.currentSize == 0:\n",
    "            return True\n",
    "        else:\n",
    "            return False\n",
    "\n",
    "    def decreaseKey(self,val,amt):\n",
    "        done = False\n",
    "        i = 1\n",
    "        myKey = 0\n",
    "        while not done and i <= self.currentSize:\n",
    "            if self.heapArray[i][1] == val: #self.currentSize범위 내에서 원하는 값을 찾을 때까지\n",
    "                done = True #원하는 값을 찾으면 while문 중지하고\n",
    "                myKey = i #mykey=i로 설정\n",
    "            else:\n",
    "                i = i + 1 #i를 하나씩 늘려감\n",
    "        if myKey > 0:\n",
    "            self.heapArray[myKey] = (amt,self.heapArray[myKey][1]) #vertex에 대한 거리정보 수정\n",
    "            self.percUp(myKey) #percUp함.\n",
    "            \n",
    "    def __contains__(self,vtx):\n",
    "        for pair in self.heapArray:\n",
    "            if pair[1] == vtx:\n",
    "                return True\n",
    "        return False"
   ]
  },
  {
   "cell_type": "code",
   "execution_count": 34,
   "metadata": {},
   "outputs": [],
   "source": [
    "theHeap = PriorityQueue()\n",
    "theHeap.add((2,'x'))\n",
    "theHeap.add((3,'y'))\n",
    "theHeap.add((5,'z'))\n",
    "theHeap.add((6,'a'))\n",
    "theHeap.add((4,'d'))"
   ]
  },
  {
   "cell_type": "code",
   "execution_count": 35,
   "metadata": {},
   "outputs": [
    {
     "data": {
      "text/plain": [
       "5"
      ]
     },
     "execution_count": 35,
     "metadata": {},
     "output_type": "execute_result"
    }
   ],
   "source": [
    "theHeap.currentSize"
   ]
  },
  {
   "cell_type": "code",
   "execution_count": 36,
   "metadata": {},
   "outputs": [
    {
     "data": {
      "text/plain": [
       "'x'"
      ]
     },
     "execution_count": 36,
     "metadata": {},
     "output_type": "execute_result"
    }
   ],
   "source": [
    "theHeap.delMin()"
   ]
  },
  {
   "cell_type": "code",
   "execution_count": 37,
   "metadata": {},
   "outputs": [
    {
     "data": {
      "text/plain": [
       "'y'"
      ]
     },
     "execution_count": 37,
     "metadata": {},
     "output_type": "execute_result"
    }
   ],
   "source": [
    "theHeap.delMin()"
   ]
  },
  {
   "cell_type": "code",
   "execution_count": 38,
   "metadata": {},
   "outputs": [],
   "source": [
    "theHeap.decreaseKey('z',1)"
   ]
  },
  {
   "cell_type": "code",
   "execution_count": 39,
   "metadata": {},
   "outputs": [
    {
     "data": {
      "text/plain": [
       "[(0, 0), (1, 'z'), (6, 'a'), (4, 'd')]"
      ]
     },
     "execution_count": 39,
     "metadata": {},
     "output_type": "execute_result"
    }
   ],
   "source": [
    "theHeap.heapArray"
   ]
  },
  {
   "cell_type": "code",
   "execution_count": 40,
   "metadata": {},
   "outputs": [
    {
     "data": {
      "text/plain": [
       "'z'"
      ]
     },
     "execution_count": 40,
     "metadata": {},
     "output_type": "execute_result"
    }
   ],
   "source": [
    "theHeap.delMin()"
   ]
  },
  {
   "cell_type": "code",
   "execution_count": 41,
   "metadata": {},
   "outputs": [],
   "source": [
    "def dijkstra(aGraph,start):\n",
    "    pq = PriorityQueue()\n",
    "    start.setDistance(0)\n",
    "    pq.buildHeap([(v.getDistance(),v) for v in aGraph])\n",
    "    while not pq.isEmpty():\n",
    "        currentVert = pq.delMin()\n",
    "        for nextVert in currentVert.getConnections():\n",
    "            newDist = currentVert.getDistance() \\\n",
    "                    + currentVert.getWeight(nextVert)\n",
    "            if newDist < nextVert.getDistance():\n",
    "                nextVert.setDistance( newDist )\n",
    "                nextVert.setPred(currentVert)\n",
    "                pq.decreaseKey(nextVert,newDist)\n",
    "\n",
    "        if currentVert == start:        \n",
    "            print(\"Start node: %s\" % currentVert.getId())\n",
    "        else:    \n",
    "            print(\"%s --> %s: distance = %s\" % (currentVert.getId(), currentVert.getPred().id, currentVert.getDistance()))"
   ]
  },
  {
   "cell_type": "code",
   "execution_count": 42,
   "metadata": {},
   "outputs": [
    {
     "name": "stdout",
     "output_type": "stream",
     "text": [
      "Start node: u\n",
      "x --> u: distance = 1\n",
      "v --> u: distance = 2\n",
      "y --> x: distance = 2\n",
      "w --> y: distance = 3\n",
      "z --> y: distance = 3\n"
     ]
    }
   ],
   "source": [
    "graph = Graph()\n",
    "graph.addVertex('u')\n",
    "graph.addVertex('v')\n",
    "graph.addVertex('w')\n",
    "graph.addVertex('x')\n",
    "graph.addVertex('y')\n",
    "graph.addVertex('z')\n",
    "\n",
    "graph.addEdge('u', 'v', 2)\n",
    "graph.addEdge('u', 'x', 1)\n",
    "graph.addEdge('v', 'x', 2)\n",
    "graph.addEdge('v', 'w', 3)\n",
    "graph.addEdge('u', 'w', 5)\n",
    "graph.addEdge('x', 'w', 3)\n",
    "graph.addEdge('x', 'y', 1)\n",
    "graph.addEdge('y', 'w', 1)\n",
    "graph.addEdge('y', 'z', 1)\n",
    "graph.addEdge('w', 'z', 5)\n",
    "\n",
    "graph.addEdge('v', 'u', 2)\n",
    "graph.addEdge('x', 'u', 1)\n",
    "graph.addEdge('x', 'v', 2)\n",
    "graph.addEdge('w', 'v', 3)\n",
    "graph.addEdge('w', 'u', 5)\n",
    "graph.addEdge('w', 'x', 3)\n",
    "graph.addEdge('y', 'x', 1)\n",
    "graph.addEdge('w', 'y', 1)\n",
    "graph.addEdge('z', 'y', 1)\n",
    "graph.addEdge('z', 'w', 5)\n",
    "\n",
    "\n",
    "dijkstra(graph, graph.getVertex('u'))"
   ]
  },
  {
   "cell_type": "markdown",
   "metadata": {},
   "source": [
    "## 5. Prim's Algorithm"
   ]
  },
  {
   "cell_type": "code",
   "execution_count": 43,
   "metadata": {},
   "outputs": [],
   "source": [
    "def prim(G,start): #최소신장트리\n",
    "    pq = PriorityQueue()\n",
    "    for v in G:\n",
    "        v.setDistance(sys.maxsize)\n",
    "        v.setPred(None)\n",
    "    start.setDistance(0)\n",
    "    pq.buildHeap([(v.getDistance(),v) for v in G])\n",
    "    while not pq.isEmpty():\n",
    "        currentVert = pq.delMin()\n",
    "        for nextVert in currentVert.getConnections():\n",
    "            newCost = currentVert.getWeight(nextVert)\n",
    "            if nextVert in pq and newCost<nextVert.getDistance():\n",
    "                nextVert.setPred(currentVert)\n",
    "                nextVert.setDistance(newCost)\n",
    "                pq.decreaseKey(nextVert,newCost)\n",
    "\n",
    "        if currentVert == start:        \n",
    "            print(\"Start node: %s\" % currentVert.getId())\n",
    "        else:                \n",
    "            print(\"%s --> %s\" % (currentVert.getId(), currentVert.getPred().id))"
   ]
  },
  {
   "cell_type": "code",
   "execution_count": 44,
   "metadata": {},
   "outputs": [
    {
     "name": "stdout",
     "output_type": "stream",
     "text": [
      "Start node: A\n",
      "B --> A\n",
      "C --> B\n",
      "D --> B\n",
      "E --> D\n",
      "F --> E\n",
      "G --> F\n"
     ]
    }
   ],
   "source": [
    "graph = Graph()\n",
    "graph.addVertex('A')\n",
    "graph.addVertex('B')\n",
    "graph.addVertex('C')\n",
    "graph.addVertex('D')\n",
    "graph.addVertex('E')\n",
    "graph.addVertex('F')\n",
    "graph.addVertex('G')\n",
    "\n",
    "graph.addEdge('A', 'B', 2)\n",
    "graph.addEdge('A', 'C', 3)\n",
    "graph.addEdge('B', 'C', 1)\n",
    "graph.addEdge('B', 'D', 1)\n",
    "graph.addEdge('B', 'E', 4)\n",
    "graph.addEdge('D', 'E', 1)\n",
    "graph.addEdge('C', 'F', 5)\n",
    "graph.addEdge('E', 'F', 1)\n",
    "graph.addEdge('F', 'G', 1)\n",
    "\n",
    "graph.addEdge('B', 'A', 2)\n",
    "graph.addEdge('C', 'A', 3)\n",
    "graph.addEdge('C', 'B', 1)\n",
    "graph.addEdge('D', 'B', 1)\n",
    "graph.addEdge('E', 'B', 4)\n",
    "graph.addEdge('E', 'D', 1)\n",
    "graph.addEdge('F', 'C', 5)\n",
    "graph.addEdge('F', 'E', 1)\n",
    "graph.addEdge('G', 'F', 1)\n",
    "\n",
    "prim(graph, graph.getVertex('A'))"
   ]
  },
  {
   "cell_type": "code",
   "execution_count": 48,
   "metadata": {},
   "outputs": [],
   "source": [
    "def prim(G,start):\n",
    "    ### CODE HERE ###\n",
    "    pq=PriorityQueue()\n",
    "    for v in G:\n",
    "        v.setDistance(sys.maxsize)\n",
    "        v.setPred(None)\n",
    "    G.getVertex(start).setDistance(0)\n",
    "    pq.buildHeap([(v.getDistance(),v) for v in G])\n",
    "    while not pq.isEmpty():\n",
    "        currentVert=pq.delMin()\n",
    "        for nextVert in currentVert.getConnections():\n",
    "            newCost=currentVert.getWeight(nextVert)\n",
    "            if nextVert in pq and newCost<nextVert.getDistance():\n",
    "                nextVert.setPred(currentVert)\n",
    "                nextVert.setDistance(newCost)\n",
    "                pq.decreaseKey(newVert,newCost)"
   ]
  },
  {
   "cell_type": "code",
   "execution_count": 50,
   "metadata": {},
   "outputs": [
    {
     "ename": "NameError",
     "evalue": "name 'Undirected_DFSGraph' is not defined",
     "output_type": "error",
     "traceback": [
      "\u001b[1;31m---------------------------------------------------------------------------\u001b[0m",
      "\u001b[1;31mNameError\u001b[0m                                 Traceback (most recent call last)",
      "\u001b[1;32m<ipython-input-50-a7219d453a37>\u001b[0m in \u001b[0;36m<module>\u001b[1;34m\u001b[0m\n\u001b[1;32m----> 1\u001b[1;33m \u001b[0mg\u001b[0m \u001b[1;33m=\u001b[0m \u001b[0mUndirected_DFSGraph\u001b[0m\u001b[1;33m(\u001b[0m\u001b[1;33m)\u001b[0m\u001b[1;33m\u001b[0m\u001b[1;33m\u001b[0m\u001b[0m\n\u001b[0m\u001b[0;32m      2\u001b[0m \u001b[1;33m\u001b[0m\u001b[0m\n\u001b[0;32m      3\u001b[0m \u001b[0mmyVertices\u001b[0m \u001b[1;33m=\u001b[0m \u001b[1;33m[\u001b[0m\u001b[1;34m'A'\u001b[0m\u001b[1;33m,\u001b[0m\u001b[1;34m'B'\u001b[0m\u001b[1;33m,\u001b[0m\u001b[1;34m'C'\u001b[0m\u001b[1;33m,\u001b[0m\u001b[1;34m'D'\u001b[0m\u001b[1;33m,\u001b[0m\u001b[1;34m'E'\u001b[0m\u001b[1;33m,\u001b[0m\u001b[1;34m'F'\u001b[0m\u001b[1;33m]\u001b[0m\u001b[1;33m\u001b[0m\u001b[1;33m\u001b[0m\u001b[0m\n\u001b[0;32m      4\u001b[0m \u001b[1;32mfor\u001b[0m \u001b[0malpha\u001b[0m \u001b[1;32min\u001b[0m \u001b[0mmyVertices\u001b[0m\u001b[1;33m:\u001b[0m\u001b[1;33m\u001b[0m\u001b[1;33m\u001b[0m\u001b[0m\n\u001b[0;32m      5\u001b[0m     \u001b[0mprint\u001b[0m\u001b[1;33m(\u001b[0m\u001b[0malpha\u001b[0m\u001b[1;33m,\u001b[0m \u001b[1;34m'is connected to'\u001b[0m\u001b[1;33m)\u001b[0m\u001b[1;33m\u001b[0m\u001b[1;33m\u001b[0m\u001b[0m\n",
      "\u001b[1;31mNameError\u001b[0m: name 'Undirected_DFSGraph' is not defined"
     ]
    }
   ],
   "source": [
    "g = Undirected_DFSGraph()\n",
    "\n",
    "myVertices = ['A','B','C','D','E','F']\n",
    "for alpha in myVertices:\n",
    "    print(alpha, 'is connected to')\n",
    "    for k, v in prim(g,'A').getVertex(alpha).connectedTo.items():\n",
    "        print(k.getId(), ':', v)\n",
    "    print('-' * 20)"
   ]
  },
  {
   "cell_type": "code",
   "execution_count": null,
   "metadata": {},
   "outputs": [],
   "source": []
  }
 ],
 "metadata": {
  "anaconda-cloud": {},
  "kernelspec": {
   "display_name": "Python 3",
   "language": "python",
   "name": "python3"
  },
  "language_info": {
   "codemirror_mode": {
    "name": "ipython",
    "version": 3
   },
   "file_extension": ".py",
   "mimetype": "text/x-python",
   "name": "python",
   "nbconvert_exporter": "python",
   "pygments_lexer": "ipython3",
   "version": "3.8.5"
  }
 },
 "nbformat": 4,
 "nbformat_minor": 1
}
