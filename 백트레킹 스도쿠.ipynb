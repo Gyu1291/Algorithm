{
 "cells": [
  {
   "cell_type": "code",
   "execution_count": 3,
   "metadata": {},
   "outputs": [
    {
     "name": "stdout",
     "output_type": "stream",
     "text": [
      "0 3 4 5 6 7 8 9 \n",
      "3 4 5 6 6 6 6 6\n",
      "6 6 6 6 6 6 6\n",
      "6 6 66 6 6\n",
      "6 6 6\n",
      "6 6\n",
      "6 6\n",
      "6 \n",
      "66\n",
      "[[0, 3, 4, 5, 6, 7, 8, 9], [3, 4, 5, 6, 6, 6, 6, 6], [6, 6, 6, 6, 6, 6, 6], [6, 6, 66, 6, 6], [6, 6, 6], [6, 6], [6, 6], [6], [66]]\n"
     ]
    }
   ],
   "source": [
    "import sys\n",
    "\n",
    "sdk = [list(map(int,input().split())) for _ in range(9)]\n",
    "zeros=[(i,j) for i in range(9) for j in range(9) if sdk[i][j]==0]\n",
    "\n",
    "def sdoku(index):\n",
    "    if index==len(zeros):\n",
    "        for row in sdk:\n",
    "            print(*row)\n",
    "        sys.exit(0)\n",
    "    else:\n",
    "        x=zeros[index][0]\n",
    "        y=zeros[index][1]\n",
    "        dx=(x//3)*3\n",
    "        dy=(y//3)*3\n",
    "        \n",
    "        num_list=[False]+[True for _ in range(9)]\n",
    "        \n",
    "        for j in range(9):\n",
    "            if(sdk[x][j]):\n",
    "                num_list[sdk[x][j]]=False\n",
    "            if(sdk[j][y]):\n",
    "                num_list[sdk[j][y]]=False\n",
    "                \n",
    "        for i in range(dx,dx+3):\n",
    "            for j in range(dy,dy+3):\n",
    "                check_num=sdk[i][j]\n",
    "            if(check_num):\n",
    "                num_list[check_num]=False\n",
    "                \n",
    "        candidate_list = [i for i, k in enumerate(num_list) if k]\n",
    "        \n",
    "        for num in candidate_list:\n",
    "            sdk[x][y] = num\n",
    "            sdoku(index+1)\n",
    "            sdk[x][y]=0\n",
    "sdoku(0)"
   ]
  },
  {
   "cell_type": "markdown",
   "metadata": {},
   "source": []
  }
 ],
 "metadata": {
  "kernelspec": {
   "display_name": "Python 3",
   "language": "python",
   "name": "python3"
  },
  "language_info": {
   "codemirror_mode": {
    "name": "ipython",
    "version": 3
   },
   "file_extension": ".py",
   "mimetype": "text/x-python",
   "name": "python",
   "nbconvert_exporter": "python",
   "pygments_lexer": "ipython3",
   "version": "3.7.1"
  }
 },
 "nbformat": 4,
 "nbformat_minor": 2
}
