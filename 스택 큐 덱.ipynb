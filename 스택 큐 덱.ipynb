{
 "cells": [
  {
   "cell_type": "code",
   "execution_count": 1,
   "metadata": {},
   "outputs": [],
   "source": [
    "class Stack:\n",
    "    def __init__(self):\n",
    "        self.stack=[]\n",
    "        \n",
    "    def append(self,item):\n",
    "        self.stack.append(item)\n",
    "        \n",
    "    def pop(self):\n",
    "        self.stack.pop()\n",
    "        \n",
    "    def size(self):\n",
    "        return len(self.stack)\n",
    "    \n",
    "    def isempty(self):\n",
    "        if len(self.stack)==0:\n",
    "            return True\n",
    "        else:\n",
    "            return False\n",
    "        \n",
    "    def top(self):\n",
    "        return self.stack[-1]\n",
    "        "
   ]
  },
  {
   "cell_type": "code",
   "execution_count": 5,
   "metadata": {},
   "outputs": [
    {
     "name": "stdout",
     "output_type": "stream",
     "text": [
      "4\n",
      "9 5 4 8\n",
      "[-1, 8, 8, -1]\n"
     ]
    }
   ],
   "source": [
    "#백준에서 스택을 사용해서 풀랬는데 그냥 어떻게 풂\n",
    "#시간초과가 발생한다고 함.\n",
    "N=int(input())\n",
    "num_list=list(map(int,input().split()))\n",
    "check_list=[]\n",
    "for i in range(N):\n",
    "    for j in range(N):\n",
    "        if i >= j:\n",
    "            continue\n",
    "        else:\n",
    "            if num_list[j]>num_list[i]:\n",
    "                if len(check_list)==i+1:\n",
    "                    continue\n",
    "                check_list.append(num_list[j])\n",
    "                \n",
    "                \n",
    "    if len(check_list)<i+1:\n",
    "        check_list.append(-1)\n",
    "        \n",
    "\n",
    "print(check_list)\n",
    "    "
   ]
  },
  {
   "cell_type": "code",
   "execution_count": null,
   "metadata": {},
   "outputs": [],
   "source": [
    "#스택으로 푼 알고리즘\n",
    "numbers = int(input())\n",
    "num_list = list(map(int, input().split()))\n",
    "stack = []\n",
    "result = [-1 for _ in range(numbers)]\n",
    "\n",
    "for i in range(len(num_list)):\n",
    "    try:\n",
    "        while num_list[stack[-1]] < num_list[i]:\n",
    "            result[stack.pop()] = num_list[i]\n",
    "    except:\n",
    "        pass\n",
    "        \n",
    "    stack.append(i)\n",
    "        \n",
    "for i in range(numbers):\n",
    "    print(result[i], end = ' ')"
   ]
  },
  {
   "cell_type": "code",
   "execution_count": null,
   "metadata": {},
   "outputs": [],
   "source": []
  }
 ],
 "metadata": {
  "kernelspec": {
   "display_name": "Python 3",
   "language": "python",
   "name": "python3"
  },
  "language_info": {
   "codemirror_mode": {
    "name": "ipython",
    "version": 3
   },
   "file_extension": ".py",
   "mimetype": "text/x-python",
   "name": "python",
   "nbconvert_exporter": "python",
   "pygments_lexer": "ipython3",
   "version": "3.7.1"
  }
 },
 "nbformat": 4,
 "nbformat_minor": 2
}
