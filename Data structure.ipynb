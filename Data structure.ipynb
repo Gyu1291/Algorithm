{
 "cells": [
  {
   "cell_type": "code",
   "execution_count": 6,
   "id": "sporting-passport",
   "metadata": {},
   "outputs": [],
   "source": [
    "class Stack:\n",
    "    def __init__(self):\n",
    "        self.items=[]\n",
    "    def is_empty(self):\n",
    "        return self.items==[]\n",
    "    def push(self,item):\n",
    "        self.items.append(item)\n",
    "    def pop(self):\n",
    "        return self.items.pop()\n",
    "    def peek(self):\n",
    "        return self.items[-1]\n",
    "    def size(self):\n",
    "        return len(self.items)"
   ]
  },
  {
   "cell_type": "code",
   "execution_count": 7,
   "id": "retained-breed",
   "metadata": {},
   "outputs": [],
   "source": [
    "def par_checker(string):\n",
    "    s=Stack()\n",
    "    balanced=True\n",
    "    string_list=list(string)\n",
    "    for item in string_list:\n",
    "        if item =='(':\n",
    "            s.push('(')\n",
    "        else:\n",
    "            if s.is_empty():\n",
    "                balanced=False\n",
    "                break\n",
    "            else:\n",
    "                s.pop()\n",
    "                \n",
    "    if balanced and s.is_empty():\n",
    "        return True\n",
    "    else:\n",
    "        return False\n",
    "#강의안에 있는것과는 다르지만 이게 더 직관적이라고 생각"
   ]
  },
  {
   "cell_type": "code",
   "execution_count": 8,
   "id": "cellular-yemen",
   "metadata": {},
   "outputs": [
    {
     "data": {
      "text/plain": [
       "False"
      ]
     },
     "execution_count": 8,
     "metadata": {},
     "output_type": "execute_result"
    }
   ],
   "source": [
    "par_checker('(()')"
   ]
  },
  {
   "cell_type": "code",
   "execution_count": 9,
   "id": "protective-interval",
   "metadata": {},
   "outputs": [],
   "source": [
    "def infix_to_postfix(infix_expr):\n",
    "    prec={}\n",
    "    prec['*']=3\n",
    "    prec['/']=3\n",
    "    prec['+']=2\n",
    "    prec['-']=2\n",
    "    prec['(']=1\n",
    "    \n",
    "    op_stack=Stack()\n",
    "    postfix_list=[]\n",
    "    token_list=list(infix_expr)\n",
    "    \n",
    "    for token in token_list:\n",
    "        if token in 'ABCDEFGHIJKLMNOPQRSTUVWXYZ' or token in '0123456789':\n",
    "            postfix_list.append(token)\n",
    "        elif token=='(':\n",
    "            op_stack.push(token)\n",
    "        elif token==')':\n",
    "            top_token=op_stack.pop()\n",
    "            while top_token != '(':\n",
    "                postfix_list.append(top_token)\n",
    "                top_token=op_stack.pop()\n",
    "        else:\n",
    "            while(not op_stack.is_empty()) and (prec[op_stack.peek()] >= prec[token]):\n",
    "                postfix_list.append(op_stack.pop())\n",
    "            op_stack.push(token)\n",
    "        \n",
    "    while not op_stack.is_empty():\n",
    "        postfix_list.append(op_stack.pop())\n",
    "    return ''.join(postfix_list)"
   ]
  },
  {
   "cell_type": "code",
   "execution_count": 10,
   "id": "mental-valentine",
   "metadata": {},
   "outputs": [
    {
     "name": "stdout",
     "output_type": "stream",
     "text": [
      "{'*': 3, '/': 3, '+': 2, '-': 2, '(': 1}\n"
     ]
    },
    {
     "data": {
      "text/plain": [
       "'AB+C*DE-FG+*-'"
      ]
     },
     "execution_count": 10,
     "metadata": {},
     "output_type": "execute_result"
    }
   ],
   "source": [
    "infix_to_postfix('(A+B)*C-(D-E)*(F+G)')"
   ]
  },
  {
   "cell_type": "code",
   "execution_count": null,
   "id": "tired-explorer",
   "metadata": {},
   "outputs": [],
   "source": []
  }
 ],
 "metadata": {
  "kernelspec": {
   "display_name": "Python 3",
   "language": "python",
   "name": "python3"
  },
  "language_info": {
   "codemirror_mode": {
    "name": "ipython",
    "version": 3
   },
   "file_extension": ".py",
   "mimetype": "text/x-python",
   "name": "python",
   "nbconvert_exporter": "python",
   "pygments_lexer": "ipython3",
   "version": "3.7.9"
  }
 },
 "nbformat": 4,
 "nbformat_minor": 5
}
