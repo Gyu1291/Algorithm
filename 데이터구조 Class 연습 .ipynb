{
 "cells": [
  {
   "cell_type": "code",
   "execution_count": 3,
   "id": "disciplinary-hotel",
   "metadata": {},
   "outputs": [
    {
     "name": "stdout",
     "output_type": "stream",
     "text": [
      "red\n",
      "2\n",
      "2\n"
     ]
    }
   ],
   "source": [
    "class Leaf:\n",
    "    n_leafs=0 #class attribute\n",
    "    \n",
    "    def __init__(self, color):\n",
    "        self.color=color\n",
    "        Leaf.n_leafs+=1\n",
    "        \n",
    "redleaf=Leaf('red')\n",
    "blueleaf=Leaf('blue')\n",
    "\n",
    "print(redleaf.color)\n",
    "print(Leaf.n_leafs)\n",
    "print(redleaf.n_leafs)  # class에 의해 정의된 instance들도 class attribute를 공유한다"
   ]
  },
  {
   "cell_type": "code",
   "execution_count": 8,
   "id": "serial-haven",
   "metadata": {},
   "outputs": [
    {
     "name": "stdout",
     "output_type": "stream",
     "text": [
      "blue\n",
      "blue\n",
      "red\n"
     ]
    }
   ],
   "source": [
    "class Leaf:\n",
    "    def __init__(self,color):\n",
    "        self.color=color\n",
    "    def getcolor(self):\n",
    "        return self.color\n",
    "blueleaf=Leaf('blue')\n",
    "color=blueleaf.getcolor()\n",
    "print(color)\n",
    "color='red'\n",
    "print(blueleaf.color)\n",
    "blueleaf.color='red'  # color으론 접근 못하지만 blueleaf.color로 접근이 가능하다.\n",
    "print(blueleaf.color)"
   ]
  },
  {
   "cell_type": "code",
   "execution_count": 16,
   "id": "seven-hobby",
   "metadata": {},
   "outputs": [
    {
     "name": "stdout",
     "output_type": "stream",
     "text": [
      "red\n"
     ]
    },
    {
     "data": {
      "text/plain": [
       "{'_Leaf__color': 'red'}"
      ]
     },
     "execution_count": 16,
     "metadata": {},
     "output_type": "execute_result"
    }
   ],
   "source": [
    "class Leaf:\n",
    "    def __init__(self, color):\n",
    "        self.__color=color\n",
    "    def getColor(self):\n",
    "        return self.__color\n",
    "blueleaf=Leaf('blue')\n",
    "blueleaf.getColor()\n",
    "blueleaf._Leaf__color = 'red'\n",
    "blueleaf.getColor() # ->'red'\n",
    "print(blueleaf._Leaf__color) #-> red\n",
    "blueleaf.__dict__   # 이걸로 blueleaf를 구성하는 instance variables를 확인할 수 있다.\n",
    "#__color와 같이 정의하면 blueleaf.color로도, blueleaf.__color로도 접근할 수 없다.\n",
    "#그러나 _Leaf__color을 이용하면 접근이 가능하므로 완벽히 non-public하진 않다. 한번 꼬아놓을 뿐"
   ]
  },
  {
   "cell_type": "code",
   "execution_count": 17,
   "id": "excessive-husband",
   "metadata": {},
   "outputs": [],
   "source": [
    "class Animal:\n",
    "    def __init__(self,n_legs,color):\n",
    "        self.n_legs=n_legs\n",
    "        self.color=color\n",
    "    def make_noise(self):\n",
    "        print('noise')"
   ]
  },
  {
   "cell_type": "code",
   "execution_count": 20,
   "id": "disturbed-strategy",
   "metadata": {},
   "outputs": [
    {
     "name": "stdout",
     "output_type": "stream",
     "text": [
      "noise\n",
      "noise\n"
     ]
    }
   ],
   "source": [
    "class Dog(Animal):\n",
    "    def __init__(self,color,name):\n",
    "        Animal.__init__(self,4,color)\n",
    "        self.name=name\n",
    "        \n",
    "    def make_noise(self):\n",
    "        print(self.name + ':' + 'woof')\n",
    "\n",
    "bird = Animal(2, 'white')\n",
    "bird.make_noise()\n",
    "\n",
    "brutus=Dog('black', 'Brutus')\n",
    "brutus.make_noise()  # Dog클래스의 경우에도 make_noise가 따로 정의되지 않으면 Animal을 따른다."
   ]
  },
  {
   "cell_type": "code",
   "execution_count": 25,
   "id": "silent-worse",
   "metadata": {},
   "outputs": [
    {
     "name": "stdout",
     "output_type": "stream",
     "text": [
      "115/75\n"
     ]
    }
   ],
   "source": [
    "class Fraction:\n",
    "    def __init__(self,top,bottom):\n",
    "        self.num=top\n",
    "        self.den=bottom\n",
    "        \n",
    "    def __str__(self):\n",
    "        return str(self.num) + '/'+ str(self.den) #--> 그냥 print할때는 str을 보내주는것\n",
    "    \n",
    "    def __add__(self, other_fraction):\n",
    "        new_num=self.num*other_fraction.den+self.den*other_fraction.num\n",
    "        new_den=self.den*other_fraction.den\n",
    "        return Fraction(new_num,new_den)\n",
    "    \n",
    "my_f=Fraction(3,5)\n",
    "my_f2=Fraction(14,15)\n",
    "\n",
    "f3=my_f + my_f2\n",
    "print(f3)"
   ]
  },
  {
   "cell_type": "code",
   "execution_count": null,
   "id": "awful-passport",
   "metadata": {},
   "outputs": [],
   "source": []
  }
 ],
 "metadata": {
  "kernelspec": {
   "display_name": "Python 3",
   "language": "python",
   "name": "python3"
  },
  "language_info": {
   "codemirror_mode": {
    "name": "ipython",
    "version": 3
   },
   "file_extension": ".py",
   "mimetype": "text/x-python",
   "name": "python",
   "nbconvert_exporter": "python",
   "pygments_lexer": "ipython3",
   "version": "3.7.9"
  }
 },
 "nbformat": 4,
 "nbformat_minor": 5
}
