{
 "cells": [
  {
   "cell_type": "code",
   "execution_count": 12,
   "metadata": {},
   "outputs": [
    {
     "name": "stdout",
     "output_type": "stream",
     "text": [
      "3\n",
      "2\n"
     ]
    }
   ],
   "source": [
    "#내가 생각한 피보나치 알고리즘->동적 계획법이 아니다\n",
    "n=int(input())\n",
    "\n",
    "def fibo(n):\n",
    "    if n==0:\n",
    "        return 0\n",
    "    if n==1:\n",
    "        return 1\n",
    "    if n>=2:\n",
    "        return fibo(n-1)+fibo(n-2)\n",
    "        \n",
    "print(fibo(n))"
   ]
  },
  {
   "cell_type": "code",
   "execution_count": 17,
   "metadata": {},
   "outputs": [
    {
     "name": "stdout",
     "output_type": "stream",
     "text": [
      "1\n",
      "1\n"
     ]
    }
   ],
   "source": [
    "#동적 계획법 피보나치 알고리즘\n",
    "n=int(input())\n",
    "num_list=[0]*n\n",
    "for i in range(n):\n",
    "    if i<=1:\n",
    "        num_list[i]=1\n",
    "    else:\n",
    "        num_list[i]=num_list[i-1]+num_list[i-2]\n",
    "        \n",
    "print(num_list[n-1])\n",
    "        \n",
    "#시간복잡도가 매우 줄어든다"
   ]
  },
  {
   "cell_type": "code",
   "execution_count": null,
   "metadata": {},
   "outputs": [],
   "source": [
    "#피보나치 함수\n",
    "i"
   ]
  }
 ],
 "metadata": {
  "kernelspec": {
   "display_name": "Python 3",
   "language": "python",
   "name": "python3"
  },
  "language_info": {
   "codemirror_mode": {
    "name": "ipython",
    "version": 3
   },
   "file_extension": ".py",
   "mimetype": "text/x-python",
   "name": "python",
   "nbconvert_exporter": "python",
   "pygments_lexer": "ipython3",
   "version": "3.7.1"
  }
 },
 "nbformat": 4,
 "nbformat_minor": 2
}
