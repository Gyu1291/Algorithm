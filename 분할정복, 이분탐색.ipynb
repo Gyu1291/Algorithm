{
 "cells": [
  {
   "cell_type": "code",
   "execution_count": 1,
   "metadata": {},
   "outputs": [
    {
     "name": "stdout",
     "output_type": "stream",
     "text": [
      "8\n",
      "11110000\n",
      "11110000\n",
      "00001111\n",
      "00000011\n",
      "11000001\n",
      "11100011\n",
      "11110111\n",
      "11111111\n",
      "[[1, 1, 1, 1, 0, 0, 0, 0], [1, 1, 1, 1, 0, 0, 0, 0], [0, 0, 0, 0, 1, 1, 1, 1], [0, 0, 0, 0, 0, 0, 1, 1], [1, 1, 0, 0, 0, 0, 0, 1], [1, 1, 1, 0, 0, 0, 1, 1], [1, 1, 1, 1, 0, 1, 1, 1], [1, 1, 1, 1, 1, 1, 1, 1]]\n",
      "((1100)(00(1100)1)(1(0010)11)(0(0111)(0111)1))\n"
     ]
    }
   ],
   "source": [
    "#쿼드트리\n",
    "N=int(input())\n",
    "video=[list(map(int,input())) for _ in range(N)]\n",
    "print(video)\n",
    "def quad_tree(x,y,n):\n",
    "    if n==1:\n",
    "        return str(video[x][y])\n",
    "    \n",
    "    output=[] #처음에 output을 함수 밖에 선언했었는데 그러면 재귀가 돌면서 엄청나게 많은 값이 output에 들어감.\n",
    "    for i in range(x,x+n):\n",
    "        for j in range(y,y+n):\n",
    "            if video[i][j]!=video[x][y]:\n",
    "                output.append('(')\n",
    "                output.extend(quad_tree(x,y,n//2))\n",
    "                output.extend(quad_tree(x,y+n//2,n//2))\n",
    "                output.extend(quad_tree(x+n//2,y,n//2))\n",
    "                #여기서 내가 설정한 x, y는 x축 y축이 아니다. for문 더 안쪽에 있는 y 가 가로축\n",
    "                #바깥쪽에 있는 x가 세로축. 따라서 순서가 바뀌면 결과가 다르게 나온다.\n",
    "                output.extend(quad_tree(x+n//2,y+n//2,n//2))\n",
    "                output.append(')')\n",
    "                \n",
    "                return output\n",
    "\n",
    "    return str(video[x][y])\n",
    "\n",
    "print(''.join(quad_tree(0,0,N)))\n",
    "                \n"
   ]
  },
  {
   "cell_type": "code",
   "execution_count": null,
   "metadata": {},
   "outputs": [],
   "source": [
    "k=int(input())\n",
    "num_list=list(map(int,input().split()))\n",
    "num_list.sort()\n",
    "L=int(input())\n",
    "check_list=list(map(int,input().split()))\n",
    "\n",
    "for i in range(int(len(check_list))):\n",
    "    mid = int(len(num_list)//2)\n",
    "    up_list=num_list[mid:]\n",
    "    down_list=num_list[:mid]\n",
    "    \n",
    "    if check_list[i]<num_list[mid]:\n",
    "    "
   ]
  },
  {
   "cell_type": "code",
   "execution_count": 7,
   "metadata": {},
   "outputs": [
    {
     "name": "stdout",
     "output_type": "stream",
     "text": [
      "7 2 1 4 5 1 3 3\n",
      "[2, 2, 2, 15, 3, 3]\n"
     ]
    }
   ],
   "source": [
    "#히스토그램 가장 큰 직사각형 #stack으로 풀기\n",
    "num_list=list(map(int,input().split()))\n",
    "n=num_list[0]\n",
    "stack=[]\n",
    "min_value=num_list[1]\n",
    "max_value=num_list[1]\n",
    "j=1\n",
    "k=1\n",
    "for i in range(1,n):\n",
    "    if num_list[i]<=num_list[i+1]:\n",
    "        max_value=num_list[i+1]\n",
    "        j+=1\n",
    "        stack.append(min_value*k)\n",
    "    elif num_list[i]>num_list[i+1]:\n",
    "        min_value=num_list[i+1]\n",
    "        k+=1\n",
    "        stack.append(max_value*j)\n",
    "print(stack)\n",
    "    \n",
    "        "
   ]
  },
  {
   "cell_type": "code",
   "execution_count": null,
   "metadata": {},
   "outputs": [],
   "source": []
  }
 ],
 "metadata": {
  "kernelspec": {
   "display_name": "Python 3",
   "language": "python",
   "name": "python3"
  },
  "language_info": {
   "codemirror_mode": {
    "name": "ipython",
    "version": 3
   },
   "file_extension": ".py",
   "mimetype": "text/x-python",
   "name": "python",
   "nbconvert_exporter": "python",
   "pygments_lexer": "ipython3",
   "version": "3.7.9"
  }
 },
 "nbformat": 4,
 "nbformat_minor": 2
}
